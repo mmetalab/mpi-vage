{
 "cells": [
  {
   "cell_type": "markdown",
   "source": [
    "<h1>Table of Contents<span class=\"tocSkip\"></span></h1>\n",
    "<div class=\"toc\"><ul class=\"toc-item\"><li><span><a href=\"#Read-pathbank-data\" data-toc-modified-id=\"Read-pathbank-data-1\"><span class=\"toc-item-num\">1&nbsp;&nbsp;</span>Read pathbank data</a></span><ul class=\"toc-item\"><li><span><a href=\"#Read-Pathbank-Pathway-metadata\" data-toc-modified-id=\"Read-Pathbank-Pathway-metadata-1.1\"><span class=\"toc-item-num\">1.1&nbsp;&nbsp;</span>Read Pathbank Pathway metadata</a></span></li><li><span><a href=\"#Generate-species-pathway-ID\" data-toc-modified-id=\"Generate-species-pathway-ID-1.2\"><span class=\"toc-item-num\">1.2&nbsp;&nbsp;</span>Generate species pathway ID</a></span></li><li><span><a href=\"#Generate-human-pathway-graph\" data-toc-modified-id=\"Generate-human-pathway-graph-1.3\"><span class=\"toc-item-num\">1.3&nbsp;&nbsp;</span>Generate human pathway graph</a></span><ul class=\"toc-item\"><li><span><a href=\"#Read-human-pathway\" data-toc-modified-id=\"Read-human-pathway-1.3.1\"><span class=\"toc-item-num\">1.3.1&nbsp;&nbsp;</span>Read human pathway</a></span></li><li><span><a href=\"#Analysis-of-protein-classes-and-metabolite-types\" data-toc-modified-id=\"Analysis-of-protein-classes-and-metabolite-types-1.3.2\"><span class=\"toc-item-num\">1.3.2&nbsp;&nbsp;</span>Analysis of protein classes and metabolite types</a></span></li><li><span><a href=\"#Generate-fingerprint-for-metabolite-ID\" data-toc-modified-id=\"Generate-fingerprint-for-metabolite-ID-1.3.3\"><span class=\"toc-item-num\">1.3.3&nbsp;&nbsp;</span>Generate fingerprint for metabolite ID</a></span></li><li><span><a href=\"#Generate-protein-vectors-for-all-uniport-ID\" data-toc-modified-id=\"Generate-protein-vectors-for-all-uniport-ID-1.3.4\"><span class=\"toc-item-num\">1.3.4&nbsp;&nbsp;</span>Generate protein vectors for all uniport ID</a></span></li><li><span><a href=\"#Generate-features-for-graph\" data-toc-modified-id=\"Generate-features-for-graph-1.3.5\"><span class=\"toc-item-num\">1.3.5&nbsp;&nbsp;</span>Generate features for graph</a></span></li><li><span><a href=\"#Unsupervised-learning-of-embedded-features\" data-toc-modified-id=\"Unsupervised-learning-of-embedded-features-1.3.6\"><span class=\"toc-item-num\">1.3.6&nbsp;&nbsp;</span>Unsupervised learning of embedded features</a></span></li><li><span><a href=\"#PCA-dimensionality-reduction\" data-toc-modified-id=\"PCA-dimensionality-reduction-1.3.7\"><span class=\"toc-item-num\">1.3.7&nbsp;&nbsp;</span>PCA dimensionality reduction</a></span></li></ul></li></ul></li><li><span><a href=\"#Read-real-world-data\" data-toc-modified-id=\"Read-real-world-data-2\"><span class=\"toc-item-num\">2&nbsp;&nbsp;</span>Read real world data</a></span><ul class=\"toc-item\"><li><span><a href=\"#Get-metabolite-compound-id\" data-toc-modified-id=\"Get-metabolite-compound-id-2.1\"><span class=\"toc-item-num\">2.1&nbsp;&nbsp;</span>Get metabolite compound id</a></span></li></ul></li><li><span><a href=\"#Spectral-clustering\" data-toc-modified-id=\"Spectral-clustering-3\"><span class=\"toc-item-num\">3&nbsp;&nbsp;</span>Spectral clustering</a></span></li><li><span><a href=\"#Baselines\" data-toc-modified-id=\"Baselines-4\"><span class=\"toc-item-num\">4&nbsp;&nbsp;</span>Baselines</a></span><ul class=\"toc-item\"><li><span><a href=\"#Adamic-Ada\" data-toc-modified-id=\"Adamic-Ada-4.1\"><span class=\"toc-item-num\">4.1&nbsp;&nbsp;</span>Adamic-Ada</a></span></li><li><span><a href=\"#Jaccard-Coefficient\" data-toc-modified-id=\"Jaccard-Coefficient-4.2\"><span class=\"toc-item-num\">4.2&nbsp;&nbsp;</span>Jaccard Coefficient</a></span></li><li><span><a href=\"#Preferential-Attachment\" data-toc-modified-id=\"Preferential-Attachment-4.3\"><span class=\"toc-item-num\">4.3&nbsp;&nbsp;</span>Preferential Attachment</a></span></li></ul></li><li><span><a href=\"#Graph-Vae-(with-feature)\" data-toc-modified-id=\"Graph-Vae-(with-feature)-5\"><span class=\"toc-item-num\">5&nbsp;&nbsp;</span>Graph Vae (with feature)</a></span><ul class=\"toc-item\"><li><span><a href=\"#Read-in-Graph-Data\" data-toc-modified-id=\"Read-in-Graph-Data-5.1\"><span class=\"toc-item-num\">5.1&nbsp;&nbsp;</span>Read in Graph Data</a></span></li><li><span><a href=\"#Data-Preprocessing\" data-toc-modified-id=\"Data-Preprocessing-5.2\"><span class=\"toc-item-num\">5.2&nbsp;&nbsp;</span>Data Preprocessing</a></span></li><li><span><a href=\"#Initialize-VAE-Model\" data-toc-modified-id=\"Initialize-VAE-Model-5.3\"><span class=\"toc-item-num\">5.3&nbsp;&nbsp;</span>Initialize VAE Model</a></span></li><li><span><a href=\"#Train-and-Evaluate-VAE-Model\" data-toc-modified-id=\"Train-and-Evaluate-VAE-Model-5.4\"><span class=\"toc-item-num\">5.4&nbsp;&nbsp;</span>Train and Evaluate VAE Model</a></span></li></ul></li><li><span><a href=\"#Graph-Vae-(without-feature)\" data-toc-modified-id=\"Graph-Vae-(without-feature)-6\"><span class=\"toc-item-num\">6&nbsp;&nbsp;</span>Graph Vae (without feature)</a></span><ul class=\"toc-item\"><li><span><a href=\"#Read-in-Graph-Data\" data-toc-modified-id=\"Read-in-Graph-Data-6.1\"><span class=\"toc-item-num\">6.1&nbsp;&nbsp;</span>Read in Graph Data</a></span></li><li><span><a href=\"#Data-Preprocessing\" data-toc-modified-id=\"Data-Preprocessing-6.2\"><span class=\"toc-item-num\">6.2&nbsp;&nbsp;</span>Data Preprocessing</a></span></li><li><span><a href=\"#Initialize-VAE-Model\" data-toc-modified-id=\"Initialize-VAE-Model-6.3\"><span class=\"toc-item-num\">6.3&nbsp;&nbsp;</span>Initialize VAE Model</a></span></li><li><span><a href=\"#Train-and-Evaluate-VAE-Model\" data-toc-modified-id=\"Train-and-Evaluate-VAE-Model-6.4\"><span class=\"toc-item-num\">6.4&nbsp;&nbsp;</span>Train and Evaluate VAE Model</a></span></li></ul></li><li><span><a href=\"#Node2vec\" data-toc-modified-id=\"Node2vec-7\"><span class=\"toc-item-num\">7&nbsp;&nbsp;</span>Node2vec</a></span><ul class=\"toc-item\"><li><span><a href=\"#Train-node2vec-(Learn-Node-Embeddings)\" data-toc-modified-id=\"Train-node2vec-(Learn-Node-Embeddings)-7.1\"><span class=\"toc-item-num\">7.1&nbsp;&nbsp;</span>Train node2vec (Learn Node Embeddings)</a></span></li><li><span><a href=\"#Create-Edge-Embeddings\" data-toc-modified-id=\"Create-Edge-Embeddings-7.2\"><span class=\"toc-item-num\">7.2&nbsp;&nbsp;</span>Create Edge Embeddings</a></span></li><li><span><a href=\"#Evaluate-Edge-Embeddings\" data-toc-modified-id=\"Evaluate-Edge-Embeddings-7.3\"><span class=\"toc-item-num\">7.3&nbsp;&nbsp;</span>Evaluate Edge Embeddings</a></span></li></ul></li><li><span><a href=\"#Visualization-of-all-ROC-curve\" data-toc-modified-id=\"Visualization-of-all-ROC-curve-8\"><span class=\"toc-item-num\">8&nbsp;&nbsp;</span>Visualization of all ROC curve</a></span></li></ul></div>"
   ],
   "metadata": {
    "toc": true
   }
  },
  {
   "cell_type": "markdown",
   "source": [
    "**Run the notebook in conda tf env** <br>\n",
    "**Conda activate tf**"
   ],
   "metadata": {}
  },
  {
   "cell_type": "code",
   "execution_count": 1,
   "source": [
    "import pandas as pd\n",
    "from sklearn.manifold import TSNE\n",
    "import numpy as np\n",
    "import networkx as nx\n",
    "import matplotlib.pyplot as plt\n",
    "import matplotlib.patches as mpatches\n",
    "import scipy.sparse as sp\n",
    "import torch\n",
    "import seaborn as sns\n",
    "# from node2vec import Node2Vec\n",
    "sns.set_style('whitegrid')\n",
    "import glob\n",
    "from sklearn.linear_model import LogisticRegression\n",
    "from sklearn.metrics import classification_report, roc_auc_score, average_precision_score,ndcg_score\n",
    "from sklearn.model_selection import train_test_split\n",
    "from sklearn.metrics import confusion_matrix\n",
    "from sklearn.metrics import roc_curve, auc, precision_recall_curve, f1_score\n",
    "from rdkit import Chem\n",
    "from rdkit.Chem import MACCSkeys\n",
    "import json\n",
    "from pathlib import Path\n",
    "import pickle\n",
    "from rdkit.Chem import AllChem\n",
    "from rdkit.Chem import DataStructs\n",
    "import glob"
   ],
   "outputs": [
    {
     "output_type": "stream",
     "name": "stderr",
     "text": [
      "RDKit WARNING: [13:14:37] Enabling RDKit 2019.09.3 jupyter extensions\n"
     ]
    }
   ],
   "metadata": {}
  },
  {
   "cell_type": "markdown",
   "source": [
    "# Read pathbank data"
   ],
   "metadata": {}
  },
  {
   "cell_type": "markdown",
   "source": [
    "## Read Pathbank Pathway metadata\n",
    "Read overall metadata of pathways"
   ],
   "metadata": {}
  },
  {
   "cell_type": "code",
   "execution_count": 2,
   "source": [
    "meta_data_dir = './Training_data/pathbank/Pathbank_Meta_Data/'"
   ],
   "outputs": [],
   "metadata": {}
  },
  {
   "cell_type": "code",
   "execution_count": 3,
   "source": [
    "meta_data = pd.read_csv(meta_data_dir+'pathbank_pathways.csv')\n",
    "meta_data.head()\n"
   ],
   "outputs": [
    {
     "output_type": "execute_result",
     "data": {
      "text/html": [
       "<div>\n",
       "<style scoped>\n",
       "    .dataframe tbody tr th:only-of-type {\n",
       "        vertical-align: middle;\n",
       "    }\n",
       "\n",
       "    .dataframe tbody tr th {\n",
       "        vertical-align: top;\n",
       "    }\n",
       "\n",
       "    .dataframe thead th {\n",
       "        text-align: right;\n",
       "    }\n",
       "</style>\n",
       "<table border=\"1\" class=\"dataframe\">\n",
       "  <thead>\n",
       "    <tr style=\"text-align: right;\">\n",
       "      <th></th>\n",
       "      <th>SMPDB ID</th>\n",
       "      <th>PW ID</th>\n",
       "      <th>Name</th>\n",
       "      <th>Subject</th>\n",
       "      <th>Description</th>\n",
       "    </tr>\n",
       "  </thead>\n",
       "  <tbody>\n",
       "    <tr>\n",
       "      <th>0</th>\n",
       "      <td>SMP0000055</td>\n",
       "      <td>PW000001</td>\n",
       "      <td>Alanine Metabolism</td>\n",
       "      <td>Metabolic</td>\n",
       "      <td>Alanine (L-Alanine) is an α-amino acid that is...</td>\n",
       "    </tr>\n",
       "    <tr>\n",
       "      <th>1</th>\n",
       "      <td>SMP0000067</td>\n",
       "      <td>PW000002</td>\n",
       "      <td>Aspartate Metabolism</td>\n",
       "      <td>Metabolic</td>\n",
       "      <td>Aspartate is synthesized by transamination of ...</td>\n",
       "    </tr>\n",
       "    <tr>\n",
       "      <th>2</th>\n",
       "      <td>SMP0000072</td>\n",
       "      <td>PW000003</td>\n",
       "      <td>Glutamate Metabolism</td>\n",
       "      <td>Metabolic</td>\n",
       "      <td>Glutamate is one of the non-essential amino ac...</td>\n",
       "    </tr>\n",
       "    <tr>\n",
       "      <th>3</th>\n",
       "      <td>SMP0000015</td>\n",
       "      <td>PW000004</td>\n",
       "      <td>Glutathione Metabolism</td>\n",
       "      <td>Metabolic</td>\n",
       "      <td>Glutathione (GSH) is an low-molecular-weight t...</td>\n",
       "    </tr>\n",
       "    <tr>\n",
       "      <th>4</th>\n",
       "      <td>SMP0000057</td>\n",
       "      <td>PW000005</td>\n",
       "      <td>Citric Acid Cycle</td>\n",
       "      <td>Metabolic</td>\n",
       "      <td>The citric acid cycle, which is also known as ...</td>\n",
       "    </tr>\n",
       "  </tbody>\n",
       "</table>\n",
       "</div>"
      ],
      "text/plain": [
       "     SMPDB ID     PW ID                    Name    Subject  \\\n",
       "0  SMP0000055  PW000001      Alanine Metabolism  Metabolic   \n",
       "1  SMP0000067  PW000002    Aspartate Metabolism  Metabolic   \n",
       "2  SMP0000072  PW000003    Glutamate Metabolism  Metabolic   \n",
       "3  SMP0000015  PW000004  Glutathione Metabolism  Metabolic   \n",
       "4  SMP0000057  PW000005       Citric Acid Cycle  Metabolic   \n",
       "\n",
       "                                         Description  \n",
       "0  Alanine (L-Alanine) is an α-amino acid that is...  \n",
       "1  Aspartate is synthesized by transamination of ...  \n",
       "2  Glutamate is one of the non-essential amino ac...  \n",
       "3  Glutathione (GSH) is an low-molecular-weight t...  \n",
       "4  The citric acid cycle, which is also known as ...  "
      ]
     },
     "metadata": {},
     "execution_count": 3
    }
   ],
   "metadata": {}
  },
  {
   "cell_type": "markdown",
   "source": [
    "Read compound metabolite and protein metadata"
   ],
   "metadata": {}
  },
  {
   "cell_type": "code",
   "execution_count": 4,
   "source": [
    "metabolite_data = pd.read_csv(meta_data_dir+'pathbank_all_metabolites.csv') \n",
    "protein_data = pd.read_csv(meta_data_dir+'pathbank_all_proteins.csv')"
   ],
   "outputs": [
    {
     "output_type": "stream",
     "name": "stderr",
     "text": [
      "/Users/chengwang/opt/anaconda3/lib/python3.8/site-packages/IPython/core/interactiveshell.py:3165: DtypeWarning: Columns (6,7,8,10) have mixed types.Specify dtype option on import or set low_memory=False.\n",
      "  has_raised = await self.run_ast_nodes(code_ast.body, cell_name,\n"
     ]
    }
   ],
   "metadata": {}
  },
  {
   "cell_type": "code",
   "execution_count": 5,
   "source": [
    "main_metabolite_data = pd.read_csv(meta_data_dir+'pathbank_primary_metabolites.csv') \n",
    "main_protein_data = pd.read_csv(meta_data_dir+'pathbank_primary_proteins.csv')"
   ],
   "outputs": [],
   "metadata": {}
  },
  {
   "cell_type": "code",
   "execution_count": 6,
   "source": [
    "protein_name = list(main_protein_data['Protein Name'].unique())\n",
    "len(protein_name)"
   ],
   "outputs": [
    {
     "output_type": "execute_result",
     "data": {
      "text/plain": [
       "4933"
      ]
     },
     "metadata": {},
     "execution_count": 6
    }
   ],
   "metadata": {}
  },
  {
   "cell_type": "code",
   "execution_count": 7,
   "source": [
    "len(main_protein_data['Uniprot ID'].unique())"
   ],
   "outputs": [
    {
     "output_type": "execute_result",
     "data": {
      "text/plain": [
       "8707"
      ]
     },
     "metadata": {},
     "execution_count": 7
    }
   ],
   "metadata": {}
  },
  {
   "cell_type": "code",
   "execution_count": 8,
   "source": [
    "main_protein_data['Species'].value_counts()"
   ],
   "outputs": [
    {
     "output_type": "execute_result",
     "data": {
      "text/plain": [
       "Homo sapiens                16983\n",
       "Rattus norvegicus            7830\n",
       "Mus musculus                 6352\n",
       "Bos taurus                   3750\n",
       "Escherichia coli             2624\n",
       "Pseudomonas aeruginosa       1573\n",
       "Arabidopsis thaliana          983\n",
       "Drosophila melanogaster       716\n",
       "Saccharomyces cerevisiae      704\n",
       "Caenorhabditis elegans        677\n",
       "Name: Species, dtype: int64"
      ]
     },
     "metadata": {},
     "execution_count": 8
    }
   ],
   "metadata": {}
  },
  {
   "cell_type": "markdown",
   "source": [
    "**Obtain Homo sapiens pathways data**"
   ],
   "metadata": {}
  },
  {
   "cell_type": "code",
   "execution_count": 9,
   "source": [
    "species = 'Homo sapiens'\n",
    "main_spec_mets_data = main_metabolite_data[main_metabolite_data['Species'] == species] \n",
    "main_spec_protein_data = main_protein_data[main_protein_data['Species'] == species]"
   ],
   "outputs": [],
   "metadata": {}
  },
  {
   "cell_type": "markdown",
   "source": [
    "## Generate species pathway ID"
   ],
   "metadata": {}
  },
  {
   "cell_type": "code",
   "execution_count": 10,
   "source": [
    "spec_mets_data = metabolite_data[metabolite_data['Species'] == species]\n",
    "spec_mets_data_m = pd.merge(spec_mets_data,meta_data[['SMPDB ID','PW ID']],left_on='PathBank ID', right_on='SMPDB ID', how='left')\n",
    "spec_protein_data = protein_data[protein_data['Species'] == species]\n",
    "spec_protein_data_m = pd.merge(spec_protein_data,meta_data[['SMPDB ID','PW ID']],left_on='PathBank ID', right_on='SMPDB ID', how='left')\n",
    "\n",
    "'Get metabolite and protein involved pathway ID'\n",
    "spec_pw_id_met = list(spec_mets_data_m['PW ID'].unique())\n",
    "spec_pw_id_protn = list(spec_protein_data_m['PW ID'].unique())\n",
    "spec_pw_id = list(set(spec_pw_id_met+spec_pw_id_protn))\n"
   ],
   "outputs": [],
   "metadata": {}
  },
  {
   "cell_type": "code",
   "execution_count": 11,
   "source": [
    "len(spec_pw_id) "
   ],
   "outputs": [
    {
     "output_type": "execute_result",
     "data": {
      "text/plain": [
       "908"
      ]
     },
     "metadata": {},
     "execution_count": 11
    }
   ],
   "metadata": {}
  },
  {
   "cell_type": "code",
   "execution_count": 12,
   "source": [
    "meta_name_id_dict = dict(zip(metabolite_data['Metabolite Name'].tolist(),metabolite_data['Metabolite ID'].tolist()))\n",
    "protein_name_id_dict = dict(zip(protein_data['Protein Name'].tolist(),protein_data['Uniprot ID'].tolist()))"
   ],
   "outputs": [],
   "metadata": {}
  },
  {
   "cell_type": "markdown",
   "source": [
    "## Generate human pathway graph"
   ],
   "metadata": {}
  },
  {
   "cell_type": "markdown",
   "source": [
    "### Read human pathway"
   ],
   "metadata": {}
  },
  {
   "cell_type": "code",
   "execution_count": 13,
   "source": [
    "spec_pw_id = [x for x in spec_pw_id if str(x) != 'nan']"
   ],
   "outputs": [],
   "metadata": {}
  },
  {
   "cell_type": "code",
   "execution_count": 14,
   "source": [
    "g = nx.empty_graph(0, create_using=nx.Graph)\n",
    "for pwid in spec_pw_id:\n",
    "    pwfile = './Training_data/pathbank/pathbank_pathway_csv/'+pwid+'*.csv'\n",
    "#     print(pwid,pwfile)\n",
    "    try:\n",
    "        spwfile = glob.glob(pwfile)\n",
    "        for spw in spwfile:\n",
    "            df = pd.read_csv(spw,index_col = 0)\n",
    "            g_df = nx.from_pandas_adjacency(df,create_using = nx.Graph())\n",
    "            g = nx.compose(g, g_df)\n",
    "    except:\n",
    "        pass"
   ],
   "outputs": [],
   "metadata": {}
  },
  {
   "cell_type": "code",
   "execution_count": 15,
   "source": [
    "print(nx.info(g))"
   ],
   "outputs": [
    {
     "output_type": "stream",
     "name": "stdout",
     "text": [
      "Name: \n",
      "Type: Graph\n",
      "Number of nodes: 2306\n",
      "Number of edges: 5786\n",
      "Average degree:   5.0182\n"
     ]
    }
   ],
   "metadata": {}
  },
  {
   "cell_type": "code",
   "execution_count": 16,
   "source": [
    "nodes = list(g.nodes())"
   ],
   "outputs": [],
   "metadata": {}
  },
  {
   "cell_type": "code",
   "execution_count": 17,
   "source": [
    "node_path_id_dict = {}\n",
    "for i in nodes:\n",
    "    pathway_met_id = []\n",
    "    pathway_prot_id = []\n",
    "    all_id = []\n",
    "    pathway_met_id = spec_mets_data_m[spec_mets_data_m['Metabolite Name']==i]['PW ID'].unique().tolist()\n",
    "    pathway_prot_id = spec_protein_data_m[spec_protein_data_m['Protein Name']==i]['PW ID'].unique().tolist()\n",
    "    for t in pathway_met_id:\n",
    "        all_id.append(t)\n",
    "    for t in pathway_prot_id:\n",
    "        all_id.append(t)\n",
    "    all_id = list(set(all_id))\n",
    "    node_path_id_dict[i] = all_id"
   ],
   "outputs": [],
   "metadata": {}
  },
  {
   "cell_type": "code",
   "execution_count": 18,
   "source": [
    "c_mets = 0\n",
    "c_prtn = 0\n",
    "c_prtn_nodes = []\n",
    "c_mets_nodes = []\n",
    "for i in nodes:\n",
    "    if i in meta_name_id_dict:\n",
    "        c_mets += 1\n",
    "        c_mets_nodes.append(i)\n",
    "    if i in protein_name_id_dict:\n",
    "        c_prtn += 1\n",
    "        c_prtn_nodes.append(i)\n",
    "print('number of metabolites ',c_mets)\n",
    "print('number of protein ',c_prtn)\n",
    "print('total number ',len(nodes),c_mets+c_prtn,len(nodes)-c_prtn)"
   ],
   "outputs": [
    {
     "output_type": "stream",
     "name": "stdout",
     "text": [
      "number of metabolites  1261\n",
      "number of protein  855\n",
      "total number  2306 2116 1451\n"
     ]
    }
   ],
   "metadata": {}
  },
  {
   "cell_type": "markdown",
   "source": [
    "### Analysis of protein classes and metabolite types"
   ],
   "metadata": {}
  },
  {
   "cell_type": "code",
   "execution_count": 19,
   "source": [
    "len(list(main_spec_protein_data['Protein Name'].unique()))"
   ],
   "outputs": [
    {
     "output_type": "execute_result",
     "data": {
      "text/plain": [
       "1538"
      ]
     },
     "metadata": {},
     "execution_count": 19
    }
   ],
   "metadata": {}
  },
  {
   "cell_type": "markdown",
   "source": [
    "### Generate fingerprint for metabolite ID"
   ],
   "metadata": {}
  },
  {
   "cell_type": "code",
   "execution_count": 20,
   "source": [
    "mets_dict = dict(zip(metabolite_data['Metabolite ID'].tolist(),metabolite_data['SMILES'].tolist()))\n",
    "len(mets_dict.keys())"
   ],
   "outputs": [
    {
     "output_type": "execute_result",
     "data": {
      "text/plain": [
       "78277"
      ]
     },
     "metadata": {},
     "execution_count": 20
    }
   ],
   "metadata": {}
  },
  {
   "cell_type": "code",
   "execution_count": 21,
   "source": [
    "mets_vec = {}\n",
    "mets_proc = []\n",
    "mets_fp = []\n",
    "c = 0\n",
    "for k,v in mets_dict.items():\n",
    "    smile = v\n",
    "    try:\n",
    "#         print(c)\n",
    "        mol = Chem.MolFromSmiles(smile)\n",
    "        'Topological fingerprint'\n",
    "        # fp = Chem.RDKFingerprint(mol,fpSize=1024)\n",
    "        # fp = MACCSkeys.GenMACCSKeys(mol)\n",
    "        fp = AllChem.GetMorganFingerprintAsBitVect(mol, 2, nBits=1024)\n",
    "        array = np.zeros((0, ), dtype=np.int8)\n",
    "        DataStructs.ConvertToNumpyArray(fp, array)\n",
    "        mets_vec[k] = array\n",
    "        mets_proc.append(k)\n",
    "        mets_fp.append(array)\n",
    "        c += 1\n",
    "    except:\n",
    "        mets_vec[k] = None\n",
    "        c += 1"
   ],
   "outputs": [
    {
     "output_type": "stream",
     "name": "stderr",
     "text": [
      "RDKit WARNING: [13:18:27] WARNING: not removing hydrogen atom without neighbors\n",
      "RDKit ERROR: [13:18:27] Explicit valence for atom # 26 N, 4, is greater than permitted\n",
      "RDKit ERROR: [13:18:27] Explicit valence for atom # 1 N, 4, is greater than permitted\n",
      "RDKit ERROR: [13:18:27] Explicit valence for atom # 8 N, 4, is greater than permitted\n",
      "RDKit ERROR: [13:18:27] Explicit valence for atom # 28 N, 4, is greater than permitted\n",
      "RDKit ERROR: [13:18:27] Explicit valence for atom # 31 O, 3, is greater than permitted\n",
      "RDKit ERROR: [13:18:27] Explicit valence for atom # 4 N, 4, is greater than permitted\n",
      "RDKit ERROR: [13:18:29] Explicit valence for atom # 21 N, 4, is greater than permitted\n",
      "RDKit ERROR: [13:18:30] Explicit valence for atom # 17 O, 3, is greater than permitted\n"
     ]
    }
   ],
   "metadata": {}
  },
  {
   "cell_type": "code",
   "execution_count": 22,
   "source": [
    "mets_fp = np.asarray(mets_fp)\n",
    "mets_fp.shape"
   ],
   "outputs": [
    {
     "output_type": "execute_result",
     "data": {
      "text/plain": [
       "(78261, 1024)"
      ]
     },
     "metadata": {},
     "execution_count": 22
    }
   ],
   "metadata": {}
  },
  {
   "cell_type": "code",
   "execution_count": 23,
   "source": [
    "from sklearn.decomposition import PCA\n",
    "pca = PCA(n_components=1024)\n",
    "pca.fit(mets_fp)\n",
    "pca_mets_fp = pca.transform(mets_fp)"
   ],
   "outputs": [],
   "metadata": {}
  },
  {
   "cell_type": "code",
   "execution_count": 24,
   "source": [
    "pca_mets_vec = {}\n",
    "for i in range(len(mets_proc)):\n",
    "    k = mets_proc[i]\n",
    "    pca_mets_vec[k] = pca_mets_fp[i]"
   ],
   "outputs": [],
   "metadata": {}
  },
  {
   "cell_type": "markdown",
   "source": [
    "### Generate protein vectors for all uniport ID"
   ],
   "metadata": {}
  },
  {
   "cell_type": "markdown",
   "source": [
    "**Generate protein vec by protein2vec.py**"
   ],
   "metadata": {}
  },
  {
   "cell_type": "code",
   "execution_count": 25,
   "source": [
    "protein_dir = './Training_data/pathbank/pathbank_protein_data/'"
   ],
   "outputs": [],
   "metadata": {}
  },
  {
   "cell_type": "code",
   "execution_count": 26,
   "source": [
    "protein_vec = pickle.load(open( protein_dir+\"all_protein_vector.p\", \"rb\" ))\n",
    "protein_vec['P21589']"
   ],
   "outputs": [
    {
     "output_type": "execute_result",
     "data": {
      "text/plain": [
       "array([ 0.15507588,  0.11396462, -0.19298424, ..., -0.0408243 ,\n",
       "       -0.08098967, -0.01138656], dtype=float32)"
      ]
     },
     "metadata": {},
     "execution_count": 26
    }
   ],
   "metadata": {}
  },
  {
   "cell_type": "code",
   "execution_count": 27,
   "source": [
    "np_protein_vec = []\n",
    "for k,v in protein_vec.items():\n",
    "    np_protein_vec.append(v)\n",
    "np_protein_vec = np.asarray(np_protein_vec)\n",
    "np_protein_vec.shape"
   ],
   "outputs": [
    {
     "output_type": "execute_result",
     "data": {
      "text/plain": [
       "(8291, 1024)"
      ]
     },
     "metadata": {},
     "execution_count": 27
    }
   ],
   "metadata": {}
  },
  {
   "cell_type": "code",
   "execution_count": 28,
   "source": [
    "pca.fit(np_protein_vec)\n",
    "pca_np_protein_vec = pca.transform(np_protein_vec)"
   ],
   "outputs": [],
   "metadata": {}
  },
  {
   "cell_type": "code",
   "execution_count": 29,
   "source": [
    "protein_keys = list(protein_vec.keys())"
   ],
   "outputs": [],
   "metadata": {}
  },
  {
   "cell_type": "code",
   "execution_count": 30,
   "source": [
    "pca_protein_vec = {}\n",
    "for i in range(len(protein_keys)):\n",
    "    k = protein_keys[i]\n",
    "    pca_protein_vec[k] = pca_np_protein_vec[i]"
   ],
   "outputs": [],
   "metadata": {}
  },
  {
   "cell_type": "markdown",
   "source": [
    "### Generate features for graph"
   ],
   "metadata": {}
  },
  {
   "cell_type": "code",
   "execution_count": 31,
   "source": [
    "all_nodes_df = pd.DataFrame(columns=['node','features','dbid','class'])\n",
    "all_nodes_df"
   ],
   "outputs": [
    {
     "output_type": "execute_result",
     "data": {
      "text/html": [
       "<div>\n",
       "<style scoped>\n",
       "    .dataframe tbody tr th:only-of-type {\n",
       "        vertical-align: middle;\n",
       "    }\n",
       "\n",
       "    .dataframe tbody tr th {\n",
       "        vertical-align: top;\n",
       "    }\n",
       "\n",
       "    .dataframe thead th {\n",
       "        text-align: right;\n",
       "    }\n",
       "</style>\n",
       "<table border=\"1\" class=\"dataframe\">\n",
       "  <thead>\n",
       "    <tr style=\"text-align: right;\">\n",
       "      <th></th>\n",
       "      <th>node</th>\n",
       "      <th>features</th>\n",
       "      <th>dbid</th>\n",
       "      <th>class</th>\n",
       "    </tr>\n",
       "  </thead>\n",
       "  <tbody>\n",
       "  </tbody>\n",
       "</table>\n",
       "</div>"
      ],
      "text/plain": [
       "Empty DataFrame\n",
       "Columns: [node, features, dbid, class]\n",
       "Index: []"
      ]
     },
     "metadata": {},
     "execution_count": 31
    }
   ],
   "metadata": {}
  },
  {
   "cell_type": "code",
   "execution_count": 32,
   "source": [
    "g_nodes = list(g.nodes())\n",
    "for i in range(len(g_nodes)):\n",
    "    node = g_nodes[i]\n",
    "    all_nodes_df.loc[i,'node'] = node\n",
    "    if node in meta_name_id_dict:\n",
    "        name_id = meta_name_id_dict[node]\n",
    "        all_nodes_df.loc[i,'dbid'] = name_id \n",
    "        all_nodes_df.loc[i,'class'] = 'metabolite'\n",
    "        if name_id in pca_mets_vec:\n",
    "            all_nodes_df.loc[i,'features'] = pca_mets_vec[name_id]\n",
    "        else:\n",
    "            # all_nodes_df.loc[i,'features'] = np.zeros((1024), dtype=np.int8)\n",
    "            all_nodes_df.loc[i,'features'] = np.random.rand((1024))\n",
    "    elif node in protein_name_id_dict:\n",
    "        name_id = protein_name_id_dict[node]\n",
    "        all_nodes_df.loc[i,'dbid'] = name_id\n",
    "        all_nodes_df.loc[i,'class'] = 'protein'\n",
    "        if name_id in protein_vec:\n",
    "            all_nodes_df.loc[i,'features'] = protein_vec[name_id]\n",
    "        else:\n",
    "            all_nodes_df.loc[i,'features'] = np.random.rand((1024))\n",
    "            # all_nodes_df.loc[i,'features'] = np.ones((1024), dtype=np.int8)\n",
    "    else:\n",
    "        all_nodes_df.loc[i,'features'] = np.random.rand((1024))\n",
    "        # all_nodes_df.loc[i,'features'] = np.ones((1024), dtype=np.int8)\n",
    "        all_nodes_df.loc[i,'dbid'] = None\n",
    "        all_nodes_df.loc[i,'class'] = 'other'"
   ],
   "outputs": [],
   "metadata": {}
  },
  {
   "cell_type": "markdown",
   "source": [
    "### Unsupervised learning of embedded features"
   ],
   "metadata": {}
  },
  {
   "cell_type": "code",
   "execution_count": 35,
   "source": [
    "all_nodes_df_f = all_nodes_df[~all_nodes_df['class'].str.contains('other')]"
   ],
   "outputs": [],
   "metadata": {}
  },
  {
   "cell_type": "code",
   "execution_count": 36,
   "source": [
    "t = []\n",
    "for index,row in all_nodes_df_f.iterrows():\n",
    "    fp = row['features']\n",
    "    t.append(fp)\n"
   ],
   "outputs": [],
   "metadata": {}
  },
  {
   "cell_type": "code",
   "execution_count": 37,
   "source": [
    "all_nodes_df_f['class'].value_counts()"
   ],
   "outputs": [
    {
     "output_type": "execute_result",
     "data": {
      "text/plain": [
       "metabolite    1261\n",
       "protein        855\n",
       "Name: class, dtype: int64"
      ]
     },
     "metadata": {},
     "execution_count": 37
    }
   ],
   "metadata": {}
  },
  {
   "cell_type": "code",
   "execution_count": 38,
   "source": [
    "X = np.asarray(t)"
   ],
   "outputs": [],
   "metadata": {}
  },
  {
   "cell_type": "code",
   "execution_count": 39,
   "source": [
    "X.shape"
   ],
   "outputs": [
    {
     "output_type": "execute_result",
     "data": {
      "text/plain": [
       "(2116, 1024)"
      ]
     },
     "metadata": {},
     "execution_count": 39
    }
   ],
   "metadata": {}
  },
  {
   "cell_type": "code",
   "execution_count": 40,
   "source": [
    "Y = all_nodes_df_f[\"class\"].tolist()"
   ],
   "outputs": [],
   "metadata": {}
  },
  {
   "cell_type": "code",
   "execution_count": 41,
   "source": [
    "from sklearn.manifold import TSNE\n",
    "tsne = TSNE(n_components=2, random_state=0)"
   ],
   "outputs": [],
   "metadata": {}
  },
  {
   "cell_type": "code",
   "execution_count": 42,
   "source": [
    "X_2d = tsne.fit_transform(X)"
   ],
   "outputs": [],
   "metadata": {}
  },
  {
   "cell_type": "code",
   "execution_count": 43,
   "source": [
    "tsne_df = pd.DataFrame({'X':X_2d[:,0],\n",
    "                        'Y':X_2d[:,1],\n",
    "                        'label':Y})\n",
    "tsne_df.head()"
   ],
   "outputs": [
    {
     "output_type": "execute_result",
     "data": {
      "text/html": [
       "<div>\n",
       "<style scoped>\n",
       "    .dataframe tbody tr th:only-of-type {\n",
       "        vertical-align: middle;\n",
       "    }\n",
       "\n",
       "    .dataframe tbody tr th {\n",
       "        vertical-align: top;\n",
       "    }\n",
       "\n",
       "    .dataframe thead th {\n",
       "        text-align: right;\n",
       "    }\n",
       "</style>\n",
       "<table border=\"1\" class=\"dataframe\">\n",
       "  <thead>\n",
       "    <tr style=\"text-align: right;\">\n",
       "      <th></th>\n",
       "      <th>X</th>\n",
       "      <th>Y</th>\n",
       "      <th>label</th>\n",
       "    </tr>\n",
       "  </thead>\n",
       "  <tbody>\n",
       "    <tr>\n",
       "      <th>0</th>\n",
       "      <td>-45.573223</td>\n",
       "      <td>1.032262</td>\n",
       "      <td>protein</td>\n",
       "    </tr>\n",
       "    <tr>\n",
       "      <th>1</th>\n",
       "      <td>-1.306892</td>\n",
       "      <td>43.220383</td>\n",
       "      <td>metabolite</td>\n",
       "    </tr>\n",
       "    <tr>\n",
       "      <th>2</th>\n",
       "      <td>27.180899</td>\n",
       "      <td>-19.497189</td>\n",
       "      <td>metabolite</td>\n",
       "    </tr>\n",
       "    <tr>\n",
       "      <th>3</th>\n",
       "      <td>29.435972</td>\n",
       "      <td>-7.810470</td>\n",
       "      <td>metabolite</td>\n",
       "    </tr>\n",
       "    <tr>\n",
       "      <th>4</th>\n",
       "      <td>34.361526</td>\n",
       "      <td>2.456885</td>\n",
       "      <td>metabolite</td>\n",
       "    </tr>\n",
       "  </tbody>\n",
       "</table>\n",
       "</div>"
      ],
      "text/plain": [
       "           X          Y       label\n",
       "0 -45.573223   1.032262     protein\n",
       "1  -1.306892  43.220383  metabolite\n",
       "2  27.180899 -19.497189  metabolite\n",
       "3  29.435972  -7.810470  metabolite\n",
       "4  34.361526   2.456885  metabolite"
      ]
     },
     "metadata": {},
     "execution_count": 43
    }
   ],
   "metadata": {}
  },
  {
   "cell_type": "code",
   "execution_count": 44,
   "source": [
    "sns.set_style('ticks')"
   ],
   "outputs": [],
   "metadata": {}
  },
  {
   "cell_type": "code",
   "execution_count": 45,
   "source": [
    "plt.figure(figsize=(10,10))\n",
    "sns_plot = sns.scatterplot(x=\"X\", y=\"Y\",\n",
    "              hue=\"label\",\n",
    "              palette=['purple','red'],\n",
    "              legend='full',\n",
    "              data=tsne_df);\n",
    "# plt.savefig(\"./t-sne-protein-metabolite_esm.pdf\")"
   ],
   "outputs": [
    {
     "output_type": "display_data",
     "data": {
      "image/png": "[encoded data removed]",
      "text/plain": [
       "<Figure size 720x720 with 1 Axes>"
      ]
     },
     "metadata": {}
    }
   ],
   "metadata": {}
  },
  {
   "cell_type": "markdown",
   "source": [
    "# Graph Vae (with feature)"
   ],
   "metadata": {}
  },
  {
   "cell_type": "markdown",
   "source": [
    "## Read in Graph Data"
   ],
   "metadata": {}
  },
  {
   "cell_type": "code",
   "execution_count": 33,
   "source": [
    "t = []\n",
    "for fp in all_nodes_df['features'].tolist():\n",
    "    temp = [i for i in fp]\n",
    "    t.append(temp)"
   ],
   "outputs": [],
   "metadata": {}
  },
  {
   "cell_type": "code",
   "execution_count": 34,
   "source": [
    "features = np.asarray(t)"
   ],
   "outputs": [],
   "metadata": {}
  },
  {
   "cell_type": "code",
   "execution_count": 35,
   "source": [
    "features.shape"
   ],
   "outputs": [
    {
     "output_type": "execute_result",
     "data": {
      "text/plain": [
       "(2306, 1024)"
      ]
     },
     "metadata": {},
     "execution_count": 35
    }
   ],
   "metadata": {}
  },
  {
   "cell_type": "code",
   "execution_count": 36,
   "source": [
    "adj = nx.adjacency_matrix(g,nodelist=all_nodes_df['node'].tolist())"
   ],
   "outputs": [],
   "metadata": {}
  },
  {
   "cell_type": "markdown",
   "source": [
    "## Data Preprocessing"
   ],
   "metadata": {}
  },
  {
   "cell_type": "code",
   "execution_count": 37,
   "source": [
    "from __future__ import division\n",
    "from __future__ import print_function\n",
    "import numpy as np\n",
    "import scipy.sparse as sp\n",
    "\n",
    "from sklearn.metrics import roc_auc_score\n",
    "from sklearn.metrics import average_precision_score\n",
    "\n",
    "import time\n",
    "import os\n",
    "os.environ['CUDA_VISIBLE_DEVICES'] = \"\""
   ],
   "outputs": [],
   "metadata": {}
  },
  {
   "cell_type": "code",
   "execution_count": 38,
   "source": [
    "import tensorflow.compat.v1 as tf\n",
    "tf.disable_v2_behavior()\n",
    "tf.set_random_seed(0)"
   ],
   "outputs": [
    {
     "output_type": "stream",
     "name": "stdout",
     "text": [
      "WARNING:tensorflow:From /Users/chengwang/opt/anaconda3/lib/python3.8/site-packages/tensorflow/python/compat/v2_compat.py:96: disable_resource_variables (from tensorflow.python.ops.variable_scope) is deprecated and will be removed in a future version.\n",
      "Instructions for updating:\n",
      "non-resource variables are not supported in the long term\n"
     ]
    }
   ],
   "metadata": {}
  },
  {
   "cell_type": "code",
   "execution_count": 39,
   "source": [
    "from gae.optimizer import OptimizerAE, OptimizerVAE\n",
    "from gae.model import GCNModelVAE, GCNModelAE\n",
    "from gae.preprocessing import preprocess_graph, construct_feed_dict, sparse_to_tuple, mask_test_edges"
   ],
   "outputs": [],
   "metadata": {}
  },
  {
   "cell_type": "code",
   "execution_count": 40,
   "source": [
    "# Convert features from normal matrix --> sparse matrix --> tuple\n",
    "    # features_tuple contains: (list of matrix coordinates, list of values, matrix dimensions)\n",
    "import scipy.sparse as sp\n",
    "x = sp.lil_matrix(features)\n",
    "features_tuple = sparse_to_tuple(x)\n",
    "features_shape = features_tuple[2]\n",
    "\n",
    "features_shape"
   ],
   "outputs": [
    {
     "output_type": "execute_result",
     "data": {
      "text/plain": [
       "(2306, 1024)"
      ]
     },
     "metadata": {},
     "execution_count": 40
    }
   ],
   "metadata": {}
  },
  {
   "cell_type": "code",
   "execution_count": 41,
   "source": [
    "# Get graph attributes (to feed into model)\n",
    "num_nodes = adj.shape[0] # number of nodes in adjacency matrix\n",
    "num_features = features_shape[1] # number of features (columsn of features matrix)\n",
    "features_nonzero = features_tuple[1].shape[0] # number of non-zero entries in features matrix (or length of values list)\n",
    "# Store original adjacency matrix (without diagonal entries) for later\n",
    "adj_orig = adj\n",
    "adj_orig = adj_orig - sp.dia_matrix((adj_orig.diagonal()[np.newaxis, :], [0]), shape=adj_orig.shape)\n",
    "adj_orig.eliminate_zeros()"
   ],
   "outputs": [],
   "metadata": {}
  },
  {
   "cell_type": "code",
   "execution_count": 42,
   "source": [
    "np.random.seed(0) # IMPORTANT: guarantees consistent train/test splits\n",
    "adj_train, train_edges, train_edges_false, val_edges, val_edges_false, \\\n",
    "    test_edges, test_edges_false = mask_test_edges(adj, test_frac=.1, val_frac=.1)\n",
    "\n",
    "# Normalize adjacency matrix\n",
    "adj_norm = preprocess_graph(adj_train)\n",
    "\n",
    "# Add in diagonals\n",
    "adj_label = adj_train + sp.eye(adj_train.shape[0])\n",
    "adj_label = sparse_to_tuple(adj_label)\n",
    "\n",
    "# Inspect train/test split\n",
    "print(\"Total nodes:\", adj.shape[0])\n",
    "print(\"Total edges:\", int(adj.nnz/2)) # adj is symmetric, so nnz (num non-zero) = 2*num_edges\n",
    "print(\"Training edges (positive):\", len(train_edges))\n",
    "print(\"Training edges (negative):\", len(train_edges_false))\n",
    "print(\"Validation edges (positive):\", len(val_edges))\n",
    "print(\"Validation edges (negative):\", len(val_edges_false))\n",
    "print(\"Test edges (positive):\", len(test_edges))\n",
    "print(\"Test edges (negative):\", len(test_edges_false))"
   ],
   "outputs": [
    {
     "output_type": "stream",
     "name": "stdout",
     "text": [
      "Total nodes: 2306\n",
      "Total edges: 5786\n",
      "Training edges (positive): 4630\n",
      "Training edges (negative): 4630\n",
      "Validation edges (positive): 578\n",
      "Validation edges (negative): 578\n",
      "Test edges (positive): 578\n",
      "Test edges (negative): 578\n"
     ]
    }
   ],
   "metadata": {}
  },
  {
   "cell_type": "markdown",
   "source": [
    "## Initialize VAE Model"
   ],
   "metadata": {}
  },
  {
   "cell_type": "code",
   "execution_count": 43,
   "source": [
    "# Define hyperparameters\n",
    "LEARNING_RATE = 0.005\n",
    "EPOCHS = 1000\n",
    "HIDDEN1_DIM = 32\n",
    "HIDDEN2_DIM = 16\n",
    "DROPOUT = 0.1"
   ],
   "outputs": [],
   "metadata": {}
  },
  {
   "cell_type": "code",
   "execution_count": 44,
   "source": [
    "# Define placeholders\n",
    "placeholders = {\n",
    "    'features': tf.sparse_placeholder(tf.float32),\n",
    "    'adj': tf.sparse_placeholder(tf.float32),\n",
    "    'adj_orig': tf.sparse_placeholder(tf.float32),\n",
    "    'dropout': tf.placeholder_with_default(0., shape=())\n",
    "}\n",
    "\n",
    "# How much to weigh positive examples (true edges) in cost print_function\n",
    "  # Want to weigh less-frequent classes higher, so as to prevent model output bias\n",
    "  # pos_weight = (num. negative samples / (num. positive samples)\n",
    "pos_weight = float(adj.shape[0] * adj.shape[0] - adj.sum()) / adj.sum()\n",
    "\n",
    "# normalize (scale) average weighted cost\n",
    "norm = adj.shape[0] * adj.shape[0] / float((adj.shape[0] * adj.shape[0] - adj.sum()) * 2)\n",
    "\n",
    "# Create VAE model\n",
    "model = GCNModelVAE(placeholders, num_features, num_nodes, features_nonzero, HIDDEN1_DIM, HIDDEN2_DIM)\n",
    "\n",
    "opt = OptimizerVAE(preds=model.reconstructions,\n",
    "                           labels=tf.reshape(tf.sparse_tensor_to_dense(placeholders['adj_orig'],\n",
    "                                                                       validate_indices=False), [-1]),\n",
    "                           model=model, num_nodes=num_nodes,\n",
    "                           pos_weight=pos_weight,\n",
    "                           norm=norm,\n",
    "                           learning_rate=LEARNING_RATE)"
   ],
   "outputs": [
    {
     "output_type": "stream",
     "name": "stdout",
     "text": [
      "WARNING:tensorflow:From /Users/chengwang/opt/anaconda3/lib/python3.8/site-packages/tensorflow/python/util/dispatch.py:206: calling dropout (from tensorflow.python.ops.nn_ops) with keep_prob is deprecated and will be removed in a future version.\n",
      "Instructions for updating:\n",
      "Please use `rate` instead of `keep_prob`. Rate should be set to `rate = 1 - keep_prob`.\n",
      "Creating GAE optimizer...\n",
      "Labels shape:  (?,)\n",
      "Preds shape:  (?,)\n",
      "WARNING:tensorflow:From /Users/chengwang/opt/anaconda3/lib/python3.8/site-packages/tensorflow/python/util/dispatch.py:206: calling weighted_cross_entropy_with_logits (from tensorflow.python.ops.nn_impl) with targets is deprecated and will be removed in a future version.\n",
      "Instructions for updating:\n",
      "targets is deprecated, use labels instead\n",
      "CE+KL loss shape:  ()\n"
     ]
    }
   ],
   "metadata": {}
  },
  {
   "cell_type": "code",
   "execution_count": 45,
   "source": [
    "# Calculate ROC AUC\n",
    "def get_roc_score(edges_pos, edges_neg, emb=None):\n",
    "    if emb is None:\n",
    "        feed_dict.update({placeholders['dropout']: 0})\n",
    "        emb = sess.run(model.z_mean, feed_dict=feed_dict)\n",
    "\n",
    "    def sigmoid(x):\n",
    "        return 1 / (1 + np.exp(-x))\n",
    "\n",
    "    # Predict on test set of edges\n",
    "    adj_rec = np.dot(emb, emb.T)\n",
    "    preds_pos = []\n",
    "    pos = []\n",
    "    for e in edges_pos:\n",
    "        preds_pos.append(sigmoid(adj_rec[e[0], e[1]])) # predicted score for given edge\n",
    "        pos.append(adj_orig[e[0], e[1]]) # actual value (1)\n",
    "\n",
    "    preds_neg = []\n",
    "    neg = []\n",
    "    for e in edges_neg:\n",
    "        preds_neg.append(sigmoid(adj_rec[e[0], e[1]])) # predicted score for given edge\n",
    "        neg.append(adj_orig[e[0], e[1]]) # actual value (0)\n",
    "\n",
    "    preds_all = np.hstack([preds_pos, preds_neg])\n",
    "    labels_all = np.hstack([np.ones(len(preds_pos)), np.zeros(len(preds_neg))])\n",
    "    roc_score = roc_auc_score(labels_all, preds_all)\n",
    "    fpr, tpr, _ = roc_curve(labels_all, preds_all)\n",
    "    precision, recall, _ = precision_recall_curve(labels_all, preds_all)\n",
    "    pr_score = auc(recall, precision)\n",
    "    ap_score = average_precision_score(labels_all, preds_all)\n",
    "    return roc_score, ap_score, fpr, tpr, pr_score, precision, recall"
   ],
   "outputs": [],
   "metadata": {}
  },
  {
   "cell_type": "markdown",
   "source": [
    "## Train and Evaluate VAE Model"
   ],
   "metadata": {}
  },
  {
   "cell_type": "code",
   "execution_count": 46,
   "source": [
    "cost_val = []\n",
    "acc_val = []\n",
    "val_roc_score = []\n",
    "\n",
    "# Initialize session\n",
    "sess = tf.Session()\n",
    "sess.run(tf.global_variables_initializer())\n",
    "\n",
    "# Train model\n",
    "for epoch in range(EPOCHS):\n",
    "\n",
    "    t = time.time()\n",
    "    # Construct feed dictionary\n",
    "    feed_dict = construct_feed_dict(adj_norm, adj_label, features_tuple, placeholders)\n",
    "    feed_dict.update({placeholders['dropout']: DROPOUT})\n",
    "    # Run single weight update\n",
    "    outs = sess.run([opt.opt_op, opt.cost, opt.accuracy], feed_dict=feed_dict)\n",
    "\n",
    "    # Compute average loss\n",
    "    avg_cost = outs[1]\n",
    "    avg_accuracy = outs[2]\n",
    "    \n",
    "    # Evaluate predictions\n",
    "    roc_curr, ap_curr, fpr, tpr, pr_score, precision, recall = get_roc_score(val_edges, val_edges_false)\n",
    "    val_roc_score.append(roc_curr)\n",
    "    \n",
    "    if (epoch+1)%50 == 0:\n",
    "    # Print results for this epoch\n",
    "        print(\"Epoch:\", '%04d' % (epoch + 1), \"train_loss=\", \"{:.5f}\".format(avg_cost),\n",
    "              \"train_acc=\", \"{:.5f}\".format(avg_accuracy), \"val_roc=\", \"{:.5f}\".format(val_roc_score[-1]),\n",
    "              \"val_ap=\", \"{:.5f}\".format(ap_curr),\n",
    "              \"time=\", \"{:.5f}\".format(time.time() - t))\n",
    "\n",
    "print(\"Optimization Finished!\")"
   ],
   "outputs": [
    {
     "output_type": "stream",
     "name": "stdout",
     "text": [
      "Epoch: 0050 train_loss= 0.51109 train_acc= 0.50129 val_roc= 0.87119 val_ap= 0.88817 time= 0.28519\n",
      "Epoch: 0100 train_loss= 0.48037 train_acc= 0.51226 val_roc= 0.90666 val_ap= 0.92027 time= 0.29010\n",
      "Epoch: 0150 train_loss= 0.46382 train_acc= 0.51344 val_roc= 0.91811 val_ap= 0.93073 time= 0.28320\n",
      "Epoch: 0200 train_loss= 0.45793 train_acc= 0.51641 val_roc= 0.91768 val_ap= 0.93251 time= 0.28660\n",
      "Epoch: 0250 train_loss= 0.45373 train_acc= 0.51656 val_roc= 0.92390 val_ap= 0.93856 time= 0.28244\n",
      "Epoch: 0300 train_loss= 0.44674 train_acc= 0.52316 val_roc= 0.91891 val_ap= 0.93527 time= 0.28420\n",
      "Epoch: 0350 train_loss= 0.44381 train_acc= 0.52479 val_roc= 0.92140 val_ap= 0.93717 time= 0.27856\n",
      "Epoch: 0400 train_loss= 0.44239 train_acc= 0.52552 val_roc= 0.92442 val_ap= 0.94000 time= 0.28959\n",
      "Epoch: 0450 train_loss= 0.43980 train_acc= 0.52492 val_roc= 0.93053 val_ap= 0.94363 time= 0.33849\n",
      "Epoch: 0500 train_loss= 0.43719 train_acc= 0.52660 val_roc= 0.92420 val_ap= 0.94071 time= 0.28807\n",
      "Epoch: 0550 train_loss= 0.43488 train_acc= 0.53057 val_roc= 0.92303 val_ap= 0.93966 time= 0.30227\n",
      "Epoch: 0600 train_loss= 0.43602 train_acc= 0.52606 val_roc= 0.92557 val_ap= 0.94079 time= 0.28437\n",
      "Epoch: 0650 train_loss= 0.43336 train_acc= 0.52850 val_roc= 0.92498 val_ap= 0.94094 time= 0.28741\n",
      "Epoch: 0700 train_loss= 0.43157 train_acc= 0.52771 val_roc= 0.92658 val_ap= 0.94114 time= 0.29418\n",
      "Epoch: 0750 train_loss= 0.43228 train_acc= 0.52754 val_roc= 0.92513 val_ap= 0.93946 time= 0.28433\n",
      "Epoch: 0800 train_loss= 0.42942 train_acc= 0.53163 val_roc= 0.91807 val_ap= 0.93461 time= 0.28954\n",
      "Epoch: 0850 train_loss= 0.42962 train_acc= 0.52843 val_roc= 0.92479 val_ap= 0.94062 time= 0.28528\n",
      "Epoch: 0900 train_loss= 0.42785 train_acc= 0.53348 val_roc= 0.92242 val_ap= 0.93962 time= 0.29096\n",
      "Epoch: 0950 train_loss= 0.42788 train_acc= 0.53255 val_roc= 0.92379 val_ap= 0.93986 time= 0.29655\n",
      "Epoch: 1000 train_loss= 0.42927 train_acc= 0.52846 val_roc= 0.91973 val_ap= 0.93708 time= 0.29593\n",
      "Optimization Finished!\n"
     ]
    }
   ],
   "metadata": {}
  },
  {
   "cell_type": "code",
   "execution_count": 47,
   "source": [
    "# Print final results\n",
    "feature_roc_score, feature_ap_score, feature_fpr, feature_tpr, feature_pr_score, feature_prcs, feature_rcal = get_roc_score(test_edges, test_edges_false)\n",
    "print('Test ROC score: ' + str(feature_roc_score))\n",
    "print('Test AP score: ' + str(feature_ap_score))"
   ],
   "outputs": [
    {
     "output_type": "stream",
     "name": "stdout",
     "text": [
      "Test ROC score: 0.9140036637492368\n",
      "Test AP score: 0.9214135232632458\n"
     ]
    }
   ],
   "metadata": {}
  },
  {
   "cell_type": "code",
   "execution_count": 48,
   "source": [
    "print(nx.info(g))"
   ],
   "outputs": [
    {
     "output_type": "stream",
     "name": "stdout",
     "text": [
      "Name: \n",
      "Type: Graph\n",
      "Number of nodes: 2306\n",
      "Number of edges: 5786\n",
      "Average degree:   5.0182\n"
     ]
    }
   ],
   "metadata": {}
  },
  {
   "cell_type": "code",
   "execution_count": 49,
   "source": [
    "node_path_keys = list(node_path_id_dict.keys())"
   ],
   "outputs": [],
   "metadata": {}
  },
  {
   "cell_type": "code",
   "execution_count": 50,
   "source": [
    "path_id_to_node = {}\n",
    "for i in range(len(nodes)):\n",
    "    k = nodes[i]\n",
    "    ids = node_path_id_dict[k]\n",
    "    for t in ids:\n",
    "        if t in path_id_to_node:\n",
    "            path_id_to_node[t].append(i)\n",
    "        else:\n",
    "            path_id_to_node[t] = []\n",
    "            path_id_to_node[t].append(i)"
   ],
   "outputs": [],
   "metadata": {}
  },
  {
   "cell_type": "code",
   "execution_count": 51,
   "source": [
    "def check_nodes(n1,n2,path_id_to_node):\n",
    "    result = []\n",
    "    for pwid,nods in path_id_to_node.items():\n",
    "        if n1 in nods and n2 in nods:\n",
    "            result.append(pwid)\n",
    "    return result    "
   ],
   "outputs": [],
   "metadata": {}
  },
  {
   "cell_type": "code",
   "execution_count": 52,
   "source": [
    "all_edge_id_list = []\n",
    "all_pwid_edges = {}\n",
    "test_edge_id_list = []\n",
    "test_pwid_edges = {}"
   ],
   "outputs": [],
   "metadata": {}
  },
  {
   "cell_type": "code",
   "execution_count": 54,
   "source": [
    "for i in val_edges:\n",
    "    l,r = i[0],i[1]\n",
    "    temp = check_nodes(l,r,path_id_to_node)\n",
    "    if len(temp) > 0:\n",
    "        for t in temp:\n",
    "            test_edge_id_list.append(t)\n",
    "            if t in test_pwid_edges:\n",
    "                test_pwid_edges[t].append([l,r])\n",
    "            else:\n",
    "                test_pwid_edges[t] = []\n",
    "                test_pwid_edges[t].append([l,r])"
   ],
   "outputs": [],
   "metadata": {}
  },
  {
   "cell_type": "code",
   "execution_count": 57,
   "source": [
    "# test_edges, val_edges, train_edges\n",
    "for i in train_edges:\n",
    "    l,r = i[0],i[1]\n",
    "    temp = check_nodes(l,r,path_id_to_node)\n",
    "    if len(temp) > 0:\n",
    "        for t in temp:\n",
    "            all_edge_id_list.append(t)\n",
    "            if t in all_pwid_edges:\n",
    "                all_pwid_edges[t].append([l,r])\n",
    "            else:\n",
    "                all_pwid_edges[t] = []\n",
    "                all_pwid_edges[t].append([l,r])"
   ],
   "outputs": [],
   "metadata": {}
  },
  {
   "cell_type": "code",
   "execution_count": 58,
   "source": [
    "from collections import Counter"
   ],
   "outputs": [],
   "metadata": {}
  },
  {
   "cell_type": "code",
   "execution_count": 59,
   "source": [
    "counts_pwid = Counter(test_edge_id_list)\n",
    "df_counts_pwid = pd.DataFrame.from_dict(counts_pwid, orient='index',columns=['counts'])\n",
    "df_counts_pwid_sort = df_counts_pwid.sort_values(by='counts',ascending=False)"
   ],
   "outputs": [],
   "metadata": {}
  },
  {
   "cell_type": "code",
   "execution_count": 60,
   "source": [
    "df_counts_pwid_sort.head()"
   ],
   "outputs": [
    {
     "output_type": "execute_result",
     "data": {
      "text/html": [
       "<div>\n",
       "<style scoped>\n",
       "    .dataframe tbody tr th:only-of-type {\n",
       "        vertical-align: middle;\n",
       "    }\n",
       "\n",
       "    .dataframe tbody tr th {\n",
       "        vertical-align: top;\n",
       "    }\n",
       "\n",
       "    .dataframe thead th {\n",
       "        text-align: right;\n",
       "    }\n",
       "</style>\n",
       "<table border=\"1\" class=\"dataframe\">\n",
       "  <thead>\n",
       "    <tr style=\"text-align: right;\">\n",
       "      <th></th>\n",
       "      <th>counts</th>\n",
       "    </tr>\n",
       "  </thead>\n",
       "  <tbody>\n",
       "    <tr>\n",
       "      <th>PW000266</th>\n",
       "      <td>65</td>\n",
       "    </tr>\n",
       "    <tr>\n",
       "      <th>PW000429</th>\n",
       "      <td>65</td>\n",
       "    </tr>\n",
       "    <tr>\n",
       "      <th>PW000267</th>\n",
       "      <td>65</td>\n",
       "    </tr>\n",
       "    <tr>\n",
       "      <th>PW000511</th>\n",
       "      <td>53</td>\n",
       "    </tr>\n",
       "    <tr>\n",
       "      <th>PW000052</th>\n",
       "      <td>53</td>\n",
       "    </tr>\n",
       "  </tbody>\n",
       "</table>\n",
       "</div>"
      ],
      "text/plain": [
       "          counts\n",
       "PW000266      65\n",
       "PW000429      65\n",
       "PW000267      65\n",
       "PW000511      53\n",
       "PW000052      53"
      ]
     },
     "metadata": {},
     "execution_count": 60
    }
   ],
   "metadata": {}
  },
  {
   "cell_type": "code",
   "execution_count": 75,
   "source": [
    "# df_counts_pwid_sort[df_counts_pwid_sort['counts']>10]"
   ],
   "outputs": [],
   "metadata": {}
  },
  {
   "cell_type": "code",
   "execution_count": 61,
   "source": [
    "import random"
   ],
   "outputs": [],
   "metadata": {}
  },
  {
   "cell_type": "code",
   "execution_count": 62,
   "source": [
    "protein_node_index = list(all_nodes_df[all_nodes_df['class'] == 'protein'].index)\n",
    "mets_node_index = list(all_nodes_df[all_nodes_df['class'] == 'metabolite'].index)"
   ],
   "outputs": [],
   "metadata": {}
  },
  {
   "cell_type": "code",
   "execution_count": 63,
   "source": [
    "def creat_false_edges(true_edges,N):\n",
    "    node_list = []\n",
    "    result = []\n",
    "    for i,k in true_edges:\n",
    "        node_list.append(i)\n",
    "        node_list.append(k)\n",
    "    node_list = list(set(node_list))\n",
    "    while len(result) < N:\n",
    "        elt1, elt2 = random.sample(node_list, 2)\n",
    "        if [elt1, elt2] not in true_edges and [elt1, elt2] not in result and [elt2, elt1] not in result and adj_orig[elt1, elt2] == 0 and adj_orig[elt2, elt1] == 0:\n",
    "            # if (elt1 in protein_node_index and elt2 in mets_node_index) or (elt2 in protein_node_index and elt1 in mets_node_index):\n",
    "                if elt1 < elt2:\n",
    "                    result.append([elt1, elt2])\n",
    "                else:\n",
    "                    result.append([elt2, elt1])\n",
    "    return np.array(result)"
   ],
   "outputs": [],
   "metadata": {}
  },
  {
   "cell_type": "code",
   "execution_count": 64,
   "source": [
    "df_counts_pwid_sort[df_counts_pwid_sort['counts']>=5]"
   ],
   "outputs": [
    {
     "output_type": "execute_result",
     "data": {
      "text/html": [
       "<div>\n",
       "<style scoped>\n",
       "    .dataframe tbody tr th:only-of-type {\n",
       "        vertical-align: middle;\n",
       "    }\n",
       "\n",
       "    .dataframe tbody tr th {\n",
       "        vertical-align: top;\n",
       "    }\n",
       "\n",
       "    .dataframe thead th {\n",
       "        text-align: right;\n",
       "    }\n",
       "</style>\n",
       "<table border=\"1\" class=\"dataframe\">\n",
       "  <thead>\n",
       "    <tr style=\"text-align: right;\">\n",
       "      <th></th>\n",
       "      <th>counts</th>\n",
       "    </tr>\n",
       "  </thead>\n",
       "  <tbody>\n",
       "    <tr>\n",
       "      <th>PW000266</th>\n",
       "      <td>65</td>\n",
       "    </tr>\n",
       "    <tr>\n",
       "      <th>PW000429</th>\n",
       "      <td>65</td>\n",
       "    </tr>\n",
       "    <tr>\n",
       "      <th>PW000267</th>\n",
       "      <td>65</td>\n",
       "    </tr>\n",
       "    <tr>\n",
       "      <th>PW000511</th>\n",
       "      <td>53</td>\n",
       "    </tr>\n",
       "    <tr>\n",
       "      <th>PW000052</th>\n",
       "      <td>53</td>\n",
       "    </tr>\n",
       "    <tr>\n",
       "      <th>...</th>\n",
       "      <td>...</td>\n",
       "    </tr>\n",
       "    <tr>\n",
       "      <th>PW000240</th>\n",
       "      <td>5</td>\n",
       "    </tr>\n",
       "    <tr>\n",
       "      <th>PW000444</th>\n",
       "      <td>5</td>\n",
       "    </tr>\n",
       "    <tr>\n",
       "      <th>PW000014</th>\n",
       "      <td>5</td>\n",
       "    </tr>\n",
       "    <tr>\n",
       "      <th>PW000642</th>\n",
       "      <td>5</td>\n",
       "    </tr>\n",
       "    <tr>\n",
       "      <th>PW000598</th>\n",
       "      <td>5</td>\n",
       "    </tr>\n",
       "  </tbody>\n",
       "</table>\n",
       "<p>397 rows × 1 columns</p>\n",
       "</div>"
      ],
      "text/plain": [
       "          counts\n",
       "PW000266      65\n",
       "PW000429      65\n",
       "PW000267      65\n",
       "PW000511      53\n",
       "PW000052      53\n",
       "...          ...\n",
       "PW000240       5\n",
       "PW000444       5\n",
       "PW000014       5\n",
       "PW000642       5\n",
       "PW000598       5\n",
       "\n",
       "[397 rows x 1 columns]"
      ]
     },
     "metadata": {},
     "execution_count": 64
    }
   ],
   "metadata": {}
  },
  {
   "cell_type": "code",
   "execution_count": 66,
   "source": [
    "random_test_edges_false = test_edges_false[[random.randint(0, len(test_edges_false)) for _ in range(10)]]\n",
    "random_test_edges_false"
   ],
   "outputs": [
    {
     "output_type": "execute_result",
     "data": {
      "text/plain": [
       "array([[ 231, 1811],\n",
       "       [1486, 1660],\n",
       "       [ 417, 2190],\n",
       "       [ 652, 1165],\n",
       "       [ 345, 1689],\n",
       "       [1188, 1304],\n",
       "       [ 849, 1136],\n",
       "       [2220, 2301],\n",
       "       [ 434, 1147],\n",
       "       [1239, 1390]])"
      ]
     },
     "metadata": {},
     "execution_count": 66
    }
   ],
   "metadata": {}
  },
  {
   "cell_type": "code",
   "execution_count": 1148,
   "source": [
    "# pwid_test = list(df_counts_pwid_sort.index)[42]\n",
    "# test_edges_pwid = np.array(test_pwid_edges[pwid_test])\n",
    "# # test_edges_pwid = np.array(all_pwid_edges[pwid_test])\n",
    "# n = len(test_edges_pwid)\n",
    "# all_edges_pwid = np.array(all_pwid_edges[pwid_test])\n",
    "# # all_edges_pwid = np.array(test_pwid_edges[pwid_test])\n",
    "# all_edges_pwid.shape\n",
    "# test_edges_pwid_false = creat_false_edges(all_edges_pwid,n)"
   ],
   "outputs": [],
   "metadata": {}
  },
  {
   "cell_type": "code",
   "execution_count": 71,
   "source": [
    "pwid_roc_result = []\n",
    "pwid_ap_result = []\n",
    "for i in range(400):\n",
    "    pwid_test = list(df_counts_pwid_sort.index)[i]\n",
    "    try:\n",
    "        test_edges_pwid = np.array(test_pwid_edges[pwid_test])\n",
    "        # test_edges_pwid = np.array(all_pwid_edges[pwid_test])\n",
    "        n = len(test_edges_pwid)\n",
    "        # all_edges_pwid = np.array(all_pwid_edges[pwid_test])\n",
    "        # test_edges_pwid_false = creat_false_edges(all_edges_pwid,n)\n",
    "        test_edges_pwid_false = test_edges_false[[random.randint(0, len(test_edges_false)-1) for _ in range(n)]]\n",
    "        # # test_edges_pwid_false = creat_false_edges(test_edges_pwid)\n",
    "        # test_edges_pwid_false = test_edges_false[[random.randint(0, len(test_edges_false)-1) for _ in range(n)]]\n",
    "        pwid_feature_roc_score, pwid_feature_ap_score, pwid_feature_fpr, pwid_feature_tpr, pwid_feature_pr_score, pwid_feature_prcs, pwid_feature_rcal = get_roc_score(test_edges_pwid, test_edges_pwid_false)\n",
    "        pwid_roc_result.append([n,pwid_feature_roc_score])\n",
    "        pwid_ap_result.append([n,pwid_feature_ap_score])\n",
    "        print(pwid_test,i,n,pwid_feature_roc_score,pwid_feature_ap_score, pwid_feature_pr_score)\n",
    "    except:\n",
    "        print(pwid_test)"
   ],
   "outputs": [
    {
     "output_type": "stream",
     "name": "stdout",
     "text": [
      "PW000266 0 65 0.8899408284023669 0.866885705066881 0.8636203401756948\n",
      "PW000429 1 65 0.9176331360946746 0.931036225503425 0.9305010665309204\n",
      "PW000267 2 65 0.9105325443786982 0.9099281459420452 0.9089708810725827\n",
      "PW000511 3 53 0.9077963688145247 0.9165206308336966 0.9156932385116523\n",
      "PW000052 4 53 0.9006763972944107 0.9015548021183732 0.9004483986834453\n",
      "PW000513 5 53 0.9152723389106443 0.9220796770143527 0.9212441682350369\n",
      "PW000489 6 53 0.9234603061587754 0.9315966999512886 0.9309196014745698\n",
      "PW000082 7 53 0.901388394446422 0.8772533023860821 0.8735761066342191\n",
      "PW000080 8 53 0.905304378782485 0.8840333197183274 0.8804689238638217\n",
      "PW000081 9 53 0.9295122819508722 0.9373670819390787 0.9367308490487458\n",
      "PW000078 10 53 0.9060163759344962 0.9081319649506352 0.9070853694641036\n",
      "PW000512 11 53 0.911000355998576 0.9127075912019296 0.9117213389649306\n",
      "PW000075 12 53 0.8928444286222856 0.8693197516178465 0.8655523937870976\n",
      "PW000077 13 53 0.9327162691349233 0.9465186653734394 0.9460677753214205\n",
      "PW000076 14 53 0.8924884300462799 0.8714829731776508 0.8677883596010851\n",
      "PW000079 15 53 0.9209683161267355 0.8928967923824105 0.8893672026276521\n",
      "PW000488 16 53 0.9302242791028835 0.9384192074314035 0.9378267556903173\n",
      "PW000498 17 37 0.975164353542732 0.977122100987392 0.9768202742743741\n",
      "PW000500 18 37 0.9488677867056245 0.9316383318289194 0.9297743914060168\n",
      "PW000064 19 37 0.933528122717312 0.9150998646667157 0.9129743095428244\n",
      "PW000062 20 37 0.970781592403214 0.973175523191594 0.9728258714553105\n",
      "PW000051 21 37 0.970781592403214 0.9726149653464944 0.9722512387747846\n",
      "PW000066 22 37 0.9327976625273924 0.9390244024003094 0.9382293423085835\n",
      "PW000067 23 37 0.9510591672753835 0.9534684472874675 0.9528277361017556\n",
      "PW000069 24 37 0.9510591672753834 0.958343501473397 0.9578444319642321\n",
      "PW000499 25 37 0.95836376917458 0.959503317196096 0.9589326258287991\n",
      "PW000068 26 37 0.970781592403214 0.9741494326209135 0.9738272850274456\n",
      "PW000060 27 37 0.9576333089846603 0.9606494391544298 0.960123437062322\n",
      "PW000065 28 37 0.9371804236669101 0.8818439918481901 0.868311323887519\n",
      "PW000091 29 37 0.9452154857560264 0.9531475209744451 0.9525754372416526\n",
      "PW000214 30 37 0.9320672023374726 0.9120482298903265 0.90963490939386\n",
      "PW000061 31 37 0.9590942293644996 0.9656129840038916 0.9651856665327903\n",
      "PW000497 32 37 0.9152666179693206 0.8782948734537362 0.8748480678863658\n",
      "PW000063 33 37 0.9503287070854638 0.9539273621478945 0.953309757804764\n",
      "PW000431 34 31 0.9177939646201874 0.937356622918653 0.9365000785360196\n",
      "PW000071 35 30 0.9144444444444444 0.9119670092515899 0.9102657906657806\n",
      "PW000072 36 30 0.9344444444444444 0.9369544407867363 0.9358389012815478\n",
      "PW000003 37 30 0.9288888888888889 0.92981746212499 0.9285243448639816\n",
      "PW000212 38 30 0.9466666666666667 0.9446347207851645 0.9434754757161881\n",
      "PW000070 39 30 0.9522222222222223 0.9163506705152139 0.9112218460385636\n",
      "PW000543 40 30 0.9422222222222222 0.9433077032296361 0.9422473226270279\n",
      "PW000630 41 29 0.9702734839476813 0.97301083495049 0.9725700875641901\n",
      "PW000189 42 28 0.9693877551020408 0.971169364297443 0.970657036735426\n",
      "PW000160 43 28 0.9323979591836735 0.9345107426405934 0.9332982352677104\n",
      "PW000187 44 28 0.9489795918367347 0.9463380525962448 0.9452085860884724\n",
      "PW000188 45 28 0.9770408163265306 0.9761899609021585 0.9757261067640828\n",
      "PW000190 46 28 0.957908163265306 0.9514961840252327 0.9503283297785607\n",
      "PW000131 47 27 0.9835390946502057 0.982825141995834 0.98247434974849\n",
      "PW000271 48 26 0.908284023668639 0.941271000166881 0.940444484950831\n",
      "PW000275 49 26 0.8890532544378698 0.9352306932198236 0.9344330225955346\n",
      "PW000486 50 26 0.8668639053254438 0.9127599831995435 0.911483660397383\n",
      "PW000127 51 26 0.8994082840236687 0.9345853955350522 0.9336498353531459\n",
      "PW000099 52 26 0.8846153846153846 0.9269355419022914 0.9259263094624841\n",
      "PW000134 53 26 0.9142011834319527 0.9506473256473256 0.9500779801737392\n",
      "PW000098 54 26 0.8786982248520709 0.9144494109878725 0.9131153932701209\n",
      "PW000133 55 26 0.9082840236686389 0.9482905982905983 0.947710572484328\n",
      "PW000097 56 26 0.893491124260355 0.9398341694537345 0.9391318201747669\n",
      "PW000484 57 26 0.8816568047337279 0.9170557835515011 0.915688888776312\n",
      "PW000274 58 26 0.8875739644970414 0.9278264930028617 0.9268091509727103\n",
      "PW000050 59 26 0.8905325443786982 0.9367869364677874 0.9360233447512382\n",
      "PW000126 60 26 0.9038461538461537 0.9420277557819363 0.9412900688109198\n",
      "PW000487 61 26 0.8934911242603549 0.9312201934856396 0.9302402897794915\n",
      "PW000096 62 26 0.8831360946745562 0.9335172798216276 0.9327183353325113\n",
      "PW000272 63 26 0.8668639053254437 0.8999201008438714 0.8981308036631773\n",
      "PW000221 64 26 0.8890532544378698 0.9323447609214929 0.9314273114595645\n",
      "PW000137 65 26 0.9068047337278106 0.9416309303851109 0.9408470355212886\n",
      "PW000273 66 26 0.8402366863905325 0.8332047931933325 0.8275701727545367\n",
      "PW000270 67 26 0.903846153846154 0.9469551282051282 0.9463732942188582\n",
      "PW000485 68 26 0.8934911242603549 0.9276739738178826 0.926592000716755\n",
      "PW000269 69 26 0.9068047337278107 0.945446779806135 0.9447943868941412\n",
      "PW000095 70 26 0.8890532544378699 0.9296567810526619 0.9286722529455276\n",
      "PW000163 71 25 0.968 0.9657165484490833 0.9649287038375545\n",
      "PW000178 72 24 0.9635416666666666 0.9708117043628721 0.9703076721048076\n",
      "PW000694 73 24 0.9079861111111112 0.8774036817852777 0.8706539187425495\n",
      "PW000210 74 24 0.9131944444444445 0.9066995092405832 0.9029915056907785\n",
      "PW000164 75 24 0.8819444444444444 0.8298908560121795 0.8090271323542078\n",
      "PW000177 76 24 0.9635416666666666 0.9692750598664575 0.9687075427747933\n",
      "PW000141 77 24 0.9618055555555556 0.969902073732719 0.9693895075951527\n",
      "PW000552 78 24 0.9548611111111112 0.9658065025252525 0.9652483627290703\n",
      "PW000380 79 24 0.9166666666666666 0.9578900709219857 0.9574371723712611\n",
      "PW000695 80 24 0.9548611111111112 0.9658065025252525 0.9652483627290703\n",
      "PW000179 81 24 0.9565972222222223 0.9650770376576828 0.9644602284849261\n",
      "PW000553 82 24 0.9600694444444445 0.9687731738969224 0.9682463539735507\n",
      "PW000551 83 24 0.9392361111111112 0.9551952030812324 0.9544751396058657\n",
      "PW000542 84 24 0.9496527777777778 0.963167388167388 0.9625859549018143\n",
      "PW000554 85 24 0.96875 0.973666512390094 0.9731824625442533\n",
      "PW000192 86 23 0.9300567107750473 0.9555342131429088 0.9548852782548434\n",
      "PW000195 87 23 0.9168241965973535 0.9404366927493994 0.939372123943831\n",
      "PW000461 88 23 0.829867674858223 0.8593676838671116 0.8562671010933112\n",
      "PW000460 89 23 0.8941398865784499 0.901907623658402 0.89950231112309\n",
      "PW000157 90 23 0.8525519848771267 0.8775975434275429 0.8750749035318526\n",
      "PW000698 91 23 0.7863894139886579 0.7927459480468142 0.7857467943005163\n",
      "PW000209 92 23 0.8431001890359168 0.8653561593728506 0.8623994486341163\n",
      "PW000145 93 23 0.8979206049149338 0.9131550459384388 0.9111737858622131\n",
      "PW000199 94 23 0.8771266540642721 0.8199223505183386 0.7979804488572851\n",
      "PW000198 95 23 0.8204158790170133 0.8392531913945478 0.8356234646606862\n",
      "PW000196 96 23 0.8582230623818526 0.869336234188372 0.8661587788635148\n",
      "PW000193 97 23 0.9338374291115311 0.9576570048309179 0.9570336306205872\n",
      "PW000194 98 23 0.8846880907372401 0.9118032274689206 0.9101070077674955\n",
      "PW000697 99 23 0.8979206049149338 0.9199146086933809 0.9181775526726837\n",
      "PW000197 100 23 0.9300567107750473 0.949732809136461 0.9488688513967642\n",
      "PW000117 101 21 0.9954648526077097 0.9955679241393529 0.995459699031128\n",
      "PW000116 102 21 0.9863945578231292 0.9860589188637574 0.9856980366979793\n",
      "PW000501 103 21 0.9319727891156462 0.9125244300489697 0.9084985723940797\n",
      "PW000138 104 21 0.9501133786848073 0.95443613522825 0.9533610088416529\n",
      "PW000202 105 21 0.9546485260770975 0.9668077536498589 0.9661851355272408\n",
      "PW000502 106 21 0.9365079365079365 0.9447793861761065 0.9434827460687298\n",
      "PW000616 107 21 0.909297052154195 0.9263875856856154 0.9248535541986247\n",
      "PW000148 108 21 0.9546485260770975 0.956681228301135 0.9556109897826564\n",
      "PW000203 109 21 0.9546485260770975 0.9646502337504039 0.9639502113574394\n",
      "PW000201 110 21 0.9591836734693877 0.9712852733686066 0.9707838395674417\n",
      "PW000535 111 21 0.9886621315192744 0.9880352034487376 0.987716894306899\n",
      "PW000470 112 21 0.9433106575963719 0.9538626876410674 0.9528724777872166\n",
      "PW000207 113 21 0.9569160997732427 0.9605581413852093 0.9596316032981549\n",
      "PW000115 114 21 0.9795918367346939 0.9797795375460125 0.9792664989972597\n",
      "PW000208 115 21 0.9410430839002267 0.9468455539803797 0.9456114850092827\n",
      "PW000149 116 21 0.9433106575963719 0.9518611239308843 0.9507850650452903\n",
      "PW000478 117 21 0.9342403628117915 0.9361990522704811 0.9345548275410096\n",
      "PW000534 118 21 0.9523809523809523 0.9576670281639226 0.956718859730465\n",
      "PW000249 119 21 0.9750566893424035 0.9680506711742893 0.9669684200920383\n",
      "PW000581 120 21 1.0 1.0000000000000002 1.0000000000000002\n",
      "PW000580 121 21 0.9319727891156463 0.9469863696221825 0.9456652942592955\n",
      "PW000248 122 21 0.9523809523809523 0.9761904761904763 0.9759001161440186\n",
      "PW000474 123 21 0.9297052154195011 0.9505929227291456 0.9497173533716718\n",
      "PW000182 124 21 0.9229024943310656 0.944673839352757 0.9436390516402753\n",
      "PW000509 125 21 0.909297052154195 0.9334039171224047 0.9321219657625188\n",
      "PW000180 126 21 0.909297052154195 0.9355456053985469 0.9343253128751983\n",
      "PW000181 127 21 0.9206349206349206 0.9437076540017717 0.9426842352047087\n",
      "PW000142 128 21 0.909297052154195 0.9304676202029287 0.9290400548215747\n",
      "PW000054 129 21 0.9705215419501134 0.971778953474 0.9710755563420315\n",
      "PW000536 130 20 0.9375 0.9567818740399388 0.9559915117326132\n",
      "PW000549 131 20 0.8925000000000001 0.9263847059802943 0.9249962745587746\n",
      "PW000538 132 20 0.9400000000000001 0.958924731182796 0.9581813613566734\n",
      "PW000539 133 20 0.9400000000000001 0.9618951612903226 0.9612701612903225\n",
      "PW000205 134 20 0.9025000000000001 0.929095982006283 0.9276068765620271\n",
      "PW000152 135 20 0.8875 0.8275115201206906 0.8030323380970039\n",
      "PW000550 136 20 0.935 0.9524446110278197 0.9515206380130539\n",
      "PW000557 137 20 0.9575 0.9682678919521026 0.9676453419874473\n",
      "PW000585 138 19 0.9196675900277008 0.9436674436674437 0.9425378719148068\n",
      "PW000093 139 19 0.9778393351800554 0.9789236671752557 0.9783636385386016\n",
      "PW000059 140 19 0.8808864265927977 0.91393622084106 0.9119391257643967\n",
      "PW000541 141 19 0.9196675900277008 0.9514699267021245 0.9506076727477653\n",
      "PW000156 142 19 0.9445983379501384 0.957363140292202 0.9564606770041553\n",
      "PW000045 143 19 0.9113573407202217 0.9477005563265835 0.9468056943269121\n",
      "PW000094 144 19 0.9390581717451524 0.8557866433803374 0.8306011305787254\n",
      "PW000002 145 19 0.9501385041551247 0.953241269573424 0.9520051187238274\n",
      "PW002452 146 18 0.9753086419753086 0.9780960894824919 0.9775129635370472\n",
      "PW000537 147 18 0.9351851851851851 0.9445720573429552 0.9430744521280299\n",
      "PW000702 148 18 0.9290123456790124 0.9410036722536723 0.9394645146655382\n",
      "PW000025 149 18 0.8950617283950617 0.9163565973423546 0.9142792238897497\n",
      "PW000495 150 18 0.8858024691358024 0.9246797549429129 0.92312919644791\n",
      "PW000628 151 18 1.0 1.0 1.0\n",
      "PW000055 152 18 0.808641975308642 0.8245638620638622 0.8171433375896741\n",
      "PW000494 153 18 0.7870370370370371 0.7561662212868353 0.7277829677357479\n",
      "PW000496 154 18 0.845679012345679 0.8828792004623208 0.8798078359860921\n",
      "PW000143 155 18 0.9814814814814814 0.9824236517218974 0.981933455643466\n",
      "PW000517 156 17 1.0 1.0 1.0\n",
      "PW000088 157 17 0.9688581314878892 0.9753668057612062 0.9747600517219579\n",
      "PW000085 158 17 0.986159169550173 0.9872721018231854 0.9869078694429267\n",
      "PW000086 159 17 0.944636678200692 0.9435832227627894 0.9417334433611069\n",
      "PW000481 160 17 0.9480968858131488 0.9503957979736528 0.9488386158550974\n",
      "PW000084 161 17 0.9930795847750865 0.9938080495356036 0.9936360509115927\n",
      "PW000083 162 17 0.9342560553633217 0.9345776772247362 0.9324741268262485\n",
      "PW000483 163 17 0.9896193771626297 0.990347841923147 0.9900677118112466\n",
      "PW000087 164 17 0.9446366782006921 0.9423189161351609 0.9403869668848726\n",
      "PW000151 165 17 0.8650519031141868 0.8979790906261494 0.8951188293316321\n",
      "PW000108 166 17 1.0 1.0 1.0\n",
      "PW002451 167 17 0.9307958477508651 0.9414835164835165 0.9398832081679707\n",
      "PW000010 168 17 0.9273356401384083 0.9182041334290469 0.9148955164708217\n",
      "PW000518 169 17 0.9930795847750865 0.9932718185313342 0.9930675701653211\n",
      "PW000107 170 17 0.9826989619377162 0.9835956312349501 0.9831088498350837\n",
      "PW000023 171 17 1.0 1.0 1.0\n",
      "PW000516 172 17 1.0 1.0 1.0\n",
      "PW000514 173 17 0.9896193771626297 0.9895953479430989 0.989268550557478\n",
      "PW000106 174 17 1.0 1.0 1.0\n",
      "PW000521 175 17 0.930795847750865 0.9276572619998227 0.9251801664613539\n",
      "PW000515 176 17 1.0 1.0 1.0\n",
      "PW000048 177 17 0.889273356401384 0.9394607843137255 0.9384193097301617\n",
      "PW000480 178 17 0.9446366782006921 0.9423189161351609 0.9403869668848726\n",
      "PW000150 179 17 0.889273356401384 0.8521546935833951 0.8426030236331183\n",
      "PW000531 180 17 0.9515570934256055 0.9666783380018675 0.9659356062686513\n",
      "PW000533 181 17 0.9515570934256055 0.9652491113404427 0.9644495933776119\n",
      "PW000528 182 17 0.9688581314878892 0.9744423131571469 0.9737787742780597\n",
      "PW000529 183 17 0.9100346020761245 0.8711432515376518 0.8621814586502851\n",
      "PW000089 184 17 0.9896193771626297 0.990347841923147 0.9900677118112466\n",
      "PW000530 185 17 0.9411764705882353 0.9558284852402499 0.9547827547308516\n",
      "PW000482 186 17 0.9896193771626297 0.9895953479430989 0.989268550557478\n",
      "PW000532 187 17 0.9342560553633218 0.9484755440637793 0.9471847155151654\n",
      "PW000159 188 16 0.9921875 0.9924172794117647 0.992172181372549\n",
      "PW000625 189 16 0.98046875 0.9827786377708978 0.9822747355521155\n",
      "PW000200 190 16 0.95703125 0.9599988553113554 0.9587310949177241\n",
      "PW002366 191 16 0.953125 0.960453216374269 0.9593502751977985\n",
      "PW000015 192 16 1.0 1.0 1.0\n",
      "PW000672 193 15 0.9777777777777779 0.9805555555555555 0.9799509803921568\n",
      "PW000258 194 15 0.9911111111111112 0.992156862745098 0.9919117647058823\n",
      "PW000044 195 15 0.9644444444444444 0.96510989010989 0.9638559642971407\n",
      "PW002359 196 15 0.9555555555555556 0.9573826173826172 0.9558329097802781\n",
      "PW000130 197 15 0.9911111111111112 0.992156862745098 0.9919117647058823\n",
      "PW000686 198 15 0.9644444444444444 0.9642508798391152 0.9629443432384608\n",
      "PW000680 199 15 1.0 1.0 1.0\n",
      "PW000277 200 15 0.9777777777777777 0.9759432234432234 0.9749962537462536\n",
      "PW000681 201 15 0.9911111111111112 0.9913888888888889 0.9910912698412697\n",
      "PW000101 202 15 0.9466666666666668 0.9415438374261903 0.9390636786960316\n",
      "PW000546 203 15 0.9466666666666668 0.9545014245014245 0.9530959626315663\n",
      "PW000103 204 15 0.9688888888888889 0.9723622782446312 0.9714846836170365\n",
      "PW000102 205 15 0.9111111111111111 0.914613997113997 0.911420330758566\n",
      "PW000100 206 15 0.9911111111111112 0.9913888888888889 0.9910912698412697\n",
      "PW000104 207 15 0.9777777777777779 0.9805555555555555 0.9799509803921568\n",
      "PW000105 208 15 0.9733333333333334 0.9749346405228758 0.974094304388422\n",
      "PW000056 209 15 0.9644444444444444 0.9682352941176471 0.9672233893557423\n",
      "PW000678 210 15 0.9822222222222222 0.9814987789987789 0.9808043345543345\n",
      "PW000118 211 15 0.9866666666666667 0.9866269841269841 0.9861462148962148\n",
      "PW000684 212 15 0.9733333333333334 0.9722667528549882 0.9712135740076916\n",
      "PW000677 213 15 0.9955555555555555 0.9958333333333333 0.9956944444444444\n",
      "PW000673 214 15 0.9422222222222223 0.939159174159174 0.9367700872112636\n",
      "PW000260 215 15 0.9600000000000001 0.9636144849302744 0.9624157080736027\n",
      "PW000683 216 15 1.0 1.0 1.0\n",
      "PW000261 217 15 1.0 1.0 1.0\n",
      "PW000259 218 15 1.0 1.0 1.0\n",
      "PW000139 219 15 0.9733333333333334 0.9722667528549882 0.9712135740076916\n",
      "PW000682 220 15 0.9644444444444444 0.96510989010989 0.9638559642971407\n",
      "PW000125 221 15 0.9866666666666667 0.9877124183006536 0.9873085901027077\n",
      "PW000263 222 15 0.9600000000000001 0.9590492840492839 0.9574923279335044\n",
      "PW000670 223 15 0.9911111111111112 0.9913888888888889 0.9910912698412697\n",
      "PW000687 224 15 0.9866666666666667 0.9877124183006536 0.9873085901027077\n",
      "PW000669 225 15 0.9822222222222222 0.9829505135387488 0.9823635351576527\n",
      "PW000264 226 15 1.0 1.0 1.0\n",
      "PW000679 227 15 1.0 1.0 1.0\n",
      "PW000671 228 15 0.9822222222222222 0.9814987789987789 0.9808043345543345\n",
      "PW000685 229 15 0.9866666666666667 0.9866269841269841 0.9861462148962148\n",
      "PW000675 230 15 0.9955555555555555 0.9958333333333333 0.9956944444444444\n",
      "PW000674 231 15 1.0 1.0 1.0\n",
      "PW000262 232 15 0.9911111111111112 0.992156862745098 0.9919117647058823\n",
      "PW000128 233 15 0.9600000000000001 0.9581902737785091 0.9565807068748244\n",
      "PW000132 234 15 1.0 1.0 1.0\n",
      "PW000135 235 15 0.92 0.8304514004514004 0.7988944443356208\n",
      "PW000136 236 15 1.0 1.0 1.0\n",
      "PW000129 237 15 0.9688888888888889 0.9706654456654455 0.9696640451052214\n",
      "PW000276 238 15 0.9822222222222223 0.9844444444444445 0.9839589169000933\n",
      "PW000676 239 15 0.9644444444444444 0.9677414690572584 0.966677002334897\n",
      "PW000265 240 15 0.9733333333333334 0.9722667528549882 0.9712135740076916\n",
      "PW000519 241 14 0.9081632653061225 0.9127258479149234 0.9090870847173367\n",
      "PW000701 242 14 0.9438775510204082 0.9593837535014005 0.9582633053221288\n",
      "PW000024 243 14 0.9336734693877551 0.9472832722832722 0.9456362952492983\n",
      "PW000268 244 14 0.9285714285714286 0.9414433605610075 0.93949873655756\n",
      "PW002363 245 14 0.9336734693877551 0.9359046707260992 0.9334195478890857\n",
      "PW000558 246 14 0.9591836734693878 0.9740259740259738 0.9734075448361161\n",
      "PW000626 247 14 1.0 0.9999999999999998 0.9999999999999998\n",
      "PW000168 248 14 0.9642857142857143 0.976190476190476 0.975595238095238\n",
      "PW000165 249 14 0.7959183673469387 0.8729070929070928 0.869579018864733\n",
      "PW122323 250 14 0.8622448979591837 0.792997956758461 0.7586951888285466\n",
      "PW000008 251 13 0.9053254437869822 0.9064168737245659 0.9018788678707705\n",
      "PW002360 252 13 0.9230769230769231 0.935382161697951 0.9329979961558907\n",
      "PW000566 253 13 0.9704142011834319 0.9674927636466095 0.965966512120358\n",
      "PW000286 254 13 0.9881656804733727 0.9897435897435896 0.9893772893772892\n",
      "PW000586 255 13 0.9644970414201183 0.9662564999103461 0.9648881567150798\n",
      "PW000426 256 13 1.0 0.9999999999999998 0.9999999999999998\n",
      "PW000124 257 13 0.8698224852071007 0.9141766414363666 0.9118280254578879\n",
      "PW122325 258 13 0.9171597633136096 0.9556213017751478 0.9546055226824457\n",
      "PW000215 259 13 0.9467455621301776 0.9558091481168403 0.9542649406902799\n",
      "PW000123 260 13 0.9289940828402368 0.9458579881656803 0.9441069389449954\n",
      "PW000009 261 13 0.8698224852071005 0.8516178266178265 0.8406121656121655\n",
      "PW000250 262 13 0.9644970414201184 0.9653513153513151 0.963921335075181\n",
      "PW000582 263 13 0.9881656804733728 0.9885883347421807 0.9881304592843052\n",
      "PW000611 264 13 0.9644970414201184 0.9757085020242913 0.9750337381916327\n",
      "PW000507 265 12 0.9027777777777779 0.9144149831649833 0.9106398367427779\n",
      "PW000618 266 12 1.0 1.0 1.0\n",
      "PW000548 267 12 0.9375 0.9411778036778036 0.9385287166537166\n",
      "PW000576 268 12 0.986111111111111 0.9866452991452993 0.9860625485625486\n",
      "PW000238 269 12 0.9791666666666667 0.9811507936507938 0.9803772616272618\n",
      "PW000146 270 12 0.9236111111111112 0.9488095238095239 0.9472455176402547\n",
      "nan 271 12 0.7847222222222221 0.8719257795344751 0.8682822008908966\n",
      "PW000185 272 11 0.884297520661157 0.8672484081574992 0.8590898999989909\n",
      "PW000446 273 11 0.9504132231404958 0.9471939676485133 0.9442499419772148\n",
      "PW000109 274 11 0.8925619834710743 0.8375869080414534 0.8181260658533385\n",
      "PW000469 275 11 0.9752066115702479 0.9750688705234161 0.9738062442607898\n",
      "PW000011 276 11 1.0 1.0 1.0\n",
      "PW000603 277 11 1.0 1.0 1.0\n",
      "PW122328 278 11 0.8760330578512395 0.9157254361799816 0.9122819100091828\n",
      "PW000184 279 11 0.9586776859504131 0.9536042240587697 0.9508985963531418\n",
      "PW000424 280 11 1.0 1.0 1.0\n",
      "PW000162 281 11 0.8677685950413223 0.8693722943722944 0.8620552427370609\n",
      "PW000186 282 11 0.8925619834710743 0.8696293605384515 0.8603886012976922\n",
      "PW000430 283 11 1.0 1.0 1.0\n",
      "PW000191 284 11 0.7685950413223139 0.7920961614143432 0.7819205415796325\n",
      "PW000043 285 11 0.7851239669421487 0.8349134310821618 0.8273142191485845\n",
      "PW000113 286 11 0.7851239669421488 0.865805109922757 0.861571989242268\n",
      "PW000183 287 11 0.9421487603305785 0.9403069153069155 0.9370874075419531\n",
      "PW000053 288 10 1.0 1.0 1.0\n",
      "PW000503 289 10 0.92 0.9443181818181818 0.9421590909090909\n",
      "PW000617 290 10 1.0 1.0 1.0\n",
      "PW000111 291 10 0.89 0.9122863247863248 0.9082264957264957\n",
      "PW000176 292 10 0.62 0.6034648684648685 0.5509586028007081\n",
      "PW000479 293 10 1.0 1.0 1.0\n",
      "PW000112 294 10 0.9500000000000001 0.9614285714285714 0.9597741147741147\n",
      "PW000547 295 10 0.93 0.9525000000000001 0.9506944444444445\n",
      "PW000504 296 10 0.89 0.9262626262626262 0.9233519013666072\n",
      "PW000211 297 10 0.77 0.8177272727272726 0.8084948165869218\n",
      "PW000175 298 10 0.8300000000000001 0.8753102453102453 0.8693948887369939\n",
      "PW000604 299 10 1.0 1.0 1.0\n",
      "PW000445 300 10 0.9500000000000001 0.9430122655122654 0.9392243867243867\n",
      "PW000021 301 10 0.9600000000000001 0.9651515151515152 0.9634848484848485\n",
      "PW000520 302 10 0.93 0.9588235294117647 0.9575367647058823\n",
      "PW000022 303 10 0.92 0.9555555555555555 0.9542483660130718\n",
      "PW000029 304 10 0.83 0.8830555555555556 0.8783158263305322\n",
      "PW000158 305 10 0.9 0.9500000000000001 0.9486842105263157\n",
      "PW000601 306 10 1.0 1.0 1.0\n",
      "PW000696 307 10 0.8400000000000001 0.8850135975135974 0.880167863182569\n",
      "PW031290 308 10 0.8500000000000001 0.9142857142857143 0.9115962984384037\n",
      "PW000174 309 10 0.8400000000000001 0.8850324675324674 0.8796131427052479\n",
      "PW000610 310 10 0.9 0.9500000000000001 0.9486842105263157\n",
      "PW000204 311 9 0.7407407407407407 0.811645398900301 0.8019867206141715\n",
      "PW000615 312 9 1.0 1.0 1.0\n",
      "PW000173 313 9 1.0 1.0 1.0\n",
      "PW000613 314 9 1.0 1.0 1.0\n",
      "PW002387 315 9 0.8148148148148148 0.8790784832451499 0.8740834011667346\n",
      "PW000241 316 9 0.9629629629629629 0.9626543209876544 0.960273368606702\n",
      "PW000506 317 9 0.8024691358024691 0.8703314659197012 0.86455116234528\n",
      "PW000505 318 9 0.6790123456790124 0.6613756613756614 0.6069842466901291\n",
      "PW000007 319 9 0.962962962962963 0.9674523007856342 0.9656705948372617\n",
      "PW000555 320 9 0.9753086419753085 0.9765432098765432 0.9751543209876543\n",
      "PW000471 321 9 0.9629629629629629 0.9626543209876544 0.960273368606702\n",
      "PW000144 322 9 0.7901234567901236 0.8670634920634921 0.861283188489071\n",
      "PW000049 323 9 1.0 1.0 1.0\n",
      "PW000242 324 9 1.0 1.0 1.0\n",
      "PW000472 325 9 0.925925925925926 0.9361111111111113 0.9326218534551869\n",
      "PW000031 326 9 0.9135802469135803 0.9170113836780505 0.9119007535674204\n",
      "PW000556 327 9 1.0 1.0 1.0\n",
      "PW000171 328 9 1.0 1.0 1.0\n",
      "PW000544 329 9 0.8888888888888888 0.7856701940035273 0.7356701940035274\n",
      "PW000577 330 8 1.0 1.0 1.0\n",
      "PW000245 331 8 0.96875 0.975 0.9736111111111111\n",
      "PW000243 332 8 1.0 1.0 1.0\n",
      "PW000508 333 8 0.953125 0.9526289682539683 0.949156746031746\n",
      "PW000040 334 8 0.984375 0.9861111111111112 0.9852430555555556\n",
      "PW000467 335 7 0.7346938775510204 0.7010204081632653 0.6370486656200941\n",
      "PW000464 336 7 0.7959183673469388 0.85578231292517 0.8453819989534275\n",
      "PW031778 337 7 1.0 0.9999999999999998 0.9999999999999998\n",
      "PW000140 338 7 0.8163265306122449 0.8843537414965985 0.8775248560962845\n",
      "PW000465 339 7 0.8367346938775511 0.9081632653061225 0.9037153322867608\n",
      "PW000466 340 7 0.8979591836734694 0.9404761904761902 0.9377705627705626\n",
      "PW000463 341 7 0.8571428571428571 0.9285714285714284 0.9258241758241756\n",
      "PW000244 342 7 1.0 0.9999999999999998 0.9999999999999998\n",
      "PW000462 343 7 0.7551020408163265 0.823469387755102 0.8111983254840396\n",
      "PW000247 344 7 0.8979591836734695 0.8736394557823131 0.8587585034013605\n",
      "PW000476 345 7 1.0 0.9999999999999998 0.9999999999999998\n",
      "PW000154 346 7 1.0 0.9999999999999998 0.9999999999999998\n",
      "PW000527 347 7 0.979591836734694 0.9821428571428572 0.9808673469387755\n",
      "PW000523 348 7 0.979591836734694 0.9821428571428572 0.9808673469387755\n",
      "PW000522 349 7 0.979591836734694 0.9821428571428572 0.9808673469387755\n",
      "PW000526 350 7 0.979591836734694 0.9821428571428572 0.9808673469387755\n",
      "PW000524 351 7 0.979591836734694 0.9821428571428572 0.9808673469387755\n",
      "PW000525 352 7 0.8775510204081632 0.9123376623376622 0.9071892393320964\n",
      "PW000414 353 7 1.0 0.9999999999999998 0.9999999999999998\n",
      "PW000005 354 7 0.8775510204081631 0.8976190476190475 0.8903061224489794\n",
      "PW000428 355 7 1.0 0.9999999999999998 0.9999999999999998\n",
      "PW000579 356 7 1.0 0.9999999999999998 0.9999999999999998\n",
      "PW000073 357 7 0.8367346938775511 0.8441043083900226 0.8314058956916099\n",
      "PW000004 358 7 1.0 0.9999999999999998 0.9999999999999998\n",
      "PW000074 359 7 0.9183673469387755 0.9093537414965986 0.9004251700680272\n",
      "PW000110 360 7 1.0 0.9999999999999998 0.9999999999999998\n",
      "PW000477 361 7 0.7346938775510203 0.6663265306122448 0.5992346938775509\n",
      "PW000620 362 7 0.8979591836734694 0.8954648526077098 0.885827664399093\n",
      "PW000381 363 6 0.8333333333333334 0.9166666666666666 0.9128787878787878\n",
      "PW000114 364 6 0.7777777777777778 0.8592592592592592 0.8509259259259259\n",
      "PW000172 365 6 1.0 1.0 1.0\n",
      "PW000058 366 6 0.888888888888889 0.9107142857142857 0.9037698412698413\n",
      "PW000412 367 6 1.0 1.0 1.0\n",
      "PW000057 368 6 0.7777777777777778 0.8592592592592593 0.850925925925926\n",
      "PW000001 369 6 0.8333333333333333 0.8819444444444444 0.8740079365079365\n",
      "PW000609 370 6 1.0 1.0 1.0\n",
      "PW000120 371 6 0.6388888888888888 0.6231481481481482 0.5467592592592593\n",
      "PW000042 372 6 0.75 0.8501683501683501 0.8417508417508417\n",
      "PW000119 373 6 0.75 0.8501683501683501 0.8417508417508417\n",
      "PW000121 374 6 0.8611111111111112 0.8968253968253969 0.8893849206349206\n",
      "PW000622 375 6 1.0 1.0 1.0\n",
      "PW000600 376 6 1.0 1.0 1.0\n",
      "PW000035 377 6 0.8333333333333334 0.8722222222222222 0.861574074074074\n",
      "PW000166 378 5 0.9600000000000001 0.9666666666666666 0.9633333333333334\n",
      "PW000239 379 5 1.0 1.0 1.0\n",
      "PW000411 380 5 1.0 1.0 1.0\n",
      "PW000624 381 5 1.0 1.0 1.0\n",
      "PW000026 382 5 0.56 0.6833333333333333 0.6456349206349206\n",
      "PW000046 383 5 0.68 0.8142857142857143 0.8015873015873016\n",
      "PW000122 384 5 1.0 1.0 1.0\n",
      "PW000006 385 5 1.0 1.0 1.0\n",
      "PW000599 386 5 0.9600000000000001 0.9666666666666666 0.9633333333333334\n",
      "PW075700 387 5 0.8400000000000001 0.9111111111111112 0.9055555555555557\n",
      "PW000016 388 5 0.9600000000000001 0.9666666666666666 0.9633333333333334\n",
      "PW021861 389 5 0.8 0.8711111111111112 0.8605555555555555\n",
      "PW000041 390 5 1.0 1.0 1.0\n",
      "PW015076 391 5 0.7600000000000001 0.8599999999999999 0.8494444444444444\n",
      "PW000240 392 5 1.0 1.0 1.0\n",
      "PW000444 393 5 0.9600000000000001 0.9666666666666666 0.9633333333333334\n",
      "PW000014 394 5 1.0 1.0 1.0\n",
      "PW000642 395 5 0.88 0.925 0.9196428571428572\n",
      "PW000598 396 5 1.0 1.0 1.0\n",
      "PW122411 397 4 1.0 1.0 1.0\n",
      "PW000012 398 4 0.625 0.775 0.7535714285714286\n",
      "PW000036 399 4 0.6875 0.8125 0.7931547619047619\n"
     ]
    }
   ],
   "metadata": {}
  },
  {
   "cell_type": "code",
   "execution_count": 104,
   "source": [
    "df_counts_pwid_sort.head(10)"
   ],
   "outputs": [
    {
     "output_type": "execute_result",
     "data": {
      "text/html": [
       "<div>\n",
       "<style scoped>\n",
       "    .dataframe tbody tr th:only-of-type {\n",
       "        vertical-align: middle;\n",
       "    }\n",
       "\n",
       "    .dataframe tbody tr th {\n",
       "        vertical-align: top;\n",
       "    }\n",
       "\n",
       "    .dataframe thead th {\n",
       "        text-align: right;\n",
       "    }\n",
       "</style>\n",
       "<table border=\"1\" class=\"dataframe\">\n",
       "  <thead>\n",
       "    <tr style=\"text-align: right;\">\n",
       "      <th></th>\n",
       "      <th>counts</th>\n",
       "    </tr>\n",
       "  </thead>\n",
       "  <tbody>\n",
       "    <tr>\n",
       "      <th>PW000429</th>\n",
       "      <td>49</td>\n",
       "    </tr>\n",
       "    <tr>\n",
       "      <th>PW000267</th>\n",
       "      <td>49</td>\n",
       "    </tr>\n",
       "    <tr>\n",
       "      <th>PW000266</th>\n",
       "      <td>49</td>\n",
       "    </tr>\n",
       "    <tr>\n",
       "      <th>PW000489</th>\n",
       "      <td>43</td>\n",
       "    </tr>\n",
       "    <tr>\n",
       "      <th>PW000081</th>\n",
       "      <td>43</td>\n",
       "    </tr>\n",
       "    <tr>\n",
       "      <th>PW000488</th>\n",
       "      <td>43</td>\n",
       "    </tr>\n",
       "    <tr>\n",
       "      <th>PW000511</th>\n",
       "      <td>43</td>\n",
       "    </tr>\n",
       "    <tr>\n",
       "      <th>PW000052</th>\n",
       "      <td>43</td>\n",
       "    </tr>\n",
       "    <tr>\n",
       "      <th>PW000512</th>\n",
       "      <td>43</td>\n",
       "    </tr>\n",
       "    <tr>\n",
       "      <th>PW000079</th>\n",
       "      <td>43</td>\n",
       "    </tr>\n",
       "  </tbody>\n",
       "</table>\n",
       "</div>"
      ],
      "text/plain": [
       "          counts\n",
       "PW000429      49\n",
       "PW000267      49\n",
       "PW000266      49\n",
       "PW000489      43\n",
       "PW000081      43\n",
       "PW000488      43\n",
       "PW000511      43\n",
       "PW000052      43\n",
       "PW000512      43\n",
       "PW000079      43"
      ]
     },
     "metadata": {},
     "execution_count": 104
    }
   ],
   "metadata": {}
  },
  {
   "cell_type": "code",
   "execution_count": 117,
   "source": [
    "# Purine Metabolism\n",
    "len(all_pwid_edges['PW000051'])"
   ],
   "outputs": [
    {
     "output_type": "execute_result",
     "data": {
      "text/plain": [
       "159"
      ]
     },
     "metadata": {},
     "execution_count": 117
    }
   ],
   "metadata": {}
  },
  {
   "cell_type": "code",
   "execution_count": 118,
   "source": [
    "def vae_pred(test,emb=None):\n",
    "    if emb is None:\n",
    "        feed_dict.update({placeholders['dropout']: 0})\n",
    "        emb = sess.run(model.z_mean, feed_dict=feed_dict)\n",
    "    \n",
    "    def sigmoid(x):\n",
    "        return 1 / (1 + np.exp(-x))\n",
    "\n",
    "    # Predict on test set of edges\n",
    "    adj_rec = np.dot(emb, emb.T)\n",
    "    preds_pos = []\n",
    "    pos = []\n",
    "    for e in test:\n",
    "        preds_pos.append(sigmoid(adj_rec[e[0], e[1]])) # predicted score for given edge\n",
    "        pos.append(adj_orig[e[0], e[1]]) # actual value (1)\n",
    "    return np.array(preds_pos),np.array(pos)"
   ],
   "outputs": [],
   "metadata": {}
  },
  {
   "cell_type": "code",
   "execution_count": 82,
   "source": [
    "pwid_test = list(df_counts_pwid_sort.index)[4]\n",
    "test_edges_pwid = np.array(test_pwid_edges[pwid_test])\n",
    "# test_edges_pwid = np.array(all_pwid_edges[pwid_test])\n",
    "n = len(test_edges_pwid)\n",
    "# all_edges_pwid = np.array(all_pwid_edges[pwid_test])\n",
    "# test_edges_pwid_false = creat_false_edges(all_edges_pwid,n)\n",
    "test_edges_pwid_false = test_edges_false[[random.randint(0, len(test_edges_false)-1) for _ in range(n)]]\n",
    "# # test_edges_pwid_false = creat_false_edges(test_edges_pwid)\n",
    "# test_edges_pwid_false = test_edges_false[[random.randint(0, len(test_edges_false)-1) for _ in range(n)]]\n",
    "pwid_feature_roc_score, pwid_feature_ap_score, pwid_feature_fpr, pwid_feature_tpr, pwid_feature_pr_score, pwid_feature_prcs, pwid_feature_rcal = get_roc_score(test_edges_pwid, test_edges_pwid_false)\n",
    "\n",
    "print(pwid_test,n,pwid_feature_roc_score,pwid_feature_ap_score, pwid_feature_pr_score)"
   ],
   "outputs": [
    {
     "output_type": "stream",
     "name": "stdout",
     "text": [
      "PW000052 53 201 0.7799928800284799 0.7449711127561449 0.7377701354938251\n"
     ]
    }
   ],
   "metadata": {}
  },
  {
   "cell_type": "code",
   "execution_count": null,
   "source": [
    "len()"
   ],
   "outputs": [],
   "metadata": {}
  },
  {
   "cell_type": "code",
   "execution_count": 130,
   "source": [
    "false_test_pred, test_neg = vae_pred(test_edges_pwid_false)"
   ],
   "outputs": [],
   "metadata": {}
  },
  {
   "cell_type": "code",
   "execution_count": 139,
   "source": [
    "len(false_test_pred[np.where(false_test_pred>0.5)])/len(test_edges_pwid_false)"
   ],
   "outputs": [
    {
     "output_type": "execute_result",
     "data": {
      "text/plain": [
       "0.6190476190476191"
      ]
     },
     "metadata": {},
     "execution_count": 139
    }
   ],
   "metadata": {}
  },
  {
   "cell_type": "code",
   "execution_count": 145,
   "source": [
    "false_nodes = test_edges_pwid_false[np.where(false_test_pred<0.5)]"
   ],
   "outputs": [
    {
     "output_type": "execute_result",
     "data": {
      "text/plain": [
       "array([[ 195,  746],\n",
       "       [  14,  740],\n",
       "       [  20,  755],\n",
       "       [  20,  718],\n",
       "       [ 711,  746],\n",
       "       [ 175,  743],\n",
       "       [ 712,  753],\n",
       "       [  11,  721],\n",
       "       [ 195,  743],\n",
       "       [ 111,  718],\n",
       "       [ 713,  753],\n",
       "       [ 712,  743],\n",
       "       [   9, 1129],\n",
       "       [ 108,  755],\n",
       "       [ 111,  732],\n",
       "       [ 711, 1222]], dtype=int32)"
      ]
     },
     "metadata": {},
     "execution_count": 145
    }
   ],
   "metadata": {}
  },
  {
   "cell_type": "code",
   "execution_count": 153,
   "source": [
    "all_nodes_df.loc[[11,  721]]"
   ],
   "outputs": [
    {
     "output_type": "execute_result",
     "data": {
      "text/html": [
       "<div>\n",
       "<style scoped>\n",
       "    .dataframe tbody tr th:only-of-type {\n",
       "        vertical-align: middle;\n",
       "    }\n",
       "\n",
       "    .dataframe tbody tr th {\n",
       "        vertical-align: top;\n",
       "    }\n",
       "\n",
       "    .dataframe thead th {\n",
       "        text-align: right;\n",
       "    }\n",
       "</style>\n",
       "<table border=\"1\" class=\"dataframe\">\n",
       "  <thead>\n",
       "    <tr style=\"text-align: right;\">\n",
       "      <th></th>\n",
       "      <th>node</th>\n",
       "      <th>features</th>\n",
       "      <th>dbid</th>\n",
       "      <th>class</th>\n",
       "    </tr>\n",
       "  </thead>\n",
       "  <tbody>\n",
       "    <tr>\n",
       "      <th>11</th>\n",
       "      <td>Adenosine triphosphate</td>\n",
       "      <td>[0.13576614792423913, 1.5834191939789528, 5.92...</td>\n",
       "      <td>PW_C000414</td>\n",
       "      <td>metabolite</td>\n",
       "    </tr>\n",
       "    <tr>\n",
       "      <th>721</th>\n",
       "      <td>Isobutyryl-CoA dehydrogenase, mitochondrial</td>\n",
       "      <td>[0.08214396, -0.015637632, -0.03176465, 0.1079...</td>\n",
       "      <td>Q9D7B6</td>\n",
       "      <td>protein</td>\n",
       "    </tr>\n",
       "  </tbody>\n",
       "</table>\n",
       "</div>"
      ],
      "text/plain": [
       "                                            node  \\\n",
       "11                        Adenosine triphosphate   \n",
       "721  Isobutyryl-CoA dehydrogenase, mitochondrial   \n",
       "\n",
       "                                              features        dbid       class  \n",
       "11   [0.13576614792423913, 1.5834191939789528, 5.92...  PW_C000414  metabolite  \n",
       "721  [0.08214396, -0.015637632, -0.03176465, 0.1079...      Q9D7B6     protein  "
      ]
     },
     "metadata": {},
     "execution_count": 153
    }
   ],
   "metadata": {}
  },
  {
   "cell_type": "code",
   "execution_count": 133,
   "source": [
    "true_test_pred, test_pos = vae_pred(test_edges_pwid)"
   ],
   "outputs": [],
   "metadata": {}
  },
  {
   "cell_type": "code",
   "execution_count": 138,
   "source": [
    "len(true_test_pred[np.where(true_test_pred>0.3)])/len(test_edges_pwid)"
   ],
   "outputs": [
    {
     "output_type": "execute_result",
     "data": {
      "text/plain": [
       "1.0"
      ]
     },
     "metadata": {},
     "execution_count": 138
    }
   ],
   "metadata": {}
  },
  {
   "cell_type": "code",
   "execution_count": 81,
   "source": [
    "c = 0\n",
    "for i in list(df_counts_pwid_sort.index)[:50]:\n",
    "    t = spec_mets_data_m[spec_mets_data_m['PW ID'] == i]['Pathway Name'].unique()\n",
    "    roc = pwid_roc_result[c][1]\n",
    "    if roc > 0.85:\n",
    "        print(c,i,t,roc,len(all_pwid_edges[i]))\n",
    "    c += 1"
   ],
   "outputs": [
    {
     "output_type": "stream",
     "name": "stdout",
     "text": [
      "0 PW000266 ['Azathioprine Action Pathway'] 0.8899408284023669 250\n",
      "1 PW000429 ['Thioguanine Action Pathway'] 0.9176331360946746 251\n",
      "2 PW000267 ['Mercaptopurine Action Pathway'] 0.9105325443786982 250\n",
      "3 PW000511 ['Adenine Phosphoribosyltransferase Deficiency (APRT)'] 0.9077963688145247 201\n",
      "4 PW000052 ['Purine Metabolism'] 0.9006763972944107 201\n",
      "5 PW000513 ['Myoadenylate Deaminase Deficiency'] 0.9152723389106443 201\n",
      "6 PW000489 ['Xanthinuria Type II'] 0.9234603061587754 201\n",
      "7 PW000082 ['AICA-Ribosiduria'] 0.901388394446422 201\n",
      "8 PW000080 ['Xanthine Dehydrogenase Deficiency (Xanthinuria)'] 0.905304378782485 201\n",
      "9 PW000081 ['Purine Nucleoside Phosphorylase Deficiency'] 0.9295122819508722 201\n",
      "10 PW000078 ['Lesch-Nyhan Syndrome (LNS)'] 0.9060163759344962 201\n",
      "11 PW000512 ['Mitochondrial DNA Depletion Syndrome-3'] 0.911000355998576 201\n",
      "12 PW000075 ['Adenosine Deaminase Deficiency'] 0.8928444286222856 201\n",
      "13 PW000077 ['Gout or Kelley-Seegmiller Syndrome'] 0.9327162691349233 201\n",
      "14 PW000076 ['Adenylosuccinate Lyase Deficiency'] 0.8924884300462799 201\n",
      "15 PW000079 ['Molybdenum Cofactor Deficiency'] 0.9209683161267355 201\n",
      "16 PW000488 ['Xanthinuria Type I'] 0.9302242791028835 201\n",
      "17 PW000498 ['3-Hydroxyisobutyric Aciduria'] 0.975164353542732 159\n",
      "18 PW000500 ['Isovaleric Acidemia'] 0.9488677867056245 159\n",
      "19 PW000064 ['Maple Syrup Urine Disease'] 0.933528122717312 159\n",
      "20 PW000062 ['Propionic Acidemia'] 0.970781592403214 159\n",
      "21 PW000051 ['Valine, Leucine, and Isoleucine Degradation'] 0.970781592403214 159\n",
      "22 PW000066 ['3-Methylglutaconic Aciduria Type I'] 0.9327976625273924 159\n",
      "23 PW000067 ['3-Methylglutaconic Aciduria Type III'] 0.9510591672753835 159\n",
      "24 PW000069 ['Methylmalonic Aciduria'] 0.9510591672753834 159\n",
      "25 PW000499 ['Isobutyryl-CoA Dehydrogenase Deficiency'] 0.95836376917458 159\n",
      "26 PW000068 ['Methylmalonate Semialdehyde Dehydrogenase Deficiency'] 0.970781592403214 159\n",
      "27 PW000060 ['beta-Ketothiolase Deficiency'] 0.9576333089846603 159\n",
      "28 PW000065 ['3-Methylcrotonyl-CoA Carboxylase Deficiency Type I'] 0.9371804236669101 159\n",
      "29 PW000091 ['Isovaleric Aciduria'] 0.9452154857560264 159\n",
      "30 PW000214 ['3-Methylglutaconic Aciduria Type IV'] 0.9320672023374726 159\n",
      "31 PW000061 ['2-Methyl-3-hydroxybutyryl-CoA Dehydrogenase Deficiency'] 0.9590942293644996 159\n",
      "32 PW000497 ['3-Hydroxyisobutyric Acid Dehydrogenase Deficiency'] 0.9152666179693206 159\n",
      "33 PW000063 ['3-Hydroxy-3-methylglutaryl-CoA Lyase Deficiency'] 0.9503287070854638 159\n",
      "34 PW000431 ['Disulfiram Action Pathway'] 0.9177939646201874 161\n",
      "35 PW000071 ['Homocarnosinosis'] 0.9144444444444444 116\n",
      "36 PW000072 ['Hyperinsulinism-Hyperammonemia Syndrome'] 0.9344444444444444 116\n",
      "37 PW000003 ['Glutamate Metabolism'] 0.9288888888888889 116\n",
      "38 PW000212 ['2-Hydroxyglutric Aciduria (D and L Form)'] 0.9466666666666667 116\n",
      "39 PW000070 ['4-Hydroxybutyric Aciduria/Succinic Semialdehyde Dehydrogenase Deficiency'] 0.9522222222222223 116\n",
      "40 PW000543 ['Succinic Semialdehyde Dehydrogenase Deficiency'] 0.9422222222222222 116\n",
      "41 PW000630 ['Warburg Effect'] 0.9702734839476813 111\n",
      "42 PW000189 ['Dihydropyrimidinase Deficiency'] 0.9693877551020408 138\n",
      "43 PW000160 ['Pyrimidine Metabolism'] 0.9323979591836735 138\n",
      "44 PW000187 ['beta-Ureidopropionase Deficiency'] 0.9489795918367347 138\n",
      "45 PW000188 ['UMP Synthase Deficiency (Orotic Aciduria)'] 0.9770408163265306 138\n",
      "46 PW000190 ['MNGIE (Mitochondrial Neurogastrointestinal Encephalopathy)'] 0.957908163265306 138\n",
      "47 PW000131 ['Ibuprofen Action Pathway'] 0.9835390946502057 184\n",
      "48 PW000271 ['Cerivastatin Action Pathway'] 0.908284023668639 118\n",
      "49 PW000275 ['Atorvastatin Action Pathway'] 0.8890532544378698 118\n"
     ]
    }
   ],
   "metadata": {}
  },
  {
   "cell_type": "code",
   "execution_count": 74,
   "source": [
    "pwid_roc_result = np.array(pwid_roc_result)\n",
    "pwid_ap_result = np.array(pwid_ap_result)\n",
    "print(pwid_roc_result.shape,pwid_ap_result.shape)"
   ],
   "outputs": [
    {
     "output_type": "stream",
     "name": "stdout",
     "text": [
      "(400, 2) (400, 2)\n"
     ]
    }
   ],
   "metadata": {}
  },
  {
   "cell_type": "code",
   "execution_count": 93,
   "source": [
    "import seaborn as sns"
   ],
   "outputs": [],
   "metadata": {}
  },
  {
   "cell_type": "code",
   "execution_count": 75,
   "source": [
    "pickle.dump(pwid_roc_result, open( \"./pathwayid_auc_homospigen_random.p\", \"wb\" ))"
   ],
   "outputs": [],
   "metadata": {}
  },
  {
   "cell_type": "code",
   "execution_count": 76,
   "source": [
    "pickle.dump(pwid_ap_result, open( \"./pathwayid_ap_homospigen_random.p\", \"wb\" ))"
   ],
   "outputs": [],
   "metadata": {}
  }
 ],
 "metadata": {
  "kernelspec": {
   "name": "python3",
   "display_name": "Python 3.8.8 64-bit ('base': conda)"
  },
  "language_info": {
   "codemirror_mode": {
    "name": "ipython",
    "version": 3
   },
   "file_extension": ".py",
   "mimetype": "text/x-python",
   "name": "python",
   "nbconvert_exporter": "python",
   "pygments_lexer": "ipython3",
   "version": "3.8.8"
  },
  "toc": {
   "base_numbering": 1,
   "nav_menu": {},
   "number_sections": true,
   "sideBar": true,
   "skip_h1_title": false,
   "title_cell": "Table of Contents",
   "title_sidebar": "Contents",
   "toc_cell": true,
   "toc_position": {
    "height": "calc(100% - 180px)",
    "left": "10px",
    "top": "150px",
    "width": "317.2146911621094px"
   },
   "toc_section_display": true,
   "toc_window_display": true
  },
  "interpreter": {
   "hash": "3fe952b0ba1daa6ee3393e62a893871d88149d9d44cf2ee1c1e3a6730bdcafed"
  }
 },
 "nbformat": 4,
 "nbformat_minor": 4
}