{
 "cells": [
  {
   "cell_type": "markdown",
   "source": [
    "<h1>Table of Contents<span class=\"tocSkip\"></span></h1>\n",
    "<div class=\"toc\"><ul class=\"toc-item\"><li><span><a href=\"#Read-pathbank-data\" data-toc-modified-id=\"Read-pathbank-data-1\"><span class=\"toc-item-num\">1&nbsp;&nbsp;</span>Read pathbank data</a></span><ul class=\"toc-item\"><li><span><a href=\"#Read-Pathbank-Pathway-metadata\" data-toc-modified-id=\"Read-Pathbank-Pathway-metadata-1.1\"><span class=\"toc-item-num\">1.1&nbsp;&nbsp;</span>Read Pathbank Pathway metadata</a></span></li><li><span><a href=\"#Generate-species-pathway-ID\" data-toc-modified-id=\"Generate-species-pathway-ID-1.2\"><span class=\"toc-item-num\">1.2&nbsp;&nbsp;</span>Generate species pathway ID</a></span></li><li><span><a href=\"#Generate-human-pathway-graph\" data-toc-modified-id=\"Generate-human-pathway-graph-1.3\"><span class=\"toc-item-num\">1.3&nbsp;&nbsp;</span>Generate human pathway graph</a></span><ul class=\"toc-item\"><li><span><a href=\"#Read-human-pathway\" data-toc-modified-id=\"Read-human-pathway-1.3.1\"><span class=\"toc-item-num\">1.3.1&nbsp;&nbsp;</span>Read human pathway</a></span></li><li><span><a href=\"#Analysis-of-protein-classes-and-metabolite-types\" data-toc-modified-id=\"Analysis-of-protein-classes-and-metabolite-types-1.3.2\"><span class=\"toc-item-num\">1.3.2&nbsp;&nbsp;</span>Analysis of protein classes and metabolite types</a></span></li><li><span><a href=\"#Generate-fingerprint-for-metabolite-ID\" data-toc-modified-id=\"Generate-fingerprint-for-metabolite-ID-1.3.3\"><span class=\"toc-item-num\">1.3.3&nbsp;&nbsp;</span>Generate fingerprint for metabolite ID</a></span></li><li><span><a href=\"#Generate-protein-vectors-for-all-uniport-ID\" data-toc-modified-id=\"Generate-protein-vectors-for-all-uniport-ID-1.3.4\"><span class=\"toc-item-num\">1.3.4&nbsp;&nbsp;</span>Generate protein vectors for all uniport ID</a></span></li><li><span><a href=\"#Generate-features-for-graph\" data-toc-modified-id=\"Generate-features-for-graph-1.3.5\"><span class=\"toc-item-num\">1.3.5&nbsp;&nbsp;</span>Generate features for graph</a></span></li><li><span><a href=\"#Unsupervised-learning-of-embedded-features\" data-toc-modified-id=\"Unsupervised-learning-of-embedded-features-1.3.6\"><span class=\"toc-item-num\">1.3.6&nbsp;&nbsp;</span>Unsupervised learning of embedded features</a></span></li><li><span><a href=\"#PCA-dimensionality-reduction\" data-toc-modified-id=\"PCA-dimensionality-reduction-1.3.7\"><span class=\"toc-item-num\">1.3.7&nbsp;&nbsp;</span>PCA dimensionality reduction</a></span></li></ul></li></ul></li><li><span><a href=\"#Read-real-world-data\" data-toc-modified-id=\"Read-real-world-data-2\"><span class=\"toc-item-num\">2&nbsp;&nbsp;</span>Read real world data</a></span><ul class=\"toc-item\"><li><span><a href=\"#Get-metabolite-compound-id\" data-toc-modified-id=\"Get-metabolite-compound-id-2.1\"><span class=\"toc-item-num\">2.1&nbsp;&nbsp;</span>Get metabolite compound id</a></span></li></ul></li><li><span><a href=\"#Spectral-clustering\" data-toc-modified-id=\"Spectral-clustering-3\"><span class=\"toc-item-num\">3&nbsp;&nbsp;</span>Spectral clustering</a></span></li><li><span><a href=\"#Baselines\" data-toc-modified-id=\"Baselines-4\"><span class=\"toc-item-num\">4&nbsp;&nbsp;</span>Baselines</a></span><ul class=\"toc-item\"><li><span><a href=\"#Adamic-Ada\" data-toc-modified-id=\"Adamic-Ada-4.1\"><span class=\"toc-item-num\">4.1&nbsp;&nbsp;</span>Adamic-Ada</a></span></li><li><span><a href=\"#Jaccard-Coefficient\" data-toc-modified-id=\"Jaccard-Coefficient-4.2\"><span class=\"toc-item-num\">4.2&nbsp;&nbsp;</span>Jaccard Coefficient</a></span></li><li><span><a href=\"#Preferential-Attachment\" data-toc-modified-id=\"Preferential-Attachment-4.3\"><span class=\"toc-item-num\">4.3&nbsp;&nbsp;</span>Preferential Attachment</a></span></li></ul></li><li><span><a href=\"#Graph-Vae-(with-feature)\" data-toc-modified-id=\"Graph-Vae-(with-feature)-5\"><span class=\"toc-item-num\">5&nbsp;&nbsp;</span>Graph Vae (with feature)</a></span><ul class=\"toc-item\"><li><span><a href=\"#Read-in-Graph-Data\" data-toc-modified-id=\"Read-in-Graph-Data-5.1\"><span class=\"toc-item-num\">5.1&nbsp;&nbsp;</span>Read in Graph Data</a></span></li><li><span><a href=\"#Data-Preprocessing\" data-toc-modified-id=\"Data-Preprocessing-5.2\"><span class=\"toc-item-num\">5.2&nbsp;&nbsp;</span>Data Preprocessing</a></span></li><li><span><a href=\"#Initialize-VAE-Model\" data-toc-modified-id=\"Initialize-VAE-Model-5.3\"><span class=\"toc-item-num\">5.3&nbsp;&nbsp;</span>Initialize VAE Model</a></span></li><li><span><a href=\"#Train-and-Evaluate-VAE-Model\" data-toc-modified-id=\"Train-and-Evaluate-VAE-Model-5.4\"><span class=\"toc-item-num\">5.4&nbsp;&nbsp;</span>Train and Evaluate VAE Model</a></span></li></ul></li><li><span><a href=\"#Graph-Vae-(without-feature)\" data-toc-modified-id=\"Graph-Vae-(without-feature)-6\"><span class=\"toc-item-num\">6&nbsp;&nbsp;</span>Graph Vae (without feature)</a></span><ul class=\"toc-item\"><li><span><a href=\"#Read-in-Graph-Data\" data-toc-modified-id=\"Read-in-Graph-Data-6.1\"><span class=\"toc-item-num\">6.1&nbsp;&nbsp;</span>Read in Graph Data</a></span></li><li><span><a href=\"#Data-Preprocessing\" data-toc-modified-id=\"Data-Preprocessing-6.2\"><span class=\"toc-item-num\">6.2&nbsp;&nbsp;</span>Data Preprocessing</a></span></li><li><span><a href=\"#Initialize-VAE-Model\" data-toc-modified-id=\"Initialize-VAE-Model-6.3\"><span class=\"toc-item-num\">6.3&nbsp;&nbsp;</span>Initialize VAE Model</a></span></li><li><span><a href=\"#Train-and-Evaluate-VAE-Model\" data-toc-modified-id=\"Train-and-Evaluate-VAE-Model-6.4\"><span class=\"toc-item-num\">6.4&nbsp;&nbsp;</span>Train and Evaluate VAE Model</a></span></li></ul></li><li><span><a href=\"#Node2vec\" data-toc-modified-id=\"Node2vec-7\"><span class=\"toc-item-num\">7&nbsp;&nbsp;</span>Node2vec</a></span><ul class=\"toc-item\"><li><span><a href=\"#Train-node2vec-(Learn-Node-Embeddings)\" data-toc-modified-id=\"Train-node2vec-(Learn-Node-Embeddings)-7.1\"><span class=\"toc-item-num\">7.1&nbsp;&nbsp;</span>Train node2vec (Learn Node Embeddings)</a></span></li><li><span><a href=\"#Create-Edge-Embeddings\" data-toc-modified-id=\"Create-Edge-Embeddings-7.2\"><span class=\"toc-item-num\">7.2&nbsp;&nbsp;</span>Create Edge Embeddings</a></span></li><li><span><a href=\"#Evaluate-Edge-Embeddings\" data-toc-modified-id=\"Evaluate-Edge-Embeddings-7.3\"><span class=\"toc-item-num\">7.3&nbsp;&nbsp;</span>Evaluate Edge Embeddings</a></span></li></ul></li><li><span><a href=\"#Visualization-of-all-ROC-curve\" data-toc-modified-id=\"Visualization-of-all-ROC-curve-8\"><span class=\"toc-item-num\">8&nbsp;&nbsp;</span>Visualization of all ROC curve</a></span></li></ul></div>"
   ],
   "metadata": {
    "toc": true
   }
  },
  {
   "cell_type": "markdown",
   "source": [
    "**Run the notebook in conda tf env** <br>\n",
    "**Conda activate tf**"
   ],
   "metadata": {}
  },
  {
   "cell_type": "code",
   "execution_count": 2,
   "source": [
    "import pandas as pd\n",
    "from sklearn.manifold import TSNE\n",
    "import numpy as np\n",
    "import networkx as nx\n",
    "import matplotlib.pyplot as plt\n",
    "import matplotlib.patches as mpatches\n",
    "import scipy.sparse as sp\n",
    "import torch\n",
    "import seaborn as sns\n",
    "# from node2vec import Node2Vec\n",
    "sns.set_style('whitegrid')\n",
    "import glob\n",
    "from sklearn.linear_model import LogisticRegression\n",
    "from sklearn.metrics import classification_report, roc_auc_score, average_precision_score,ndcg_score\n",
    "from sklearn.model_selection import train_test_split\n",
    "from sklearn.metrics import confusion_matrix\n",
    "from sklearn.metrics import roc_curve, auc, precision_recall_curve, f1_score\n",
    "from rdkit import Chem\n",
    "from rdkit.Chem import MACCSkeys\n",
    "import json\n",
    "from pathlib import Path\n",
    "import pickle\n",
    "from rdkit.Chem import AllChem\n",
    "from rdkit.Chem import DataStructs\n",
    "import glob"
   ],
   "outputs": [
    {
     "output_type": "stream",
     "name": "stderr",
     "text": [
      "RDKit WARNING: [14:28:02] Enabling RDKit 2019.09.3 jupyter extensions\n"
     ]
    }
   ],
   "metadata": {}
  },
  {
   "cell_type": "markdown",
   "source": [
    "# Read pathbank data"
   ],
   "metadata": {}
  },
  {
   "cell_type": "markdown",
   "source": [
    "## Read Pathbank Pathway metadata\n",
    "Read overall metadata of pathways"
   ],
   "metadata": {}
  },
  {
   "cell_type": "code",
   "execution_count": 3,
   "source": [
    "meta_data_dir = './Training_data/pathbank/Pathbank_Meta_Data/'"
   ],
   "outputs": [],
   "metadata": {}
  },
  {
   "cell_type": "code",
   "execution_count": 4,
   "source": [
    "meta_data = pd.read_csv(meta_data_dir+'pathbank_pathways.csv')\n",
    "meta_data.head()\n"
   ],
   "outputs": [
    {
     "output_type": "execute_result",
     "data": {
      "text/html": [
       "<div>\n",
       "<style scoped>\n",
       "    .dataframe tbody tr th:only-of-type {\n",
       "        vertical-align: middle;\n",
       "    }\n",
       "\n",
       "    .dataframe tbody tr th {\n",
       "        vertical-align: top;\n",
       "    }\n",
       "\n",
       "    .dataframe thead th {\n",
       "        text-align: right;\n",
       "    }\n",
       "</style>\n",
       "<table border=\"1\" class=\"dataframe\">\n",
       "  <thead>\n",
       "    <tr style=\"text-align: right;\">\n",
       "      <th></th>\n",
       "      <th>SMPDB ID</th>\n",
       "      <th>PW ID</th>\n",
       "      <th>Name</th>\n",
       "      <th>Subject</th>\n",
       "      <th>Description</th>\n",
       "    </tr>\n",
       "  </thead>\n",
       "  <tbody>\n",
       "    <tr>\n",
       "      <th>0</th>\n",
       "      <td>SMP0000055</td>\n",
       "      <td>PW000001</td>\n",
       "      <td>Alanine Metabolism</td>\n",
       "      <td>Metabolic</td>\n",
       "      <td>Alanine (L-Alanine) is an α-amino acid that is...</td>\n",
       "    </tr>\n",
       "    <tr>\n",
       "      <th>1</th>\n",
       "      <td>SMP0000067</td>\n",
       "      <td>PW000002</td>\n",
       "      <td>Aspartate Metabolism</td>\n",
       "      <td>Metabolic</td>\n",
       "      <td>Aspartate is synthesized by transamination of ...</td>\n",
       "    </tr>\n",
       "    <tr>\n",
       "      <th>2</th>\n",
       "      <td>SMP0000072</td>\n",
       "      <td>PW000003</td>\n",
       "      <td>Glutamate Metabolism</td>\n",
       "      <td>Metabolic</td>\n",
       "      <td>Glutamate is one of the non-essential amino ac...</td>\n",
       "    </tr>\n",
       "    <tr>\n",
       "      <th>3</th>\n",
       "      <td>SMP0000015</td>\n",
       "      <td>PW000004</td>\n",
       "      <td>Glutathione Metabolism</td>\n",
       "      <td>Metabolic</td>\n",
       "      <td>Glutathione (GSH) is an low-molecular-weight t...</td>\n",
       "    </tr>\n",
       "    <tr>\n",
       "      <th>4</th>\n",
       "      <td>SMP0000057</td>\n",
       "      <td>PW000005</td>\n",
       "      <td>Citric Acid Cycle</td>\n",
       "      <td>Metabolic</td>\n",
       "      <td>The citric acid cycle, which is also known as ...</td>\n",
       "    </tr>\n",
       "  </tbody>\n",
       "</table>\n",
       "</div>"
      ],
      "text/plain": [
       "     SMPDB ID     PW ID                    Name    Subject  \\\n",
       "0  SMP0000055  PW000001      Alanine Metabolism  Metabolic   \n",
       "1  SMP0000067  PW000002    Aspartate Metabolism  Metabolic   \n",
       "2  SMP0000072  PW000003    Glutamate Metabolism  Metabolic   \n",
       "3  SMP0000015  PW000004  Glutathione Metabolism  Metabolic   \n",
       "4  SMP0000057  PW000005       Citric Acid Cycle  Metabolic   \n",
       "\n",
       "                                         Description  \n",
       "0  Alanine (L-Alanine) is an α-amino acid that is...  \n",
       "1  Aspartate is synthesized by transamination of ...  \n",
       "2  Glutamate is one of the non-essential amino ac...  \n",
       "3  Glutathione (GSH) is an low-molecular-weight t...  \n",
       "4  The citric acid cycle, which is also known as ...  "
      ]
     },
     "metadata": {},
     "execution_count": 4
    }
   ],
   "metadata": {}
  },
  {
   "cell_type": "markdown",
   "source": [
    "Read compound metabolite and protein metadata"
   ],
   "metadata": {}
  },
  {
   "cell_type": "code",
   "execution_count": 5,
   "source": [
    "metabolite_data = pd.read_csv(meta_data_dir+'pathbank_all_metabolites.csv') \n",
    "protein_data = pd.read_csv(meta_data_dir+'pathbank_all_proteins.csv')"
   ],
   "outputs": [
    {
     "output_type": "stream",
     "name": "stderr",
     "text": [
      "/Users/chengwang/opt/anaconda3/lib/python3.8/site-packages/IPython/core/interactiveshell.py:3165: DtypeWarning: Columns (6,7,8,10) have mixed types.Specify dtype option on import or set low_memory=False.\n",
      "  has_raised = await self.run_ast_nodes(code_ast.body, cell_name,\n"
     ]
    }
   ],
   "metadata": {}
  },
  {
   "cell_type": "code",
   "execution_count": 6,
   "source": [
    "main_metabolite_data = pd.read_csv(meta_data_dir+'pathbank_primary_metabolites.csv') \n",
    "main_protein_data = pd.read_csv(meta_data_dir+'pathbank_primary_proteins.csv')"
   ],
   "outputs": [],
   "metadata": {}
  },
  {
   "cell_type": "code",
   "execution_count": 7,
   "source": [
    "main_protein_data.head()"
   ],
   "outputs": [
    {
     "output_type": "execute_result",
     "data": {
      "text/html": [
       "<div>\n",
       "<style scoped>\n",
       "    .dataframe tbody tr th:only-of-type {\n",
       "        vertical-align: middle;\n",
       "    }\n",
       "\n",
       "    .dataframe tbody tr th {\n",
       "        vertical-align: top;\n",
       "    }\n",
       "\n",
       "    .dataframe thead th {\n",
       "        text-align: right;\n",
       "    }\n",
       "</style>\n",
       "<table border=\"1\" class=\"dataframe\">\n",
       "  <thead>\n",
       "    <tr style=\"text-align: right;\">\n",
       "      <th></th>\n",
       "      <th>PathBank ID</th>\n",
       "      <th>Pathway Name</th>\n",
       "      <th>Pathway Subject</th>\n",
       "      <th>Species</th>\n",
       "      <th>Uniprot ID</th>\n",
       "      <th>Protein Name</th>\n",
       "      <th>HMDBP ID</th>\n",
       "      <th>DrugBank ID</th>\n",
       "      <th>GenBank ID</th>\n",
       "      <th>Gene Name</th>\n",
       "      <th>Locus</th>\n",
       "    </tr>\n",
       "  </thead>\n",
       "  <tbody>\n",
       "    <tr>\n",
       "      <th>0</th>\n",
       "      <td>SMP0000055</td>\n",
       "      <td>Alanine Metabolism</td>\n",
       "      <td>Metabolic</td>\n",
       "      <td>Homo sapiens</td>\n",
       "      <td>P49588</td>\n",
       "      <td>Alanine--tRNA ligase, cytoplasmic</td>\n",
       "      <td>HMDBP00625</td>\n",
       "      <td>NaN</td>\n",
       "      <td>AC012184</td>\n",
       "      <td>AARS</td>\n",
       "      <td>16q22</td>\n",
       "    </tr>\n",
       "    <tr>\n",
       "      <th>1</th>\n",
       "      <td>SMP0000055</td>\n",
       "      <td>Alanine Metabolism</td>\n",
       "      <td>Metabolic</td>\n",
       "      <td>Homo sapiens</td>\n",
       "      <td>P24298</td>\n",
       "      <td>Alanine aminotransferase 1</td>\n",
       "      <td>HMDBP00850</td>\n",
       "      <td>NaN</td>\n",
       "      <td>U70732</td>\n",
       "      <td>GPT</td>\n",
       "      <td>8q24.3</td>\n",
       "    </tr>\n",
       "    <tr>\n",
       "      <th>2</th>\n",
       "      <td>SMP0000055</td>\n",
       "      <td>Alanine Metabolism</td>\n",
       "      <td>Metabolic</td>\n",
       "      <td>Homo sapiens</td>\n",
       "      <td>P11498</td>\n",
       "      <td>Pyruvate carboxylase, mitochondrial</td>\n",
       "      <td>HMDBP00019</td>\n",
       "      <td>NaN</td>\n",
       "      <td>K02282</td>\n",
       "      <td>PC</td>\n",
       "      <td>11q13.4-q13.5</td>\n",
       "    </tr>\n",
       "    <tr>\n",
       "      <th>3</th>\n",
       "      <td>SMP0000055</td>\n",
       "      <td>Alanine Metabolism</td>\n",
       "      <td>Metabolic</td>\n",
       "      <td>Homo sapiens</td>\n",
       "      <td>P21549</td>\n",
       "      <td>Serine--pyruvate aminotransferase</td>\n",
       "      <td>HMDBP00789</td>\n",
       "      <td>NaN</td>\n",
       "      <td>CH471063</td>\n",
       "      <td>AGXT</td>\n",
       "      <td>2q37.3</td>\n",
       "    </tr>\n",
       "    <tr>\n",
       "      <th>4</th>\n",
       "      <td>SMP0000055</td>\n",
       "      <td>Alanine Metabolism</td>\n",
       "      <td>Metabolic</td>\n",
       "      <td>Homo sapiens</td>\n",
       "      <td>Q5JTZ9</td>\n",
       "      <td>Alanine--tRNA ligase, mitochondrial</td>\n",
       "      <td>HMDBP10671</td>\n",
       "      <td>NaN</td>\n",
       "      <td>BC131728</td>\n",
       "      <td>AARS2</td>\n",
       "      <td>6p21.1</td>\n",
       "    </tr>\n",
       "  </tbody>\n",
       "</table>\n",
       "</div>"
      ],
      "text/plain": [
       "  PathBank ID        Pathway Name Pathway Subject       Species Uniprot ID  \\\n",
       "0  SMP0000055  Alanine Metabolism       Metabolic  Homo sapiens     P49588   \n",
       "1  SMP0000055  Alanine Metabolism       Metabolic  Homo sapiens     P24298   \n",
       "2  SMP0000055  Alanine Metabolism       Metabolic  Homo sapiens     P11498   \n",
       "3  SMP0000055  Alanine Metabolism       Metabolic  Homo sapiens     P21549   \n",
       "4  SMP0000055  Alanine Metabolism       Metabolic  Homo sapiens     Q5JTZ9   \n",
       "\n",
       "                          Protein Name    HMDBP ID DrugBank ID GenBank ID  \\\n",
       "0    Alanine--tRNA ligase, cytoplasmic  HMDBP00625         NaN   AC012184   \n",
       "1           Alanine aminotransferase 1  HMDBP00850         NaN     U70732   \n",
       "2  Pyruvate carboxylase, mitochondrial  HMDBP00019         NaN     K02282   \n",
       "3    Serine--pyruvate aminotransferase  HMDBP00789         NaN   CH471063   \n",
       "4  Alanine--tRNA ligase, mitochondrial  HMDBP10671         NaN   BC131728   \n",
       "\n",
       "  Gene Name          Locus  \n",
       "0      AARS          16q22  \n",
       "1       GPT         8q24.3  \n",
       "2        PC  11q13.4-q13.5  \n",
       "3      AGXT         2q37.3  \n",
       "4     AARS2         6p21.1  "
      ]
     },
     "metadata": {},
     "execution_count": 7
    }
   ],
   "metadata": {}
  },
  {
   "cell_type": "code",
   "execution_count": 8,
   "source": [
    "protein_name = list(main_protein_data['Protein Name'].unique())\n",
    "len(protein_name)"
   ],
   "outputs": [
    {
     "output_type": "execute_result",
     "data": {
      "text/plain": [
       "4933"
      ]
     },
     "metadata": {},
     "execution_count": 8
    }
   ],
   "metadata": {}
  },
  {
   "cell_type": "code",
   "execution_count": 9,
   "source": [
    "list(main_protein_data)"
   ],
   "outputs": [
    {
     "output_type": "execute_result",
     "data": {
      "text/plain": [
       "['PathBank ID',\n",
       " 'Pathway Name',\n",
       " 'Pathway Subject',\n",
       " 'Species',\n",
       " 'Uniprot ID',\n",
       " 'Protein Name',\n",
       " 'HMDBP ID',\n",
       " 'DrugBank ID',\n",
       " 'GenBank ID',\n",
       " 'Gene Name',\n",
       " 'Locus']"
      ]
     },
     "metadata": {},
     "execution_count": 9
    }
   ],
   "metadata": {}
  },
  {
   "cell_type": "code",
   "execution_count": 10,
   "source": [
    "len(main_protein_data['Uniprot ID'].unique())"
   ],
   "outputs": [
    {
     "output_type": "execute_result",
     "data": {
      "text/plain": [
       "8707"
      ]
     },
     "metadata": {},
     "execution_count": 10
    }
   ],
   "metadata": {}
  },
  {
   "cell_type": "code",
   "execution_count": 11,
   "source": [
    "main_protein_data['Species'].value_counts()"
   ],
   "outputs": [
    {
     "output_type": "execute_result",
     "data": {
      "text/plain": [
       "Homo sapiens                16983\n",
       "Rattus norvegicus            7830\n",
       "Mus musculus                 6352\n",
       "Bos taurus                   3750\n",
       "Escherichia coli             2624\n",
       "Pseudomonas aeruginosa       1573\n",
       "Arabidopsis thaliana          983\n",
       "Drosophila melanogaster       716\n",
       "Saccharomyces cerevisiae      704\n",
       "Caenorhabditis elegans        677\n",
       "Name: Species, dtype: int64"
      ]
     },
     "metadata": {},
     "execution_count": 11
    }
   ],
   "metadata": {}
  },
  {
   "cell_type": "markdown",
   "source": [
    "**Obtain Homo sapiens pathways data**"
   ],
   "metadata": {}
  },
  {
   "cell_type": "code",
   "execution_count": 108,
   "source": [
    "species = 'Homo sapiens'\n",
    "main_spec_mets_data = main_metabolite_data[main_metabolite_data['Species'] == species] \n",
    "main_spec_protein_data = main_protein_data[main_protein_data['Species'] == species]\n",
    "\n",
    "# main_spec_mets_data = main_metabolite_data.copy() \n",
    "# main_spec_protein_data = main_protein_data.copy()\n"
   ],
   "outputs": [],
   "metadata": {}
  },
  {
   "cell_type": "markdown",
   "source": [
    "## Generate species pathway ID"
   ],
   "metadata": {}
  },
  {
   "cell_type": "code",
   "execution_count": 109,
   "source": [
    "spec_mets_data = metabolite_data[metabolite_data['Species'] == species]\n",
    "# spec_mets_data = metabolite_data.copy()\n",
    "spec_mets_data_m = pd.merge(spec_mets_data,meta_data[['SMPDB ID','PW ID']],left_on='PathBank ID', right_on='SMPDB ID', how='left')\n",
    "spec_protein_data = protein_data[protein_data['Species'] == species]\n",
    "# spec_protein_data = protein_data.copy()\n",
    "spec_protein_data_m = pd.merge(spec_protein_data,meta_data[['SMPDB ID','PW ID']],left_on='PathBank ID', right_on='SMPDB ID', how='left')\n",
    "'Get metabolite and protein involved pathway ID'\n",
    "spec_pw_id_met = list(spec_mets_data_m['PW ID'].unique())\n",
    "spec_pw_id_protn = list(spec_protein_data_m['PW ID'].unique())\n",
    "spec_pw_id = list(set(spec_pw_id_met+spec_pw_id_protn))\n"
   ],
   "outputs": [],
   "metadata": {}
  },
  {
   "cell_type": "code",
   "execution_count": 110,
   "source": [
    "len(spec_mets_data_m['Metabolite ID'].unique())"
   ],
   "outputs": [
    {
     "output_type": "execute_result",
     "data": {
      "text/plain": [
       "55753"
      ]
     },
     "metadata": {},
     "execution_count": 110
    }
   ],
   "metadata": {}
  },
  {
   "cell_type": "code",
   "execution_count": 111,
   "source": [
    "len(spec_mets_data_m['Metabolite ID'].unique())"
   ],
   "outputs": [
    {
     "output_type": "execute_result",
     "data": {
      "text/plain": [
       "55753"
      ]
     },
     "metadata": {},
     "execution_count": 111
    }
   ],
   "metadata": {}
  },
  {
   "cell_type": "code",
   "execution_count": 113,
   "source": [
    "len(spec_pw_id) "
   ],
   "outputs": [
    {
     "output_type": "execute_result",
     "data": {
      "text/plain": [
       "908"
      ]
     },
     "metadata": {},
     "execution_count": 113
    }
   ],
   "metadata": {}
  },
  {
   "cell_type": "code",
   "execution_count": 114,
   "source": [
    "meta_name_id_dict = dict(zip(metabolite_data['Metabolite Name'].tolist(),metabolite_data['Metabolite ID'].tolist()))\n",
    "protein_name_id_dict = dict(zip(protein_data['Protein Name'].tolist(),protein_data['Uniprot ID'].tolist()))"
   ],
   "outputs": [],
   "metadata": {}
  },
  {
   "cell_type": "markdown",
   "source": [
    "## Generate human pathway graph"
   ],
   "metadata": {}
  },
  {
   "cell_type": "markdown",
   "source": [
    "### Read human pathway"
   ],
   "metadata": {}
  },
  {
   "cell_type": "code",
   "execution_count": 115,
   "source": [
    "spec_pw_id = [x for x in spec_pw_id if str(x) != 'nan']"
   ],
   "outputs": [],
   "metadata": {}
  },
  {
   "cell_type": "code",
   "execution_count": 116,
   "source": [
    "g = nx.empty_graph(0, create_using=nx.Graph)\n",
    "for pwid in spec_pw_id:\n",
    "    pwfile = './Training_data/pathbank/pathbank_pathway_csv/'+pwid+'*.csv'\n",
    "#     print(pwid,pwfile)\n",
    "    try:\n",
    "        spwfile = glob.glob(pwfile)\n",
    "        for spw in spwfile:\n",
    "            df = pd.read_csv(spw,index_col = 0)\n",
    "            g_df = nx.from_pandas_adjacency(df,create_using = nx.Graph())\n",
    "            g = nx.compose(g, g_df)\n",
    "    except:\n",
    "        pass"
   ],
   "outputs": [],
   "metadata": {}
  },
  {
   "cell_type": "code",
   "execution_count": 117,
   "source": [
    "print(nx.info(g))"
   ],
   "outputs": [
    {
     "output_type": "stream",
     "name": "stdout",
     "text": [
      "Name: \n",
      "Type: Graph\n",
      "Number of nodes: 2306\n",
      "Number of edges: 5786\n",
      "Average degree:   5.0182\n"
     ]
    }
   ],
   "metadata": {}
  },
  {
   "cell_type": "code",
   "execution_count": 118,
   "source": [
    "nodes = list(g.nodes())"
   ],
   "outputs": [],
   "metadata": {}
  },
  {
   "cell_type": "code",
   "execution_count": 119,
   "source": [
    "c_mets = 0\n",
    "c_prtn = 0\n",
    "c_prtn_nodes = []\n",
    "c_mets_nodes = []\n",
    "for i in nodes:\n",
    "    if i in meta_name_id_dict:\n",
    "        c_mets += 1\n",
    "        c_mets_nodes.append(i)\n",
    "    if i in protein_name_id_dict:\n",
    "        c_prtn += 1\n",
    "        c_prtn_nodes.append(i)\n",
    "print('number of metabolites ',c_mets)\n",
    "print('number of protein ',c_prtn)\n",
    "print('total number ',len(nodes),c_mets+c_prtn,len(nodes)-c_prtn)"
   ],
   "outputs": [
    {
     "output_type": "stream",
     "name": "stdout",
     "text": [
      "number of metabolites  1261\n",
      "number of protein  855\n",
      "total number  2306 2116 1451\n"
     ]
    }
   ],
   "metadata": {}
  },
  {
   "cell_type": "markdown",
   "source": [
    "### Analysis of protein classes and metabolite types"
   ],
   "metadata": {}
  },
  {
   "cell_type": "code",
   "execution_count": 120,
   "source": [
    "len(list(main_spec_protein_data['Protein Name'].unique()))"
   ],
   "outputs": [
    {
     "output_type": "execute_result",
     "data": {
      "text/plain": [
       "1538"
      ]
     },
     "metadata": {},
     "execution_count": 120
    }
   ],
   "metadata": {}
  },
  {
   "cell_type": "markdown",
   "source": [
    "### Generate fingerprint for metabolite ID"
   ],
   "metadata": {}
  },
  {
   "cell_type": "code",
   "execution_count": 121,
   "source": [
    "mets_dict = dict(zip(metabolite_data['Metabolite ID'].tolist(),metabolite_data['SMILES'].tolist()))\n",
    "len(mets_dict.keys())"
   ],
   "outputs": [
    {
     "output_type": "execute_result",
     "data": {
      "text/plain": [
       "78277"
      ]
     },
     "metadata": {},
     "execution_count": 121
    }
   ],
   "metadata": {}
  },
  {
   "cell_type": "code",
   "execution_count": 122,
   "source": [
    "from rdkit.Chem import MACCSkeys"
   ],
   "outputs": [],
   "metadata": {}
  },
  {
   "cell_type": "code",
   "execution_count": 123,
   "source": [
    "from rdkit.Chem.AtomPairs import Pairs"
   ],
   "outputs": [],
   "metadata": {}
  },
  {
   "cell_type": "code",
   "execution_count": 475,
   "source": [
    "mets_vec = {}\n",
    "mets_proc = []\n",
    "mets_fp = []\n",
    "c = 0\n",
    "for k,v in mets_dict.items():\n",
    "    smile = v\n",
    "    try:\n",
    "#         print(c)\n",
    "        mol = Chem.MolFromSmiles(smile)\n",
    "        'Topological fingerprint'\n",
    "        # fp = Chem.RDKFingerprint(mol,fpSize=1024)\n",
    "        fp = MACCSkeys.GenMACCSKeys(mol)\n",
    "        # fp = AllChem.GetMorganFingerprintAsBitVect(mol, 2, nBits=1024)\n",
    "        array = np.zeros((0, ), dtype=np.int8)\n",
    "        DataStructs.ConvertToNumpyArray(fp, array)\n",
    "        mets_vec[k] = array\n",
    "        mets_proc.append(k)\n",
    "        mets_fp.append(array)\n",
    "        c += 1\n",
    "    except:\n",
    "        mets_vec[k] = None\n",
    "        c += 1"
   ],
   "outputs": [
    {
     "output_type": "stream",
     "name": "stderr",
     "text": [
      "RDKit WARNING: [20:10:52] WARNING: not removing hydrogen atom without neighbors\n",
      "RDKit ERROR: [20:10:52] Explicit valence for atom # 26 N, 4, is greater than permitted\n",
      "RDKit ERROR: [20:10:52] Explicit valence for atom # 1 N, 4, is greater than permitted\n",
      "RDKit ERROR: [20:10:53] Explicit valence for atom # 8 N, 4, is greater than permitted\n",
      "RDKit ERROR: [20:10:53] Explicit valence for atom # 28 N, 4, is greater than permitted\n",
      "RDKit ERROR: [20:10:54] Explicit valence for atom # 31 O, 3, is greater than permitted\n",
      "RDKit ERROR: [20:10:54] Explicit valence for atom # 4 N, 4, is greater than permitted\n",
      "RDKit ERROR: [20:10:59] Explicit valence for atom # 21 N, 4, is greater than permitted\n",
      "RDKit ERROR: [20:11:00] Explicit valence for atom # 17 O, 3, is greater than permitted\n"
     ]
    }
   ],
   "metadata": {}
  },
  {
   "cell_type": "code",
   "execution_count": 476,
   "source": [
    "mets_fp = np.asarray(mets_fp)\n",
    "mets_fp.shape"
   ],
   "outputs": [
    {
     "output_type": "execute_result",
     "data": {
      "text/plain": [
       "(78261, 167)"
      ]
     },
     "metadata": {},
     "execution_count": 476
    }
   ],
   "metadata": {}
  },
  {
   "cell_type": "code",
   "execution_count": 477,
   "source": [
    "from sklearn.decomposition import PCA\n",
    "pca = PCA(n_components=167)\n",
    "pca.fit(mets_fp)\n",
    "pca_mets_fp = pca.transform(mets_fp)"
   ],
   "outputs": [],
   "metadata": {}
  },
  {
   "cell_type": "code",
   "execution_count": 478,
   "source": [
    "pca_mets_vec = {}\n",
    "for i in range(len(mets_proc)):\n",
    "    k = mets_proc[i]\n",
    "    pca_mets_vec[k] = pca_mets_fp[i]"
   ],
   "outputs": [],
   "metadata": {}
  },
  {
   "cell_type": "markdown",
   "source": [
    "### Generate protein vectors for all uniport ID"
   ],
   "metadata": {}
  },
  {
   "cell_type": "markdown",
   "source": [
    "**Generate protein vec by protein2vec.py**"
   ],
   "metadata": {}
  },
  {
   "cell_type": "code",
   "execution_count": 479,
   "source": [
    "protein_dir = './Training_data/pathbank/pathbank_protein_data/'"
   ],
   "outputs": [],
   "metadata": {}
  },
  {
   "cell_type": "code",
   "execution_count": 480,
   "source": [
    "protein_vec = pickle.load(open( protein_dir+\"esm_all_protein_vector.p\", \"rb\" ))\n",
    "protein_vec['P21589']"
   ],
   "outputs": [
    {
     "output_type": "execute_result",
     "data": {
      "text/plain": [
       "array([ 0.57339567, -0.12687486, -0.50076234, ..., -0.02640043,\n",
       "        0.02060984, -0.01411816], dtype=float32)"
      ]
     },
     "metadata": {},
     "execution_count": 480
    }
   ],
   "metadata": {}
  },
  {
   "cell_type": "code",
   "execution_count": 481,
   "source": [
    "np_protein_vec = []\n",
    "for k,v in protein_vec.items():\n",
    "    np_protein_vec.append(v)\n",
    "np_protein_vec = np.asarray(np_protein_vec)\n",
    "np_protein_vec.shape"
   ],
   "outputs": [
    {
     "output_type": "execute_result",
     "data": {
      "text/plain": [
       "(7724, 1024)"
      ]
     },
     "metadata": {},
     "execution_count": 481
    }
   ],
   "metadata": {}
  },
  {
   "cell_type": "code",
   "execution_count": 482,
   "source": [
    "pca.fit(np_protein_vec)\n",
    "pca_np_protein_vec = pca.transform(np_protein_vec)"
   ],
   "outputs": [],
   "metadata": {}
  },
  {
   "cell_type": "code",
   "execution_count": 483,
   "source": [
    "protein_keys = list(protein_vec.keys())"
   ],
   "outputs": [],
   "metadata": {}
  },
  {
   "cell_type": "code",
   "execution_count": 484,
   "source": [
    "pca_protein_vec = {}\n",
    "for i in range(len(protein_keys)):\n",
    "    k = protein_keys[i]\n",
    "    pca_protein_vec[k] = pca_np_protein_vec[i]"
   ],
   "outputs": [],
   "metadata": {}
  },
  {
   "cell_type": "code",
   "execution_count": 485,
   "source": [
    "pca_np_protein_vec.shape"
   ],
   "outputs": [
    {
     "output_type": "execute_result",
     "data": {
      "text/plain": [
       "(7724, 167)"
      ]
     },
     "metadata": {},
     "execution_count": 485
    }
   ],
   "metadata": {}
  },
  {
   "cell_type": "markdown",
   "source": [
    "### Generate features for graph"
   ],
   "metadata": {}
  },
  {
   "cell_type": "code",
   "execution_count": 486,
   "source": [
    "all_nodes_df = pd.DataFrame(columns=['node','features','dbid','class'])\n",
    "all_nodes_df"
   ],
   "outputs": [
    {
     "output_type": "execute_result",
     "data": {
      "text/html": [
       "<div>\n",
       "<style scoped>\n",
       "    .dataframe tbody tr th:only-of-type {\n",
       "        vertical-align: middle;\n",
       "    }\n",
       "\n",
       "    .dataframe tbody tr th {\n",
       "        vertical-align: top;\n",
       "    }\n",
       "\n",
       "    .dataframe thead th {\n",
       "        text-align: right;\n",
       "    }\n",
       "</style>\n",
       "<table border=\"1\" class=\"dataframe\">\n",
       "  <thead>\n",
       "    <tr style=\"text-align: right;\">\n",
       "      <th></th>\n",
       "      <th>node</th>\n",
       "      <th>features</th>\n",
       "      <th>dbid</th>\n",
       "      <th>class</th>\n",
       "    </tr>\n",
       "  </thead>\n",
       "  <tbody>\n",
       "  </tbody>\n",
       "</table>\n",
       "</div>"
      ],
      "text/plain": [
       "Empty DataFrame\n",
       "Columns: [node, features, dbid, class]\n",
       "Index: []"
      ]
     },
     "metadata": {},
     "execution_count": 486
    }
   ],
   "metadata": {}
  },
  {
   "cell_type": "code",
   "execution_count": 487,
   "source": [
    "g_nodes = list(g.nodes())\n",
    "for i in range(len(g_nodes)):\n",
    "    node = g_nodes[i]\n",
    "    all_nodes_df.loc[i,'node'] = node\n",
    "    if node in meta_name_id_dict:\n",
    "        name_id = meta_name_id_dict[node]\n",
    "        all_nodes_df.loc[i,'dbid'] = name_id \n",
    "        all_nodes_df.loc[i,'class'] = 'metabolite'\n",
    "        if name_id in pca_mets_vec:\n",
    "            all_nodes_df.loc[i,'features'] = pca_mets_vec[name_id]\n",
    "        else:\n",
    "            # all_nodes_df.loc[i,'features'] = np.zeros((1024), dtype=np.int8)\n",
    "            all_nodes_df.loc[i,'features'] = np.random.rand((167))\n",
    "    elif node in protein_name_id_dict:\n",
    "        name_id = protein_name_id_dict[node]\n",
    "        all_nodes_df.loc[i,'dbid'] = name_id\n",
    "        all_nodes_df.loc[i,'class'] = 'protein'\n",
    "        if name_id in protein_vec:\n",
    "            all_nodes_df.loc[i,'features'] = pca_protein_vec[name_id]\n",
    "        else:\n",
    "            all_nodes_df.loc[i,'features'] = np.random.rand((167))\n",
    "            # all_nodes_df.loc[i,'features'] = np.ones((1024), dtype=np.int8)\n",
    "    else:\n",
    "        all_nodes_df.loc[i,'features'] = np.random.rand((167))\n",
    "        # all_nodes_df.loc[i,'features'] = np.ones((1024), dtype=np.int8)\n",
    "        all_nodes_df.loc[i,'dbid'] = None\n",
    "        all_nodes_df.loc[i,'class'] = 'other'"
   ],
   "outputs": [],
   "metadata": {}
  },
  {
   "cell_type": "markdown",
   "source": [
    "# Graph Vae (with feature)"
   ],
   "metadata": {}
  },
  {
   "cell_type": "markdown",
   "source": [
    "## Read in Graph Data"
   ],
   "metadata": {}
  },
  {
   "cell_type": "code",
   "execution_count": 488,
   "source": [
    "t = []\n",
    "for fp in all_nodes_df['features'].tolist():\n",
    "    temp = [i for i in fp]\n",
    "    t.append(temp)"
   ],
   "outputs": [],
   "metadata": {}
  },
  {
   "cell_type": "code",
   "execution_count": 489,
   "source": [
    "features = np.asarray(t)"
   ],
   "outputs": [],
   "metadata": {}
  },
  {
   "cell_type": "code",
   "execution_count": 490,
   "source": [
    "features.shape"
   ],
   "outputs": [
    {
     "output_type": "execute_result",
     "data": {
      "text/plain": [
       "(2306, 167)"
      ]
     },
     "metadata": {},
     "execution_count": 490
    }
   ],
   "metadata": {}
  },
  {
   "cell_type": "code",
   "execution_count": 491,
   "source": [
    "adj = nx.adjacency_matrix(g,nodelist=all_nodes_df['node'].tolist())"
   ],
   "outputs": [],
   "metadata": {}
  },
  {
   "cell_type": "markdown",
   "source": [
    "## Data Preprocessing"
   ],
   "metadata": {}
  },
  {
   "cell_type": "code",
   "execution_count": 492,
   "source": [
    "from __future__ import division\n",
    "from __future__ import print_function\n",
    "import numpy as np\n",
    "import scipy.sparse as sp\n",
    "\n",
    "from sklearn.metrics import roc_auc_score\n",
    "from sklearn.metrics import average_precision_score\n",
    "\n",
    "import time\n",
    "import os\n",
    "os.environ['CUDA_VISIBLE_DEVICES'] = \"\"\n",
    "import tensorflow.compat.v1 as tf\n",
    "tf.disable_v2_behavior()\n",
    "tf.set_random_seed(0)\n",
    "from gae.optimizer import OptimizerAE, OptimizerVAE\n",
    "from gae.model import GCNModelVAE, GCNModelAE\n",
    "from gae.preprocessing import preprocess_graph, construct_feed_dict, sparse_to_tuple, mask_test_edges_seed"
   ],
   "outputs": [],
   "metadata": {}
  },
  {
   "cell_type": "code",
   "execution_count": 493,
   "source": [
    "# Convert features from normal matrix --> sparse matrix --> tuple\n",
    "    # features_tuple contains: (list of matrix coordinates, list of values, matrix dimensions)\n",
    "import scipy.sparse as sp\n",
    "x = sp.lil_matrix(features)\n",
    "features_tuple = sparse_to_tuple(x)\n",
    "features_shape = features_tuple[2]\n",
    "\n",
    "features_shape"
   ],
   "outputs": [
    {
     "output_type": "execute_result",
     "data": {
      "text/plain": [
       "(2306, 167)"
      ]
     },
     "metadata": {},
     "execution_count": 493
    }
   ],
   "metadata": {}
  },
  {
   "cell_type": "code",
   "execution_count": 494,
   "source": [
    "# Get graph attributes (to feed into model)\n",
    "num_nodes = adj.shape[0] # number of nodes in adjacency matrix\n",
    "num_features = features_shape[1] # number of features (columsn of features matrix)\n",
    "features_nonzero = features_tuple[1].shape[0] # number of non-zero entries in features matrix (or length of values list)\n",
    "# Store original adjacency matrix (without diagonal entries) for later\n",
    "adj_orig = adj\n",
    "adj_orig = adj_orig - sp.dia_matrix((adj_orig.diagonal()[np.newaxis, :], [0]), shape=adj_orig.shape)\n",
    "adj_orig.eliminate_zeros()"
   ],
   "outputs": [],
   "metadata": {}
  },
  {
   "cell_type": "code",
   "execution_count": 495,
   "source": [
    "# IMPORTANT: guarantees consistent train/test splits\n",
    "adj_train, train_edges, train_edges_false, val_edges, val_edges_false, \\\n",
    "    test_edges, test_edges_false = mask_test_edges_seed(adj, test_frac=.1, val_frac=.1,seed=2021)\n",
    "\n",
    "# Normalize adjacency matrix\n",
    "adj_norm = preprocess_graph(adj_train)\n",
    "\n",
    "# Add in diagonals\n",
    "adj_label = adj_train + sp.eye(adj_train.shape[0])\n",
    "adj_label = sparse_to_tuple(adj_label)\n",
    "\n",
    "# Inspect train/test split\n",
    "print(\"Total nodes:\", adj.shape[0])\n",
    "print(\"Total edges:\", int(adj.nnz/2)) # adj is symmetric, so nnz (num non-zero) = 2*num_edges\n",
    "print(\"Training edges (positive):\", len(train_edges))\n",
    "print(\"Training edges (negative):\", len(train_edges_false))\n",
    "print(\"Validation edges (positive):\", len(val_edges))\n",
    "print(\"Validation edges (negative):\", len(val_edges_false))\n",
    "print(\"Test edges (positive):\", len(test_edges))\n",
    "print(\"Test edges (negative):\", len(test_edges_false))"
   ],
   "outputs": [
    {
     "output_type": "stream",
     "name": "stdout",
     "text": [
      "Total nodes: 2306\n",
      "Total edges: 5786\n",
      "Training edges (positive): 4630\n",
      "Training edges (negative): 4630\n",
      "Validation edges (positive): 578\n",
      "Validation edges (negative): 578\n",
      "Test edges (positive): 578\n",
      "Test edges (negative): 578\n"
     ]
    }
   ],
   "metadata": {}
  },
  {
   "cell_type": "markdown",
   "source": [
    "## Initialize VAE Model"
   ],
   "metadata": {}
  },
  {
   "cell_type": "code",
   "execution_count": 496,
   "source": [
    "# Define hyperparameters\n",
    "LEARNING_RATE = 0.005\n",
    "EPOCHS = 1000\n",
    "HIDDEN1_DIM = 32\n",
    "HIDDEN2_DIM = 16\n",
    "DROPOUT = 0.1"
   ],
   "outputs": [],
   "metadata": {}
  },
  {
   "cell_type": "code",
   "execution_count": 497,
   "source": [
    "# Define placeholders\n",
    "placeholders = {\n",
    "    'features': tf.sparse_placeholder(tf.float32),\n",
    "    'adj': tf.sparse_placeholder(tf.float32),\n",
    "    'adj_orig': tf.sparse_placeholder(tf.float32),\n",
    "    'dropout': tf.placeholder_with_default(0., shape=())\n",
    "}\n",
    "\n",
    "# How much to weigh positive examples (true edges) in cost print_function\n",
    "  # Want to weigh less-frequent classes higher, so as to prevent model output bias\n",
    "  # pos_weight = (num. negative samples / (num. positive samples)\n",
    "pos_weight = float(adj.shape[0] * adj.shape[0] - adj.sum()) / adj.sum()\n",
    "\n",
    "# normalize (scale) average weighted cost\n",
    "norm = adj.shape[0] * adj.shape[0] / float((adj.shape[0] * adj.shape[0] - adj.sum()) * 2)\n",
    "\n",
    "# Create VAE model\n",
    "model = GCNModelVAE(placeholders, num_features, num_nodes, features_nonzero, HIDDEN1_DIM, HIDDEN2_DIM)\n",
    "\n",
    "opt = OptimizerVAE(preds=model.reconstructions,\n",
    "                           labels=tf.reshape(tf.sparse_tensor_to_dense(placeholders['adj_orig'],\n",
    "                                                                       validate_indices=False), [-1]),\n",
    "                           model=model, num_nodes=num_nodes,\n",
    "                           pos_weight=pos_weight,\n",
    "                           norm=norm,\n",
    "                           learning_rate=LEARNING_RATE)"
   ],
   "outputs": [
    {
     "output_type": "stream",
     "name": "stdout",
     "text": [
      "Creating GAE optimizer...\n",
      "Labels shape:  (?,)\n",
      "Preds shape:  (?,)\n",
      "CE+KL loss shape:  ()\n"
     ]
    }
   ],
   "metadata": {}
  },
  {
   "cell_type": "code",
   "execution_count": 498,
   "source": [
    "# Calculate ROC AUC\n",
    "def get_roc_score(edges_pos, edges_neg, emb=None):\n",
    "    if emb is None:\n",
    "        feed_dict.update({placeholders['dropout']: 0})\n",
    "        emb = sess.run(model.z_mean, feed_dict=feed_dict)\n",
    "\n",
    "    def sigmoid(x):\n",
    "        return 1 / (1 + np.exp(-x))\n",
    "\n",
    "    # Predict on test set of edges\n",
    "    adj_rec = np.dot(emb, emb.T)\n",
    "    preds_pos = []\n",
    "    pos = []\n",
    "    for e in edges_pos:\n",
    "        preds_pos.append(sigmoid(adj_rec[e[0], e[1]])) # predicted score for given edge\n",
    "        pos.append(adj_orig[e[0], e[1]]) # actual value (1)\n",
    "\n",
    "    preds_neg = []\n",
    "    neg = []\n",
    "    for e in edges_neg:\n",
    "        preds_neg.append(sigmoid(adj_rec[e[0], e[1]])) # predicted score for given edge\n",
    "        neg.append(adj_orig[e[0], e[1]]) # actual value (0)\n",
    "\n",
    "    preds_all = np.hstack([preds_pos, preds_neg])\n",
    "    labels_all = np.hstack([np.ones(len(preds_pos)), np.zeros(len(preds_neg))])\n",
    "\n",
    "    roc_score = roc_auc_score(labels_all, preds_all)\n",
    "    fpr, tpr, _ = roc_curve(labels_all, preds_all)\n",
    "    precision, recall, _ = precision_recall_curve(labels_all, preds_all)\n",
    "    pr_score = auc(recall, precision)\n",
    "    ap_score = average_precision_score(labels_all, preds_all)\n",
    "    return roc_score, ap_score, fpr, tpr, pr_score, precision, recall"
   ],
   "outputs": [],
   "metadata": {}
  },
  {
   "cell_type": "markdown",
   "source": [
    "## Train and Evaluate VAE Model"
   ],
   "metadata": {}
  },
  {
   "cell_type": "code",
   "execution_count": 499,
   "source": [
    "cost_val = []\n",
    "acc_val = []\n",
    "val_roc_score = []\n",
    "\n",
    "# Initialize session\n",
    "sess = tf.Session()\n",
    "sess.run(tf.global_variables_initializer())\n",
    "\n",
    "# Train model\n",
    "for epoch in range(EPOCHS):\n",
    "\n",
    "    t = time.time()\n",
    "    # Construct feed dictionary\n",
    "    feed_dict = construct_feed_dict(adj_norm, adj_label, features_tuple, placeholders)\n",
    "    feed_dict.update({placeholders['dropout']: DROPOUT})\n",
    "    # Run single weight update\n",
    "    outs = sess.run([opt.opt_op, opt.cost, opt.accuracy], feed_dict=feed_dict)\n",
    "\n",
    "    # Compute average loss\n",
    "    avg_cost = outs[1]\n",
    "    avg_accuracy = outs[2]\n",
    "    \n",
    "    # Evaluate predictions\n",
    "    roc_curr, ap_curr, fpr, tpr, pr_score, precision, recall = get_roc_score(val_edges, val_edges_false)\n",
    "    val_roc_score.append(roc_curr)\n",
    "    \n",
    "    if (epoch+1)%50 == 0:\n",
    "    # Print results for this epoch\n",
    "        print(\"Epoch:\", '%04d' % (epoch + 1), \"train_loss=\", \"{:.5f}\".format(avg_cost),\n",
    "              \"train_acc=\", \"{:.5f}\".format(avg_accuracy), \"val_roc=\", \"{:.5f}\".format(val_roc_score[-1]),\n",
    "              \"val_ap=\", \"{:.5f}\".format(ap_curr),\n",
    "              \"time=\", \"{:.5f}\".format(time.time() - t))\n",
    "\n",
    "print(\"Optimization Finished!\")"
   ],
   "outputs": [
    {
     "output_type": "stream",
     "name": "stdout",
     "text": [
      "Epoch: 0050 train_loss= 0.62680 train_acc= 0.47598 val_roc= 0.78819 val_ap= 0.80072 time= 0.22097\n",
      "Epoch: 0100 train_loss= 0.55856 train_acc= 0.49181 val_roc= 0.81993 val_ap= 0.83069 time= 0.21416\n",
      "Epoch: 0150 train_loss= 0.52501 train_acc= 0.50543 val_roc= 0.85298 val_ap= 0.86168 time= 0.22811\n",
      "Epoch: 0200 train_loss= 0.50969 train_acc= 0.50498 val_roc= 0.86934 val_ap= 0.87711 time= 0.21513\n",
      "Epoch: 0250 train_loss= 0.49464 train_acc= 0.50409 val_roc= 0.88150 val_ap= 0.88922 time= 0.22547\n",
      "Epoch: 0300 train_loss= 0.48851 train_acc= 0.51124 val_roc= 0.88811 val_ap= 0.89642 time= 0.31362\n",
      "Epoch: 0350 train_loss= 0.48006 train_acc= 0.51041 val_roc= 0.89353 val_ap= 0.90364 time= 0.21469\n",
      "Epoch: 0400 train_loss= 0.47579 train_acc= 0.50876 val_roc= 0.89606 val_ap= 0.90726 time= 0.22125\n",
      "Epoch: 0450 train_loss= 0.47458 train_acc= 0.51907 val_roc= 0.89456 val_ap= 0.90685 time= 0.23086\n",
      "Epoch: 0500 train_loss= 0.47057 train_acc= 0.51728 val_roc= 0.89695 val_ap= 0.90724 time= 0.22723\n",
      "Epoch: 0550 train_loss= 0.46738 train_acc= 0.52161 val_roc= 0.90085 val_ap= 0.91359 time= 0.21506\n",
      "Epoch: 0600 train_loss= 0.46573 train_acc= 0.51602 val_roc= 0.90215 val_ap= 0.91554 time= 0.21959\n",
      "Epoch: 0650 train_loss= 0.46291 train_acc= 0.51208 val_roc= 0.90499 val_ap= 0.91662 time= 0.22023\n",
      "Epoch: 0700 train_loss= 0.46043 train_acc= 0.51670 val_roc= 0.90252 val_ap= 0.91590 time= 0.22053\n",
      "Epoch: 0750 train_loss= 0.45914 train_acc= 0.51991 val_roc= 0.90554 val_ap= 0.91828 time= 0.27225\n",
      "Epoch: 0800 train_loss= 0.45889 train_acc= 0.51965 val_roc= 0.90759 val_ap= 0.92132 time= 0.21590\n",
      "Epoch: 0850 train_loss= 0.45603 train_acc= 0.52093 val_roc= 0.90616 val_ap= 0.91990 time= 0.20972\n",
      "Epoch: 0900 train_loss= 0.45682 train_acc= 0.51925 val_roc= 0.90810 val_ap= 0.92006 time= 0.21686\n",
      "Epoch: 0950 train_loss= 0.45428 train_acc= 0.52177 val_roc= 0.90669 val_ap= 0.92129 time= 0.22345\n",
      "Epoch: 1000 train_loss= 0.45270 train_acc= 0.52016 val_roc= 0.90873 val_ap= 0.92311 time= 0.22724\n",
      "Optimization Finished!\n"
     ]
    }
   ],
   "metadata": {}
  },
  {
   "cell_type": "code",
   "execution_count": 500,
   "source": [
    "# Print final results\n",
    "feature_roc_score, feature_ap_score, feature_fpr, feature_tpr, feature_pr_score, feature_prcs, feature_rcal = get_roc_score(train_edges, train_edges_false)\n",
    "print('Train ROC score: ' + str(feature_roc_score))\n",
    "print('Train AP score: ' + str(feature_ap_score))"
   ],
   "outputs": [
    {
     "output_type": "stream",
     "name": "stdout",
     "text": [
      "Train ROC score: 0.9859311747500805\n",
      "Train AP score: 0.9832883408929883\n"
     ]
    }
   ],
   "metadata": {}
  },
  {
   "cell_type": "code",
   "execution_count": 501,
   "source": [
    "# Print final results\n",
    "feature_roc_score, feature_ap_score, feature_fpr, feature_tpr, feature_pr_score, feature_prcs, feature_rcal = get_roc_score(val_edges, val_edges_false)\n",
    "print('Val ROC score: ' + str(feature_roc_score))\n",
    "print('Val AP score: ' + str(feature_ap_score))"
   ],
   "outputs": [
    {
     "output_type": "stream",
     "name": "stdout",
     "text": [
      "Val ROC score: 0.9087295410735025\n",
      "Val AP score: 0.9231149923231131\n"
     ]
    }
   ],
   "metadata": {}
  },
  {
   "cell_type": "code",
   "execution_count": 502,
   "source": [
    "# Print final results\n",
    "feature_roc_score, feature_ap_score, feature_fpr, feature_tpr, feature_pr_score, feature_prcs, feature_rcal = get_roc_score(test_edges, test_edges_false)\n",
    "print('Test ROC score: ' + str(feature_roc_score))\n",
    "print('Test AP score: ' + str(feature_ap_score))"
   ],
   "outputs": [
    {
     "output_type": "stream",
     "name": "stdout",
     "text": [
      "Test ROC score: 0.9079393206498965\n",
      "Test AP score: 0.9250144964793979\n"
     ]
    }
   ],
   "metadata": {}
  }
 ],
 "metadata": {
  "kernelspec": {
   "name": "python3",
   "display_name": "Python 3.8.8 64-bit ('base': conda)"
  },
  "language_info": {
   "codemirror_mode": {
    "name": "ipython",
    "version": 3
   },
   "file_extension": ".py",
   "mimetype": "text/x-python",
   "name": "python",
   "nbconvert_exporter": "python",
   "pygments_lexer": "ipython3",
   "version": "3.8.8"
  },
  "toc": {
   "base_numbering": 1,
   "nav_menu": {},
   "number_sections": true,
   "sideBar": true,
   "skip_h1_title": false,
   "title_cell": "Table of Contents",
   "title_sidebar": "Contents",
   "toc_cell": true,
   "toc_position": {
    "height": "calc(100% - 180px)",
    "left": "10px",
    "top": "150px",
    "width": "317.2146911621094px"
   },
   "toc_section_display": true,
   "toc_window_display": true
  },
  "interpreter": {
   "hash": "3fe952b0ba1daa6ee3393e62a893871d88149d9d44cf2ee1c1e3a6730bdcafed"
  }
 },
 "nbformat": 4,
 "nbformat_minor": 4
}