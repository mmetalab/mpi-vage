{
 "cells": [
  {
   "cell_type": "markdown",
   "source": [
    "<h1>Table of Contents<span class=\"tocSkip\"></span></h1>\n",
    "<div class=\"toc\"><ul class=\"toc-item\"><li><span><a href=\"#Read-pathbank-data\" data-toc-modified-id=\"Read-pathbank-data-1\"><span class=\"toc-item-num\">1&nbsp;&nbsp;</span>Read pathbank data</a></span><ul class=\"toc-item\"><li><span><a href=\"#Read-Pathbank-Pathway-metadata\" data-toc-modified-id=\"Read-Pathbank-Pathway-metadata-1.1\"><span class=\"toc-item-num\">1.1&nbsp;&nbsp;</span>Read Pathbank Pathway metadata</a></span></li><li><span><a href=\"#Generate-species-pathway-ID\" data-toc-modified-id=\"Generate-species-pathway-ID-1.2\"><span class=\"toc-item-num\">1.2&nbsp;&nbsp;</span>Generate species pathway ID</a></span></li><li><span><a href=\"#Generate-human-pathway-graph\" data-toc-modified-id=\"Generate-human-pathway-graph-1.3\"><span class=\"toc-item-num\">1.3&nbsp;&nbsp;</span>Generate human pathway graph</a></span><ul class=\"toc-item\"><li><span><a href=\"#Read-human-pathway\" data-toc-modified-id=\"Read-human-pathway-1.3.1\"><span class=\"toc-item-num\">1.3.1&nbsp;&nbsp;</span>Read human pathway</a></span></li><li><span><a href=\"#Analysis-of-protein-classes-and-metabolite-types\" data-toc-modified-id=\"Analysis-of-protein-classes-and-metabolite-types-1.3.2\"><span class=\"toc-item-num\">1.3.2&nbsp;&nbsp;</span>Analysis of protein classes and metabolite types</a></span></li><li><span><a href=\"#Generate-fingerprint-for-metabolite-ID\" data-toc-modified-id=\"Generate-fingerprint-for-metabolite-ID-1.3.3\"><span class=\"toc-item-num\">1.3.3&nbsp;&nbsp;</span>Generate fingerprint for metabolite ID</a></span></li><li><span><a href=\"#Generate-protein-vectors-for-all-uniport-ID\" data-toc-modified-id=\"Generate-protein-vectors-for-all-uniport-ID-1.3.4\"><span class=\"toc-item-num\">1.3.4&nbsp;&nbsp;</span>Generate protein vectors for all uniport ID</a></span></li><li><span><a href=\"#Generate-features-for-graph\" data-toc-modified-id=\"Generate-features-for-graph-1.3.5\"><span class=\"toc-item-num\">1.3.5&nbsp;&nbsp;</span>Generate features for graph</a></span></li><li><span><a href=\"#Unsupervised-learning-of-embedded-features\" data-toc-modified-id=\"Unsupervised-learning-of-embedded-features-1.3.6\"><span class=\"toc-item-num\">1.3.6&nbsp;&nbsp;</span>Unsupervised learning of embedded features</a></span></li><li><span><a href=\"#PCA-dimensionality-reduction\" data-toc-modified-id=\"PCA-dimensionality-reduction-1.3.7\"><span class=\"toc-item-num\">1.3.7&nbsp;&nbsp;</span>PCA dimensionality reduction</a></span></li></ul></li></ul></li><li><span><a href=\"#Read-real-world-data\" data-toc-modified-id=\"Read-real-world-data-2\"><span class=\"toc-item-num\">2&nbsp;&nbsp;</span>Read real world data</a></span><ul class=\"toc-item\"><li><span><a href=\"#Get-metabolite-compound-id\" data-toc-modified-id=\"Get-metabolite-compound-id-2.1\"><span class=\"toc-item-num\">2.1&nbsp;&nbsp;</span>Get metabolite compound id</a></span></li></ul></li><li><span><a href=\"#Spectral-clustering\" data-toc-modified-id=\"Spectral-clustering-3\"><span class=\"toc-item-num\">3&nbsp;&nbsp;</span>Spectral clustering</a></span></li><li><span><a href=\"#Baselines\" data-toc-modified-id=\"Baselines-4\"><span class=\"toc-item-num\">4&nbsp;&nbsp;</span>Baselines</a></span><ul class=\"toc-item\"><li><span><a href=\"#Adamic-Ada\" data-toc-modified-id=\"Adamic-Ada-4.1\"><span class=\"toc-item-num\">4.1&nbsp;&nbsp;</span>Adamic-Ada</a></span></li><li><span><a href=\"#Jaccard-Coefficient\" data-toc-modified-id=\"Jaccard-Coefficient-4.2\"><span class=\"toc-item-num\">4.2&nbsp;&nbsp;</span>Jaccard Coefficient</a></span></li><li><span><a href=\"#Preferential-Attachment\" data-toc-modified-id=\"Preferential-Attachment-4.3\"><span class=\"toc-item-num\">4.3&nbsp;&nbsp;</span>Preferential Attachment</a></span></li></ul></li><li><span><a href=\"#Graph-Vae-(with-feature)\" data-toc-modified-id=\"Graph-Vae-(with-feature)-5\"><span class=\"toc-item-num\">5&nbsp;&nbsp;</span>Graph Vae (with feature)</a></span><ul class=\"toc-item\"><li><span><a href=\"#Read-in-Graph-Data\" data-toc-modified-id=\"Read-in-Graph-Data-5.1\"><span class=\"toc-item-num\">5.1&nbsp;&nbsp;</span>Read in Graph Data</a></span></li><li><span><a href=\"#Data-Preprocessing\" data-toc-modified-id=\"Data-Preprocessing-5.2\"><span class=\"toc-item-num\">5.2&nbsp;&nbsp;</span>Data Preprocessing</a></span></li><li><span><a href=\"#Initialize-VAE-Model\" data-toc-modified-id=\"Initialize-VAE-Model-5.3\"><span class=\"toc-item-num\">5.3&nbsp;&nbsp;</span>Initialize VAE Model</a></span></li><li><span><a href=\"#Train-and-Evaluate-VAE-Model\" data-toc-modified-id=\"Train-and-Evaluate-VAE-Model-5.4\"><span class=\"toc-item-num\">5.4&nbsp;&nbsp;</span>Train and Evaluate VAE Model</a></span></li></ul></li><li><span><a href=\"#Graph-Vae-(without-feature)\" data-toc-modified-id=\"Graph-Vae-(without-feature)-6\"><span class=\"toc-item-num\">6&nbsp;&nbsp;</span>Graph Vae (without feature)</a></span><ul class=\"toc-item\"><li><span><a href=\"#Read-in-Graph-Data\" data-toc-modified-id=\"Read-in-Graph-Data-6.1\"><span class=\"toc-item-num\">6.1&nbsp;&nbsp;</span>Read in Graph Data</a></span></li><li><span><a href=\"#Data-Preprocessing\" data-toc-modified-id=\"Data-Preprocessing-6.2\"><span class=\"toc-item-num\">6.2&nbsp;&nbsp;</span>Data Preprocessing</a></span></li><li><span><a href=\"#Initialize-VAE-Model\" data-toc-modified-id=\"Initialize-VAE-Model-6.3\"><span class=\"toc-item-num\">6.3&nbsp;&nbsp;</span>Initialize VAE Model</a></span></li><li><span><a href=\"#Train-and-Evaluate-VAE-Model\" data-toc-modified-id=\"Train-and-Evaluate-VAE-Model-6.4\"><span class=\"toc-item-num\">6.4&nbsp;&nbsp;</span>Train and Evaluate VAE Model</a></span></li></ul></li><li><span><a href=\"#Node2vec\" data-toc-modified-id=\"Node2vec-7\"><span class=\"toc-item-num\">7&nbsp;&nbsp;</span>Node2vec</a></span><ul class=\"toc-item\"><li><span><a href=\"#Train-node2vec-(Learn-Node-Embeddings)\" data-toc-modified-id=\"Train-node2vec-(Learn-Node-Embeddings)-7.1\"><span class=\"toc-item-num\">7.1&nbsp;&nbsp;</span>Train node2vec (Learn Node Embeddings)</a></span></li><li><span><a href=\"#Create-Edge-Embeddings\" data-toc-modified-id=\"Create-Edge-Embeddings-7.2\"><span class=\"toc-item-num\">7.2&nbsp;&nbsp;</span>Create Edge Embeddings</a></span></li><li><span><a href=\"#Evaluate-Edge-Embeddings\" data-toc-modified-id=\"Evaluate-Edge-Embeddings-7.3\"><span class=\"toc-item-num\">7.3&nbsp;&nbsp;</span>Evaluate Edge Embeddings</a></span></li></ul></li><li><span><a href=\"#Visualization-of-all-ROC-curve\" data-toc-modified-id=\"Visualization-of-all-ROC-curve-8\"><span class=\"toc-item-num\">8&nbsp;&nbsp;</span>Visualization of all ROC curve</a></span></li></ul></div>"
   ],
   "metadata": {
    "toc": true
   }
  },
  {
   "cell_type": "markdown",
   "source": [
    "**Run the notebook in conda tf env** <br>\n",
    "**Conda activate tf**"
   ],
   "metadata": {}
  },
  {
   "cell_type": "code",
   "execution_count": 1,
   "source": [
    "import pandas as pd\n",
    "import numpy as np\n",
    "import networkx as nx\n",
    "import matplotlib.pyplot as plt\n",
    "import scipy.sparse as sp\n",
    "import seaborn as sns\n",
    "# from node2vec import Node2Vec\n",
    "from sklearn.metrics import roc_curve, auc, precision_recall_curve, f1_score\n",
    "from pathlib import Path\n",
    "import pickle\n",
    "import glob"
   ],
   "outputs": [],
   "metadata": {}
  },
  {
   "cell_type": "markdown",
   "source": [
    "# Read MPI data"
   ],
   "metadata": {}
  },
  {
   "cell_type": "markdown",
   "source": [
    "## Read human MPI Network"
   ],
   "metadata": {}
  },
  {
   "cell_type": "code",
   "execution_count": 2,
   "source": [
    "g = pickle.load(open(\"./features/mpi_network/mpi_human.p\", \"rb\" ))"
   ],
   "outputs": [],
   "metadata": {}
  },
  {
   "cell_type": "code",
   "execution_count": 3,
   "source": [
    "print(nx.info(g))"
   ],
   "outputs": [
    {
     "output_type": "stream",
     "name": "stdout",
     "text": [
      "Name: \n",
      "Type: Graph\n",
      "Number of nodes: 2306\n",
      "Number of edges: 5786\n",
      "Average degree:   5.0182\n"
     ]
    }
   ],
   "metadata": {}
  },
  {
   "cell_type": "markdown",
   "source": [
    "## Read MPI network feature data"
   ],
   "metadata": {}
  },
  {
   "cell_type": "code",
   "execution_count": 4,
   "source": [
    "node_feats = pickle.load(open(\"./features/mpi_features/human_feature_df.p\", \"rb\" ))"
   ],
   "outputs": [],
   "metadata": {}
  },
  {
   "cell_type": "markdown",
   "source": [
    "# VGAE (with feature)"
   ],
   "metadata": {}
  },
  {
   "cell_type": "markdown",
   "source": [
    "## Read in Graph Data"
   ],
   "metadata": {}
  },
  {
   "cell_type": "code",
   "execution_count": 5,
   "source": [
    "t = []\n",
    "for fp in node_feats['features'].tolist():\n",
    "    temp = [i for i in fp]\n",
    "    t.append(temp)"
   ],
   "outputs": [],
   "metadata": {}
  },
  {
   "cell_type": "code",
   "execution_count": 6,
   "source": [
    "features = np.asarray(t)"
   ],
   "outputs": [],
   "metadata": {}
  },
  {
   "cell_type": "code",
   "execution_count": 7,
   "source": [
    "features.shape"
   ],
   "outputs": [
    {
     "output_type": "execute_result",
     "data": {
      "text/plain": [
       "(2306, 1024)"
      ]
     },
     "metadata": {},
     "execution_count": 7
    }
   ],
   "metadata": {}
  },
  {
   "cell_type": "code",
   "execution_count": 8,
   "source": [
    "adj = nx.adjacency_matrix(g,nodelist=node_feats['node'].tolist())"
   ],
   "outputs": [],
   "metadata": {}
  },
  {
   "cell_type": "markdown",
   "source": [
    "## Data Preprocessing"
   ],
   "metadata": {}
  },
  {
   "cell_type": "code",
   "execution_count": 9,
   "source": [
    "from __future__ import division\n",
    "from __future__ import print_function\n",
    "import scipy.sparse as sp\n",
    "from sklearn.metrics import roc_auc_score\n",
    "from sklearn.metrics import average_precision_score\n",
    "import time\n",
    "import os\n",
    "os.environ['CUDA_VISIBLE_DEVICES'] = \"\""
   ],
   "outputs": [],
   "metadata": {}
  },
  {
   "cell_type": "code",
   "execution_count": 10,
   "source": [
    "import tensorflow.compat.v1 as tf\n",
    "tf.disable_v2_behavior()\n",
    "tf.set_random_seed(0)"
   ],
   "outputs": [
    {
     "output_type": "stream",
     "name": "stdout",
     "text": [
      "WARNING:tensorflow:From /Users/chengwang/opt/anaconda3/lib/python3.8/site-packages/tensorflow/python/compat/v2_compat.py:96: disable_resource_variables (from tensorflow.python.ops.variable_scope) is deprecated and will be removed in a future version.\n",
      "Instructions for updating:\n",
      "non-resource variables are not supported in the long term\n"
     ]
    }
   ],
   "metadata": {}
  },
  {
   "cell_type": "code",
   "execution_count": 11,
   "source": [
    "from vgae.optimizer import OptimizerAE, OptimizerVAE\n",
    "from vgae.model import GCNModelVAE, GCNModelAE\n",
    "from vgae.preprocessing import preprocess_graph, construct_feed_dict, sparse_to_tuple, mask_test_edges_seed"
   ],
   "outputs": [],
   "metadata": {}
  },
  {
   "cell_type": "code",
   "execution_count": 12,
   "source": [
    "# Convert features from normal matrix --> sparse matrix --> tuple\n",
    "    # features_tuple contains: (list of matrix coordinates, list of values, matrix dimensions)\n",
    "import scipy.sparse as sp\n",
    "x = sp.lil_matrix(features)\n",
    "features_tuple = sparse_to_tuple(x)\n",
    "features_shape = features_tuple[2]\n",
    "\n",
    "features_shape"
   ],
   "outputs": [
    {
     "output_type": "execute_result",
     "data": {
      "text/plain": [
       "(2306, 1024)"
      ]
     },
     "metadata": {},
     "execution_count": 12
    }
   ],
   "metadata": {}
  },
  {
   "cell_type": "code",
   "execution_count": 13,
   "source": [
    "# Get graph attributes (to feed into model)\n",
    "num_nodes = adj.shape[0] # number of nodes in adjacency matrix\n",
    "num_features = features_shape[1] # number of features (columsn of features matrix)\n",
    "features_nonzero = features_tuple[1].shape[0] # number of non-zero entries in features matrix (or length of values list)\n",
    "# Store original adjacency matrix (without diagonal entries) for later\n",
    "adj_orig = adj\n",
    "adj_orig = adj_orig - sp.dia_matrix((adj_orig.diagonal()[np.newaxis, :], [0]), shape=adj_orig.shape)\n",
    "adj_orig.eliminate_zeros()"
   ],
   "outputs": [],
   "metadata": {}
  },
  {
   "cell_type": "code",
   "execution_count": 15,
   "source": [
    "np.random.seed(0) # IMPORTANT: guarantees consistent train/test splits\n",
    "adj_train, train_edges, train_edges_false, val_edges, val_edges_false, \\\n",
    "    test_edges, test_edges_false = mask_test_edges_seed(adj, test_frac=.1, val_frac=.1,seed=12345)\n",
    "\n",
    "# Normalize adjacency matrix\n",
    "adj_norm = preprocess_graph(adj_train)\n",
    "\n",
    "# Add in diagonals\n",
    "adj_label = adj_train + sp.eye(adj_train.shape[0])\n",
    "adj_label = sparse_to_tuple(adj_label)\n",
    "\n",
    "# Inspect train/test split\n",
    "print(\"Total nodes:\", adj.shape[0])\n",
    "print(\"Total edges:\", int(adj.nnz/2)) # adj is symmetric, so nnz (num non-zero) = 2*num_edges\n",
    "print(\"Training edges (positive):\", len(train_edges))\n",
    "print(\"Training edges (negative):\", len(train_edges_false))\n",
    "print(\"Validation edges (positive):\", len(val_edges))\n",
    "print(\"Validation edges (negative):\", len(val_edges_false))\n",
    "print(\"Test edges (positive):\", len(test_edges))\n",
    "print(\"Test edges (negative):\", len(test_edges_false))"
   ],
   "outputs": [
    {
     "output_type": "stream",
     "name": "stdout",
     "text": [
      "Total nodes: 2306\n",
      "Total edges: 5786\n",
      "Training edges (positive): 4630\n",
      "Training edges (negative): 4630\n",
      "Validation edges (positive): 578\n",
      "Validation edges (negative): 578\n",
      "Test edges (positive): 578\n",
      "Test edges (negative): 578\n"
     ]
    }
   ],
   "metadata": {}
  },
  {
   "cell_type": "markdown",
   "source": [
    "## Initialize VGAE Model"
   ],
   "metadata": {}
  },
  {
   "cell_type": "code",
   "execution_count": 16,
   "source": [
    "# Define hyperparameters\n",
    "LEARNING_RATE = 0.005\n",
    "EPOCHS = 1000\n",
    "HIDDEN1_DIM = 32\n",
    "HIDDEN2_DIM = 16\n",
    "DROPOUT = 0.1"
   ],
   "outputs": [],
   "metadata": {}
  },
  {
   "cell_type": "code",
   "execution_count": 21,
   "source": [
    "# Define placeholders\n",
    "placeholders = {\n",
    "    'features': tf.sparse_placeholder(tf.float32),\n",
    "    'adj': tf.sparse_placeholder(tf.float32),\n",
    "    'adj_orig': tf.sparse_placeholder(tf.float32),\n",
    "    'dropout': tf.placeholder_with_default(0., shape=())\n",
    "}\n",
    "\n",
    "# How much to weigh positive examples (true edges) in cost print_function\n",
    "  # Want to weigh less-frequent classes higher, so as to prevent model output bias\n",
    "  # pos_weight = (num. negative samples / (num. positive samples)\n",
    "pos_weight = float(adj.shape[0] * adj.shape[0] - adj.sum()) / adj.sum()\n",
    "\n",
    "# normalize (scale) average weighted cost\n",
    "norm = adj.shape[0] * adj.shape[0] / float((adj.shape[0] * adj.shape[0] - adj.sum()) * 2)\n",
    "\n",
    "# Create VAE model\n",
    "model = GCNModelVAE(placeholders, num_features, num_nodes, features_nonzero, HIDDEN1_DIM, HIDDEN2_DIM)\n",
    "\n",
    "opt = OptimizerVAE(preds=model.reconstructions,\n",
    "                           labels=tf.reshape(tf.sparse_tensor_to_dense(placeholders['adj_orig'],\n",
    "                                                                       validate_indices=False), [-1]),\n",
    "                           model=model, num_nodes=num_nodes,\n",
    "                           pos_weight=pos_weight,\n",
    "                           norm=norm,\n",
    "                           learning_rate=LEARNING_RATE)"
   ],
   "outputs": [
    {
     "output_type": "stream",
     "name": "stdout",
     "text": [
      "Creating GAE optimizer...\n",
      "Labels shape:  (?,)\n",
      "Preds shape:  (?,)\n",
      "CE+KL loss shape:  ()\n"
     ]
    }
   ],
   "metadata": {}
  },
  {
   "cell_type": "code",
   "execution_count": 77,
   "source": [
    "# Calculate ROC AUC\n",
    "def get_roc_score(edges_pos, edges_neg, pos_weight, norm, emb=None):\n",
    "    if emb is None:\n",
    "        feed_dict.update({placeholders['dropout']: 0})\n",
    "        emb = sess.run(model.z_mean, feed_dict=feed_dict)\n",
    "\n",
    "    def sigmoid(x):\n",
    "        return 1 / (1 + np.exp(-x))\n",
    "\n",
    "    # Predict on test set of edges\n",
    "    adj_rec = np.dot(emb, emb.T)\n",
    "    preds_pos = []\n",
    "    pos = []\n",
    "    for e in edges_pos:\n",
    "        preds_pos.append(sigmoid(adj_rec[e[0], e[1]])) # predicted score for given edge\n",
    "        pos.append(adj_orig[e[0], e[1]]) # actual value (1)\n",
    "\n",
    "    preds_neg = []\n",
    "    neg = []\n",
    "    for e in edges_neg:\n",
    "        preds_neg.append(sigmoid(adj_rec[e[0], e[1]])) # predicted score for given edge\n",
    "        neg.append(adj_orig[e[0], e[1]]) # actual value (0)\n",
    "\n",
    "    preds_all = np.hstack([preds_pos, preds_neg])\n",
    "    labels_all = np.hstack([np.ones(len(preds_pos)), np.zeros(len(preds_neg))])\n",
    "    roc_score = roc_auc_score(labels_all, preds_all)\n",
    "    fpr, tpr, _ = roc_curve(labels_all, preds_all)\n",
    "    precision, recall, _ = precision_recall_curve(labels_all, preds_all)\n",
    "    pr_score = auc(recall, precision)\n",
    "    ap_score = average_precision_score(labels_all, preds_all)\n",
    "    \n",
    "    val_loss = norm * tf.reduce_mean(tf.nn.weighted_cross_entropy_with_logits(labels=tf.constant(labels_all), logits=tf.constant(preds_all), pos_weight=pos_weight))\n",
    "    val_loss = tf.keras.backend.eval(val_loss)\n",
    "\n",
    "    return roc_score, ap_score, fpr, tpr, pr_score, precision, recall, val_loss"
   ],
   "outputs": [],
   "metadata": {}
  },
  {
   "cell_type": "code",
   "execution_count": 78,
   "source": [
    "labels = tf.constant([1., 0.5, 0.])\n",
    "logits = tf.constant([1.5, -0.1, -10.])\n",
    "test = tf.nn.weighted_cross_entropy_with_logits(\n",
    "    labels=labels, logits=logits, pos_weight=tf.constant(1.5))\n"
   ],
   "outputs": [],
   "metadata": {}
  },
  {
   "cell_type": "code",
   "execution_count": 72,
   "source": [
    "tf.keras.backend.eval(test)"
   ],
   "outputs": [
    {
     "output_type": "execute_result",
     "data": {
      "text/plain": [
       "array([3.0211994e-01, 8.8049585e-01, 4.5776367e-05], dtype=float32)"
      ]
     },
     "metadata": {},
     "execution_count": 72
    }
   ],
   "metadata": {}
  },
  {
   "cell_type": "code",
   "execution_count": 102,
   "source": [
    "EPOCHS = 1000"
   ],
   "outputs": [],
   "metadata": {}
  },
  {
   "cell_type": "markdown",
   "source": [
    "## Train and Evaluate VGAE Model"
   ],
   "metadata": {}
  },
  {
   "cell_type": "code",
   "execution_count": 103,
   "source": [
    "cost_val = []\n",
    "acc_val = []\n",
    "val_roc_score = []\n",
    "train_loss_log = []\n",
    "val_loss_log = []\n",
    "# Initialize session\n",
    "sess = tf.Session()\n",
    "sess.run(tf.global_variables_initializer())\n",
    "\n",
    "# Train model\n",
    "for epoch in range(EPOCHS):\n",
    "\n",
    "    t = time.time()\n",
    "    # Construct feed dictionary\n",
    "    feed_dict = construct_feed_dict(adj_norm, adj_label, features_tuple, placeholders)\n",
    "    feed_dict.update({placeholders['dropout']: DROPOUT})\n",
    "    # Run single weight update\n",
    "    outs = sess.run([opt.opt_op, opt.cost, opt.accuracy], feed_dict=feed_dict)\n",
    "    \n",
    "    # Compute average loss\n",
    "    avg_cost = outs[1]\n",
    "    avg_accuracy = outs[2]\n",
    "    roc_curr, ap_curr, fpr, tpr, pr_score, precision, recall, train_loss_epoch = get_roc_score(train_edges, train_edges_false, pos_weight, norm)\n",
    "    train_loss_log.append(train_loss_epoch)\n",
    "\n",
    "    # Evaluate predictions\n",
    "    roc_curr, ap_curr, fpr, tpr, pr_score, precision, recall, val_loss_epoch = get_roc_score(val_edges, val_edges_false, pos_weight, norm)\n",
    "    val_roc_score.append(roc_curr)\n",
    "    val_loss_log.append(val_loss_epoch)\n",
    "    \n",
    "    if (epoch+1)%50 == 0:\n",
    "    # Print results for this epoch\n",
    "        print(\"Epoch:\", '%04d' % (epoch + 1), \"train_loss=\", \"{:.5f}\".format(avg_cost),\n",
    "              \"train_acc=\", \"{:.5f}\".format(avg_accuracy), \"val_roc=\", \"{:.5f}\".format(val_roc_score[-1]),\n",
    "              \"val_ap=\", \"{:.5f}\".format(ap_curr),\n",
    "              \"time=\", \"{:.5f}\".format(time.time() - t))\n",
    "\n",
    "print(\"Optimization Finished!\")"
   ],
   "outputs": [
    {
     "output_type": "stream",
     "name": "stdout",
     "text": [
      "Epoch: 0050 train_loss= 0.53612 train_acc= 0.48859 val_roc= 0.84905 val_ap= 0.85410 time= 3.06171\n",
      "Epoch: 0100 train_loss= 0.48409 train_acc= 0.50858 val_roc= 0.89091 val_ap= 0.89765 time= 3.25153\n",
      "Epoch: 0150 train_loss= 0.46955 train_acc= 0.51428 val_roc= 0.91093 val_ap= 0.91855 time= 3.53685\n",
      "Epoch: 0200 train_loss= 0.46039 train_acc= 0.51993 val_roc= 0.91651 val_ap= 0.92490 time= 3.61311\n",
      "Epoch: 0250 train_loss= 0.45513 train_acc= 0.52007 val_roc= 0.92071 val_ap= 0.93035 time= 3.80772\n",
      "Epoch: 0300 train_loss= 0.44967 train_acc= 0.52254 val_roc= 0.91825 val_ap= 0.92949 time= 3.99893\n",
      "Epoch: 0350 train_loss= 0.44658 train_acc= 0.52675 val_roc= 0.92036 val_ap= 0.93144 time= 4.41018\n",
      "Epoch: 0400 train_loss= 0.44433 train_acc= 0.52634 val_roc= 0.92518 val_ap= 0.93701 time= 4.75411\n",
      "Epoch: 0450 train_loss= 0.44224 train_acc= 0.52889 val_roc= 0.92209 val_ap= 0.93549 time= 5.00718\n",
      "Epoch: 0500 train_loss= 0.43815 train_acc= 0.53195 val_roc= 0.92460 val_ap= 0.93869 time= 5.19628\n",
      "Epoch: 0550 train_loss= 0.43925 train_acc= 0.52831 val_roc= 0.93043 val_ap= 0.94407 time= 5.54830\n",
      "Epoch: 0600 train_loss= 0.43803 train_acc= 0.52675 val_roc= 0.93050 val_ap= 0.94438 time= 5.62461\n",
      "Epoch: 0650 train_loss= 0.43602 train_acc= 0.53077 val_roc= 0.92772 val_ap= 0.94347 time= 5.77254\n",
      "Epoch: 0700 train_loss= 0.43577 train_acc= 0.53183 val_roc= 0.92713 val_ap= 0.94064 time= 6.10306\n",
      "Epoch: 0750 train_loss= 0.43662 train_acc= 0.53218 val_roc= 0.92995 val_ap= 0.94308 time= 6.79043\n",
      "Epoch: 0800 train_loss= 0.43462 train_acc= 0.53264 val_roc= 0.92623 val_ap= 0.94146 time= 6.32833\n",
      "Epoch: 0850 train_loss= 0.43262 train_acc= 0.53221 val_roc= 0.92991 val_ap= 0.94537 time= 6.34249\n",
      "Epoch: 0900 train_loss= 0.43365 train_acc= 0.52918 val_roc= 0.92467 val_ap= 0.94162 time= 6.41623\n",
      "Epoch: 0950 train_loss= 0.42963 train_acc= 0.53305 val_roc= 0.92639 val_ap= 0.94157 time= 6.81260\n",
      "Epoch: 1000 train_loss= 0.43155 train_acc= 0.53098 val_roc= 0.93084 val_ap= 0.94430 time= 6.70006\n",
      "Optimization Finished!\n"
     ]
    }
   ],
   "metadata": {}
  },
  {
   "cell_type": "code",
   "execution_count": 243,
   "source": [
    "sns.set_style('ticks')"
   ],
   "outputs": [],
   "metadata": {}
  },
  {
   "cell_type": "code",
   "execution_count": 244,
   "source": [
    "plt.figure(figsize = (10,10))\n",
    "lw = 2\n",
    "plt.plot(range(len(train_loss_log)), train_loss_log, lw=lw, color='#0070c0', label='Training')\n",
    "plt.plot(range(len(val_loss_log)), val_loss_log, lw=lw, color='#bf0001',label='Validation')\n",
    "plt.xlim([0.0, 1000])\n",
    "plt.ylim([36, 50])\n",
    "plt.xlabel('Epoch',fontsize = 20)\n",
    "plt.ylabel('Loss',fontsize = 20)\n",
    "plt.legend(loc=\"upper right\")\n",
    "plt.legend(fontsize=20)\n",
    "plt.savefig(\"./human_training_loss.pdf\")\n",
    "plt.show()"
   ],
   "outputs": [
    {
     "output_type": "display_data",
     "data": {
      "image/png": "[encoded data removed]",
      "text/plain": [
       "<Figure size 720x720 with 1 Axes>"
      ]
     },
     "metadata": {}
    }
   ],
   "metadata": {}
  },
  {
   "cell_type": "code",
   "execution_count": 120,
   "source": [
    "# Print final results\n",
    "feature_roc_score, feature_ap_score, feature_fpr, feature_tpr, feature_pr_score, feature_prcs, feature_rcal, test_loss = get_roc_score(test_edges, test_edges_false, pos_weight, norm)\n",
    "print('Test ROC score: ' + str(feature_roc_score))\n",
    "print('Test AP score: ' + str(feature_ap_score))"
   ],
   "outputs": [
    {
     "output_type": "stream",
     "name": "stdout",
     "text": [
      "Test ROC score: 0.9227709198884113\n",
      "Test AP score: 0.9417996414106413\n"
     ]
    }
   ],
   "metadata": {}
  },
  {
   "cell_type": "code",
   "execution_count": 121,
   "source": [
    "plt.plot(feature_fpr, feature_tpr, color='#bf0001', label='VGAE + Structure')\n",
    "plt.show()"
   ],
   "outputs": [
    {
     "output_type": "display_data",
     "data": {
      "image/png": "[encoded data removed]",
      "text/plain": [
       "<Figure size 432x288 with 1 Axes>"
      ]
     },
     "metadata": {}
    }
   ],
   "metadata": {}
  },
  {
   "cell_type": "markdown",
   "source": [
    "## Obtain confusion matrix"
   ],
   "metadata": {}
  },
  {
   "cell_type": "code",
   "execution_count": 122,
   "source": [
    "def vae_pred(test,emb=None):\n",
    "    if emb is None:\n",
    "        feed_dict.update({placeholders['dropout']: 0})\n",
    "        emb = sess.run(model.z_mean, feed_dict=feed_dict)\n",
    "    \n",
    "    def sigmoid(x):\n",
    "        return 1 / (1 + np.exp(-x))\n",
    "\n",
    "    # Predict on test set of edges\n",
    "    adj_rec = np.dot(emb, emb.T)\n",
    "    preds_pos = []\n",
    "    pos = []\n",
    "    for e in test:\n",
    "        preds_pos.append(sigmoid(adj_rec[e[0], e[1]])) # predicted score for given edge\n",
    "        pos.append(adj_orig[e[0], e[1]]) # actual value (1)\n",
    "    return np.array(preds_pos),np.array(pos)"
   ],
   "outputs": [],
   "metadata": {}
  },
  {
   "cell_type": "code",
   "execution_count": 123,
   "source": [
    "true_test_pred, test_pos = vae_pred(test_edges)\n",
    "false_test_pred, test_neg = vae_pred(test_edges_false)"
   ],
   "outputs": [],
   "metadata": {}
  },
  {
   "cell_type": "code",
   "execution_count": 233,
   "source": [
    "cutoff = 0.67"
   ],
   "outputs": [],
   "metadata": {}
  },
  {
   "cell_type": "code",
   "execution_count": 234,
   "source": [
    "test_TP = true_test_pred[np.where(true_test_pred>=cutoff)]\n",
    "test_TN = false_test_pred[np.where(false_test_pred<cutoff)]\n",
    "test_FN = true_test_pred[np.where(true_test_pred<cutoff)]\n",
    "test_FP = false_test_pred[np.where(false_test_pred>=cutoff)]"
   ],
   "outputs": [],
   "metadata": {}
  },
  {
   "cell_type": "code",
   "execution_count": 235,
   "source": [
    "N = len(test_TP)+len(test_FP)"
   ],
   "outputs": [],
   "metadata": {}
  },
  {
   "cell_type": "code",
   "execution_count": 236,
   "source": [
    "test_TPR = len(test_TP)/(len(test_TP)+len(test_FN))\n",
    "test_FPR = len(test_FP)/(len(test_FP)+len(test_TN))\n",
    "print('TPR: %.3f' % test_TPR)\n",
    "print('FPR: %.3f' % test_FPR)"
   ],
   "outputs": [
    {
     "output_type": "stream",
     "name": "stdout",
     "text": [
      "TPR: 0.865\n",
      "FPR: 0.128\n"
     ]
    }
   ],
   "metadata": {}
  },
  {
   "cell_type": "code",
   "execution_count": 237,
   "source": [
    "test_Precision = len(test_TP)/(len(test_TP)+len(test_FN))\n",
    "test_Recall = len(test_TP)/(len(test_TP)+len(test_FP))\n",
    "print('Precision: %.3f' % test_Precision)\n",
    "print('Recall: %.3f' % test_Recall)"
   ],
   "outputs": [
    {
     "output_type": "stream",
     "name": "stdout",
     "text": [
      "Precision: 0.865\n",
      "Recall: 0.871\n"
     ]
    }
   ],
   "metadata": {}
  },
  {
   "cell_type": "code",
   "execution_count": 241,
   "source": [
    "plt.figure(figsize = (12,10))\n",
    "data = np.array([[len(test_TP),len(test_FN)],[len(test_FP),len(test_TN)]])\n",
    "df_cm = pd.DataFrame(data, columns=[['Positive','Negative']], index = [['Positive','Negative']])\n",
    "# sns.set(font_scale=1.4)#for label size\n",
    "sns.heatmap(df_cm, cmap=\"Blues\", annot=True,annot_kws={\"size\": 20},fmt='g')# font size\n",
    "plt.xlabel('Predicted',fontsize=20)\n",
    "plt.ylabel('True',fontsize=20)\n",
    "plt.savefig(\"./human_confusion_matrix.pdf\")\n",
    "plt.show()"
   ],
   "outputs": [
    {
     "output_type": "stream",
     "name": "stdout",
     "text": [
      "[[500  78]\n",
      " [ 74 504]]\n"
     ]
    },
    {
     "output_type": "display_data",
     "data": {
      "image/png": "[encoded data removed]",
      "text/plain": [
       "<Figure size 864x720 with 2 Axes>"
      ]
     },
     "metadata": {}
    }
   ],
   "metadata": {}
  }
 ],
 "metadata": {
  "kernelspec": {
   "name": "python3",
   "display_name": "Python 3.8.8 64-bit ('base': conda)"
  },
  "language_info": {
   "codemirror_mode": {
    "name": "ipython",
    "version": 3
   },
   "file_extension": ".py",
   "mimetype": "text/x-python",
   "name": "python",
   "nbconvert_exporter": "python",
   "pygments_lexer": "ipython3",
   "version": "3.8.8"
  },
  "toc": {
   "base_numbering": 1,
   "nav_menu": {},
   "number_sections": true,
   "sideBar": true,
   "skip_h1_title": false,
   "title_cell": "Table of Contents",
   "title_sidebar": "Contents",
   "toc_cell": true,
   "toc_position": {
    "height": "calc(100% - 180px)",
    "left": "10px",
    "top": "150px",
    "width": "317.2146911621094px"
   },
   "toc_section_display": true,
   "toc_window_display": true
  },
  "interpreter": {
   "hash": "3fe952b0ba1daa6ee3393e62a893871d88149d9d44cf2ee1c1e3a6730bdcafed"
  }
 },
 "nbformat": 4,
 "nbformat_minor": 4
}