{
 "cells": [
  {
   "cell_type": "markdown",
   "source": [
    "<h1>Table of Contents<span class=\"tocSkip\"></span></h1>\n",
    "<div class=\"toc\"><ul class=\"toc-item\"><li><span><a href=\"#Read-pathbank-data\" data-toc-modified-id=\"Read-pathbank-data-1\"><span class=\"toc-item-num\">1&nbsp;&nbsp;</span>Read pathbank data</a></span><ul class=\"toc-item\"><li><span><a href=\"#Read-Pathbank-Pathway-metadata\" data-toc-modified-id=\"Read-Pathbank-Pathway-metadata-1.1\"><span class=\"toc-item-num\">1.1&nbsp;&nbsp;</span>Read Pathbank Pathway metadata</a></span></li><li><span><a href=\"#Generate-species-pathway-ID\" data-toc-modified-id=\"Generate-species-pathway-ID-1.2\"><span class=\"toc-item-num\">1.2&nbsp;&nbsp;</span>Generate species pathway ID</a></span></li><li><span><a href=\"#Generate-human-pathway-graph\" data-toc-modified-id=\"Generate-human-pathway-graph-1.3\"><span class=\"toc-item-num\">1.3&nbsp;&nbsp;</span>Generate human pathway graph</a></span><ul class=\"toc-item\"><li><span><a href=\"#Read-human-pathway\" data-toc-modified-id=\"Read-human-pathway-1.3.1\"><span class=\"toc-item-num\">1.3.1&nbsp;&nbsp;</span>Read human pathway</a></span></li><li><span><a href=\"#Analysis-of-protein-classes-and-metabolite-types\" data-toc-modified-id=\"Analysis-of-protein-classes-and-metabolite-types-1.3.2\"><span class=\"toc-item-num\">1.3.2&nbsp;&nbsp;</span>Analysis of protein classes and metabolite types</a></span></li><li><span><a href=\"#Generate-fingerprint-for-metabolite-ID\" data-toc-modified-id=\"Generate-fingerprint-for-metabolite-ID-1.3.3\"><span class=\"toc-item-num\">1.3.3&nbsp;&nbsp;</span>Generate fingerprint for metabolite ID</a></span></li><li><span><a href=\"#Generate-protein-vectors-for-all-uniport-ID\" data-toc-modified-id=\"Generate-protein-vectors-for-all-uniport-ID-1.3.4\"><span class=\"toc-item-num\">1.3.4&nbsp;&nbsp;</span>Generate protein vectors for all uniport ID</a></span></li><li><span><a href=\"#Generate-features-for-graph\" data-toc-modified-id=\"Generate-features-for-graph-1.3.5\"><span class=\"toc-item-num\">1.3.5&nbsp;&nbsp;</span>Generate features for graph</a></span></li><li><span><a href=\"#Unsupervised-learning-of-embedded-features\" data-toc-modified-id=\"Unsupervised-learning-of-embedded-features-1.3.6\"><span class=\"toc-item-num\">1.3.6&nbsp;&nbsp;</span>Unsupervised learning of embedded features</a></span></li><li><span><a href=\"#PCA-dimensionality-reduction\" data-toc-modified-id=\"PCA-dimensionality-reduction-1.3.7\"><span class=\"toc-item-num\">1.3.7&nbsp;&nbsp;</span>PCA dimensionality reduction</a></span></li></ul></li></ul></li><li><span><a href=\"#Read-real-world-data\" data-toc-modified-id=\"Read-real-world-data-2\"><span class=\"toc-item-num\">2&nbsp;&nbsp;</span>Read real world data</a></span><ul class=\"toc-item\"><li><span><a href=\"#Get-metabolite-compound-id\" data-toc-modified-id=\"Get-metabolite-compound-id-2.1\"><span class=\"toc-item-num\">2.1&nbsp;&nbsp;</span>Get metabolite compound id</a></span></li></ul></li><li><span><a href=\"#Spectral-clustering\" data-toc-modified-id=\"Spectral-clustering-3\"><span class=\"toc-item-num\">3&nbsp;&nbsp;</span>Spectral clustering</a></span></li><li><span><a href=\"#Baselines\" data-toc-modified-id=\"Baselines-4\"><span class=\"toc-item-num\">4&nbsp;&nbsp;</span>Baselines</a></span><ul class=\"toc-item\"><li><span><a href=\"#Adamic-Ada\" data-toc-modified-id=\"Adamic-Ada-4.1\"><span class=\"toc-item-num\">4.1&nbsp;&nbsp;</span>Adamic-Ada</a></span></li><li><span><a href=\"#Jaccard-Coefficient\" data-toc-modified-id=\"Jaccard-Coefficient-4.2\"><span class=\"toc-item-num\">4.2&nbsp;&nbsp;</span>Jaccard Coefficient</a></span></li><li><span><a href=\"#Preferential-Attachment\" data-toc-modified-id=\"Preferential-Attachment-4.3\"><span class=\"toc-item-num\">4.3&nbsp;&nbsp;</span>Preferential Attachment</a></span></li></ul></li><li><span><a href=\"#Graph-Vae-(with-feature)\" data-toc-modified-id=\"Graph-Vae-(with-feature)-5\"><span class=\"toc-item-num\">5&nbsp;&nbsp;</span>Graph Vae (with feature)</a></span><ul class=\"toc-item\"><li><span><a href=\"#Read-in-Graph-Data\" data-toc-modified-id=\"Read-in-Graph-Data-5.1\"><span class=\"toc-item-num\">5.1&nbsp;&nbsp;</span>Read in Graph Data</a></span></li><li><span><a href=\"#Data-Preprocessing\" data-toc-modified-id=\"Data-Preprocessing-5.2\"><span class=\"toc-item-num\">5.2&nbsp;&nbsp;</span>Data Preprocessing</a></span></li><li><span><a href=\"#Initialize-VAE-Model\" data-toc-modified-id=\"Initialize-VAE-Model-5.3\"><span class=\"toc-item-num\">5.3&nbsp;&nbsp;</span>Initialize VAE Model</a></span></li><li><span><a href=\"#Train-and-Evaluate-VAE-Model\" data-toc-modified-id=\"Train-and-Evaluate-VAE-Model-5.4\"><span class=\"toc-item-num\">5.4&nbsp;&nbsp;</span>Train and Evaluate VAE Model</a></span></li></ul></li><li><span><a href=\"#Graph-Vae-(without-feature)\" data-toc-modified-id=\"Graph-Vae-(without-feature)-6\"><span class=\"toc-item-num\">6&nbsp;&nbsp;</span>Graph Vae (without feature)</a></span><ul class=\"toc-item\"><li><span><a href=\"#Read-in-Graph-Data\" data-toc-modified-id=\"Read-in-Graph-Data-6.1\"><span class=\"toc-item-num\">6.1&nbsp;&nbsp;</span>Read in Graph Data</a></span></li><li><span><a href=\"#Data-Preprocessing\" data-toc-modified-id=\"Data-Preprocessing-6.2\"><span class=\"toc-item-num\">6.2&nbsp;&nbsp;</span>Data Preprocessing</a></span></li><li><span><a href=\"#Initialize-VAE-Model\" data-toc-modified-id=\"Initialize-VAE-Model-6.3\"><span class=\"toc-item-num\">6.3&nbsp;&nbsp;</span>Initialize VAE Model</a></span></li><li><span><a href=\"#Train-and-Evaluate-VAE-Model\" data-toc-modified-id=\"Train-and-Evaluate-VAE-Model-6.4\"><span class=\"toc-item-num\">6.4&nbsp;&nbsp;</span>Train and Evaluate VAE Model</a></span></li></ul></li><li><span><a href=\"#Node2vec\" data-toc-modified-id=\"Node2vec-7\"><span class=\"toc-item-num\">7&nbsp;&nbsp;</span>Node2vec</a></span><ul class=\"toc-item\"><li><span><a href=\"#Train-node2vec-(Learn-Node-Embeddings)\" data-toc-modified-id=\"Train-node2vec-(Learn-Node-Embeddings)-7.1\"><span class=\"toc-item-num\">7.1&nbsp;&nbsp;</span>Train node2vec (Learn Node Embeddings)</a></span></li><li><span><a href=\"#Create-Edge-Embeddings\" data-toc-modified-id=\"Create-Edge-Embeddings-7.2\"><span class=\"toc-item-num\">7.2&nbsp;&nbsp;</span>Create Edge Embeddings</a></span></li><li><span><a href=\"#Evaluate-Edge-Embeddings\" data-toc-modified-id=\"Evaluate-Edge-Embeddings-7.3\"><span class=\"toc-item-num\">7.3&nbsp;&nbsp;</span>Evaluate Edge Embeddings</a></span></li></ul></li><li><span><a href=\"#Visualization-of-all-ROC-curve\" data-toc-modified-id=\"Visualization-of-all-ROC-curve-8\"><span class=\"toc-item-num\">8&nbsp;&nbsp;</span>Visualization of all ROC curve</a></span></li></ul></div>"
   ],
   "metadata": {
    "toc": true
   }
  },
  {
   "cell_type": "markdown",
   "source": [
    "**Run the notebook in conda tf env** <br>\n",
    "**Conda activate tf**"
   ],
   "metadata": {}
  },
  {
   "cell_type": "code",
   "execution_count": 2,
   "source": [
    "import pandas as pd\n",
    "import numpy as np\n",
    "import networkx as nx\n",
    "import matplotlib.pyplot as plt\n",
    "import scipy.sparse as sp\n",
    "import seaborn as sns\n",
    "# from node2vec import Node2Vec\n",
    "from sklearn.metrics import roc_curve, auc, precision_recall_curve, f1_score\n",
    "from pathlib import Path\n",
    "import pickle\n",
    "import glob"
   ],
   "outputs": [],
   "metadata": {}
  },
  {
   "cell_type": "markdown",
   "source": [
    "# Read MPI data"
   ],
   "metadata": {}
  },
  {
   "cell_type": "markdown",
   "source": [
    "## Read human MPI Network"
   ],
   "metadata": {}
  },
  {
   "cell_type": "code",
   "execution_count": 3,
   "source": [
    "g = nx.empty_graph(0, create_using=nx.Graph)\n",
    "\n",
    "adj_df = pd.read_csv('./features/kegg/kegg_reactions.csv',index_col = 0)\n",
    "g_df = nx.from_pandas_adjacency(adj_df,create_using = nx.Graph())\n",
    "g = nx.compose(g, g_df)"
   ],
   "outputs": [],
   "metadata": {}
  },
  {
   "cell_type": "code",
   "execution_count": 4,
   "source": [
    "print(nx.info(g))"
   ],
   "outputs": [
    {
     "output_type": "stream",
     "name": "stdout",
     "text": [
      "Name: \n",
      "Type: Graph\n",
      "Number of nodes: 5606\n",
      "Number of edges: 7142\n",
      "Average degree:   2.5480\n"
     ]
    }
   ],
   "metadata": {}
  },
  {
   "cell_type": "markdown",
   "source": [
    "## Read KEGG network feature data"
   ],
   "metadata": {}
  },
  {
   "cell_type": "code",
   "execution_count": 5,
   "source": [
    "node_feats = pickle.load(open(\"./features/kegg/kegg_reactions_kegg_info.p\", \"rb\" ))\n",
    "node_feats.head(1)"
   ],
   "outputs": [
    {
     "output_type": "execute_result",
     "data": {
      "text/html": [
       "<div>\n",
       "<style scoped>\n",
       "    .dataframe tbody tr th:only-of-type {\n",
       "        vertical-align: middle;\n",
       "    }\n",
       "\n",
       "    .dataframe tbody tr th {\n",
       "        vertical-align: top;\n",
       "    }\n",
       "\n",
       "    .dataframe thead th {\n",
       "        text-align: right;\n",
       "    }\n",
       "</style>\n",
       "<table border=\"1\" class=\"dataframe\">\n",
       "  <thead>\n",
       "    <tr style=\"text-align: right;\">\n",
       "      <th></th>\n",
       "      <th>keggid</th>\n",
       "      <th>name</th>\n",
       "      <th>formula</th>\n",
       "      <th>pubchemID</th>\n",
       "      <th>smile</th>\n",
       "      <th>fp</th>\n",
       "    </tr>\n",
       "  </thead>\n",
       "  <tbody>\n",
       "    <tr>\n",
       "      <th>0</th>\n",
       "      <td>cpd:C00084</td>\n",
       "      <td>Acetaldehyde</td>\n",
       "      <td>C2H4O</td>\n",
       "      <td>3384.0</td>\n",
       "      <td>CC=O</td>\n",
       "      <td>[0, 0, 0, 0, 0, 0, 0, 0, 0, 0, 0, 0, 0, 0, 0, ...</td>\n",
       "    </tr>\n",
       "  </tbody>\n",
       "</table>\n",
       "</div>"
      ],
      "text/plain": [
       "       keggid          name formula pubchemID smile  \\\n",
       "0  cpd:C00084  Acetaldehyde   C2H4O    3384.0  CC=O   \n",
       "\n",
       "                                                  fp  \n",
       "0  [0, 0, 0, 0, 0, 0, 0, 0, 0, 0, 0, 0, 0, 0, 0, ...  "
      ]
     },
     "metadata": {},
     "execution_count": 5
    }
   ],
   "metadata": {}
  },
  {
   "cell_type": "markdown",
   "source": [
    "# VGAE (with feature)"
   ],
   "metadata": {}
  },
  {
   "cell_type": "markdown",
   "source": [
    "## Read in Graph Data"
   ],
   "metadata": {}
  },
  {
   "cell_type": "code",
   "execution_count": 6,
   "source": [
    "t = []\n",
    "for fp in node_feats['fp'].tolist():\n",
    "    temp = [i for i in fp]\n",
    "    t.append(temp)"
   ],
   "outputs": [],
   "metadata": {}
  },
  {
   "cell_type": "code",
   "execution_count": 7,
   "source": [
    "features = np.asarray(t)"
   ],
   "outputs": [],
   "metadata": {}
  },
  {
   "cell_type": "code",
   "execution_count": 8,
   "source": [
    "features.shape"
   ],
   "outputs": [
    {
     "output_type": "execute_result",
     "data": {
      "text/plain": [
       "(5606, 1024)"
      ]
     },
     "metadata": {},
     "execution_count": 8
    }
   ],
   "metadata": {}
  },
  {
   "cell_type": "code",
   "execution_count": 9,
   "source": [
    "adj = nx.adjacency_matrix(g,nodelist=node_feats['keggid'].tolist())"
   ],
   "outputs": [],
   "metadata": {}
  },
  {
   "cell_type": "markdown",
   "source": [
    "## Data Preprocessing"
   ],
   "metadata": {}
  },
  {
   "cell_type": "code",
   "execution_count": 10,
   "source": [
    "from __future__ import division\n",
    "from __future__ import print_function\n",
    "import scipy.sparse as sp\n",
    "from sklearn.metrics import roc_auc_score\n",
    "from sklearn.metrics import average_precision_score\n",
    "import time\n",
    "import os\n",
    "os.environ['CUDA_VISIBLE_DEVICES'] = \"\""
   ],
   "outputs": [],
   "metadata": {}
  },
  {
   "cell_type": "code",
   "execution_count": 11,
   "source": [
    "import tensorflow.compat.v1 as tf\n",
    "tf.disable_v2_behavior()\n",
    "tf.set_random_seed(0)"
   ],
   "outputs": [
    {
     "output_type": "stream",
     "name": "stdout",
     "text": [
      "WARNING:tensorflow:From /Users/chengwang/opt/anaconda3/lib/python3.8/site-packages/tensorflow/python/compat/v2_compat.py:96: disable_resource_variables (from tensorflow.python.ops.variable_scope) is deprecated and will be removed in a future version.\n",
      "Instructions for updating:\n",
      "non-resource variables are not supported in the long term\n"
     ]
    }
   ],
   "metadata": {}
  },
  {
   "cell_type": "code",
   "execution_count": 12,
   "source": [
    "from vgae.optimizer import OptimizerAE, OptimizerVAE\n",
    "from vgae.model import GCNModelVAE, GCNModelAE\n",
    "from vgae.preprocessing import preprocess_graph, construct_feed_dict, sparse_to_tuple, mask_test_edges_seed"
   ],
   "outputs": [],
   "metadata": {}
  },
  {
   "cell_type": "code",
   "execution_count": 13,
   "source": [
    "# Convert features from normal matrix --> sparse matrix --> tuple\n",
    "    # features_tuple contains: (list of matrix coordinates, list of values, matrix dimensions)\n",
    "import scipy.sparse as sp\n",
    "x = sp.lil_matrix(features)\n",
    "features_tuple = sparse_to_tuple(x)\n",
    "features_shape = features_tuple[2]\n",
    "\n",
    "features_shape"
   ],
   "outputs": [
    {
     "output_type": "execute_result",
     "data": {
      "text/plain": [
       "(5606, 1024)"
      ]
     },
     "metadata": {},
     "execution_count": 13
    }
   ],
   "metadata": {}
  },
  {
   "cell_type": "code",
   "execution_count": 14,
   "source": [
    "# Get graph attributes (to feed into model)\n",
    "num_nodes = adj.shape[0] # number of nodes in adjacency matrix\n",
    "num_features = features_shape[1] # number of features (columsn of features matrix)\n",
    "features_nonzero = features_tuple[1].shape[0] # number of non-zero entries in features matrix (or length of values list)\n",
    "# Store original adjacency matrix (without diagonal entries) for later\n",
    "adj_orig = adj\n",
    "adj_orig = adj_orig - sp.dia_matrix((adj_orig.diagonal()[np.newaxis, :], [0]), shape=adj_orig.shape)\n",
    "adj_orig.eliminate_zeros()"
   ],
   "outputs": [],
   "metadata": {}
  },
  {
   "cell_type": "code",
   "execution_count": 15,
   "source": [
    "np.random.seed(0) # IMPORTANT: guarantees consistent train/test splits\n",
    "adj_train, train_edges, train_edges_false, val_edges, val_edges_false, \\\n",
    "    test_edges, test_edges_false = mask_test_edges_seed(adj, test_frac=.1, val_frac=.1,seed=12345)\n",
    "\n",
    "# Normalize adjacency matrix\n",
    "adj_norm = preprocess_graph(adj_train)\n",
    "\n",
    "# Add in diagonals\n",
    "adj_label = adj_train + sp.eye(adj_train.shape[0])\n",
    "adj_label = sparse_to_tuple(adj_label)\n",
    "\n",
    "# Inspect train/test split\n",
    "print(\"Total nodes:\", adj.shape[0])\n",
    "print(\"Total edges:\", int(adj.nnz/2)) # adj is symmetric, so nnz (num non-zero) = 2*num_edges\n",
    "print(\"Training edges (positive):\", len(train_edges))\n",
    "print(\"Training edges (negative):\", len(train_edges_false))\n",
    "print(\"Validation edges (positive):\", len(val_edges))\n",
    "print(\"Validation edges (negative):\", len(val_edges_false))\n",
    "print(\"Test edges (positive):\", len(test_edges))\n",
    "print(\"Test edges (negative):\", len(test_edges_false))"
   ],
   "outputs": [
    {
     "output_type": "stream",
     "name": "stdout",
     "text": [
      "Total nodes: 5606\n",
      "Total edges: 7138\n",
      "Training edges (positive): 5709\n",
      "Training edges (negative): 5709\n",
      "Validation edges (positive): 713\n",
      "Validation edges (negative): 713\n",
      "Test edges (positive): 713\n",
      "Test edges (negative): 713\n"
     ]
    }
   ],
   "metadata": {}
  },
  {
   "cell_type": "markdown",
   "source": [
    "## Initialize VGAE Model"
   ],
   "metadata": {}
  },
  {
   "cell_type": "code",
   "execution_count": 16,
   "source": [
    "# Define hyperparameters\n",
    "LEARNING_RATE = 0.005\n",
    "EPOCHS = 1000\n",
    "HIDDEN1_DIM = 32\n",
    "HIDDEN2_DIM = 16\n",
    "DROPOUT = 0.1"
   ],
   "outputs": [],
   "metadata": {}
  },
  {
   "cell_type": "code",
   "execution_count": 17,
   "source": [
    "# Define placeholders\n",
    "placeholders = {\n",
    "    'features': tf.sparse_placeholder(tf.float32),\n",
    "    'adj': tf.sparse_placeholder(tf.float32),\n",
    "    'adj_orig': tf.sparse_placeholder(tf.float32),\n",
    "    'dropout': tf.placeholder_with_default(0., shape=())\n",
    "}\n",
    "\n",
    "# How much to weigh positive examples (true edges) in cost print_function\n",
    "  # Want to weigh less-frequent classes higher, so as to prevent model output bias\n",
    "  # pos_weight = (num. negative samples / (num. positive samples)\n",
    "pos_weight = float(adj.shape[0] * adj.shape[0] - adj.sum()) / adj.sum()\n",
    "\n",
    "# normalize (scale) average weighted cost\n",
    "norm = adj.shape[0] * adj.shape[0] / float((adj.shape[0] * adj.shape[0] - adj.sum()) * 2)\n",
    "\n",
    "# Create VAE model\n",
    "model = GCNModelVAE(placeholders, num_features, num_nodes, features_nonzero, HIDDEN1_DIM, HIDDEN2_DIM)\n",
    "\n",
    "opt = OptimizerVAE(preds=model.reconstructions,\n",
    "                           labels=tf.reshape(tf.sparse_tensor_to_dense(placeholders['adj_orig'],\n",
    "                                                                       validate_indices=False), [-1]),\n",
    "                           model=model, num_nodes=num_nodes,\n",
    "                           pos_weight=pos_weight,\n",
    "                           norm=norm,\n",
    "                           learning_rate=LEARNING_RATE)"
   ],
   "outputs": [
    {
     "output_type": "stream",
     "name": "stdout",
     "text": [
      "WARNING:tensorflow:From /Users/chengwang/opt/anaconda3/lib/python3.8/site-packages/tensorflow/python/util/dispatch.py:206: calling dropout (from tensorflow.python.ops.nn_ops) with keep_prob is deprecated and will be removed in a future version.\n",
      "Instructions for updating:\n",
      "Please use `rate` instead of `keep_prob`. Rate should be set to `rate = 1 - keep_prob`.\n",
      "Creating GAE optimizer...\n",
      "Labels shape:  (?,)\n",
      "Preds shape:  (?,)\n",
      "WARNING:tensorflow:From /Users/chengwang/opt/anaconda3/lib/python3.8/site-packages/tensorflow/python/util/dispatch.py:206: calling weighted_cross_entropy_with_logits (from tensorflow.python.ops.nn_impl) with targets is deprecated and will be removed in a future version.\n",
      "Instructions for updating:\n",
      "targets is deprecated, use labels instead\n",
      "CE+KL loss shape:  ()\n"
     ]
    }
   ],
   "metadata": {}
  },
  {
   "cell_type": "code",
   "execution_count": 18,
   "source": [
    "# Calculate ROC AUC\n",
    "def get_roc_score(edges_pos, edges_neg, pos_weight, norm, emb=None):\n",
    "    if emb is None:\n",
    "        feed_dict.update({placeholders['dropout']: 0})\n",
    "        emb = sess.run(model.z_mean, feed_dict=feed_dict)\n",
    "\n",
    "    def sigmoid(x):\n",
    "        return 1 / (1 + np.exp(-x))\n",
    "\n",
    "    # Predict on test set of edges\n",
    "    adj_rec = np.dot(emb, emb.T)\n",
    "    preds_pos = []\n",
    "    pos = []\n",
    "    for e in edges_pos:\n",
    "        preds_pos.append(sigmoid(adj_rec[e[0], e[1]])) # predicted score for given edge\n",
    "        pos.append(adj_orig[e[0], e[1]]) # actual value (1)\n",
    "\n",
    "    preds_neg = []\n",
    "    neg = []\n",
    "    for e in edges_neg:\n",
    "        preds_neg.append(sigmoid(adj_rec[e[0], e[1]])) # predicted score for given edge\n",
    "        neg.append(adj_orig[e[0], e[1]]) # actual value (0)\n",
    "\n",
    "    preds_all = np.hstack([preds_pos, preds_neg])\n",
    "    labels_all = np.hstack([np.ones(len(preds_pos)), np.zeros(len(preds_neg))])\n",
    "    roc_score = roc_auc_score(labels_all, preds_all)\n",
    "    fpr, tpr, _ = roc_curve(labels_all, preds_all)\n",
    "    precision, recall, _ = precision_recall_curve(labels_all, preds_all)\n",
    "    pr_score = auc(recall, precision)\n",
    "    ap_score = average_precision_score(labels_all, preds_all)\n",
    "    \n",
    "    val_loss = norm * tf.reduce_mean(tf.nn.weighted_cross_entropy_with_logits(labels=tf.constant(labels_all), logits=tf.constant(preds_all), pos_weight=pos_weight))\n",
    "    val_loss = tf.keras.backend.eval(val_loss)\n",
    "\n",
    "    return roc_score, ap_score, fpr, tpr, pr_score, precision, recall, val_loss"
   ],
   "outputs": [],
   "metadata": {}
  },
  {
   "cell_type": "code",
   "execution_count": 19,
   "source": [
    "labels = tf.constant([1., 0.5, 0.])\n",
    "logits = tf.constant([1.5, -0.1, -10.])\n",
    "test = tf.nn.weighted_cross_entropy_with_logits(\n",
    "    labels=labels, logits=logits, pos_weight=tf.constant(1.5))\n"
   ],
   "outputs": [],
   "metadata": {}
  },
  {
   "cell_type": "code",
   "execution_count": 20,
   "source": [
    "tf.keras.backend.eval(test)"
   ],
   "outputs": [
    {
     "output_type": "execute_result",
     "data": {
      "text/plain": [
       "array([3.0211994e-01, 8.8049585e-01, 4.5776367e-05], dtype=float32)"
      ]
     },
     "metadata": {},
     "execution_count": 20
    }
   ],
   "metadata": {}
  },
  {
   "cell_type": "code",
   "execution_count": 21,
   "source": [
    "EPOCHS = 1000"
   ],
   "outputs": [],
   "metadata": {}
  },
  {
   "cell_type": "markdown",
   "source": [
    "## Train and Evaluate VGAE Model"
   ],
   "metadata": {}
  },
  {
   "cell_type": "code",
   "execution_count": 22,
   "source": [
    "cost_val = []\n",
    "acc_val = []\n",
    "val_roc_score = []\n",
    "train_loss_log = []\n",
    "val_loss_log = []\n",
    "# Initialize session\n",
    "sess = tf.Session()\n",
    "sess.run(tf.global_variables_initializer())\n",
    "\n",
    "# Train model\n",
    "for epoch in range(EPOCHS):\n",
    "\n",
    "    t = time.time()\n",
    "    # Construct feed dictionary\n",
    "    feed_dict = construct_feed_dict(adj_norm, adj_label, features_tuple, placeholders)\n",
    "    feed_dict.update({placeholders['dropout']: DROPOUT})\n",
    "    # Run single weight update\n",
    "    outs = sess.run([opt.opt_op, opt.cost, opt.accuracy], feed_dict=feed_dict)\n",
    "    \n",
    "    # Compute average loss\n",
    "    avg_cost = outs[1]\n",
    "    avg_accuracy = outs[2]\n",
    "    roc_curr, ap_curr, fpr, tpr, pr_score, precision, recall, train_loss_epoch = get_roc_score(train_edges, train_edges_false, pos_weight, norm)\n",
    "    train_loss_log.append(train_loss_epoch)\n",
    "\n",
    "    # Evaluate predictions\n",
    "    roc_curr, ap_curr, fpr, tpr, pr_score, precision, recall, val_loss_epoch = get_roc_score(val_edges, val_edges_false, pos_weight, norm)\n",
    "    val_roc_score.append(roc_curr)\n",
    "    val_loss_log.append(val_loss_epoch)\n",
    "    \n",
    "    if (epoch+1)%50 == 0:\n",
    "    # Print results for this epoch\n",
    "        print(\"Epoch:\", '%04d' % (epoch + 1), \"train_loss=\", \"{:.5f}\".format(avg_cost),\n",
    "              \"train_acc=\", \"{:.5f}\".format(avg_accuracy), \"val_roc=\", \"{:.5f}\".format(val_roc_score[-1]),\n",
    "              \"val_ap=\", \"{:.5f}\".format(ap_curr),\n",
    "              \"time=\", \"{:.5f}\".format(time.time() - t))\n",
    "\n",
    "print(\"Optimization Finished!\")"
   ],
   "outputs": [
    {
     "output_type": "stream",
     "name": "stdout",
     "text": [
      "Epoch: 0050 train_loss= 0.53130 train_acc= 0.50727 val_roc= 0.91619 val_ap= 0.92119 time= 1.85271\n",
      "Epoch: 0100 train_loss= 0.50929 train_acc= 0.51612 val_roc= 0.92930 val_ap= 0.93513 time= 1.99329\n",
      "Epoch: 0150 train_loss= 0.49509 train_acc= 0.52043 val_roc= 0.93202 val_ap= 0.93872 time= 2.21335\n",
      "Epoch: 0200 train_loss= 0.49288 train_acc= 0.52145 val_roc= 0.93490 val_ap= 0.94367 time= 2.37442\n",
      "Epoch: 0250 train_loss= 0.48895 train_acc= 0.52537 val_roc= 0.93747 val_ap= 0.94648 time= 2.54883\n",
      "Epoch: 0300 train_loss= 0.48614 train_acc= 0.52748 val_roc= 0.93848 val_ap= 0.94819 time= 2.67538\n",
      "Epoch: 0350 train_loss= 0.47983 train_acc= 0.52742 val_roc= 0.94043 val_ap= 0.94902 time= 2.92555\n",
      "Epoch: 0400 train_loss= 0.48646 train_acc= 0.52959 val_roc= 0.93971 val_ap= 0.94858 time= 3.09066\n",
      "Epoch: 0450 train_loss= 0.48214 train_acc= 0.52933 val_roc= 0.94155 val_ap= 0.94976 time= 3.22202\n",
      "Epoch: 0500 train_loss= 0.48316 train_acc= 0.53063 val_roc= 0.94316 val_ap= 0.95131 time= 3.48382\n",
      "Epoch: 0550 train_loss= 0.47972 train_acc= 0.53199 val_roc= 0.94317 val_ap= 0.95166 time= 3.62990\n",
      "Epoch: 0600 train_loss= 0.47983 train_acc= 0.53140 val_roc= 0.94409 val_ap= 0.95233 time= 3.94267\n",
      "Epoch: 0650 train_loss= 0.47901 train_acc= 0.53251 val_roc= 0.94367 val_ap= 0.95144 time= 4.19499\n",
      "Epoch: 0700 train_loss= 0.47887 train_acc= 0.53364 val_roc= 0.94362 val_ap= 0.95156 time= 4.37256\n",
      "Epoch: 0750 train_loss= 0.48313 train_acc= 0.53350 val_roc= 0.94474 val_ap= 0.95262 time= 4.51629\n",
      "Epoch: 0800 train_loss= 0.48050 train_acc= 0.53406 val_roc= 0.94255 val_ap= 0.95097 time= 4.75391\n",
      "Epoch: 0850 train_loss= 0.47880 train_acc= 0.53554 val_roc= 0.94399 val_ap= 0.95212 time= 4.92418\n",
      "Epoch: 0900 train_loss= 0.48041 train_acc= 0.53485 val_roc= 0.94330 val_ap= 0.95136 time= 5.03342\n",
      "Epoch: 0950 train_loss= 0.47653 train_acc= 0.53519 val_roc= 0.94375 val_ap= 0.95184 time= 5.27954\n",
      "Epoch: 1000 train_loss= 0.47377 train_acc= 0.53578 val_roc= 0.94427 val_ap= 0.95202 time= 5.83708\n",
      "Optimization Finished!\n"
     ]
    }
   ],
   "metadata": {}
  },
  {
   "cell_type": "code",
   "execution_count": 23,
   "source": [
    "sns.set_style('ticks')"
   ],
   "outputs": [],
   "metadata": {}
  },
  {
   "cell_type": "code",
   "execution_count": 24,
   "source": [
    "plt.figure(figsize = (10,10))\n",
    "lw = 2\n",
    "plt.plot(range(len(train_loss_log)), train_loss_log, lw=lw, color='#0070c0', label='Training')\n",
    "plt.plot(range(len(val_loss_log)), val_loss_log, lw=lw, color='#bf0001',label='Validation')\n",
    "plt.xlim([0.0, 1000])\n",
    "plt.ylim([180, 250])\n",
    "plt.xlabel('Epoch',fontsize = 20)\n",
    "plt.ylabel('Loss',fontsize = 20)\n",
    "plt.legend(loc=\"upper right\")\n",
    "plt.legend(fontsize=20)\n",
    "plt.savefig(\"./KEGG_training_loss.pdf\")\n",
    "plt.show()"
   ],
   "outputs": [
    {
     "output_type": "display_data",
     "data": {
      "image/png": "[encoded data removed]",
      "text/plain": [
       "<Figure size 720x720 with 1 Axes>"
      ]
     },
     "metadata": {
      "needs_background": "light"
     }
    }
   ],
   "metadata": {}
  },
  {
   "cell_type": "code",
   "execution_count": 25,
   "source": [
    "# Print final results\n",
    "feature_roc_score, feature_ap_score, feature_fpr, feature_tpr, feature_pr_score, feature_prcs, feature_rcal, test_loss = get_roc_score(test_edges, test_edges_false, pos_weight, norm)\n",
    "print('Test ROC score: ' + str(feature_roc_score))\n",
    "print('Test AP score: ' + str(feature_ap_score))"
   ],
   "outputs": [
    {
     "output_type": "stream",
     "name": "stdout",
     "text": [
      "Test ROC score: 0.9386036520716252\n",
      "Test AP score: 0.9373658555109574\n"
     ]
    }
   ],
   "metadata": {}
  },
  {
   "cell_type": "code",
   "execution_count": 67,
   "source": [
    "feature_pr_score"
   ],
   "outputs": [
    {
     "output_type": "execute_result",
     "data": {
      "text/plain": [
       "0.9384504804831287"
      ]
     },
     "metadata": {},
     "execution_count": 67
    }
   ],
   "metadata": {}
  },
  {
   "cell_type": "code",
   "execution_count": 66,
   "source": [
    "feature_pr_score"
   ],
   "outputs": [
    {
     "output_type": "execute_result",
     "data": {
      "text/plain": [
       "0.9384504804831287"
      ]
     },
     "metadata": {},
     "execution_count": 66
    }
   ],
   "metadata": {}
  },
  {
   "cell_type": "code",
   "execution_count": 26,
   "source": [
    "plt.plot(feature_fpr, feature_tpr, color='#bf0001', label='VGAE + Structure')\n",
    "plt.show()"
   ],
   "outputs": [
    {
     "output_type": "display_data",
     "data": {
      "image/png": "[encoded data removed]",
      "text/plain": [
       "<Figure size 432x288 with 1 Axes>"
      ]
     },
     "metadata": {
      "needs_background": "light"
     }
    }
   ],
   "metadata": {}
  },
  {
   "cell_type": "markdown",
   "source": [
    "## Obtain confusion matrix"
   ],
   "metadata": {}
  },
  {
   "cell_type": "code",
   "execution_count": 27,
   "source": [
    "def vae_pred(test,emb=None):\n",
    "    if emb is None:\n",
    "        feed_dict.update({placeholders['dropout']: 0})\n",
    "        emb = sess.run(model.z_mean, feed_dict=feed_dict)\n",
    "    \n",
    "    def sigmoid(x):\n",
    "        return 1 / (1 + np.exp(-x))\n",
    "\n",
    "    # Predict on test set of edges\n",
    "    adj_rec = np.dot(emb, emb.T)\n",
    "    preds_pos = []\n",
    "    pos = []\n",
    "    for e in test:\n",
    "        preds_pos.append(sigmoid(adj_rec[e[0], e[1]])) # predicted score for given edge\n",
    "        pos.append(adj_orig[e[0], e[1]]) # actual value (1)\n",
    "    return np.array(preds_pos),np.array(pos)"
   ],
   "outputs": [],
   "metadata": {}
  },
  {
   "cell_type": "code",
   "execution_count": 28,
   "source": [
    "true_test_pred, test_pos = vae_pred(test_edges)\n",
    "false_test_pred, test_neg = vae_pred(test_edges_false)"
   ],
   "outputs": [],
   "metadata": {}
  },
  {
   "cell_type": "code",
   "execution_count": 29,
   "source": [
    "cutoff = 0.67"
   ],
   "outputs": [],
   "metadata": {}
  },
  {
   "cell_type": "code",
   "execution_count": 30,
   "source": [
    "test_TP = true_test_pred[np.where(true_test_pred>=cutoff)]\n",
    "test_TN = false_test_pred[np.where(false_test_pred<cutoff)]\n",
    "test_FN = true_test_pred[np.where(true_test_pred<cutoff)]\n",
    "test_FP = false_test_pred[np.where(false_test_pred>=cutoff)]"
   ],
   "outputs": [],
   "metadata": {}
  },
  {
   "cell_type": "code",
   "execution_count": 31,
   "source": [
    "N = len(test_TP)+len(test_FP)"
   ],
   "outputs": [],
   "metadata": {}
  },
  {
   "cell_type": "code",
   "execution_count": 32,
   "source": [
    "test_TPR = len(test_TP)/(len(test_TP)+len(test_FN))\n",
    "test_FPR = len(test_FP)/(len(test_FP)+len(test_TN))\n",
    "print('TPR: %.3f' % test_TPR)\n",
    "print('FPR: %.3f' % test_FPR)"
   ],
   "outputs": [
    {
     "output_type": "stream",
     "name": "stdout",
     "text": [
      "TPR: 0.865\n",
      "FPR: 0.107\n"
     ]
    }
   ],
   "metadata": {}
  },
  {
   "cell_type": "code",
   "execution_count": 33,
   "source": [
    "test_Precision = len(test_TP)/(len(test_TP)+len(test_FN))\n",
    "test_Recall = len(test_TP)/(len(test_TP)+len(test_FP))\n",
    "print('Precision: %.3f' % test_Precision)\n",
    "print('Recall: %.3f' % test_Recall)"
   ],
   "outputs": [
    {
     "output_type": "stream",
     "name": "stdout",
     "text": [
      "Precision: 0.865\n",
      "Recall: 0.890\n"
     ]
    }
   ],
   "metadata": {}
  },
  {
   "cell_type": "code",
   "execution_count": 34,
   "source": [
    "plt.figure(figsize = (12,10))\n",
    "data = np.array([[len(test_TP),len(test_FN)],[len(test_FP),len(test_TN)]])\n",
    "df_cm = pd.DataFrame(data, columns=[['Positive','Negative']], index = [['Positive','Negative']])\n",
    "# sns.set(font_scale=1.4)#for label size\n",
    "sns.heatmap(df_cm, cmap=\"Blues\", annot=True,annot_kws={\"size\": 20},fmt='g')# font size\n",
    "plt.xlabel('Predicted',fontsize=20)\n",
    "plt.ylabel('True',fontsize=20)\n",
    "plt.savefig(\"./KEGG_confusion_matrix.pdf\")\n",
    "plt.show()"
   ],
   "outputs": [
    {
     "output_type": "display_data",
     "data": {
      "image/png": "[encoded data removed]",
      "text/plain": [
       "<Figure size 864x720 with 2 Axes>"
      ]
     },
     "metadata": {
      "needs_background": "light"
     }
    }
   ],
   "metadata": {}
  },
  {
   "cell_type": "markdown",
   "source": [
    "# Baselines"
   ],
   "metadata": {}
  },
  {
   "cell_type": "markdown",
   "source": [
    "# Spectral clustering"
   ],
   "metadata": {}
  },
  {
   "cell_type": "markdown",
   "source": [
    "---\n",
    "Spectral clustering for link prediction:\n",
    "1. Compute eigendecomposition of graph Laplacian\n",
    "2. Take top K eigenvectors --> node embedding vectors (Z)\n",
    "3. Edge scores = sigmoid(Z * Z^T)\n",
    "3. Test scores these scores against actual edge values (ROC AUC, AP)\n",
    "\n",
    "Scikit-learn documentation: http://scikit-learn.org/stable/modules/generated/sklearn.manifold.spectral_embedding.html"
   ],
   "metadata": {}
  },
  {
   "cell_type": "code",
   "execution_count": 35,
   "source": [
    "from vgae.preprocessing import mask_test_edges_seed\n",
    "np.random.seed(0) # make sure train-test split is consistent between notebooks\n",
    "adj_sparse = nx.to_scipy_sparse_matrix(g)\n",
    "\n",
    "# Perform train-test split\n",
    "adj_train, train_edges, train_edges_false, val_edges, val_edges_false, \\\n",
    "    test_edges, test_edges_false = mask_test_edges_seed(adj_sparse, test_frac=.1, val_frac=.1,seed=12345)\n",
    "g_train = nx.from_scipy_sparse_matrix(adj_train) # new graph object with only non-hidden edges"
   ],
   "outputs": [],
   "metadata": {}
  },
  {
   "cell_type": "code",
   "execution_count": 36,
   "source": [
    "# Inspect train/test split\n",
    "print (\"Total nodes:\", adj_sparse.shape[0])\n",
    "print (\"Total edges:\", int(adj_sparse.nnz/2)) # adj is symmetric, so nnz (num non-zero) = 2*num_edges\n",
    "print (\"Training edges (positive):\", len(train_edges))\n",
    "print (\"Training edges (negative):\", len(train_edges_false))\n",
    "print (\"Validation edges (positive):\", len(val_edges))\n",
    "print (\"Validation edges (negative):\", len(val_edges_false))\n",
    "print (\"Test edges (positive):\", len(test_edges))\n",
    "print (\"Test edges (negative):\", len(test_edges_false))"
   ],
   "outputs": [
    {
     "output_type": "stream",
     "name": "stdout",
     "text": [
      "Total nodes: 5606\n",
      "Total edges: 7138\n",
      "Training edges (positive): 5709\n",
      "Training edges (negative): 5709\n",
      "Validation edges (positive): 713\n",
      "Validation edges (negative): 713\n",
      "Test edges (positive): 713\n",
      "Test edges (negative): 713\n"
     ]
    }
   ],
   "metadata": {}
  },
  {
   "cell_type": "code",
   "execution_count": 37,
   "source": [
    "from sklearn.manifold import spectral_embedding\n",
    "\n",
    "# Get spectral embeddings (16-dim)\n",
    "emb = spectral_embedding(adj_train, n_components=100, random_state=0)"
   ],
   "outputs": [
    {
     "output_type": "stream",
     "name": "stderr",
     "text": [
      "/Users/chengwang/opt/anaconda3/lib/python3.8/site-packages/sklearn/manifold/_spectral_embedding.py:259: UserWarning: Graph is not fully connected, spectral embedding may not work as expected.\n",
      "  warnings.warn(\n"
     ]
    }
   ],
   "metadata": {}
  },
  {
   "cell_type": "code",
   "execution_count": 38,
   "source": [
    "def get_roc_score(edges_pos, edges_neg, embeddings):\n",
    "    score_matrix = np.dot(embeddings, embeddings.T)\n",
    "    \n",
    "    def sigmoid(x):\n",
    "        return 1 / (1 + np.exp(-x))\n",
    "    \n",
    "    # Store positive edge predictions, actual values\n",
    "    preds_pos = []\n",
    "    pos = []\n",
    "    for edge in edges_pos:\n",
    "        preds_pos.append(sigmoid(score_matrix[edge[0], edge[1]])) # predicted score\n",
    "        pos.append(adj_sparse[edge[0], edge[1]]) # actual value (1 for positive)\n",
    "        \n",
    "    # Store negative edge predictions, actual values\n",
    "    preds_neg = []\n",
    "    neg = []\n",
    "    for edge in edges_neg:\n",
    "        preds_neg.append(sigmoid(score_matrix[edge[0], edge[1]])) # predicted score\n",
    "        neg.append(adj_sparse[edge[0], edge[1]]) # actual value (0 for negative)\n",
    "        \n",
    "    # Calculate scores\n",
    "    preds_all = np.hstack([preds_pos, preds_neg])\n",
    "    labels_all = np.hstack([np.ones(len(preds_pos)), np.zeros(len(preds_neg))])\n",
    "    roc_score = roc_auc_score(labels_all, preds_all)\n",
    "    fpr, tpr, _ = roc_curve(labels_all, preds_all)\n",
    "    precision, recall, _ = precision_recall_curve(labels_all, preds_all)\n",
    "    pr_score = auc(recall, precision)\n",
    "    ap_score = average_precision_score(labels_all, preds_all)\n",
    "    return roc_score, ap_score, fpr, tpr, pr_score, precision, recall"
   ],
   "outputs": [],
   "metadata": {}
  },
  {
   "cell_type": "code",
   "execution_count": 39,
   "source": [
    "def specluster_pred(test,embeddings):\n",
    "    score_matrix = np.dot(embeddings, embeddings.T)\n",
    "    def sigmoid(x):\n",
    "        return 1 / (1 + np.exp(-x))\n",
    "    \n",
    "    # Store positive edge predictions, actual values\n",
    "    preds_pos = []\n",
    "    pos = []\n",
    "    for edge in test:\n",
    "        preds_pos.append(sigmoid(score_matrix[edge[0], edge[1]])) # predicted score\n",
    "        pos.append(adj_sparse[edge[0], edge[1]]) # actual value (1 for positive)\n",
    "    return preds_pos,pos\n",
    "\n"
   ],
   "outputs": [],
   "metadata": {}
  },
  {
   "cell_type": "code",
   "execution_count": 40,
   "source": [
    "# test_pred, test_pos = specluster_pred(test_index,emb)"
   ],
   "outputs": [],
   "metadata": {}
  },
  {
   "cell_type": "code",
   "execution_count": 41,
   "source": [
    "# real_roc_score, real_ap_score, real_fpr, real_tpr = get_roc_score(test_index_real, test_index_false[:81],emb)"
   ],
   "outputs": [],
   "metadata": {}
  },
  {
   "cell_type": "code",
   "execution_count": 42,
   "source": [
    "# print ('Spectral Clustering Test ROC score on real: ', str(real_roc_score))\n",
    "# print ('Spectral Clustering Test AP score on real: ', str(real_ap_score))"
   ],
   "outputs": [],
   "metadata": {}
  },
  {
   "cell_type": "code",
   "execution_count": 64,
   "source": [
    "# Calculate ROC AUC and Average Precision\n",
    "sc_roc, sc_ap, sc_fpr, sc_tpr, sc_pr_score, sc_prcs, sc_rcal = get_roc_score(test_edges, test_edges_false, emb)\n",
    "\n",
    "print ('Spectral Clustering Test ROC score: ', str(sc_roc))\n",
    "print ('Spectral Clustering Test AP score: ', str(sc_ap))\n",
    "print ('Spectral Clustering Test precision-recall score: ', str(sc_pr_score))"
   ],
   "outputs": [
    {
     "output_type": "stream",
     "name": "stdout",
     "text": [
      "Spectral Clustering Test ROC score:  0.8426634983643772\n",
      "Spectral Clustering Test AP score:  0.8776112741394789\n",
      "Spectral Clustering Test precision-recall score:  0.8775248169539116\n"
     ]
    }
   ],
   "metadata": {}
  },
  {
   "cell_type": "code",
   "execution_count": 65,
   "source": [
    "sc_pr_score"
   ],
   "outputs": [
    {
     "output_type": "execute_result",
     "data": {
      "text/plain": [
       "0.8775248169539116"
      ]
     },
     "metadata": {},
     "execution_count": 65
    }
   ],
   "metadata": {}
  },
  {
   "cell_type": "markdown",
   "source": [
    "ROC AUC and Average Precision using the following baselind\n",
    "1. Adamic-Adar\n",
    "2. Jaccard Coefficient\n",
    "3. Preferential Attachment"
   ],
   "metadata": {}
  },
  {
   "cell_type": "markdown",
   "source": [
    "## Adamic-Ada"
   ],
   "metadata": {}
  },
  {
   "cell_type": "code",
   "execution_count": 44,
   "source": [
    "# Compute Adamic-Adar indexes from g_train\n",
    "aa_matrix = np.zeros(adj_sparse.shape)\n",
    "for u, v, p in nx.adamic_adar_index(g_train): # (u, v) = node indices, p = Adamic-Adar index\n",
    "    aa_matrix[u][v] = p\n",
    "    aa_matrix[v][u] = p # make sure it's symmetric\n",
    "    \n",
    "# Normalize array\n",
    "aa_matrix = aa_matrix / aa_matrix.max()"
   ],
   "outputs": [],
   "metadata": {}
  },
  {
   "cell_type": "code",
   "execution_count": 60,
   "source": [
    "# Calculate ROC AUC and Average Precision\n",
    "aa_roc, aa_ap, aa_fpr, aa_tpr, aa_pr_score, aa_prcs, aa_rcal = get_roc_score(test_edges, test_edges_false, aa_matrix)\n",
    "\n",
    "print ('Adamic-Adar Test ROC score: ', str(aa_roc))\n",
    "print ('Adamic-Adar Test AP score: ', str(aa_ap))"
   ],
   "outputs": [
    {
     "output_type": "stream",
     "name": "stdout",
     "text": [
      "Adamic-Adar Test ROC score:  0.5934547543221557\n",
      "Adamic-Adar Test AP score:  0.5942159075507599\n"
     ]
    }
   ],
   "metadata": {}
  },
  {
   "cell_type": "code",
   "execution_count": 62,
   "source": [
    "aa_roc"
   ],
   "outputs": [
    {
     "output_type": "execute_result",
     "data": {
      "text/plain": [
       "0.5934547543221557"
      ]
     },
     "metadata": {},
     "execution_count": 62
    }
   ],
   "metadata": {}
  },
  {
   "cell_type": "code",
   "execution_count": 61,
   "source": [
    "aa_pr_score"
   ],
   "outputs": [
    {
     "output_type": "execute_result",
     "data": {
      "text/plain": [
       "0.7909605658519145"
      ]
     },
     "metadata": {},
     "execution_count": 61
    }
   ],
   "metadata": {}
  },
  {
   "cell_type": "markdown",
   "source": [
    "## Jaccard Coefficient"
   ],
   "metadata": {}
  },
  {
   "cell_type": "code",
   "execution_count": 46,
   "source": [
    "# Compute Jaccard Coefficients from g_train\n",
    "jc_matrix = np.zeros(adj_sparse.shape)\n",
    "for u, v, p in nx.jaccard_coefficient(g_train): # (u, v) = node indices, p = Jaccard coefficient\n",
    "    jc_matrix[u][v] = p\n",
    "    jc_matrix[v][u] = p # make sure it's symmetric\n",
    "    \n",
    "# Normalize array\n",
    "jc_matrix = jc_matrix / jc_matrix.max()"
   ],
   "outputs": [],
   "metadata": {}
  },
  {
   "cell_type": "code",
   "execution_count": 47,
   "source": [
    "# Calculate ROC AUC and Average Precision\n",
    "jc_roc, jc_ap, jc_fpr, jc_tpr, jc_pr_score, jc_prcs, jc_rcal = get_roc_score(test_edges, test_edges_false, jc_matrix)\n",
    "\n",
    "print ('Jaccard Coefficient Test ROC score: ', str(jc_roc))\n",
    "print ('Jaccard Coefficient Test AP score: ', str(jc_ap))"
   ],
   "outputs": [
    {
     "output_type": "stream",
     "name": "stdout",
     "text": [
      "Jaccard Coefficient Test ROC score:  0.5933426310416252\n",
      "Jaccard Coefficient Test AP score:  0.5930315433685657\n"
     ]
    }
   ],
   "metadata": {}
  },
  {
   "cell_type": "code",
   "execution_count": 63,
   "source": [
    "jc_pr_score"
   ],
   "outputs": [
    {
     "output_type": "execute_result",
     "data": {
      "text/plain": [
       "0.7898045974555868"
      ]
     },
     "metadata": {},
     "execution_count": 63
    }
   ],
   "metadata": {}
  },
  {
   "cell_type": "code",
   "execution_count": 58,
   "source": [
    "jc_pr_score"
   ],
   "outputs": [
    {
     "output_type": "execute_result",
     "data": {
      "text/plain": [
       "0.7898045974555868"
      ]
     },
     "metadata": {},
     "execution_count": 58
    }
   ],
   "metadata": {}
  },
  {
   "cell_type": "markdown",
   "source": [
    "## Preferential Attachment"
   ],
   "metadata": {}
  },
  {
   "cell_type": "code",
   "execution_count": 48,
   "source": [
    "# Calculate, store Adamic-Index scores in array\n",
    "pa_matrix = np.zeros(adj_sparse.shape)\n",
    "for u, v, p in nx.preferential_attachment(g_train): # (u, v) = node indices, p = Jaccard coefficient\n",
    "    pa_matrix[u][v] = p\n",
    "    pa_matrix[v][u] = p # make sure it's symmetric\n",
    "    \n",
    "# Normalize array\n",
    "pa_matrix = pa_matrix / pa_matrix.max()"
   ],
   "outputs": [],
   "metadata": {}
  },
  {
   "cell_type": "code",
   "execution_count": 49,
   "source": [
    "# Calculate ROC AUC and Average Precision\n",
    "pa_roc, pa_ap, pa_fpr, pa_tpr, pa_pr_score, pa_prcs, pa_rcal = get_roc_score(test_edges, test_edges_false, pa_matrix)\n",
    "\n",
    "print ('Preferential Attachment Test ROC score: ', str(pa_roc))\n",
    "print ('Preferential Attachment Test AP score: ', str(pa_ap))"
   ],
   "outputs": [
    {
     "output_type": "stream",
     "name": "stdout",
     "text": [
      "Preferential Attachment Test ROC score:  0.6099683497616889\n",
      "Preferential Attachment Test AP score:  0.671881775102471\n"
     ]
    }
   ],
   "metadata": {}
  },
  {
   "cell_type": "code",
   "execution_count": 52,
   "source": [
    "aa_ap"
   ],
   "outputs": [
    {
     "output_type": "execute_result",
     "data": {
      "text/plain": [
       "0.5942159075507599"
      ]
     },
     "metadata": {},
     "execution_count": 52
    }
   ],
   "metadata": {}
  },
  {
   "cell_type": "code",
   "execution_count": 55,
   "source": [
    "pa_ap"
   ],
   "outputs": [
    {
     "output_type": "execute_result",
     "data": {
      "text/plain": [
       "0.671881775102471"
      ]
     },
     "metadata": {},
     "execution_count": 55
    }
   ],
   "metadata": {}
  },
  {
   "cell_type": "code",
   "execution_count": 54,
   "source": [
    "pa_pr_score"
   ],
   "outputs": [
    {
     "output_type": "execute_result",
     "data": {
      "text/plain": [
       "0.671909868985633"
      ]
     },
     "metadata": {},
     "execution_count": 54
    }
   ],
   "metadata": {}
  },
  {
   "cell_type": "code",
   "execution_count": 57,
   "source": [
    "plt.plot(aa_rcal, aa_prcs, color='gray', label='Adamic-Ada: %.3f' % aa_ap,lw = lw)\n",
    "plt.plot(jc_rcal, jc_prcs, color='#017635', label='JC: %.3f' % jc_ap,lw = lw)\n",
    "plt.plot(pa_rcal, pa_prcs, color='#98e1a4', label='Preferential Attachment: %.3f' % pa_ap,lw = lw)\n"
   ],
   "outputs": [
    {
     "output_type": "execute_result",
     "data": {
      "text/plain": [
       "[<matplotlib.lines.Line2D at 0x7f95ba068a60>]"
      ]
     },
     "metadata": {},
     "execution_count": 57
    },
    {
     "output_type": "display_data",
     "data": {
      "image/png": "[encoded data removed]",
      "text/plain": [
       "<Figure size 432x288 with 1 Axes>"
      ]
     },
     "metadata": {
      "needs_background": "light"
     }
    }
   ],
   "metadata": {}
  },
  {
   "cell_type": "markdown",
   "source": [
    "# Graph Vae (without feature)"
   ],
   "metadata": {}
  },
  {
   "cell_type": "markdown",
   "source": [
    "## Read in Graph Data"
   ],
   "metadata": {}
  },
  {
   "cell_type": "code",
   "execution_count": 98,
   "source": [
    "node_feats.head(1)"
   ],
   "outputs": [
    {
     "output_type": "execute_result",
     "data": {
      "text/html": [
       "<div>\n",
       "<style scoped>\n",
       "    .dataframe tbody tr th:only-of-type {\n",
       "        vertical-align: middle;\n",
       "    }\n",
       "\n",
       "    .dataframe tbody tr th {\n",
       "        vertical-align: top;\n",
       "    }\n",
       "\n",
       "    .dataframe thead th {\n",
       "        text-align: right;\n",
       "    }\n",
       "</style>\n",
       "<table border=\"1\" class=\"dataframe\">\n",
       "  <thead>\n",
       "    <tr style=\"text-align: right;\">\n",
       "      <th></th>\n",
       "      <th>keggid</th>\n",
       "      <th>name</th>\n",
       "      <th>formula</th>\n",
       "      <th>pubchemID</th>\n",
       "      <th>smile</th>\n",
       "      <th>fp</th>\n",
       "    </tr>\n",
       "  </thead>\n",
       "  <tbody>\n",
       "    <tr>\n",
       "      <th>0</th>\n",
       "      <td>cpd:C00084</td>\n",
       "      <td>Acetaldehyde</td>\n",
       "      <td>C2H4O</td>\n",
       "      <td>3384.0</td>\n",
       "      <td>CC=O</td>\n",
       "      <td>[0, 0, 0, 0, 0, 0, 0, 0, 0, 0, 0, 0, 0, 0, 0, ...</td>\n",
       "    </tr>\n",
       "  </tbody>\n",
       "</table>\n",
       "</div>"
      ],
      "text/plain": [
       "       keggid          name formula pubchemID smile  \\\n",
       "0  cpd:C00084  Acetaldehyde   C2H4O    3384.0  CC=O   \n",
       "\n",
       "                                                  fp  \n",
       "0  [0, 0, 0, 0, 0, 0, 0, 0, 0, 0, 0, 0, 0, 0, 0, ...  "
      ]
     },
     "metadata": {},
     "execution_count": 98
    }
   ],
   "metadata": {}
  },
  {
   "cell_type": "code",
   "execution_count": null,
   "source": [
    "# adj = nx.adjacency_matrix(g,nodelist=node_feats['keggid'].tolist())"
   ],
   "outputs": [],
   "metadata": {}
  },
  {
   "cell_type": "code",
   "execution_count": 111,
   "source": [
    "adj.shape"
   ],
   "outputs": [
    {
     "output_type": "execute_result",
     "data": {
      "text/plain": [
       "(5606, 5606)"
      ]
     },
     "metadata": {},
     "execution_count": 111
    }
   ],
   "metadata": {}
  },
  {
   "cell_type": "code",
   "execution_count": 145,
   "source": [
    "features = np.random.rand(adj.shape[0],1024)\n",
    "features.shape"
   ],
   "outputs": [
    {
     "output_type": "execute_result",
     "data": {
      "text/plain": [
       "(5606, 1024)"
      ]
     },
     "metadata": {},
     "execution_count": 145
    }
   ],
   "metadata": {}
  },
  {
   "cell_type": "markdown",
   "source": [
    "## Data Preprocessing"
   ],
   "metadata": {}
  },
  {
   "cell_type": "code",
   "execution_count": 146,
   "source": [
    "# Convert features from normal matrix --> sparse matrix --> tuple\n",
    "    # features_tuple contains: (list of matrix coordinates, list of values, matrix dimensions)\n",
    "import scipy.sparse as sp\n",
    "x = sp.lil_matrix(features)\n",
    "features_tuple = sparse_to_tuple(x)\n",
    "features_shape = features_tuple[2]\n",
    "\n",
    "features_shape"
   ],
   "outputs": [
    {
     "output_type": "execute_result",
     "data": {
      "text/plain": [
       "(5606, 1024)"
      ]
     },
     "metadata": {},
     "execution_count": 146
    }
   ],
   "metadata": {}
  },
  {
   "cell_type": "markdown",
   "source": [
    "## Initialize VGAE Model"
   ],
   "metadata": {}
  },
  {
   "cell_type": "code",
   "execution_count": 147,
   "source": [
    "# Define hyperparameters\n",
    "LEARNING_RATE = 0.005\n",
    "EPOCHS = 200\n",
    "HIDDEN1_DIM = 32\n",
    "HIDDEN2_DIM = 16\n",
    "DROPOUT = 0.1"
   ],
   "outputs": [],
   "metadata": {}
  },
  {
   "cell_type": "code",
   "execution_count": 148,
   "source": [
    "# Define placeholders\n",
    "placeholders = {\n",
    "    'features': tf.sparse_placeholder(tf.float32),\n",
    "    'adj': tf.sparse_placeholder(tf.float32),\n",
    "    'adj_orig': tf.sparse_placeholder(tf.float32),\n",
    "    'dropout': tf.placeholder_with_default(0., shape=())\n",
    "}\n",
    "\n",
    "# How much to weigh positive examples (true edges) in cost print_function\n",
    "  # Want to weigh less-frequent classes higher, so as to prevent model output bias\n",
    "  # pos_weight = (num. negative samples / (num. positive samples)\n",
    "pos_weight = float(adj.shape[0] * adj.shape[0] - adj.sum()) / adj.sum()\n",
    "\n",
    "# normalize (scale) average weighted cost\n",
    "norm = adj.shape[0] * adj.shape[0] / float((adj.shape[0] * adj.shape[0] - adj.sum()) * 2)\n",
    "\n",
    "# Create VAE model\n",
    "model = GCNModelVAE(placeholders, num_features, num_nodes, features_nonzero, HIDDEN1_DIM, HIDDEN2_DIM)\n",
    "\n",
    "opt = OptimizerVAE(preds=model.reconstructions,\n",
    "                           labels=tf.reshape(tf.sparse_tensor_to_dense(placeholders['adj_orig'],\n",
    "                                                                       validate_indices=False), [-1]),\n",
    "                           model=model, num_nodes=num_nodes,\n",
    "                           pos_weight=pos_weight,\n",
    "                           norm=norm,\n",
    "                           learning_rate=LEARNING_RATE)"
   ],
   "outputs": [
    {
     "output_type": "stream",
     "name": "stdout",
     "text": [
      "Creating GAE optimizer...\n",
      "Labels shape:  (?,)\n",
      "Preds shape:  (?,)\n",
      "CE+KL loss shape:  ()\n"
     ]
    }
   ],
   "metadata": {}
  },
  {
   "cell_type": "code",
   "execution_count": 149,
   "source": [
    "# Calculate ROC AUC\n",
    "def get_roc_score(edges_pos, edges_neg, pos_weight, norm, emb=None):\n",
    "    if emb is None:\n",
    "        feed_dict.update({placeholders['dropout']: 0})\n",
    "        emb = sess.run(model.z_mean, feed_dict=feed_dict)\n",
    "\n",
    "    def sigmoid(x):\n",
    "        return 1 / (1 + np.exp(-x))\n",
    "\n",
    "    # Predict on test set of edges\n",
    "    adj_rec = np.dot(emb, emb.T)\n",
    "    preds_pos = []\n",
    "    pos = []\n",
    "    for e in edges_pos:\n",
    "        preds_pos.append(sigmoid(adj_rec[e[0], e[1]])) # predicted score for given edge\n",
    "        pos.append(adj_orig[e[0], e[1]]) # actual value (1)\n",
    "\n",
    "    preds_neg = []\n",
    "    neg = []\n",
    "    for e in edges_neg:\n",
    "        preds_neg.append(sigmoid(adj_rec[e[0], e[1]])) # predicted score for given edge\n",
    "        neg.append(adj_orig[e[0], e[1]]) # actual value (0)\n",
    "\n",
    "    preds_all = np.hstack([preds_pos, preds_neg])\n",
    "    labels_all = np.hstack([np.ones(len(preds_pos)), np.zeros(len(preds_neg))])\n",
    "    roc_score = roc_auc_score(labels_all, preds_all)\n",
    "    fpr, tpr, _ = roc_curve(labels_all, preds_all)\n",
    "    precision, recall, _ = precision_recall_curve(labels_all, preds_all)\n",
    "    pr_score = auc(recall, precision)\n",
    "    ap_score = average_precision_score(labels_all, preds_all)\n",
    "    \n",
    "    val_loss = norm * tf.reduce_mean(tf.nn.weighted_cross_entropy_with_logits(labels=tf.constant(labels_all), logits=tf.constant(preds_all), pos_weight=pos_weight))\n",
    "    val_loss = tf.keras.backend.eval(val_loss)\n",
    "\n",
    "    return roc_score, ap_score, fpr, tpr, pr_score, precision, recall, val_loss"
   ],
   "outputs": [],
   "metadata": {}
  },
  {
   "cell_type": "code",
   "execution_count": 150,
   "source": [
    "labels = tf.constant([1., 0.5, 0.])\n",
    "logits = tf.constant([1.5, -0.1, -10.])\n",
    "test = tf.nn.weighted_cross_entropy_with_logits(\n",
    "    labels=labels, logits=logits, pos_weight=tf.constant(1.5))\n"
   ],
   "outputs": [],
   "metadata": {}
  },
  {
   "cell_type": "code",
   "execution_count": 151,
   "source": [
    "tf.keras.backend.eval(test)"
   ],
   "outputs": [
    {
     "output_type": "execute_result",
     "data": {
      "text/plain": [
       "array([3.0211994e-01, 8.8049585e-01, 4.5776367e-05], dtype=float32)"
      ]
     },
     "metadata": {},
     "execution_count": 151
    }
   ],
   "metadata": {}
  },
  {
   "cell_type": "code",
   "execution_count": 1,
   "source": [
    "EPOCHS = 200"
   ],
   "outputs": [],
   "metadata": {}
  },
  {
   "cell_type": "markdown",
   "source": [
    "## Train and Evaluate VGAE Model"
   ],
   "metadata": {}
  },
  {
   "cell_type": "code",
   "execution_count": 153,
   "source": [
    "cost_val = []\n",
    "acc_val = []\n",
    "val_roc_score = []\n",
    "train_loss_log = []\n",
    "val_loss_log = []\n",
    "# Initialize session\n",
    "sess = tf.Session()\n",
    "sess.run(tf.global_variables_initializer())\n",
    "\n",
    "# Train model\n",
    "for epoch in range(EPOCHS):\n",
    "\n",
    "    t = time.time()\n",
    "    # Construct feed dictionary\n",
    "    feed_dict = construct_feed_dict(adj_norm, adj_label, features_tuple, placeholders)\n",
    "    feed_dict.update({placeholders['dropout']: DROPOUT})\n",
    "    # Run single weight update\n",
    "    outs = sess.run([opt.opt_op, opt.cost, opt.accuracy], feed_dict=feed_dict)\n",
    "    \n",
    "    # Compute average loss\n",
    "    avg_cost = outs[1]\n",
    "    avg_accuracy = outs[2]\n",
    "    roc_curr, ap_curr, fpr, tpr, pr_score, precision, recall, train_loss_epoch = get_roc_score(train_edges, train_edges_false, pos_weight, norm)\n",
    "    train_loss_log.append(train_loss_epoch)\n",
    "\n",
    "    # Evaluate predictions\n",
    "    roc_curr, ap_curr, fpr, tpr, pr_score, precision, recall, val_loss_epoch = get_roc_score(val_edges, val_edges_false, pos_weight, norm)\n",
    "    val_roc_score.append(roc_curr)\n",
    "    val_loss_log.append(val_loss_epoch)\n",
    "    \n",
    "    if (epoch+1)%50 == 0:\n",
    "    # Print results for this epoch\n",
    "        print(\"Epoch:\", '%04d' % (epoch + 1), \"train_loss=\", \"{:.5f}\".format(avg_cost),\n",
    "              \"train_acc=\", \"{:.5f}\".format(avg_accuracy), \"val_roc=\", \"{:.5f}\".format(val_roc_score[-1]),\n",
    "              \"val_ap=\", \"{:.5f}\".format(ap_curr),\n",
    "              \"time=\", \"{:.5f}\".format(time.time() - t))\n",
    "\n",
    "print(\"Optimization Finished!\")"
   ],
   "outputs": [
    {
     "output_type": "stream",
     "name": "stdout",
     "text": [
      "Epoch: 0050 train_loss= 1.54937 train_acc= 0.50000 val_roc= 0.50000 val_ap= 0.50000 time= 10.84565\n",
      "Epoch: 0100 train_loss= 1.56269 train_acc= 0.50001 val_roc= 0.50000 val_ap= 0.50000 time= 10.87117\n",
      "Epoch: 0150 train_loss= 1.53260 train_acc= 0.50005 val_roc= 0.50000 val_ap= 0.50000 time= 9.42923\n",
      "Epoch: 0200 train_loss= 1.55350 train_acc= 0.49998 val_roc= 0.50000 val_ap= 0.50000 time= 10.55429\n",
      "Optimization Finished!\n"
     ]
    }
   ],
   "metadata": {}
  },
  {
   "cell_type": "code",
   "execution_count": null,
   "source": [
    "sns.set_style('ticks')"
   ],
   "outputs": [],
   "metadata": {}
  },
  {
   "cell_type": "code",
   "execution_count": null,
   "source": [
    "plt.figure(figsize = (10,10))\n",
    "lw = 2\n",
    "plt.plot(range(len(train_loss_log)), train_loss_log, lw=lw, color='#0070c0', label='Training')\n",
    "plt.plot(range(len(val_loss_log)), val_loss_log, lw=lw, color='#bf0001',label='Validation')\n",
    "plt.xlim([0.0, 1000])\n",
    "plt.ylim([180, 250])\n",
    "plt.xlabel('Epoch',fontsize = 20)\n",
    "plt.ylabel('Loss',fontsize = 20)\n",
    "plt.legend(loc=\"upper right\")\n",
    "plt.legend(fontsize=20)\n",
    "# plt.savefig(\"./KEGG_training_loss.pdf\")\n",
    "plt.show()"
   ],
   "outputs": [
    {
     "output_type": "display_data",
     "data": {
      "image/png": "[encoded data removed]",
      "text/plain": [
       "<Figure size 720x720 with 1 Axes>"
      ]
     },
     "metadata": {}
    }
   ],
   "metadata": {}
  },
  {
   "cell_type": "code",
   "execution_count": null,
   "source": [
    "plt.plot(feature_fpr, feature_tpr, color='#bf0001', label='VGAE + Structure')\n",
    "plt.show()"
   ],
   "outputs": [
    {
     "output_type": "display_data",
     "data": {
      "image/png": "[encoded data removed]",
      "text/plain": [
       "<Figure size 432x288 with 1 Axes>"
      ]
     },
     "metadata": {}
    }
   ],
   "metadata": {}
  },
  {
   "cell_type": "code",
   "execution_count": null,
   "source": [
    "# Print final results\n",
    "no_feature_roc_score, no_feature_ap_score, no_feature_fpr, no_feature_tpr, no_feature_pr_score, no_feature_prcs, no_feature_rcal = get_roc_score(test_edges, test_edges_false)\n",
    "print('Test ROC score: ' + str(no_feature_roc_score))\n",
    "print('Test AP score: ' + str(no_feature_ap_score))"
   ],
   "outputs": [
    {
     "output_type": "stream",
     "name": "stdout",
     "text": [
      "Test ROC score: 0.8449813982338824\n",
      "Test AP score: 0.8670680403770068\n"
     ]
    }
   ],
   "metadata": {}
  },
  {
   "cell_type": "markdown",
   "source": [
    "# Node2vec"
   ],
   "metadata": {}
  },
  {
   "cell_type": "markdown",
   "source": [
    "---\n",
    "[node2vec](http://snap.stanford.edu/node2vec/) for link prediction:\n",
    "1. Perform train-test split\n",
    "1. Train skip-gram model on random walks within training graph\n",
    "2. Get node embeddings from skip-gram model\n",
    "3. Create bootstrapped edge embeddings by taking the Hadamard product of node embeddings\n",
    "4. Train a logistic regression classifier on these edge embeddings (possible edge --> edge score between 0-1)\n",
    "5. Evaluate these edge embeddings on the validation and test edge sets\n",
    "\n",
    "node2vec source code: https://github.com/aditya-grover/node2vec"
   ],
   "metadata": {}
  },
  {
   "cell_type": "markdown",
   "source": [
    "## Train node2vec (Learn Node Embeddings)"
   ],
   "metadata": {}
  },
  {
   "cell_type": "code",
   "execution_count": 87,
   "source": [
    "import node2vec_lp\n",
    "import smart_open\n",
    "smart_open.open = smart_open.smart_open\n",
    "from gensim.models import word2vec"
   ],
   "outputs": [
    {
     "output_type": "stream",
     "name": "stderr",
     "text": [
      "/Users/chengwang/opt/anaconda3/lib/python3.8/site-packages/gensim/similarities/__init__.py:15: UserWarning: The gensim.similarities.levenshtein submodule is disabled, because the optional Levenshtein package <https://pypi.org/project/python-Levenshtein/> is unavailable. Install Levenhstein (e.g. `pip install python-Levenshtein`) to suppress this warning.\n",
      "  warnings.warn(msg)\n"
     ]
    }
   ],
   "metadata": {}
  },
  {
   "cell_type": "code",
   "execution_count": 88,
   "source": [
    "# node2vec settings\n",
    "# NOTE: When p = q = 1, this is equivalent to DeepWalk\n",
    "\n",
    "P = 1 # Return hyperparameter\n",
    "Q = 1 # In-out hyperparameter\n",
    "WINDOW_SIZE = 10 # Context size for optimization\n",
    "NUM_WALKS = 10 # Number of walks per source\n",
    "WALK_LENGTH = 80 # Length of walk per source\n",
    "DIMENSIONS = 128 # Embedding dimension\n",
    "DIRECTED = False # Graph directed/undirected\n",
    "WORKERS = 8 # Num. parallel workers\n",
    "ITER = 1 # SGD epochs"
   ],
   "outputs": [],
   "metadata": {}
  },
  {
   "cell_type": "code",
   "execution_count": 89,
   "source": [
    "# Preprocessing, generate walks\n",
    "g_n2v = node2vec_lp.Graph(g_train, DIRECTED, P, Q) # create node2vec graph instance\n",
    "g_n2v.preprocess_transition_probs()\n",
    "walks = g_n2v.simulate_walks(NUM_WALKS, WALK_LENGTH)\n",
    "walks_str = []\n",
    "for walk in walks:\n",
    "    t = [str(i) for i in walk]\n",
    "    walks_str.append(t)\n",
    "walks = walks_str\n",
    "# walks = [list(map(str, walk) for walk in walks)]\n"
   ],
   "outputs": [
    {
     "output_type": "stream",
     "name": "stdout",
     "text": [
      "Walk iteration:\n",
      "1 / 10\n",
      "2 / 10\n",
      "3 / 10\n",
      "4 / 10\n",
      "5 / 10\n",
      "6 / 10\n",
      "7 / 10\n",
      "8 / 10\n",
      "9 / 10\n",
      "10 / 10\n"
     ]
    }
   ],
   "metadata": {}
  },
  {
   "cell_type": "code",
   "execution_count": 90,
   "source": [
    "# # # Train skip-gram model\n",
    "model = word2vec.Word2Vec(walks, vector_size=DIMENSIONS, window=WINDOW_SIZE, min_count=0, sg=1, workers=WORKERS, epochs=ITER)\n",
    "\n",
    "# # Store embeddings mapping\n",
    "emb_mappings = model.wv"
   ],
   "outputs": [],
   "metadata": {}
  },
  {
   "cell_type": "markdown",
   "source": [
    "## Create Edge Embeddings"
   ],
   "metadata": {}
  },
  {
   "cell_type": "code",
   "execution_count": 91,
   "source": [
    "# Create node embeddings matrix (rows = nodes, columns = embedding features)\n",
    "emb_list = []\n",
    "for node_index in range(0, adj_sparse.shape[0]):\n",
    "    node_str = str(node_index)\n",
    "    node_emb = emb_mappings[node_str]\n",
    "    emb_list.append(node_emb)\n",
    "emb_matrix = np.vstack(emb_list)"
   ],
   "outputs": [],
   "metadata": {}
  },
  {
   "cell_type": "code",
   "execution_count": 92,
   "source": [
    "# Generate bootstrapped edge embeddings (as is done in node2vec paper)\n",
    "    # Edge embedding for (v1, v2) = hadamard product of node embeddings for v1, v2\n",
    "def get_edge_embeddings(edge_list):\n",
    "    embs = []\n",
    "    for edge in edge_list:\n",
    "        node1 = edge[0]\n",
    "        node2 = edge[1]\n",
    "        emb1 = emb_matrix[node1]\n",
    "        emb2 = emb_matrix[node2]\n",
    "        edge_emb = np.multiply(emb1, emb2)\n",
    "        embs.append(edge_emb)\n",
    "    embs = np.array(embs)\n",
    "    return embs"
   ],
   "outputs": [],
   "metadata": {}
  },
  {
   "cell_type": "code",
   "execution_count": 93,
   "source": [
    "# Train-set edge embeddings\n",
    "pos_train_edge_embs = get_edge_embeddings(train_edges)\n",
    "neg_train_edge_embs = get_edge_embeddings(train_edges_false)\n",
    "train_edge_embs = np.concatenate([pos_train_edge_embs, neg_train_edge_embs])\n",
    "\n",
    "# Create train-set edge labels: 1 = real edge, 0 = false edge\n",
    "train_edge_labels = np.concatenate([np.ones(len(train_edges)), np.zeros(len(train_edges_false))])\n",
    "\n",
    "# Val-set edge embeddings, labels\n",
    "pos_val_edge_embs = get_edge_embeddings(val_edges)\n",
    "neg_val_edge_embs = get_edge_embeddings(val_edges_false)\n",
    "val_edge_embs = np.concatenate([pos_val_edge_embs, neg_val_edge_embs])\n",
    "val_edge_labels = np.concatenate([np.ones(len(val_edges)), np.zeros(len(val_edges_false))])\n",
    "\n",
    "# Test-set edge embeddings, labels\n",
    "pos_test_edge_embs = get_edge_embeddings(test_edges)\n",
    "neg_test_edge_embs = get_edge_embeddings(test_edges_false)\n",
    "test_edge_embs = np.concatenate([pos_test_edge_embs, neg_test_edge_embs])\n",
    "\n",
    "# Create val-set edge labels: 1 = real edge, 0 = false edge\n",
    "test_edge_labels = np.concatenate([np.ones(len(test_edges)), np.zeros(len(test_edges_false))])"
   ],
   "outputs": [],
   "metadata": {}
  },
  {
   "cell_type": "markdown",
   "source": [
    "## Evaluate Edge Embeddings"
   ],
   "metadata": {}
  },
  {
   "cell_type": "code",
   "execution_count": 94,
   "source": [
    "# Train logistic regression classifier on train-set edge embeddings\n",
    "from sklearn.linear_model import LogisticRegression\n",
    "edge_classifier = LogisticRegression(random_state=0)\n",
    "edge_classifier.fit(train_edge_embs, train_edge_labels)"
   ],
   "outputs": [
    {
     "output_type": "execute_result",
     "data": {
      "text/html": [
       "<style>#sk-container-id-1 {color: black;background-color: white;}#sk-container-id-1 pre{padding: 0;}#sk-container-id-1 div.sk-toggleable {background-color: white;}#sk-container-id-1 label.sk-toggleable__label {cursor: pointer;display: block;width: 100%;margin-bottom: 0;padding: 0.3em;box-sizing: border-box;text-align: center;}#sk-container-id-1 label.sk-toggleable__label-arrow:before {content: \"▸\";float: left;margin-right: 0.25em;color: #696969;}#sk-container-id-1 label.sk-toggleable__label-arrow:hover:before {color: black;}#sk-container-id-1 div.sk-estimator:hover label.sk-toggleable__label-arrow:before {color: black;}#sk-container-id-1 div.sk-toggleable__content {max-height: 0;max-width: 0;overflow: hidden;text-align: left;background-color: #f0f8ff;}#sk-container-id-1 div.sk-toggleable__content pre {margin: 0.2em;color: black;border-radius: 0.25em;background-color: #f0f8ff;}#sk-container-id-1 input.sk-toggleable__control:checked~div.sk-toggleable__content {max-height: 200px;max-width: 100%;overflow: auto;}#sk-container-id-1 input.sk-toggleable__control:checked~label.sk-toggleable__label-arrow:before {content: \"▾\";}#sk-container-id-1 div.sk-estimator input.sk-toggleable__control:checked~label.sk-toggleable__label {background-color: #d4ebff;}#sk-container-id-1 div.sk-label input.sk-toggleable__control:checked~label.sk-toggleable__label {background-color: #d4ebff;}#sk-container-id-1 input.sk-hidden--visually {border: 0;clip: rect(1px 1px 1px 1px);clip: rect(1px, 1px, 1px, 1px);height: 1px;margin: -1px;overflow: hidden;padding: 0;position: absolute;width: 1px;}#sk-container-id-1 div.sk-estimator {font-family: monospace;background-color: #f0f8ff;border: 1px dotted black;border-radius: 0.25em;box-sizing: border-box;margin-bottom: 0.5em;}#sk-container-id-1 div.sk-estimator:hover {background-color: #d4ebff;}#sk-container-id-1 div.sk-parallel-item::after {content: \"\";width: 100%;border-bottom: 1px solid gray;flex-grow: 1;}#sk-container-id-1 div.sk-label:hover label.sk-toggleable__label {background-color: #d4ebff;}#sk-container-id-1 div.sk-serial::before {content: \"\";position: absolute;border-left: 1px solid gray;box-sizing: border-box;top: 0;bottom: 0;left: 50%;z-index: 0;}#sk-container-id-1 div.sk-serial {display: flex;flex-direction: column;align-items: center;background-color: white;padding-right: 0.2em;padding-left: 0.2em;position: relative;}#sk-container-id-1 div.sk-item {position: relative;z-index: 1;}#sk-container-id-1 div.sk-parallel {display: flex;align-items: stretch;justify-content: center;background-color: white;position: relative;}#sk-container-id-1 div.sk-item::before, #sk-container-id-1 div.sk-parallel-item::before {content: \"\";position: absolute;border-left: 1px solid gray;box-sizing: border-box;top: 0;bottom: 0;left: 50%;z-index: -1;}#sk-container-id-1 div.sk-parallel-item {display: flex;flex-direction: column;z-index: 1;position: relative;background-color: white;}#sk-container-id-1 div.sk-parallel-item:first-child::after {align-self: flex-end;width: 50%;}#sk-container-id-1 div.sk-parallel-item:last-child::after {align-self: flex-start;width: 50%;}#sk-container-id-1 div.sk-parallel-item:only-child::after {width: 0;}#sk-container-id-1 div.sk-dashed-wrapped {border: 1px dashed gray;margin: 0 0.4em 0.5em 0.4em;box-sizing: border-box;padding-bottom: 0.4em;background-color: white;}#sk-container-id-1 div.sk-label label {font-family: monospace;font-weight: bold;display: inline-block;line-height: 1.2em;}#sk-container-id-1 div.sk-label-container {text-align: center;}#sk-container-id-1 div.sk-container {/* jupyter's `normalize.less` sets `[hidden] { display: none; }` but bootstrap.min.css set `[hidden] { display: none !important; }` so we also need the `!important` here to be able to override the default hidden behavior on the sphinx rendered scikit-learn.org. See: https://github.com/scikit-learn/scikit-learn/issues/21755 */display: inline-block !important;position: relative;}#sk-container-id-1 div.sk-text-repr-fallback {display: none;}</style><div id=\"sk-container-id-1\" class=\"sk-top-container\"><div class=\"sk-text-repr-fallback\"><pre>LogisticRegression(random_state=0)</pre><b>In a Jupyter environment, please rerun this cell to show the HTML representation or trust the notebook. <br />On GitHub, the HTML representation is unable to render, please try loading this page with nbviewer.org.</b></div><div class=\"sk-container\" hidden><div class=\"sk-item\"><div class=\"sk-estimator sk-toggleable\"><input class=\"sk-toggleable__control sk-hidden--visually\" id=\"sk-estimator-id-1\" type=\"checkbox\" checked><label for=\"sk-estimator-id-1\" class=\"sk-toggleable__label sk-toggleable__label-arrow\">LogisticRegression</label><div class=\"sk-toggleable__content\"><pre>LogisticRegression(random_state=0)</pre></div></div></div></div></div>"
      ],
      "text/plain": [
       "LogisticRegression(random_state=0)"
      ]
     },
     "metadata": {},
     "execution_count": 94
    }
   ],
   "metadata": {}
  },
  {
   "cell_type": "code",
   "execution_count": 95,
   "source": [
    "# Predicted edge scores: probability of being of class \"1\" (real edge)\n",
    "val_preds = edge_classifier.predict_proba(val_edge_embs)[:, 1]\n",
    "val_roc = roc_auc_score(val_edge_labels, val_preds)\n",
    "val_fpr, val_tpr, _ = roc_curve(val_edge_labels, val_preds)\n",
    "val_ap = average_precision_score(val_edge_labels, val_preds)"
   ],
   "outputs": [],
   "metadata": {}
  },
  {
   "cell_type": "code",
   "execution_count": 96,
   "source": [
    "# Predicted edge scores: probability of being of class \"1\" (real edge)\n",
    "nv_test_preds = edge_classifier.predict_proba(test_edge_embs)[:, 1]\n",
    "nv_test_roc = roc_auc_score(test_edge_labels, nv_test_preds)\n",
    "nv_test_fpr, nv_test_tpr, _ = roc_curve(test_edge_labels, nv_test_preds)\n",
    "nv_test_ap = average_precision_score(test_edge_labels, nv_test_preds)\n",
    "nv_precision, nv_recall, _ = precision_recall_curve(test_edge_labels, nv_test_preds)\n",
    "# nv_pr_score = auc(nv_precision, nv_recall)\n",
    "    \n",
    "# print ('node2vec Validation ROC score: ', str(val_roc))\n",
    "# print ('node2vec Validation AP score: ', str(val_ap))\n",
    "print ('node2vec Test ROC score: ', str(nv_test_roc))\n",
    "print ('node2vec Test AP score: ', str(nv_test_ap))"
   ],
   "outputs": [
    {
     "output_type": "stream",
     "name": "stdout",
     "text": [
      "node2vec Test ROC score:  0.8041776740910637\n",
      "node2vec Test AP score:  0.8550298148109504\n"
     ]
    }
   ],
   "metadata": {}
  },
  {
   "cell_type": "code",
   "execution_count": 97,
   "source": [
    "plt.plot(nv_recall,nv_precision)\n",
    "plt.show()"
   ],
   "outputs": [
    {
     "output_type": "display_data",
     "data": {
      "image/png": "[encoded data removed]",
      "text/plain": [
       "<Figure size 432x288 with 1 Axes>"
      ]
     },
     "metadata": {
      "needs_background": "light"
     }
    }
   ],
   "metadata": {}
  },
  {
   "cell_type": "markdown",
   "source": [
    "# Visualization of all ROC curve"
   ],
   "metadata": {}
  },
  {
   "cell_type": "code",
   "execution_count": null,
   "source": [
    "auc_result = [sc_fpr, sc_tpr,aa_fpr, aa_tpr,pa_fpr, pa_tpr,nv_test_fpr, nv_test_tpr,no_feature_fpr, no_feature_tpr,feature_fpr, feature_tpr]\n",
    "len(auc_result)"
   ],
   "outputs": [
    {
     "output_type": "display_data",
     "data": {
      "text/plain": [
       "12"
      ]
     },
     "metadata": {}
    }
   ],
   "metadata": {}
  },
  {
   "cell_type": "code",
   "execution_count": null,
   "source": [
    "ap_result = [sc_rcal, sc_prcs, aa_rcal, aa_prcs, pa_rcal, pa_prcs, nv_recall, nv_precision, no_feature_rcal, no_feature_prcs, feature_rcal, feature_prcs]\n",
    "len(ap_result)"
   ],
   "outputs": [
    {
     "output_type": "display_data",
     "data": {
      "text/plain": [
       "12"
      ]
     },
     "metadata": {}
    }
   ],
   "metadata": {}
  },
  {
   "cell_type": "code",
   "execution_count": null,
   "source": [
    "score_result = [sc_roc, sc_ap,aa_roc, aa_ap,pa_roc, pa_ap,feature_roc_score, feature_ap_score,no_feature_roc_score, no_feature_ap_score,nv_test_roc,nv_test_ap]"
   ],
   "outputs": [],
   "metadata": {}
  },
  {
   "cell_type": "code",
   "execution_count": null,
   "source": [
    "len(score_result)"
   ],
   "outputs": [
    {
     "output_type": "display_data",
     "data": {
      "text/plain": [
       "12"
      ]
     },
     "metadata": {}
    }
   ],
   "metadata": {}
  },
  {
   "cell_type": "code",
   "execution_count": null,
   "source": [
    "import torch"
   ],
   "outputs": [],
   "metadata": {}
  },
  {
   "cell_type": "code",
   "execution_count": null,
   "source": [
    "auc_result_save = './all_mpi_auc_result_save.pt'\n",
    "ap_result_save = './all_mpi_ap_result_save.pt'\n",
    "score_result_save = './all_mpi_score_result_save.pt'\n",
    "\n",
    "torch.save(auc_result, auc_result_save)\n",
    "torch.save(ap_result, ap_result_save)\n",
    "torch.save(score_result, score_result_save)"
   ],
   "outputs": [],
   "metadata": {}
  },
  {
   "cell_type": "code",
   "execution_count": null,
   "source": [
    "sns.set_style('ticks')"
   ],
   "outputs": [],
   "metadata": {}
  },
  {
   "cell_type": "code",
   "execution_count": null,
   "source": [
    "# Compute ROC curve and ROC area\n",
    "plt.figure(figsize = (10,10))\n",
    "lw = 2\n",
    "plt.plot(aa_fpr, aa_tpr, color='#ae89cb', label='Adamic-Ada: %.3f' % aa_roc,lw = 2)\n",
    "# plt.plot(jc_fpr, jc_tpr, color='green', label='Jaccard Coefficient')\n",
    "plt.plot(pa_fpr, pa_tpr, color='#98e1a4', label='Preferential Attachment: %.3f' % pa_roc,lw = 2)\n",
    "plt.plot(sc_fpr, sc_tpr, color='#cc9a00', label='Spectral Clustering: %.3f' % sc_roc,lw = 2)\n",
    "plt.plot(nv_test_fpr, nv_test_tpr, color='#017635', label='Node2vec: %.3f' % nv_test_roc,lw = 2)\n",
    "plt.plot(no_feature_fpr, no_feature_tpr, color='#0070c0', label='VGAE: %.3f' % no_feature_roc_score,lw = 2)\n",
    "plt.plot(feature_fpr, feature_tpr, color='#bf0001', label='VGAE + Structure: %.3f' % feature_roc_score,lw = 2)\n",
    "\n",
    "plt.plot([0, 1], [0, 1], color='black', lw=lw, linestyle='--')\n",
    "# plt.xticks(np.arange(0,1,5),fontsize=15)\n",
    "# plt.yticks(np.arange(0,1,5),fontsize=15)\n",
    "plt.xlim([0.0, 1.0])\n",
    "plt.ylim([0.0, 1.0])\n",
    "plt.xlabel('False Positive Rate',fontsize = 20)\n",
    "plt.ylabel('True Positive Rate',fontsize = 20)\n",
    "# plt.title('ROC curve for metabolite-metabolite interaction prediction',fontsize = 20)\n",
    "plt.legend(loc=\"lower right\")\n",
    "plt.legend(fontsize=20)\n",
    "plt.xticks(fontsize = 20)\n",
    "plt.yticks(fontsize = 20)\n",
    "plt.savefig(\"./all_mpi_roc-protein-metabolite.pdf\")\n",
    "plt.show()"
   ],
   "outputs": [
    {
     "output_type": "display_data",
     "data": {
      "image/png": "[encoded data removed]",
      "text/plain": [
       "<Figure size 720x720 with 1 Axes>"
      ]
     },
     "metadata": {}
    }
   ],
   "metadata": {}
  },
  {
   "cell_type": "code",
   "execution_count": null,
   "source": [
    "# Compute ROC curve and ROC area\n",
    "plt.figure(figsize = (10,10))\n",
    "lw = 4\n",
    "plt.plot(aa_rcal, aa_prcs, color='#ae89cb', label='Adamic-Ada: %.3f' % aa_ap,lw = 2)\n",
    "# plt.plot(jc_rcal, jc_prcs, color='green', label='Jaccard Coefficient')\n",
    "plt.plot(pa_rcal, pa_prcs, color='#98e1a4', label='Preferential Attachment: %.3f' % pa_ap,lw = 2)\n",
    "plt.plot(sc_rcal, sc_prcs, color='#cc9a00', label='Spectral Clustering: %.3f' % sc_ap,lw = 2)\n",
    "plt.plot(nv_recall, nv_precision, color='#017635', label='Node2vec: %.3f' % nv_test_ap,lw = 2)\n",
    "plt.plot(no_feature_rcal, no_feature_prcs, color='#0070c0', label='VGAE: %.3f' % no_feature_ap_score,lw = 2)\n",
    "plt.plot(feature_rcal, feature_prcs, color='#bf0001', label='VGAE + Structure: %.3f' % feature_ap_score,lw = 2)\n",
    "\n",
    "# plt.plot([0, 1], [0, 1], color='navy', lw=lw, linestyle='--')\n",
    "plt.xlim([0.0, 1.0])\n",
    "plt.ylim([0.0, 1.0])\n",
    "plt.xlabel('Recall',fontsize = 20)\n",
    "plt.ylabel('Precision',fontsize = 20)\n",
    "plt.xticks(fontsize = 20)\n",
    "plt.yticks(fontsize = 20)\n",
    "# plt.title('Precision-recall curve for metabolite-metabolite interaction prediction',fontsize = 20)\n",
    "plt.legend(loc=\"lower right\")\n",
    "plt.legend(fontsize=20)\n",
    "plt.savefig(\"./all_mpi_precision-recall-protein-metabolite.pdf\")\n",
    "plt.show()"
   ],
   "outputs": [
    {
     "output_type": "display_data",
     "data": {
      "image/png": "[encoded data removed]",
      "text/plain": [
       "<Figure size 720x720 with 1 Axes>"
      ]
     },
     "metadata": {}
    }
   ],
   "metadata": {}
  },
  {
   "cell_type": "code",
   "execution_count": null,
   "source": [],
   "outputs": [],
   "metadata": {}
  }
 ],
 "metadata": {
  "kernelspec": {
   "name": "python3",
   "display_name": "Python 3.8.8 64-bit ('base': conda)"
  },
  "language_info": {
   "codemirror_mode": {
    "name": "ipython",
    "version": 3
   },
   "file_extension": ".py",
   "mimetype": "text/x-python",
   "name": "python",
   "nbconvert_exporter": "python",
   "pygments_lexer": "ipython3",
   "version": "3.8.8"
  },
  "toc": {
   "base_numbering": 1,
   "nav_menu": {},
   "number_sections": true,
   "sideBar": true,
   "skip_h1_title": false,
   "title_cell": "Table of Contents",
   "title_sidebar": "Contents",
   "toc_cell": true,
   "toc_position": {
    "height": "calc(100% - 180px)",
    "left": "10px",
    "top": "150px",
    "width": "317.2146911621094px"
   },
   "toc_section_display": true,
   "toc_window_display": true
  },
  "interpreter": {
   "hash": "3fe952b0ba1daa6ee3393e62a893871d88149d9d44cf2ee1c1e3a6730bdcafed"
  }
 },
 "nbformat": 4,
 "nbformat_minor": 4
}