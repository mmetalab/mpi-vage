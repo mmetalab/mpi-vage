{
 "cells": [
  {
   "cell_type": "markdown",
   "source": [
    "<h1>Table of Contents<span class=\"tocSkip\"></span></h1>\n",
    "<div class=\"toc\"><ul class=\"toc-item\"><li><span><a href=\"#Link-Prediction-using-Graph-Neural-Networks\" data-toc-modified-id=\"Link-Prediction-using-Graph-Neural-Networks-1\"><span class=\"toc-item-num\">1&nbsp;&nbsp;</span>Link Prediction using Graph Neural Networks</a></span><ul class=\"toc-item\"><li><span><a href=\"#Overview-of-Link-Prediction-with-GNN\" data-toc-modified-id=\"Overview-of-Link-Prediction-with-GNN-1.1\"><span class=\"toc-item-num\">1.1&nbsp;&nbsp;</span>Overview of Link Prediction with GNN</a></span></li><li><span><a href=\"#Loading-graph-and-features\" data-toc-modified-id=\"Loading-graph-and-features-1.2\"><span class=\"toc-item-num\">1.2&nbsp;&nbsp;</span>Loading graph and features</a></span></li><li><span><a href=\"#Prepare-training-and-testing-sets\" data-toc-modified-id=\"Prepare-training-and-testing-sets-1.3\"><span class=\"toc-item-num\">1.3&nbsp;&nbsp;</span>Prepare training and testing sets</a></span><ul class=\"toc-item\"><li><ul class=\"toc-item\"><li><span><a href=\"#Note\" data-toc-modified-id=\"Note-1.3.0.1\"><span class=\"toc-item-num\">1.3.0.1&nbsp;&nbsp;</span>Note</a></span></li></ul></li></ul></li><li><span><a href=\"#Define-a-GraphSAGE-model\" data-toc-modified-id=\"Define-a-GraphSAGE-model-1.4\"><span class=\"toc-item-num\">1.4&nbsp;&nbsp;</span>Define a GraphSAGE model</a></span></li><li><span><a href=\"#Positive-graph,-negative-graph,-and-apply_edges\" data-toc-modified-id=\"Positive-graph,-negative-graph,-and-apply_edges-1.5\"><span class=\"toc-item-num\">1.5&nbsp;&nbsp;</span>Positive graph, negative graph, and <code>apply_edges</code></a></span><ul class=\"toc-item\"><li><ul class=\"toc-item\"><li><span><a href=\"#Note\" data-toc-modified-id=\"Note-1.5.0.1\"><span class=\"toc-item-num\">1.5.0.1&nbsp;&nbsp;</span>Note</a></span></li><li><span><a href=\"#Note\" data-toc-modified-id=\"Note-1.5.0.2\"><span class=\"toc-item-num\">1.5.0.2&nbsp;&nbsp;</span>Note</a></span></li></ul></li></ul></li><li><span><a href=\"#Training-loop\" data-toc-modified-id=\"Training-loop-1.6\"><span class=\"toc-item-num\">1.6&nbsp;&nbsp;</span>Training loop</a></span><ul class=\"toc-item\"><li><ul class=\"toc-item\"><li><span><a href=\"#Note\" data-toc-modified-id=\"Note-1.6.0.1\"><span class=\"toc-item-num\">1.6.0.1&nbsp;&nbsp;</span>Note</a></span></li></ul></li></ul></li></ul></li><li><span><a href=\"#Read-Kegg-reactions\" data-toc-modified-id=\"Read-Kegg-reactions-2\"><span class=\"toc-item-num\">2&nbsp;&nbsp;</span>Read Kegg reactions</a></span></li><li><span><a href=\"#Build-DGL-Graph\" data-toc-modified-id=\"Build-DGL-Graph-3\"><span class=\"toc-item-num\">3&nbsp;&nbsp;</span>Build DGL Graph</a></span><ul class=\"toc-item\"><li><span><a href=\"#Prepare-training-and-testing-sets\" data-toc-modified-id=\"Prepare-training-and-testing-sets-3.1\"><span class=\"toc-item-num\">3.1&nbsp;&nbsp;</span>Prepare training and testing sets</a></span><ul class=\"toc-item\"><li><ul class=\"toc-item\"><li><span><a href=\"#Note\" data-toc-modified-id=\"Note-3.1.0.1\"><span class=\"toc-item-num\">3.1.0.1&nbsp;&nbsp;</span>Note</a></span></li></ul></li></ul></li><li><span><a href=\"#Define-a-GraphSAGE-model\" data-toc-modified-id=\"Define-a-GraphSAGE-model-3.2\"><span class=\"toc-item-num\">3.2&nbsp;&nbsp;</span>Define a GraphSAGE model</a></span></li><li><span><a href=\"#Positive-graph,-negative-graph,-and-apply_edges\" data-toc-modified-id=\"Positive-graph,-negative-graph,-and-apply_edges-3.3\"><span class=\"toc-item-num\">3.3&nbsp;&nbsp;</span>Positive graph, negative graph, and <code>apply_edges</code></a></span><ul class=\"toc-item\"><li><ul class=\"toc-item\"><li><span><a href=\"#Note\" data-toc-modified-id=\"Note-3.3.0.1\"><span class=\"toc-item-num\">3.3.0.1&nbsp;&nbsp;</span>Note</a></span></li><li><span><a href=\"#Note\" data-toc-modified-id=\"Note-3.3.0.2\"><span class=\"toc-item-num\">3.3.0.2&nbsp;&nbsp;</span>Note</a></span></li></ul></li></ul></li><li><span><a href=\"#Training-loop\" data-toc-modified-id=\"Training-loop-3.4\"><span class=\"toc-item-num\">3.4&nbsp;&nbsp;</span>Training loop</a></span><ul class=\"toc-item\"><li><ul class=\"toc-item\"><li><span><a href=\"#Note\" data-toc-modified-id=\"Note-3.4.0.1\"><span class=\"toc-item-num\">3.4.0.1&nbsp;&nbsp;</span>Note</a></span></li></ul></li></ul></li></ul></li></ul></div>"
   ],
   "metadata": {
    "toc": true
   }
  },
  {
   "cell_type": "markdown",
   "source": [
    "# Read MPI"
   ],
   "metadata": {}
  },
  {
   "cell_type": "code",
   "execution_count": 1,
   "source": [
    "\n",
    "import pandas as pd\n",
    "import numpy as np\n",
    "import networkx as nx\n",
    "import matplotlib.pyplot as plt\n",
    "import scipy.sparse as sp\n",
    "import pickle\n",
    "import seaborn as sns\n",
    "sns.set_style('whitegrid')\n",
    "import glob\n",
    "from tqdm import tqdm\n",
    "from sklearn.linear_model import LogisticRegression\n",
    "from sklearn.metrics import classification_report, roc_auc_score, average_precision_score, ndcg_score\n",
    "from sklearn.model_selection import train_test_split\n",
    "from sklearn.metrics import confusion_matrix\n",
    "from sklearn.metrics import roc_curve, auc\n",
    "import torch\n",
    "import dgl\n",
    "import torch.nn as nn\n",
    "import torch.nn.functional as F\n",
    "import itertools"
   ],
   "outputs": [
    {
     "output_type": "stream",
     "name": "stderr",
     "text": [
      "Using backend: pytorch\n"
     ]
    }
   ],
   "metadata": {}
  },
  {
   "cell_type": "code",
   "execution_count": 2,
   "source": [
    "g = pickle.load(open(\"./features/mpi_network/mpi_Caenorhabditis.p\", \"rb\" ))"
   ],
   "outputs": [],
   "metadata": {}
  },
  {
   "cell_type": "code",
   "execution_count": 3,
   "source": [
    "print(nx.info(g))"
   ],
   "outputs": [
    {
     "output_type": "stream",
     "name": "stdout",
     "text": [
      "Name: \n",
      "Type: Graph\n",
      "Number of nodes: 1011\n",
      "Number of edges: 2442\n",
      "Average degree:   4.8309\n"
     ]
    }
   ],
   "metadata": {}
  },
  {
   "cell_type": "code",
   "execution_count": 4,
   "source": [
    "node_id = {}\n",
    "nd_id = 0\n",
    "for i in list(g.nodes()):\n",
    "    node_id[i] = nd_id\n",
    "    nd_id += 1"
   ],
   "outputs": [],
   "metadata": {}
  },
  {
   "cell_type": "code",
   "execution_count": 5,
   "source": [
    "nd_id"
   ],
   "outputs": [
    {
     "output_type": "execute_result",
     "data": {
      "text/plain": [
       "1011"
      ]
     },
     "metadata": {},
     "execution_count": 5
    }
   ],
   "metadata": {}
  },
  {
   "cell_type": "markdown",
   "source": [
    "# Build DGL Graph"
   ],
   "metadata": {}
  },
  {
   "cell_type": "code",
   "execution_count": 6,
   "source": [
    "list(g.nodes())[:5]"
   ],
   "outputs": [
    {
     "output_type": "execute_result",
     "data": {
      "text/plain": [
       "['Tyrosine aminotransferase',\n",
       " 'Oxoglutaric acid',\n",
       " 'L-Tyrosine',\n",
       " 'SubPathwayInput',\n",
       " '4-Hydroxyphenylpyruvic acid']"
      ]
     },
     "metadata": {},
     "execution_count": 6
    }
   ],
   "metadata": {}
  },
  {
   "cell_type": "code",
   "execution_count": 7,
   "source": [
    "node_feats = pickle.load(open(\"./features/mpi_features/Caenorhabditis_feature_df.p\", \"rb\" ))\n",
    "node_feats.head()"
   ],
   "outputs": [
    {
     "output_type": "execute_result",
     "data": {
      "text/html": [
       "<div>\n",
       "<style scoped>\n",
       "    .dataframe tbody tr th:only-of-type {\n",
       "        vertical-align: middle;\n",
       "    }\n",
       "\n",
       "    .dataframe tbody tr th {\n",
       "        vertical-align: top;\n",
       "    }\n",
       "\n",
       "    .dataframe thead th {\n",
       "        text-align: right;\n",
       "    }\n",
       "</style>\n",
       "<table border=\"1\" class=\"dataframe\">\n",
       "  <thead>\n",
       "    <tr style=\"text-align: right;\">\n",
       "      <th></th>\n",
       "      <th>node</th>\n",
       "      <th>features</th>\n",
       "      <th>dbid</th>\n",
       "      <th>class</th>\n",
       "    </tr>\n",
       "  </thead>\n",
       "  <tbody>\n",
       "    <tr>\n",
       "      <th>0</th>\n",
       "      <td>Tyrosine aminotransferase</td>\n",
       "      <td>[0.029329123, 0.0870189, -0.019834025, 0.02226...</td>\n",
       "      <td>Q5EBB6</td>\n",
       "      <td>protein</td>\n",
       "    </tr>\n",
       "    <tr>\n",
       "      <th>1</th>\n",
       "      <td>Oxoglutaric acid</td>\n",
       "      <td>[-0.1796183784233519, 2.785076863060764, 3.081...</td>\n",
       "      <td>PW_C000134</td>\n",
       "      <td>metabolite</td>\n",
       "    </tr>\n",
       "    <tr>\n",
       "      <th>2</th>\n",
       "      <td>L-Tyrosine</td>\n",
       "      <td>[-0.3696025123990262, 2.7960687632407866, 3.51...</td>\n",
       "      <td>PW_C000103</td>\n",
       "      <td>metabolite</td>\n",
       "    </tr>\n",
       "    <tr>\n",
       "      <th>3</th>\n",
       "      <td>SubPathwayInput</td>\n",
       "      <td>[0.35883761716578644, 0.966364385056201, 0.896...</td>\n",
       "      <td>None</td>\n",
       "      <td>other</td>\n",
       "    </tr>\n",
       "    <tr>\n",
       "      <th>4</th>\n",
       "      <td>4-Hydroxyphenylpyruvic acid</td>\n",
       "      <td>[-0.3703973457786045, 2.8448970352665666, 3.56...</td>\n",
       "      <td>PW_C000558</td>\n",
       "      <td>metabolite</td>\n",
       "    </tr>\n",
       "  </tbody>\n",
       "</table>\n",
       "</div>"
      ],
      "text/plain": [
       "                          node  \\\n",
       "0    Tyrosine aminotransferase   \n",
       "1             Oxoglutaric acid   \n",
       "2                   L-Tyrosine   \n",
       "3              SubPathwayInput   \n",
       "4  4-Hydroxyphenylpyruvic acid   \n",
       "\n",
       "                                            features        dbid       class  \n",
       "0  [0.029329123, 0.0870189, -0.019834025, 0.02226...      Q5EBB6     protein  \n",
       "1  [-0.1796183784233519, 2.785076863060764, 3.081...  PW_C000134  metabolite  \n",
       "2  [-0.3696025123990262, 2.7960687632407866, 3.51...  PW_C000103  metabolite  \n",
       "3  [0.35883761716578644, 0.966364385056201, 0.896...        None       other  \n",
       "4  [-0.3703973457786045, 2.8448970352665666, 3.56...  PW_C000558  metabolite  "
      ]
     },
     "metadata": {},
     "execution_count": 7
    }
   ],
   "metadata": {}
  },
  {
   "cell_type": "code",
   "execution_count": 8,
   "source": [
    "dg = dgl.from_networkx(g)"
   ],
   "outputs": [],
   "metadata": {}
  },
  {
   "cell_type": "code",
   "execution_count": 9,
   "source": [
    "nodelist = list(g.nodes())"
   ],
   "outputs": [],
   "metadata": {}
  },
  {
   "cell_type": "code",
   "execution_count": 10,
   "source": [
    "t = []\n",
    "for i in nodelist:\n",
    "    temp = node_feats[node_feats['node']==i]['features'].values[0]\n",
    "    t.append(temp)\n"
   ],
   "outputs": [],
   "metadata": {}
  },
  {
   "cell_type": "code",
   "execution_count": 14,
   "source": [
    "features = np.asarray(t)\n",
    "print(features.shape)\n",
    "features = torch.from_numpy(features)\n",
    "print(features.shape)"
   ],
   "outputs": [
    {
     "output_type": "stream",
     "name": "stdout",
     "text": [
      "(1011, 1024)\n",
      "torch.Size([1011, 1024])\n"
     ]
    }
   ],
   "metadata": {}
  },
  {
   "cell_type": "code",
   "execution_count": 18,
   "source": [
    "# dg.ndata['h'] = th.rand(dg.num_nodes(), 32) \n",
    "dg.ndata['h'] = features\n",
    "dg.ndata['h'].type()"
   ],
   "outputs": [
    {
     "output_type": "execute_result",
     "data": {
      "text/plain": [
       "'torch.DoubleTensor'"
      ]
     },
     "metadata": {},
     "execution_count": 18
    }
   ],
   "metadata": {}
  },
  {
   "cell_type": "markdown",
   "source": [
    "Prepare training and testing sets\n",
    "---------------------------------\n",
    "\n",
    "This tutorial randomly picks 10% of the edges for positive examples in\n",
    "the test set, and leave the rest for the training set. It then samples\n",
    "the same number of edges for negative examples in both sets.\n",
    "\n",
    "\n"
   ],
   "metadata": {}
  },
  {
   "cell_type": "code",
   "execution_count": 19,
   "source": [
    "# Split edge set for training and testing\n",
    "u, v = dg.edges()\n",
    "\n",
    "eids = np.arange(dg.number_of_edges())\n",
    "eids = np.random.permutation(eids)\n",
    "test_size = int(len(eids) * 0.1)\n",
    "train_size = dg.number_of_edges() - test_size\n",
    "test_pos_u, test_pos_v = u[eids[:test_size]], v[eids[:test_size]]\n",
    "train_pos_u, train_pos_v = u[eids[test_size:]], v[eids[test_size:]]\n",
    "\n",
    "# Find all negative edges and split them for training and testing\n",
    "adj = sp.coo_matrix((np.ones(len(u)), (u.numpy(), v.numpy())),shape=(dg.num_nodes(), dg.num_nodes()))\n",
    "adj_neg = 1 - adj.todense() - np.eye(dg.number_of_nodes())\n",
    "neg_u, neg_v = np.where(adj_neg != 0)\n",
    "\n",
    "neg_eids = np.random.choice(len(neg_u), dg.number_of_edges() // 2)\n",
    "test_neg_u, test_neg_v = neg_u[neg_eids[:test_size]], neg_v[neg_eids[:test_size]]\n",
    "train_neg_u, train_neg_v = neg_u[neg_eids[test_size:]], neg_v[neg_eids[test_size:]]\n"
   ],
   "outputs": [],
   "metadata": {}
  },
  {
   "cell_type": "markdown",
   "source": [
    "When training, you will need to remove the edges in the test set from\n",
    "the original graph. You can do this via ``dgl.remove_edges``.\n",
    "\n",
    "<div class=\"alert alert-info\"><h4>Note</h4><p>``dgl.remove_edges`` works by creating a subgraph from the\n",
    "   original graph, resulting in a copy and therefore could be slow for\n",
    "   large graphs. If so, you could save the training and test graph to\n",
    "   disk, as you would do for preprocessing.</p></div>\n",
    "\n",
    "\n"
   ],
   "metadata": {}
  },
  {
   "cell_type": "code",
   "execution_count": 42,
   "source": [
    "train_g = dgl.remove_edges(dg, eids[:test_size])"
   ],
   "outputs": [],
   "metadata": {}
  },
  {
   "cell_type": "markdown",
   "source": [
    "Define a GraphSAGE model\n",
    "------------------------\n",
    "\n",
    "This tutorial builds a model consisting of two\n",
    "`GraphSAGE <https://arxiv.org/abs/1706.02216>`__ layers, each computes\n",
    "new node representations by averaging neighbor information. DGL provides\n",
    "``dgl.nn.SAGEConv`` that conveniently creates a GraphSAGE layer.\n",
    "\n",
    "\n"
   ],
   "metadata": {}
  },
  {
   "cell_type": "code",
   "execution_count": 22,
   "source": [
    "from dgl.nn import SAGEConv\n",
    "\n",
    "# ----------- 2. create model -------------- #\n",
    "# build a two-layer GraphSAGE model\n",
    "class GraphSAGE(nn.Module):\n",
    "    def __init__(self, in_feats, h_feats):\n",
    "        super(GraphSAGE, self).__init__()\n",
    "        self.conv1 = SAGEConv(in_feats, h_feats, 'mean')\n",
    "        self.conv2 = SAGEConv(h_feats, h_feats, 'mean')\n",
    "    \n",
    "    def forward(self, g, in_feat):\n",
    "        h = self.conv1(g, in_feat)\n",
    "        h = F.relu(h)\n",
    "        h = self.conv2(g, h)\n",
    "        h = F.relu(h)\n",
    "        return h"
   ],
   "outputs": [],
   "metadata": {}
  },
  {
   "cell_type": "markdown",
   "source": [
    "The model then predicts the probability of existence of an edge by\n",
    "computing a score between the representations of both incident nodes\n",
    "with a function (e.g. an MLP or a dot product), which you will see in\n",
    "the next section.\n",
    "\n",
    "\\begin{align}\\hat{y}_{u\\sim v} = f(h_u, h_v)\\end{align}\n",
    "\n",
    "\n"
   ],
   "metadata": {}
  },
  {
   "cell_type": "markdown",
   "source": [
    "Positive graph, negative graph, and ``apply_edges``\n",
    "---------------------------------------------------\n",
    "\n",
    "In previous tutorials you have learned how to compute node\n",
    "representations with a GNN. However, link prediction requires you to\n",
    "compute representation of *pairs of nodes*.\n",
    "\n",
    "DGL recommends you to treat the pairs of nodes as another graph, since\n",
    "you can describe a pair of nodes with an edge. In link prediction, you\n",
    "will have a *positive graph* consisting of all the positive examples as\n",
    "edges, and a *negative graph* consisting of all the negative examples.\n",
    "The *positive graph* and the *negative graph* will contain the same set\n",
    "of nodes as the original graph.  This makes it easier to pass node\n",
    "features among multiple graphs for computation.  As you will see later,\n",
    "you can directly fed the node representations computed on the entire\n",
    "graph to the positive and the negative graphs for computing pair-wise\n",
    "scores.\n",
    "\n",
    "The following code constructs the positive graph and the negative graph\n",
    "for the training set and the test set respectively.\n",
    "\n",
    "\n"
   ],
   "metadata": {}
  },
  {
   "cell_type": "code",
   "execution_count": 43,
   "source": [
    "train_pos_g = dgl.graph((train_pos_u, train_pos_v), num_nodes=dg.number_of_nodes(),device=device)\n",
    "train_neg_g = dgl.graph((train_neg_u, train_neg_v), num_nodes=dg.number_of_nodes(),device=device)\n",
    "\n",
    "test_pos_g = dgl.graph((test_pos_u, test_pos_v), num_nodes=dg.number_of_nodes(),device=device)\n",
    "test_neg_g = dgl.graph((test_neg_u, test_neg_v), num_nodes=dg.number_of_nodes(),device=device)"
   ],
   "outputs": [],
   "metadata": {}
  },
  {
   "cell_type": "markdown",
   "source": [
    "The benefit of treating the pairs of nodes as a graph is that you can\n",
    "use the ``DGLGraph.apply_edges`` method, which conveniently computes new\n",
    "edge features based on the incident nodes’ features and the original\n",
    "edge features (if applicable).\n",
    "\n",
    "DGL provides a set of optimized builtin functions to compute new\n",
    "edge features based on the original node/edge features. For example,\n",
    "``dgl.function.u_dot_v`` computes a dot product of the incident nodes’\n",
    "representations for each edge.\n",
    "\n",
    "\n"
   ],
   "metadata": {}
  },
  {
   "cell_type": "code",
   "execution_count": 24,
   "source": [
    "import dgl.function as fn\n",
    "\n",
    "class DotPredictor(nn.Module):\n",
    "    def forward(self, g, h):\n",
    "        with g.local_scope():\n",
    "            g.ndata['h'] = h\n",
    "            # Compute a new edge feature named 'score' by a dot-product between the\n",
    "            # source node feature 'h' and destination node feature 'h'.\n",
    "            g.apply_edges(fn.u_dot_v('h', 'h', 'score'))\n",
    "            # u_dot_v returns a 1-element vector for each edge so you need to squeeze it.\n",
    "            return g.edata['score'][:, 0]"
   ],
   "outputs": [],
   "metadata": {}
  },
  {
   "cell_type": "markdown",
   "source": [
    "You can also write your own function if it is complex.\n",
    "For instance, the following module produces a scalar score on each edge\n",
    "by concatenating the incident nodes’ features and passing it to an MLP.\n",
    "\n",
    "\n"
   ],
   "metadata": {}
  },
  {
   "cell_type": "code",
   "execution_count": 25,
   "source": [
    "class MLPPredictor(nn.Module):\n",
    "    def __init__(self, h_feats):\n",
    "        super().__init__()\n",
    "        self.W1 = nn.Linear(h_feats * 2, h_feats)\n",
    "        self.W2 = nn.Linear(h_feats, 1)\n",
    "\n",
    "    def apply_edges(self, edges):\n",
    "        \"\"\"\n",
    "        Computes a scalar score for each edge of the given graph.\n",
    "\n",
    "        Parameters\n",
    "        ----------\n",
    "        edges :\n",
    "            Has three members ``src``, ``dst`` and ``data``, each of\n",
    "            which is a dictionary representing the features of the\n",
    "            source nodes, the destination nodes, and the edges\n",
    "            themselves.\n",
    "\n",
    "        Returns\n",
    "        -------\n",
    "        dict\n",
    "            A dictionary of new edge features.\n",
    "        \"\"\"\n",
    "        h = torch.cat([edges.src['h'], edges.dst['h']], 1)\n",
    "        return {'score': self.W2(F.relu(self.W1(h))).squeeze(1)}\n",
    "\n",
    "    def forward(self, g, h):\n",
    "        with g.local_scope():\n",
    "            g.ndata['h'] = h\n",
    "            g.apply_edges(self.apply_edges)\n",
    "            return g.edata['score']\n"
   ],
   "outputs": [],
   "metadata": {}
  },
  {
   "cell_type": "markdown",
   "source": [
    "<div class=\"alert alert-info\"><h4>Note</h4><p>The builtin functions are optimized for both speed and memory.\n",
    "   We recommend using builtin functions whenever possible.</p></div>\n",
    "\n",
    "<div class=\"alert alert-info\"><h4>Note</h4><p>If you have read the :doc:`message passing\n",
    "   tutorial <3_message_passing>`, you will notice that the\n",
    "   argument ``apply_edges`` takes has exactly the same form as a message\n",
    "   function in ``update_all``.</p></div>\n",
    "\n",
    "\n"
   ],
   "metadata": {}
  },
  {
   "cell_type": "markdown",
   "source": [
    "Training loop\n",
    "-------------\n",
    "\n",
    "After you defined the node representation computation and the edge score\n",
    "computation, you can go ahead and define the overall model, loss\n",
    "function, and evaluation metric.\n",
    "\n",
    "The loss function is simply binary cross entropy loss.\n",
    "\n",
    "\\begin{align}\\mathcal{L} = -\\sum_{u\\sim v\\in \\mathcal{D}}\\left( y_{u\\sim v}\\log(\\hat{y}_{u\\sim v}) + (1-y_{u\\sim v})\\log(1-\\hat{y}_{u\\sim v})) \\right)\\end{align}\n",
    "\n",
    "The evaluation metric in this tutorial is AUC.\n",
    "\n",
    "\n"
   ],
   "metadata": {}
  },
  {
   "cell_type": "code",
   "execution_count": 26,
   "source": [
    "train_g.ndata['h'].shape"
   ],
   "outputs": [
    {
     "output_type": "execute_result",
     "data": {
      "text/plain": [
       "torch.Size([1011, 1024])"
      ]
     },
     "metadata": {},
     "execution_count": 26
    }
   ],
   "metadata": {}
  },
  {
   "cell_type": "code",
   "execution_count": 82,
   "source": [
    "model = GraphSAGE(train_g.ndata['h'].shape[1], 256)\n",
    "# You can replace DotPredictor with MLPPredictor.\n",
    "pred = MLPPredictor(256)\n",
    "# pred = DotPredictor()\n",
    "\n",
    "def compute_loss(pos_score, neg_score):\n",
    "    scores = torch.cat([pos_score, neg_score])\n",
    "    labels = torch.cat([torch.ones(pos_score.shape[0]), torch.zeros(neg_score.shape[0])])\n",
    "    return F.binary_cross_entropy_with_logits(scores, labels)\n",
    "\n",
    "def compute_auc_ap(pos_score, neg_score):\n",
    "    scores = torch.cat([pos_score, neg_score]).numpy()\n",
    "    labels = torch.cat(\n",
    "        [torch.ones(pos_score.shape[0]), torch.zeros(neg_score.shape[0])]).numpy()\n",
    "    return roc_auc_score(labels, scores), average_precision_score(labels, scores)\n"
   ],
   "outputs": [],
   "metadata": {}
  },
  {
   "cell_type": "markdown",
   "source": [
    "The training loop goes as follows:\n",
    "\n",
    "<div class=\"alert alert-info\"><h4>Note</h4><p>This tutorial does not include evaluation on a validation\n",
    "   set. In practice you should save and evaluate the best model based on\n",
    "   performance on the validation set.</p></div>\n",
    "\n",
    "\n"
   ],
   "metadata": {}
  },
  {
   "cell_type": "code",
   "execution_count": 83,
   "source": [
    "train_g.ndata['h'] = train_g.ndata['h'].type(torch.FloatTensor)"
   ],
   "outputs": [],
   "metadata": {}
  },
  {
   "cell_type": "code",
   "execution_count": 84,
   "source": [
    "from sklearn.metrics import roc_auc_score,precision_recall_curve,average_precision_score\n",
    "def test_auc(test_pos_g,test_neg_g,h):\n",
    "    with torch.no_grad():\n",
    "        pos_score = pred(test_pos_g, h)\n",
    "        neg_score = pred(test_neg_g, h)\n",
    "        # print('AUC', roc_auc_ap(pos_score, neg_score))\n",
    "        return roc_auc_ap(pos_score, neg_score)\n",
    "def roc_auc_ap(pos_score, neg_score):\n",
    "    scores = torch.cat([pos_score, neg_score]).numpy()\n",
    "    labels = torch.cat(\n",
    "        [torch.ones(pos_score.shape[0]), torch.zeros(neg_score.shape[0])]).numpy()\n",
    "    fpr, tpr, _ = roc_curve(labels, scores)\n",
    "    precision, recall, _ = precision_recall_curve(labels, scores)\n",
    "    return fpr, tpr, precision, recall, roc_auc_score(labels, scores), average_precision_score(labels, scores)"
   ],
   "outputs": [],
   "metadata": {}
  },
  {
   "cell_type": "code",
   "execution_count": 85,
   "source": [
    "device = torch.device(\"cuda:0\" if torch.cuda.is_available() else \"cpu\")\n",
    "device"
   ],
   "outputs": [
    {
     "output_type": "execute_result",
     "data": {
      "text/plain": [
       "device(type='cpu')"
      ]
     },
     "metadata": {},
     "execution_count": 85
    }
   ],
   "metadata": {}
  },
  {
   "cell_type": "code",
   "execution_count": 86,
   "source": [
    "# ----------- 3. set up loss and optimizer -------------- #\n",
    "# in this case, loss will in training loop\n",
    "optimizer = torch.optim.Adam(itertools.chain(model.parameters(), pred.parameters()), lr=0.01)\n",
    "all_loss  = []\n",
    "# ----------- 4. training -------------------------------- #\n",
    "all_logits = []\n",
    "for e in range(50):\n",
    "    # forward\n",
    "    h = model(train_g, train_g.ndata['h'])\n",
    "    pos_score = pred(train_pos_g, h)\n",
    "    neg_score = pred(train_neg_g, h)\n",
    "    loss = compute_loss(pos_score, neg_score)\n",
    "    all_loss.append(loss.detach().numpy())\n",
    "    # backward\n",
    "    optimizer.zero_grad()\n",
    "    loss.backward()\n",
    "    optimizer.step()\n",
    "    if e % 10 == 0:\n",
    "        auc_test_fpr, auc_test_tpr, test_prcs, test_rcal, auc_test, ap_test = test_auc(test_pos_g,test_neg_g,h)\n",
    "        auc_test_fpr, auc_train_tpr, train_prcs, train_rcal, auc_train, ap_train = test_auc(train_pos_g,train_neg_g,h)\n",
    "        print('In epoch {}, loss: {}, train auc: {}, train ap: {}, test auc: {}, test ap: {}'.format(e, loss, auc_train, ap_train, auc_test, ap_test))\n",
    "        "
   ],
   "outputs": [
    {
     "output_type": "stream",
     "name": "stderr",
     "text": [
      "/Users/chengwang/opt/anaconda3/lib/python3.8/site-packages/torch/autocast_mode.py:162: UserWarning: User provided device_type of 'cuda', but CUDA is not available. Disabling\n",
      "  warnings.warn('User provided device_type of \\'cuda\\', but CUDA is not available. Disabling')\n",
      "/Users/chengwang/opt/anaconda3/lib/python3.8/site-packages/torch/autocast_mode.py:162: UserWarning: User provided device_type of 'cuda', but CUDA is not available. Disabling\n",
      "  warnings.warn('User provided device_type of \\'cuda\\', but CUDA is not available. Disabling')\n"
     ]
    },
    {
     "output_type": "stream",
     "name": "stdout",
     "text": [
      "In epoch 0, loss: 0.6836905479431152, train auc: 0.41400627768986975, train ap: 0.6636636735031325, test auc: 0.44292948804084925, test ap: 0.4709520509991353\n",
      "In epoch 10, loss: 0.5940979719161987, train auc: 0.7091735950519827, train ap: 0.7901238436843903, test auc: 0.6733782921257726, test ap: 0.618206483393858\n"
     ]
    },
    {
     "output_type": "stream",
     "name": "stderr",
     "text": [
      "/Users/chengwang/opt/anaconda3/lib/python3.8/site-packages/torch/autocast_mode.py:162: UserWarning: User provided device_type of 'cuda', but CUDA is not available. Disabling\n",
      "  warnings.warn('User provided device_type of \\'cuda\\', but CUDA is not available. Disabling')\n"
     ]
    },
    {
     "output_type": "stream",
     "name": "stdout",
     "text": [
      "In epoch 20, loss: 0.3457810580730438, train auc: 0.886324149710866, train ap: 0.9242074580332373, test auc: 0.8219144719161516, test ap: 0.7768909496876688\n"
     ]
    },
    {
     "output_type": "stream",
     "name": "stderr",
     "text": [
      "/Users/chengwang/opt/anaconda3/lib/python3.8/site-packages/torch/autocast_mode.py:162: UserWarning: User provided device_type of 'cuda', but CUDA is not available. Disabling\n",
      "  warnings.warn('User provided device_type of \\'cuda\\', but CUDA is not available. Disabling')\n"
     ]
    },
    {
     "output_type": "stream",
     "name": "stdout",
     "text": [
      "In epoch 30, loss: 0.2538112998008728, train auc: 0.9382707411501847, train ap: 0.9597501689399677, test auc: 0.8585729642569202, test ap: 0.8151877173865698\n"
     ]
    },
    {
     "output_type": "stream",
     "name": "stderr",
     "text": [
      "/Users/chengwang/opt/anaconda3/lib/python3.8/site-packages/torch/autocast_mode.py:162: UserWarning: User provided device_type of 'cuda', but CUDA is not available. Disabling\n",
      "  warnings.warn('User provided device_type of \\'cuda\\', but CUDA is not available. Disabling')\n"
     ]
    },
    {
     "output_type": "stream",
     "name": "stdout",
     "text": [
      "In epoch 40, loss: 0.1877152919769287, train auc: 0.9667347863461991, train ap: 0.9797029864826714, test auc: 0.8631290311744155, test ap: 0.8049569723675158\n"
     ]
    },
    {
     "output_type": "stream",
     "name": "stderr",
     "text": [
      "/Users/chengwang/opt/anaconda3/lib/python3.8/site-packages/torch/autocast_mode.py:162: UserWarning: User provided device_type of 'cuda', but CUDA is not available. Disabling\n",
      "  warnings.warn('User provided device_type of \\'cuda\\', but CUDA is not available. Disabling')\n"
     ]
    }
   ],
   "metadata": {}
  },
  {
   "cell_type": "code",
   "execution_count": 87,
   "source": [
    "sage_fpr, sage_tpr, sage_prcs, sage_rcal, sage_auc, sage_ap = test_auc(test_pos_g,test_neg_g,h)"
   ],
   "outputs": [],
   "metadata": {}
  },
  {
   "cell_type": "code",
   "execution_count": 88,
   "source": [
    "sns.set_style('ticks')"
   ],
   "outputs": [],
   "metadata": {}
  },
  {
   "cell_type": "code",
   "execution_count": 89,
   "source": [
    "# Compute ROC curve and ROC area\n",
    "plt.figure(figsize = (12,12))\n",
    "lw = 3\n",
    "# sage_fpr, sage_tpr, sage_auc, sage_ap\n",
    "plt.plot(sage_fpr, sage_tpr, color='orange', label='GraphSAGE: %.3f' % sage_auc,lw = lw)\n",
    "plt.xlim([0.0, 1.0])\n",
    "plt.ylim([0.0, 1.0])\n",
    "plt.xlabel('False Positive Rate',fontsize = 20)\n",
    "plt.ylabel('True Positive Rate',fontsize = 20)\n",
    "# plt.title('ROC curve for metabolite-metabolite interaction prediction',fontsize = 20)\n",
    "plt.legend(loc=\"lower right\")\n",
    "plt.legend(fontsize=20)\n",
    "plt.xticks(fontsize = 20)\n",
    "plt.yticks(fontsize = 20)\n",
    "plt.show()"
   ],
   "outputs": [
    {
     "output_type": "display_data",
     "data": {
      "image/png": "[encoded data removed]",
      "text/plain": [
       "<Figure size 864x864 with 1 Axes>"
      ]
     },
     "metadata": {}
    }
   ],
   "metadata": {}
  },
  {
   "cell_type": "code",
   "execution_count": 90,
   "source": [
    "# Compute ROC curve and ROC area\n",
    "plt.figure(figsize = (12,12))\n",
    "lw = 3\n",
    "plt.plot(sage_rcal, sage_prcs, color='orange', label='GraphSAGE: %.3f' % sage_ap,lw = lw)\n",
    "\n",
    "# plt.plot([0, 1], [0, 1], color='navy', lw=lw, linestyle='--')\n",
    "plt.xlim([0.0, 1.0])\n",
    "plt.ylim([0.0, 1.0])\n",
    "plt.xlabel('Recall',fontsize = 20)\n",
    "plt.ylabel('Precision',fontsize = 20)\n",
    "plt.xticks(fontsize = 20)\n",
    "plt.yticks(fontsize = 20)\n",
    "# plt.title('Precision-recall curve for metabolite-metabolite interaction prediction',fontsize = 20)\n",
    "plt.legend(loc=\"lower right\")\n",
    "plt.legend(fontsize=20)\n",
    "plt.show()"
   ],
   "outputs": [
    {
     "output_type": "display_data",
     "data": {
      "image/png": "[encoded data removed]",
      "text/plain": [
       "<Figure size 864x864 with 1 Axes>"
      ]
     },
     "metadata": {}
    }
   ],
   "metadata": {}
  },
  {
   "cell_type": "code",
   "execution_count": 95,
   "source": [
    "\n",
    "# Compute loss\n",
    "plt.figure(figsize = (12,12))\n",
    "lw = 3\n",
    "# sage_fpr, sage_tpr, sage_auc, sage_ap\n",
    "plt.plot(np.arange(len(all_loss)),all_loss,color='orange',lw = lw)\n",
    "plt.xlabel('Epoch',fontsize = 20)\n",
    "plt.ylabel('Loss',fontsize = 20)\n",
    "plt.legend(loc=\"lower right\")\n",
    "plt.legend(fontsize=20)\n",
    "plt.xticks(fontsize = 20)\n",
    "plt.yticks(fontsize = 20)\n",
    "plt.show()"
   ],
   "outputs": [
    {
     "output_type": "stream",
     "name": "stderr",
     "text": [
      "No artists with labels found to put in legend.  Note that artists whose label start with an underscore are ignored when legend() is called with no argument.\n",
      "No artists with labels found to put in legend.  Note that artists whose label start with an underscore are ignored when legend() is called with no argument.\n"
     ]
    },
    {
     "output_type": "display_data",
     "data": {
      "image/png": "[encoded data removed]",
      "text/plain": [
       "<Figure size 864x864 with 1 Axes>"
      ]
     },
     "metadata": {}
    }
   ],
   "metadata": {}
  },
  {
   "cell_type": "code",
   "execution_count": null,
   "source": [],
   "outputs": [],
   "metadata": {}
  }
 ],
 "metadata": {
  "kernelspec": {
   "name": "python3",
   "display_name": "Python 3.8.8 64-bit ('base': conda)"
  },
  "language_info": {
   "codemirror_mode": {
    "name": "ipython",
    "version": 3
   },
   "file_extension": ".py",
   "mimetype": "text/x-python",
   "name": "python",
   "nbconvert_exporter": "python",
   "pygments_lexer": "ipython3",
   "version": "3.8.8"
  },
  "toc": {
   "base_numbering": 1,
   "nav_menu": {},
   "number_sections": true,
   "sideBar": true,
   "skip_h1_title": false,
   "title_cell": "Table of Contents",
   "title_sidebar": "Contents",
   "toc_cell": true,
   "toc_position": {},
   "toc_section_display": true,
   "toc_window_display": true
  },
  "interpreter": {
   "hash": "3fe952b0ba1daa6ee3393e62a893871d88149d9d44cf2ee1c1e3a6730bdcafed"
  }
 },
 "nbformat": 4,
 "nbformat_minor": 1
}