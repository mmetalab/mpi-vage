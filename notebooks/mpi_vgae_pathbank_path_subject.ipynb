{
 "cells": [
  {
   "cell_type": "markdown",
   "source": [
    "<h1>Table of Contents<span class=\"tocSkip\"></span></h1>\n",
    "<div class=\"toc\"><ul class=\"toc-item\"><li><span><a href=\"#Read-pathbank-data\" data-toc-modified-id=\"Read-pathbank-data-1\"><span class=\"toc-item-num\">1&nbsp;&nbsp;</span>Read pathbank data</a></span><ul class=\"toc-item\"><li><span><a href=\"#Read-Pathbank-Pathway-metadata\" data-toc-modified-id=\"Read-Pathbank-Pathway-metadata-1.1\"><span class=\"toc-item-num\">1.1&nbsp;&nbsp;</span>Read Pathbank Pathway metadata</a></span></li><li><span><a href=\"#Generate-species-pathway-ID\" data-toc-modified-id=\"Generate-species-pathway-ID-1.2\"><span class=\"toc-item-num\">1.2&nbsp;&nbsp;</span>Generate species pathway ID</a></span></li><li><span><a href=\"#Generate-human-pathway-graph\" data-toc-modified-id=\"Generate-human-pathway-graph-1.3\"><span class=\"toc-item-num\">1.3&nbsp;&nbsp;</span>Generate human pathway graph</a></span><ul class=\"toc-item\"><li><span><a href=\"#Read-human-pathway\" data-toc-modified-id=\"Read-human-pathway-1.3.1\"><span class=\"toc-item-num\">1.3.1&nbsp;&nbsp;</span>Read human pathway</a></span></li><li><span><a href=\"#Analysis-of-protein-classes-and-metabolite-types\" data-toc-modified-id=\"Analysis-of-protein-classes-and-metabolite-types-1.3.2\"><span class=\"toc-item-num\">1.3.2&nbsp;&nbsp;</span>Analysis of protein classes and metabolite types</a></span></li><li><span><a href=\"#Generate-fingerprint-for-metabolite-ID\" data-toc-modified-id=\"Generate-fingerprint-for-metabolite-ID-1.3.3\"><span class=\"toc-item-num\">1.3.3&nbsp;&nbsp;</span>Generate fingerprint for metabolite ID</a></span></li><li><span><a href=\"#Generate-protein-vectors-for-all-uniport-ID\" data-toc-modified-id=\"Generate-protein-vectors-for-all-uniport-ID-1.3.4\"><span class=\"toc-item-num\">1.3.4&nbsp;&nbsp;</span>Generate protein vectors for all uniport ID</a></span></li><li><span><a href=\"#Generate-features-for-graph\" data-toc-modified-id=\"Generate-features-for-graph-1.3.5\"><span class=\"toc-item-num\">1.3.5&nbsp;&nbsp;</span>Generate features for graph</a></span></li><li><span><a href=\"#Unsupervised-learning-of-embedded-features\" data-toc-modified-id=\"Unsupervised-learning-of-embedded-features-1.3.6\"><span class=\"toc-item-num\">1.3.6&nbsp;&nbsp;</span>Unsupervised learning of embedded features</a></span></li><li><span><a href=\"#PCA-dimensionality-reduction\" data-toc-modified-id=\"PCA-dimensionality-reduction-1.3.7\"><span class=\"toc-item-num\">1.3.7&nbsp;&nbsp;</span>PCA dimensionality reduction</a></span></li></ul></li></ul></li><li><span><a href=\"#Read-real-world-data\" data-toc-modified-id=\"Read-real-world-data-2\"><span class=\"toc-item-num\">2&nbsp;&nbsp;</span>Read real world data</a></span><ul class=\"toc-item\"><li><span><a href=\"#Get-metabolite-compound-id\" data-toc-modified-id=\"Get-metabolite-compound-id-2.1\"><span class=\"toc-item-num\">2.1&nbsp;&nbsp;</span>Get metabolite compound id</a></span></li></ul></li><li><span><a href=\"#Spectral-clustering\" data-toc-modified-id=\"Spectral-clustering-3\"><span class=\"toc-item-num\">3&nbsp;&nbsp;</span>Spectral clustering</a></span></li><li><span><a href=\"#Baselines\" data-toc-modified-id=\"Baselines-4\"><span class=\"toc-item-num\">4&nbsp;&nbsp;</span>Baselines</a></span><ul class=\"toc-item\"><li><span><a href=\"#Adamic-Ada\" data-toc-modified-id=\"Adamic-Ada-4.1\"><span class=\"toc-item-num\">4.1&nbsp;&nbsp;</span>Adamic-Ada</a></span></li><li><span><a href=\"#Jaccard-Coefficient\" data-toc-modified-id=\"Jaccard-Coefficient-4.2\"><span class=\"toc-item-num\">4.2&nbsp;&nbsp;</span>Jaccard Coefficient</a></span></li><li><span><a href=\"#Preferential-Attachment\" data-toc-modified-id=\"Preferential-Attachment-4.3\"><span class=\"toc-item-num\">4.3&nbsp;&nbsp;</span>Preferential Attachment</a></span></li></ul></li><li><span><a href=\"#Graph-Vae-(with-feature)\" data-toc-modified-id=\"Graph-Vae-(with-feature)-5\"><span class=\"toc-item-num\">5&nbsp;&nbsp;</span>Graph Vae (with feature)</a></span><ul class=\"toc-item\"><li><span><a href=\"#Read-in-Graph-Data\" data-toc-modified-id=\"Read-in-Graph-Data-5.1\"><span class=\"toc-item-num\">5.1&nbsp;&nbsp;</span>Read in Graph Data</a></span></li><li><span><a href=\"#Data-Preprocessing\" data-toc-modified-id=\"Data-Preprocessing-5.2\"><span class=\"toc-item-num\">5.2&nbsp;&nbsp;</span>Data Preprocessing</a></span></li><li><span><a href=\"#Initialize-VAE-Model\" data-toc-modified-id=\"Initialize-VAE-Model-5.3\"><span class=\"toc-item-num\">5.3&nbsp;&nbsp;</span>Initialize VAE Model</a></span></li><li><span><a href=\"#Train-and-Evaluate-VAE-Model\" data-toc-modified-id=\"Train-and-Evaluate-VAE-Model-5.4\"><span class=\"toc-item-num\">5.4&nbsp;&nbsp;</span>Train and Evaluate VAE Model</a></span></li></ul></li><li><span><a href=\"#Graph-Vae-(without-feature)\" data-toc-modified-id=\"Graph-Vae-(without-feature)-6\"><span class=\"toc-item-num\">6&nbsp;&nbsp;</span>Graph Vae (without feature)</a></span><ul class=\"toc-item\"><li><span><a href=\"#Read-in-Graph-Data\" data-toc-modified-id=\"Read-in-Graph-Data-6.1\"><span class=\"toc-item-num\">6.1&nbsp;&nbsp;</span>Read in Graph Data</a></span></li><li><span><a href=\"#Data-Preprocessing\" data-toc-modified-id=\"Data-Preprocessing-6.2\"><span class=\"toc-item-num\">6.2&nbsp;&nbsp;</span>Data Preprocessing</a></span></li><li><span><a href=\"#Initialize-VAE-Model\" data-toc-modified-id=\"Initialize-VAE-Model-6.3\"><span class=\"toc-item-num\">6.3&nbsp;&nbsp;</span>Initialize VAE Model</a></span></li><li><span><a href=\"#Train-and-Evaluate-VAE-Model\" data-toc-modified-id=\"Train-and-Evaluate-VAE-Model-6.4\"><span class=\"toc-item-num\">6.4&nbsp;&nbsp;</span>Train and Evaluate VAE Model</a></span></li></ul></li><li><span><a href=\"#Node2vec\" data-toc-modified-id=\"Node2vec-7\"><span class=\"toc-item-num\">7&nbsp;&nbsp;</span>Node2vec</a></span><ul class=\"toc-item\"><li><span><a href=\"#Train-node2vec-(Learn-Node-Embeddings)\" data-toc-modified-id=\"Train-node2vec-(Learn-Node-Embeddings)-7.1\"><span class=\"toc-item-num\">7.1&nbsp;&nbsp;</span>Train node2vec (Learn Node Embeddings)</a></span></li><li><span><a href=\"#Create-Edge-Embeddings\" data-toc-modified-id=\"Create-Edge-Embeddings-7.2\"><span class=\"toc-item-num\">7.2&nbsp;&nbsp;</span>Create Edge Embeddings</a></span></li><li><span><a href=\"#Evaluate-Edge-Embeddings\" data-toc-modified-id=\"Evaluate-Edge-Embeddings-7.3\"><span class=\"toc-item-num\">7.3&nbsp;&nbsp;</span>Evaluate Edge Embeddings</a></span></li></ul></li><li><span><a href=\"#Visualization-of-all-ROC-curve\" data-toc-modified-id=\"Visualization-of-all-ROC-curve-8\"><span class=\"toc-item-num\">8&nbsp;&nbsp;</span>Visualization of all ROC curve</a></span></li></ul></div>"
   ],
   "metadata": {
    "toc": true
   }
  },
  {
   "cell_type": "markdown",
   "source": [
    "**Run the notebook in conda tf env** <br>\n",
    "**Conda activate tf**"
   ],
   "metadata": {}
  },
  {
   "cell_type": "code",
   "execution_count": 1,
   "source": [
    "import pandas as pd\n",
    "from sklearn.manifold import TSNE\n",
    "import numpy as np\n",
    "import networkx as nx\n",
    "import matplotlib.pyplot as plt\n",
    "import matplotlib.patches as mpatches\n",
    "import scipy.sparse as sp\n",
    "import torch\n",
    "import seaborn as sns\n",
    "# from node2vec import Node2Vec\n",
    "sns.set_style('whitegrid')\n",
    "import glob\n",
    "from sklearn.linear_model import LogisticRegression\n",
    "from sklearn.metrics import classification_report, roc_auc_score, average_precision_score,ndcg_score\n",
    "from sklearn.model_selection import train_test_split\n",
    "from sklearn.metrics import confusion_matrix\n",
    "from sklearn.metrics import roc_curve, auc, precision_recall_curve, f1_score\n",
    "from rdkit import Chem\n",
    "from rdkit.Chem import MACCSkeys\n",
    "import json\n",
    "from pathlib import Path\n",
    "import pickle\n",
    "from rdkit.Chem import AllChem\n",
    "from rdkit.Chem import DataStructs"
   ],
   "outputs": [
    {
     "output_type": "stream",
     "name": "stderr",
     "text": [
      "RDKit WARNING: [20:56:41] Enabling RDKit 2019.09.3 jupyter extensions\n"
     ]
    }
   ],
   "metadata": {}
  },
  {
   "cell_type": "code",
   "execution_count": 2,
   "source": [
    "import esm"
   ],
   "outputs": [],
   "metadata": {}
  },
  {
   "cell_type": "code",
   "execution_count": 3,
   "source": [
    "from Bio import SeqIO"
   ],
   "outputs": [],
   "metadata": {}
  },
  {
   "cell_type": "markdown",
   "source": [
    "# Read pathbank data"
   ],
   "metadata": {}
  },
  {
   "cell_type": "markdown",
   "source": [
    "## Read Pathbank Pathway metadata\n",
    "Read overall metadata of pathways"
   ],
   "metadata": {}
  },
  {
   "cell_type": "code",
   "execution_count": 4,
   "source": [
    "meta_data_dir = './Training_data/pathbank/Pathbank_Meta_Data/'"
   ],
   "outputs": [],
   "metadata": {}
  },
  {
   "cell_type": "code",
   "execution_count": 5,
   "source": [
    "meta_data = pd.read_csv(meta_data_dir+'pathbank_pathways.csv')\n",
    "meta_data.head()\n"
   ],
   "outputs": [
    {
     "output_type": "execute_result",
     "data": {
      "text/html": [
       "<div>\n",
       "<style scoped>\n",
       "    .dataframe tbody tr th:only-of-type {\n",
       "        vertical-align: middle;\n",
       "    }\n",
       "\n",
       "    .dataframe tbody tr th {\n",
       "        vertical-align: top;\n",
       "    }\n",
       "\n",
       "    .dataframe thead th {\n",
       "        text-align: right;\n",
       "    }\n",
       "</style>\n",
       "<table border=\"1\" class=\"dataframe\">\n",
       "  <thead>\n",
       "    <tr style=\"text-align: right;\">\n",
       "      <th></th>\n",
       "      <th>SMPDB ID</th>\n",
       "      <th>PW ID</th>\n",
       "      <th>Name</th>\n",
       "      <th>Subject</th>\n",
       "      <th>Description</th>\n",
       "    </tr>\n",
       "  </thead>\n",
       "  <tbody>\n",
       "    <tr>\n",
       "      <th>0</th>\n",
       "      <td>SMP0000055</td>\n",
       "      <td>PW000001</td>\n",
       "      <td>Alanine Metabolism</td>\n",
       "      <td>Metabolic</td>\n",
       "      <td>Alanine (L-Alanine) is an α-amino acid that is...</td>\n",
       "    </tr>\n",
       "    <tr>\n",
       "      <th>1</th>\n",
       "      <td>SMP0000067</td>\n",
       "      <td>PW000002</td>\n",
       "      <td>Aspartate Metabolism</td>\n",
       "      <td>Metabolic</td>\n",
       "      <td>Aspartate is synthesized by transamination of ...</td>\n",
       "    </tr>\n",
       "    <tr>\n",
       "      <th>2</th>\n",
       "      <td>SMP0000072</td>\n",
       "      <td>PW000003</td>\n",
       "      <td>Glutamate Metabolism</td>\n",
       "      <td>Metabolic</td>\n",
       "      <td>Glutamate is one of the non-essential amino ac...</td>\n",
       "    </tr>\n",
       "    <tr>\n",
       "      <th>3</th>\n",
       "      <td>SMP0000015</td>\n",
       "      <td>PW000004</td>\n",
       "      <td>Glutathione Metabolism</td>\n",
       "      <td>Metabolic</td>\n",
       "      <td>Glutathione (GSH) is an low-molecular-weight t...</td>\n",
       "    </tr>\n",
       "    <tr>\n",
       "      <th>4</th>\n",
       "      <td>SMP0000057</td>\n",
       "      <td>PW000005</td>\n",
       "      <td>Citric Acid Cycle</td>\n",
       "      <td>Metabolic</td>\n",
       "      <td>The citric acid cycle, which is also known as ...</td>\n",
       "    </tr>\n",
       "  </tbody>\n",
       "</table>\n",
       "</div>"
      ],
      "text/plain": [
       "     SMPDB ID     PW ID                    Name    Subject  \\\n",
       "0  SMP0000055  PW000001      Alanine Metabolism  Metabolic   \n",
       "1  SMP0000067  PW000002    Aspartate Metabolism  Metabolic   \n",
       "2  SMP0000072  PW000003    Glutamate Metabolism  Metabolic   \n",
       "3  SMP0000015  PW000004  Glutathione Metabolism  Metabolic   \n",
       "4  SMP0000057  PW000005       Citric Acid Cycle  Metabolic   \n",
       "\n",
       "                                         Description  \n",
       "0  Alanine (L-Alanine) is an α-amino acid that is...  \n",
       "1  Aspartate is synthesized by transamination of ...  \n",
       "2  Glutamate is one of the non-essential amino ac...  \n",
       "3  Glutathione (GSH) is an low-molecular-weight t...  \n",
       "4  The citric acid cycle, which is also known as ...  "
      ]
     },
     "metadata": {},
     "execution_count": 5
    }
   ],
   "metadata": {}
  },
  {
   "cell_type": "markdown",
   "source": [
    "Read compound metabolite and protein metadata"
   ],
   "metadata": {}
  },
  {
   "cell_type": "code",
   "execution_count": 6,
   "source": [
    "metabolite_data = pd.read_csv(meta_data_dir+'pathbank_all_metabolites.csv') \n",
    "protein_data = pd.read_csv(meta_data_dir+'pathbank_all_proteins.csv')"
   ],
   "outputs": [
    {
     "output_type": "stream",
     "name": "stderr",
     "text": [
      "/Users/chengwang/opt/anaconda3/lib/python3.8/site-packages/IPython/core/interactiveshell.py:3165: DtypeWarning: Columns (6,7,8,10) have mixed types.Specify dtype option on import or set low_memory=False.\n",
      "  has_raised = await self.run_ast_nodes(code_ast.body, cell_name,\n"
     ]
    }
   ],
   "metadata": {}
  },
  {
   "cell_type": "code",
   "execution_count": 7,
   "source": [
    "main_metabolite_data = pd.read_csv(meta_data_dir+'pathbank_primary_metabolites.csv') \n",
    "main_protein_data = pd.read_csv(meta_data_dir+'pathbank_primary_proteins.csv')"
   ],
   "outputs": [],
   "metadata": {}
  },
  {
   "cell_type": "code",
   "execution_count": 8,
   "source": [
    "main_protein_data.head()"
   ],
   "outputs": [
    {
     "output_type": "execute_result",
     "data": {
      "text/html": [
       "<div>\n",
       "<style scoped>\n",
       "    .dataframe tbody tr th:only-of-type {\n",
       "        vertical-align: middle;\n",
       "    }\n",
       "\n",
       "    .dataframe tbody tr th {\n",
       "        vertical-align: top;\n",
       "    }\n",
       "\n",
       "    .dataframe thead th {\n",
       "        text-align: right;\n",
       "    }\n",
       "</style>\n",
       "<table border=\"1\" class=\"dataframe\">\n",
       "  <thead>\n",
       "    <tr style=\"text-align: right;\">\n",
       "      <th></th>\n",
       "      <th>PathBank ID</th>\n",
       "      <th>Pathway Name</th>\n",
       "      <th>Pathway Subject</th>\n",
       "      <th>Species</th>\n",
       "      <th>Uniprot ID</th>\n",
       "      <th>Protein Name</th>\n",
       "      <th>HMDBP ID</th>\n",
       "      <th>DrugBank ID</th>\n",
       "      <th>GenBank ID</th>\n",
       "      <th>Gene Name</th>\n",
       "      <th>Locus</th>\n",
       "    </tr>\n",
       "  </thead>\n",
       "  <tbody>\n",
       "    <tr>\n",
       "      <th>0</th>\n",
       "      <td>SMP0000055</td>\n",
       "      <td>Alanine Metabolism</td>\n",
       "      <td>Metabolic</td>\n",
       "      <td>Homo sapiens</td>\n",
       "      <td>P49588</td>\n",
       "      <td>Alanine--tRNA ligase, cytoplasmic</td>\n",
       "      <td>HMDBP00625</td>\n",
       "      <td>NaN</td>\n",
       "      <td>AC012184</td>\n",
       "      <td>AARS</td>\n",
       "      <td>16q22</td>\n",
       "    </tr>\n",
       "    <tr>\n",
       "      <th>1</th>\n",
       "      <td>SMP0000055</td>\n",
       "      <td>Alanine Metabolism</td>\n",
       "      <td>Metabolic</td>\n",
       "      <td>Homo sapiens</td>\n",
       "      <td>P24298</td>\n",
       "      <td>Alanine aminotransferase 1</td>\n",
       "      <td>HMDBP00850</td>\n",
       "      <td>NaN</td>\n",
       "      <td>U70732</td>\n",
       "      <td>GPT</td>\n",
       "      <td>8q24.3</td>\n",
       "    </tr>\n",
       "    <tr>\n",
       "      <th>2</th>\n",
       "      <td>SMP0000055</td>\n",
       "      <td>Alanine Metabolism</td>\n",
       "      <td>Metabolic</td>\n",
       "      <td>Homo sapiens</td>\n",
       "      <td>P11498</td>\n",
       "      <td>Pyruvate carboxylase, mitochondrial</td>\n",
       "      <td>HMDBP00019</td>\n",
       "      <td>NaN</td>\n",
       "      <td>K02282</td>\n",
       "      <td>PC</td>\n",
       "      <td>11q13.4-q13.5</td>\n",
       "    </tr>\n",
       "    <tr>\n",
       "      <th>3</th>\n",
       "      <td>SMP0000055</td>\n",
       "      <td>Alanine Metabolism</td>\n",
       "      <td>Metabolic</td>\n",
       "      <td>Homo sapiens</td>\n",
       "      <td>P21549</td>\n",
       "      <td>Serine--pyruvate aminotransferase</td>\n",
       "      <td>HMDBP00789</td>\n",
       "      <td>NaN</td>\n",
       "      <td>CH471063</td>\n",
       "      <td>AGXT</td>\n",
       "      <td>2q37.3</td>\n",
       "    </tr>\n",
       "    <tr>\n",
       "      <th>4</th>\n",
       "      <td>SMP0000055</td>\n",
       "      <td>Alanine Metabolism</td>\n",
       "      <td>Metabolic</td>\n",
       "      <td>Homo sapiens</td>\n",
       "      <td>Q5JTZ9</td>\n",
       "      <td>Alanine--tRNA ligase, mitochondrial</td>\n",
       "      <td>HMDBP10671</td>\n",
       "      <td>NaN</td>\n",
       "      <td>BC131728</td>\n",
       "      <td>AARS2</td>\n",
       "      <td>6p21.1</td>\n",
       "    </tr>\n",
       "  </tbody>\n",
       "</table>\n",
       "</div>"
      ],
      "text/plain": [
       "  PathBank ID        Pathway Name Pathway Subject       Species Uniprot ID  \\\n",
       "0  SMP0000055  Alanine Metabolism       Metabolic  Homo sapiens     P49588   \n",
       "1  SMP0000055  Alanine Metabolism       Metabolic  Homo sapiens     P24298   \n",
       "2  SMP0000055  Alanine Metabolism       Metabolic  Homo sapiens     P11498   \n",
       "3  SMP0000055  Alanine Metabolism       Metabolic  Homo sapiens     P21549   \n",
       "4  SMP0000055  Alanine Metabolism       Metabolic  Homo sapiens     Q5JTZ9   \n",
       "\n",
       "                          Protein Name    HMDBP ID DrugBank ID GenBank ID  \\\n",
       "0    Alanine--tRNA ligase, cytoplasmic  HMDBP00625         NaN   AC012184   \n",
       "1           Alanine aminotransferase 1  HMDBP00850         NaN     U70732   \n",
       "2  Pyruvate carboxylase, mitochondrial  HMDBP00019         NaN     K02282   \n",
       "3    Serine--pyruvate aminotransferase  HMDBP00789         NaN   CH471063   \n",
       "4  Alanine--tRNA ligase, mitochondrial  HMDBP10671         NaN   BC131728   \n",
       "\n",
       "  Gene Name          Locus  \n",
       "0      AARS          16q22  \n",
       "1       GPT         8q24.3  \n",
       "2        PC  11q13.4-q13.5  \n",
       "3      AGXT         2q37.3  \n",
       "4     AARS2         6p21.1  "
      ]
     },
     "metadata": {},
     "execution_count": 8
    }
   ],
   "metadata": {}
  },
  {
   "cell_type": "code",
   "execution_count": 9,
   "source": [
    "protein_name = list(main_protein_data['Protein Name'].unique())\n",
    "len(protein_name)"
   ],
   "outputs": [
    {
     "output_type": "execute_result",
     "data": {
      "text/plain": [
       "4933"
      ]
     },
     "metadata": {},
     "execution_count": 9
    }
   ],
   "metadata": {}
  },
  {
   "cell_type": "code",
   "execution_count": 10,
   "source": [
    "list(main_protein_data)"
   ],
   "outputs": [
    {
     "output_type": "execute_result",
     "data": {
      "text/plain": [
       "['PathBank ID',\n",
       " 'Pathway Name',\n",
       " 'Pathway Subject',\n",
       " 'Species',\n",
       " 'Uniprot ID',\n",
       " 'Protein Name',\n",
       " 'HMDBP ID',\n",
       " 'DrugBank ID',\n",
       " 'GenBank ID',\n",
       " 'Gene Name',\n",
       " 'Locus']"
      ]
     },
     "metadata": {},
     "execution_count": 10
    }
   ],
   "metadata": {}
  },
  {
   "cell_type": "code",
   "execution_count": 11,
   "source": [
    "len(main_protein_data['Uniprot ID'].unique())"
   ],
   "outputs": [
    {
     "output_type": "execute_result",
     "data": {
      "text/plain": [
       "8707"
      ]
     },
     "metadata": {},
     "execution_count": 11
    }
   ],
   "metadata": {}
  },
  {
   "cell_type": "code",
   "execution_count": 12,
   "source": [
    "main_metabolite_data['Pathway Subject'].value_counts()"
   ],
   "outputs": [
    {
     "output_type": "execute_result",
     "data": {
      "text/plain": [
       "Disease            27406\n",
       "Metabolic          24432\n",
       "Drug Action         7089\n",
       "Protein             1666\n",
       "Drug Metabolism      721\n",
       "Signaling            317\n",
       "Physiological        240\n",
       "Name: Pathway Subject, dtype: int64"
      ]
     },
     "metadata": {},
     "execution_count": 12
    }
   ],
   "metadata": {}
  },
  {
   "cell_type": "code",
   "execution_count": 13,
   "source": [
    "main_protein_data['Pathway Subject'].value_counts()"
   ],
   "outputs": [
    {
     "output_type": "execute_result",
     "data": {
      "text/plain": [
       "Disease            12410\n",
       "Metabolic          11551\n",
       "Protein             8853\n",
       "Drug Action         7909\n",
       "Signaling            556\n",
       "Physiological        495\n",
       "Drug Metabolism      418\n",
       "Name: Pathway Subject, dtype: int64"
      ]
     },
     "metadata": {},
     "execution_count": 13
    }
   ],
   "metadata": {}
  },
  {
   "cell_type": "markdown",
   "source": [
    "**Obtain Homo sapiens pathways data**"
   ],
   "metadata": {}
  },
  {
   "cell_type": "code",
   "execution_count": 14,
   "source": [
    "subject = ['Signaling','Physiological','Protein']\n",
    "main_spec_mets_data = main_metabolite_data[main_metabolite_data['Pathway Subject'].isin(subject)] \n",
    "main_spec_protein_data = main_protein_data[main_protein_data['Pathway Subject'].isin(subject)]"
   ],
   "outputs": [],
   "metadata": {}
  },
  {
   "cell_type": "markdown",
   "source": [
    "## Generate species pathway ID"
   ],
   "metadata": {}
  },
  {
   "cell_type": "code",
   "execution_count": 15,
   "source": [
    "spec_mets_data = metabolite_data[metabolite_data['Pathway Subject'].isin(subject)]\n",
    "spec_mets_data_m = pd.merge(spec_mets_data,meta_data[['SMPDB ID','PW ID']],left_on='PathBank ID', right_on='SMPDB ID', how='left')\n",
    "spec_protein_data = protein_data[protein_data['Pathway Subject'].isin(subject)]\n",
    "spec_protein_data_m = pd.merge(spec_protein_data,meta_data[['SMPDB ID','PW ID']],left_on='PathBank ID', right_on='SMPDB ID', how='left')\n",
    "\n",
    "'Get metabolite and protein involved pathway ID'\n",
    "spec_pw_id_met = list(spec_mets_data_m['PW ID'].unique())\n",
    "spec_pw_id_protn = list(spec_protein_data_m['PW ID'].unique())\n",
    "spec_pw_id = list(set(spec_pw_id_met+spec_pw_id_protn))\n"
   ],
   "outputs": [],
   "metadata": {}
  },
  {
   "cell_type": "code",
   "execution_count": 16,
   "source": [
    "len(spec_mets_data_m['Metabolite ID'].unique())"
   ],
   "outputs": [
    {
     "output_type": "execute_result",
     "data": {
      "text/plain": [
       "194"
      ]
     },
     "metadata": {},
     "execution_count": 16
    }
   ],
   "metadata": {}
  },
  {
   "cell_type": "code",
   "execution_count": 17,
   "source": [
    "len(spec_mets_data_m['Metabolite ID'].unique())"
   ],
   "outputs": [
    {
     "output_type": "execute_result",
     "data": {
      "text/plain": [
       "194"
      ]
     },
     "metadata": {},
     "execution_count": 17
    }
   ],
   "metadata": {}
  },
  {
   "cell_type": "code",
   "execution_count": 18,
   "source": [
    "len(spec_pw_id) "
   ],
   "outputs": [
    {
     "output_type": "execute_result",
     "data": {
      "text/plain": [
       "477"
      ]
     },
     "metadata": {},
     "execution_count": 18
    }
   ],
   "metadata": {}
  },
  {
   "cell_type": "code",
   "execution_count": 178,
   "source": [
    "meta_name_id_dict = dict(zip(metabolite_data['Metabolite Name'].tolist(),metabolite_data['Metabolite ID'].tolist()))\n",
    "protein_name_id_dict = dict(zip(protein_data['Protein Name'].tolist(),protein_data['Uniprot ID'].tolist()))"
   ],
   "outputs": [],
   "metadata": {}
  },
  {
   "cell_type": "markdown",
   "source": [
    "## Generate human pathway graph"
   ],
   "metadata": {}
  },
  {
   "cell_type": "markdown",
   "source": [
    "### Read human pathway"
   ],
   "metadata": {}
  },
  {
   "cell_type": "code",
   "execution_count": 179,
   "source": [
    "spec_pw_id = [x for x in spec_pw_id if str(x) != 'nan']"
   ],
   "outputs": [],
   "metadata": {}
  },
  {
   "cell_type": "code",
   "execution_count": 180,
   "source": [
    "g = nx.empty_graph(0, create_using=nx.Graph)\n",
    "for pwid in spec_pw_id:\n",
    "    pwfile = './Training_data/pathbank/pathbank_pathway_csv/'+pwid+'*.csv'\n",
    "#     print(pwid,pwfile)\n",
    "    try:\n",
    "        spwfile = glob.glob(pwfile)\n",
    "        for spw in spwfile:\n",
    "            df = pd.read_csv(spw,index_col = 0)\n",
    "            g_df = nx.from_pandas_adjacency(df,create_using = nx.Graph())\n",
    "            g = nx.compose(g, g_df)\n",
    "    except:\n",
    "        pass"
   ],
   "outputs": [],
   "metadata": {}
  },
  {
   "cell_type": "code",
   "execution_count": 181,
   "source": [
    "print(nx.info(g))"
   ],
   "outputs": [
    {
     "output_type": "stream",
     "name": "stdout",
     "text": [
      "Name: \n",
      "Type: Graph\n",
      "Number of nodes: 479\n",
      "Number of edges: 827\n",
      "Average degree:   3.4530\n"
     ]
    }
   ],
   "metadata": {}
  },
  {
   "cell_type": "code",
   "execution_count": 182,
   "source": [
    "nodes = list(g.nodes())"
   ],
   "outputs": [],
   "metadata": {}
  },
  {
   "cell_type": "code",
   "execution_count": 183,
   "source": [
    "node_path_id_dict = {}\n",
    "for i in nodes:\n",
    "    pathway_met_id = []\n",
    "    pathway_prot_id = []\n",
    "    all_id = []\n",
    "    pathway_met_id = spec_mets_data_m[spec_mets_data_m['Metabolite Name']==i]['PW ID'].unique().tolist()\n",
    "    pathway_prot_id = spec_protein_data_m[spec_protein_data_m['Protein Name']==i]['PW ID'].unique().tolist()\n",
    "    for t in pathway_met_id:\n",
    "        all_id.append(t)\n",
    "    for t in pathway_prot_id:\n",
    "        all_id.append(t)\n",
    "    all_id = list(set(all_id))\n",
    "    node_path_id_dict[i] = all_id"
   ],
   "outputs": [],
   "metadata": {}
  },
  {
   "cell_type": "code",
   "execution_count": 184,
   "source": [
    "c_mets = 0\n",
    "c_prtn = 0\n",
    "c_prtn_nodes = []\n",
    "c_mets_nodes = []\n",
    "for i in nodes:\n",
    "    if i in meta_name_id_dict:\n",
    "        c_mets += 1\n",
    "        c_mets_nodes.append(i)\n",
    "    if i in protein_name_id_dict:\n",
    "        c_prtn += 1\n",
    "        c_prtn_nodes.append(i)\n",
    "print('number of metabolites ',c_mets)\n",
    "print('number of protein ',c_prtn)\n",
    "print('total number ',len(nodes),c_mets+c_prtn,len(nodes)-c_prtn)"
   ],
   "outputs": [
    {
     "output_type": "stream",
     "name": "stdout",
     "text": [
      "number of metabolites  124\n",
      "number of protein  232\n",
      "total number  479 356 247\n"
     ]
    }
   ],
   "metadata": {}
  },
  {
   "cell_type": "markdown",
   "source": [
    "### Analysis of protein classes and metabolite types"
   ],
   "metadata": {}
  },
  {
   "cell_type": "code",
   "execution_count": 143,
   "source": [
    "len(list(main_spec_protein_data['Protein Name'].unique()))"
   ],
   "outputs": [
    {
     "output_type": "execute_result",
     "data": {
      "text/plain": [
       "152"
      ]
     },
     "metadata": {},
     "execution_count": 143
    }
   ],
   "metadata": {}
  },
  {
   "cell_type": "markdown",
   "source": [
    "### Generate fingerprint for metabolite ID"
   ],
   "metadata": {}
  },
  {
   "cell_type": "code",
   "execution_count": 144,
   "source": [
    "mets_dict = dict(zip(metabolite_data['Metabolite ID'].tolist(),metabolite_data['SMILES'].tolist()))\n",
    "len(mets_dict.keys())"
   ],
   "outputs": [
    {
     "output_type": "execute_result",
     "data": {
      "text/plain": [
       "78277"
      ]
     },
     "metadata": {},
     "execution_count": 144
    }
   ],
   "metadata": {}
  },
  {
   "cell_type": "code",
   "execution_count": 28,
   "source": [
    "from rdkit.Chem import MACCSkeys"
   ],
   "outputs": [],
   "metadata": {}
  },
  {
   "cell_type": "code",
   "execution_count": 29,
   "source": [
    "from rdkit.Chem.AtomPairs import Pairs"
   ],
   "outputs": [],
   "metadata": {}
  },
  {
   "cell_type": "code",
   "execution_count": 638,
   "source": [
    "smile_test_fp = mets_dict['PW_C000414']\n",
    "mol = Chem.MolFromSmiles(smile_test_fp)\n",
    "# fp = Chem.RDKFingerprint(mol,fpSize=1024)\n",
    "fp = MACCSkeys.GenMACCSKeys(mol)\n",
    "# fp = Pairs.GetAtomPairFingerprintAsBitVect(mol)\n",
    "# fp = AllChem.GetMorganFingerprintAsBitVect(mol, 2, nBits=1024)\n",
    "array = np.zeros((0, ), dtype=np.int8)\n",
    "DataStructs.ConvertToNumpyArray(fp, array)\n",
    "array.shape"
   ],
   "outputs": [
    {
     "output_type": "execute_result",
     "data": {
      "text/plain": [
       "(167,)"
      ]
     },
     "metadata": {},
     "execution_count": 638
    }
   ],
   "metadata": {}
  },
  {
   "cell_type": "code",
   "execution_count": 636,
   "source": [
    "fp"
   ],
   "outputs": [
    {
     "output_type": "execute_result",
     "data": {
      "text/plain": [
       "<rdkit.DataStructs.cDataStructs.SparseBitVect at 0x7fb7f6560810>"
      ]
     },
     "metadata": {},
     "execution_count": 636
    }
   ],
   "metadata": {}
  },
  {
   "cell_type": "code",
   "execution_count": 30,
   "source": [
    "mets_vec = {}\n",
    "mets_proc = []\n",
    "mets_fp = []\n",
    "c = 0\n",
    "for k,v in mets_dict.items():\n",
    "    smile = v\n",
    "    try:\n",
    "#         print(c)\n",
    "        mol = Chem.MolFromSmiles(smile)\n",
    "        'Topological fingerprint'\n",
    "        # fp = Chem.RDKFingerprint(mol,fpSize=1024)\n",
    "        # fp = MACCSkeys.GenMACCSKeys(mol)\n",
    "        fp = AllChem.GetMorganFingerprintAsBitVect(mol, 2, nBits=1024)\n",
    "        array = np.zeros((0, ), dtype=np.int8)\n",
    "        DataStructs.ConvertToNumpyArray(fp, array)\n",
    "        mets_vec[k] = array\n",
    "        mets_proc.append(k)\n",
    "        mets_fp.append(array)\n",
    "        c += 1\n",
    "    except:\n",
    "        mets_vec[k] = None\n",
    "        c += 1"
   ],
   "outputs": [
    {
     "output_type": "stream",
     "name": "stderr",
     "text": [
      "RDKit WARNING: [09:53:40] WARNING: not removing hydrogen atom without neighbors\n",
      "RDKit ERROR: [09:53:40] Explicit valence for atom # 26 N, 4, is greater than permitted\n",
      "RDKit ERROR: [09:53:40] Explicit valence for atom # 1 N, 4, is greater than permitted\n",
      "RDKit ERROR: [09:53:40] Explicit valence for atom # 8 N, 4, is greater than permitted\n",
      "RDKit ERROR: [09:53:40] Explicit valence for atom # 28 N, 4, is greater than permitted\n",
      "RDKit ERROR: [09:53:40] Explicit valence for atom # 31 O, 3, is greater than permitted\n",
      "RDKit ERROR: [09:53:40] Explicit valence for atom # 4 N, 4, is greater than permitted\n",
      "RDKit ERROR: [09:53:42] Explicit valence for atom # 21 N, 4, is greater than permitted\n",
      "RDKit ERROR: [09:53:42] Explicit valence for atom # 17 O, 3, is greater than permitted\n"
     ]
    }
   ],
   "metadata": {}
  },
  {
   "cell_type": "code",
   "execution_count": 31,
   "source": [
    "mets_fp = np.asarray(mets_fp)\n",
    "mets_fp.shape"
   ],
   "outputs": [
    {
     "output_type": "execute_result",
     "data": {
      "text/plain": [
       "(78261, 1024)"
      ]
     },
     "metadata": {},
     "execution_count": 31
    }
   ],
   "metadata": {}
  },
  {
   "cell_type": "code",
   "execution_count": 39,
   "source": [
    "from sklearn.decomposition import PCA\n",
    "pca = PCA(n_components=1024)\n",
    "pca.fit(mets_fp)\n",
    "pca_mets_fp = pca.transform(mets_fp)"
   ],
   "outputs": [],
   "metadata": {}
  },
  {
   "cell_type": "code",
   "execution_count": 40,
   "source": [
    "pca_mets_vec = {}\n",
    "for i in range(len(mets_proc)):\n",
    "    k = mets_proc[i]\n",
    "    pca_mets_vec[k] = pca_mets_fp[i]"
   ],
   "outputs": [],
   "metadata": {}
  },
  {
   "cell_type": "code",
   "execution_count": null,
   "source": [
    "# mets_vec = {}\n",
    "# c = 0\n",
    "# for k,v in mets_dict.items():\n",
    "#     smile = v\n",
    "#     try:\n",
    "# #         print(c)\n",
    "\n",
    "#     gen = rdNormalizedDescriptors.RDKit2DNormalized()\n",
    "#     for smi in df['SMI'].tolist():\n",
    "#         md = gen.process(smi)\n",
    "#         t = md[1:]\n",
    "#         md_ccs.append(t)\n",
    "#     md_ccs = np.asarray(md_ccs)\n",
    "#     nan_index = np.argwhere(np.isnan(md_ccs))\n",
    "    \n",
    "#         mol = Chem.MolFromSmiles(smile)\n",
    "#         fp = AllChem.GetMorganFingerprintAsBitVect(mol, 2, nBits=1024)\n",
    "#         array = np.zeros((0, ), dtype=np.int8)\n",
    "#         DataStructs.ConvertToNumpyArray(fp, array)\n",
    "#         mets_vec[k] = array\n",
    "#         c += 1\n",
    "#     except:\n",
    "#         mets_vec[k] = None\n",
    "#         c += 1"
   ],
   "outputs": [],
   "metadata": {}
  },
  {
   "cell_type": "markdown",
   "source": [
    "### Generate protein vectors for all uniport ID"
   ],
   "metadata": {}
  },
  {
   "cell_type": "markdown",
   "source": [
    "**Generate protein vec by protein2vec.py**"
   ],
   "metadata": {}
  },
  {
   "cell_type": "code",
   "execution_count": 34,
   "source": [
    "protein_dir = './Training_data/pathbank/pathbank_protein_data/'"
   ],
   "outputs": [],
   "metadata": {}
  },
  {
   "cell_type": "code",
   "execution_count": 35,
   "source": [
    "protein_vec = pickle.load(open( protein_dir+\"all_protein_vector.p\", \"rb\" ))\n",
    "protein_vec['P21589']"
   ],
   "outputs": [
    {
     "output_type": "execute_result",
     "data": {
      "text/plain": [
       "array([ 0.15507588,  0.11396462, -0.19298424, ..., -0.0408243 ,\n",
       "       -0.08098967, -0.01138656], dtype=float32)"
      ]
     },
     "metadata": {},
     "execution_count": 35
    }
   ],
   "metadata": {}
  },
  {
   "cell_type": "code",
   "execution_count": 41,
   "source": [
    "np_protein_vec = []\n",
    "for k,v in protein_vec.items():\n",
    "    np_protein_vec.append(v)\n",
    "np_protein_vec = np.asarray(np_protein_vec)\n",
    "np_protein_vec.shape"
   ],
   "outputs": [
    {
     "output_type": "execute_result",
     "data": {
      "text/plain": [
       "(8291, 1024)"
      ]
     },
     "metadata": {},
     "execution_count": 41
    }
   ],
   "metadata": {}
  },
  {
   "cell_type": "code",
   "execution_count": 42,
   "source": [
    "pca.fit(np_protein_vec)\n",
    "pca_np_protein_vec = pca.transform(np_protein_vec)"
   ],
   "outputs": [],
   "metadata": {}
  },
  {
   "cell_type": "code",
   "execution_count": 43,
   "source": [
    "protein_keys = list(protein_vec.keys())"
   ],
   "outputs": [],
   "metadata": {}
  },
  {
   "cell_type": "code",
   "execution_count": 44,
   "source": [
    "pca_protein_vec = {}\n",
    "for i in range(len(protein_keys)):\n",
    "    k = protein_keys[i]\n",
    "    pca_protein_vec[k] = pca_np_protein_vec[i]"
   ],
   "outputs": [],
   "metadata": {}
  },
  {
   "cell_type": "markdown",
   "source": [
    "### Generate features for graph"
   ],
   "metadata": {}
  },
  {
   "cell_type": "code",
   "execution_count": 185,
   "source": [
    "all_nodes_df = pd.DataFrame(columns=['node','features','dbid','class'])\n",
    "all_nodes_df"
   ],
   "outputs": [
    {
     "output_type": "execute_result",
     "data": {
      "text/html": [
       "<div>\n",
       "<style scoped>\n",
       "    .dataframe tbody tr th:only-of-type {\n",
       "        vertical-align: middle;\n",
       "    }\n",
       "\n",
       "    .dataframe tbody tr th {\n",
       "        vertical-align: top;\n",
       "    }\n",
       "\n",
       "    .dataframe thead th {\n",
       "        text-align: right;\n",
       "    }\n",
       "</style>\n",
       "<table border=\"1\" class=\"dataframe\">\n",
       "  <thead>\n",
       "    <tr style=\"text-align: right;\">\n",
       "      <th></th>\n",
       "      <th>node</th>\n",
       "      <th>features</th>\n",
       "      <th>dbid</th>\n",
       "      <th>class</th>\n",
       "    </tr>\n",
       "  </thead>\n",
       "  <tbody>\n",
       "  </tbody>\n",
       "</table>\n",
       "</div>"
      ],
      "text/plain": [
       "Empty DataFrame\n",
       "Columns: [node, features, dbid, class]\n",
       "Index: []"
      ]
     },
     "metadata": {},
     "execution_count": 185
    }
   ],
   "metadata": {}
  },
  {
   "cell_type": "code",
   "execution_count": 186,
   "source": [
    "g_nodes = list(g.nodes())\n",
    "for i in range(len(g_nodes)):\n",
    "    node = g_nodes[i]\n",
    "    all_nodes_df.loc[i,'node'] = node\n",
    "    if node in meta_name_id_dict:\n",
    "        name_id = meta_name_id_dict[node]\n",
    "        all_nodes_df.loc[i,'dbid'] = name_id \n",
    "        all_nodes_df.loc[i,'class'] = 'metabolite'\n",
    "        if name_id in pca_mets_vec:\n",
    "            all_nodes_df.loc[i,'features'] = pca_mets_vec[name_id]\n",
    "        else:\n",
    "            # all_nodes_df.loc[i,'features'] = np.zeros((1024), dtype=np.int8)\n",
    "            all_nodes_df.loc[i,'features'] = np.random.rand((1024))\n",
    "    elif node in protein_name_id_dict:\n",
    "        name_id = protein_name_id_dict[node]\n",
    "        all_nodes_df.loc[i,'dbid'] = name_id\n",
    "        all_nodes_df.loc[i,'class'] = 'protein'\n",
    "        if name_id in protein_vec:\n",
    "            all_nodes_df.loc[i,'features'] = protein_vec[name_id]\n",
    "        else:\n",
    "            all_nodes_df.loc[i,'features'] = np.random.rand((1024))\n",
    "            # all_nodes_df.loc[i,'features'] = np.ones((1024), dtype=np.int8)\n",
    "    else:\n",
    "        all_nodes_df.loc[i,'features'] = np.random.rand((1024))\n",
    "        # all_nodes_df.loc[i,'features'] = np.ones((1024), dtype=np.int8)\n",
    "        all_nodes_df.loc[i,'dbid'] = None\n",
    "        all_nodes_df.loc[i,'class'] = 'other'"
   ],
   "outputs": [],
   "metadata": {}
  },
  {
   "cell_type": "code",
   "execution_count": 40,
   "source": [
    "pickle.dump(all_nodes_df, open( protein_dir+\"pca_esm_all_nodes_df_homospigen.p\", \"wb\" ))\n",
    "# pickle.dump(all_nodes_df, open( protein_dir+\"all_nodes_df_Rattus.p\", \"wb\" ))\n",
    "# pickle.dump(all_nodes_df, open( protein_dir+\"esm_all_nodes_df_musculus.p\", \"wb\" ))\n",
    "# pickle.dump(all_nodes_df, open( protein_dir+\"all_nodes_df_Bos.p\", \"wb\" ))\n",
    "# pickle.dump(all_nodes_df, open( protein_dir+\"all_nodes_df_Escherichia.p\", \"wb\" ))\n",
    "# pickle.dump(all_nodes_df, open( protein_dir+\"all_nodes_df_Arabidopsis.p\", \"wb\" ))\n",
    "# pickle.dump(all_nodes_df, open( protein_dir+\"all_nodes_df_Drosophilas.p\", \"wb\" ))\n",
    "# pickle.dump(all_nodes_df, open( protein_dir+\"all_nodes_df_Saccharomyces.p\", \"wb\" ))\n",
    "# pickle.dump(all_nodes_df, open( protein_dir+\"all_nodes_df_Caenorhabditis.p\", \"wb\" ))\n",
    "\n",
    "\n"
   ],
   "outputs": [],
   "metadata": {}
  },
  {
   "cell_type": "code",
   "execution_count": 42,
   "source": [
    "all_nodes_df = pickle.load(open( protein_dir+\"pca_esm_all_nodes_df_homospigen.p\", \"rb\" ))"
   ],
   "outputs": [],
   "metadata": {}
  },
  {
   "cell_type": "markdown",
   "source": [
    "### Unsupervised learning of embedded features"
   ],
   "metadata": {}
  },
  {
   "cell_type": "code",
   "execution_count": 63,
   "source": [
    "all_nodes_df_f = all_nodes_df[~all_nodes_df['class'].str.contains('other')]"
   ],
   "outputs": [],
   "metadata": {}
  },
  {
   "cell_type": "code",
   "execution_count": 460,
   "source": [
    "t = []\n",
    "for index,row in all_nodes_df_f.iterrows():\n",
    "    fp = row['features']\n",
    "    t.append(fp)\n"
   ],
   "outputs": [],
   "metadata": {}
  },
  {
   "cell_type": "code",
   "execution_count": 461,
   "source": [
    "all_nodes_df_f['class'].value_counts()"
   ],
   "outputs": [
    {
     "output_type": "execute_result",
     "data": {
      "text/plain": [
       "metabolite    1261\n",
       "protein        855\n",
       "Name: class, dtype: int64"
      ]
     },
     "metadata": {},
     "execution_count": 461
    }
   ],
   "metadata": {}
  },
  {
   "cell_type": "code",
   "execution_count": 46,
   "source": [
    "X = np.asarray(t)"
   ],
   "outputs": [],
   "metadata": {}
  },
  {
   "cell_type": "code",
   "execution_count": 47,
   "source": [
    "X.shape"
   ],
   "outputs": [
    {
     "output_type": "execute_result",
     "data": {
      "text/plain": [
       "(2116, 1024)"
      ]
     },
     "metadata": {},
     "execution_count": 47
    }
   ],
   "metadata": {}
  },
  {
   "cell_type": "code",
   "execution_count": 48,
   "source": [
    "Y = all_nodes_df_f[\"class\"].tolist()"
   ],
   "outputs": [],
   "metadata": {}
  },
  {
   "cell_type": "code",
   "execution_count": 462,
   "source": [
    "from sklearn.manifold import TSNE\n",
    "tsne = TSNE(n_components=2, random_state=0)"
   ],
   "outputs": [],
   "metadata": {}
  },
  {
   "cell_type": "code",
   "execution_count": 50,
   "source": [
    "X_2d = tsne.fit_transform(X)"
   ],
   "outputs": [],
   "metadata": {}
  },
  {
   "cell_type": "code",
   "execution_count": 51,
   "source": [
    "tsne_df = pd.DataFrame({'X':X_2d[:,0],\n",
    "                        'Y':X_2d[:,1],\n",
    "                        'label':Y})\n",
    "tsne_df.head()"
   ],
   "outputs": [
    {
     "output_type": "execute_result",
     "data": {
      "text/html": [
       "<div>\n",
       "<style scoped>\n",
       "    .dataframe tbody tr th:only-of-type {\n",
       "        vertical-align: middle;\n",
       "    }\n",
       "\n",
       "    .dataframe tbody tr th {\n",
       "        vertical-align: top;\n",
       "    }\n",
       "\n",
       "    .dataframe thead th {\n",
       "        text-align: right;\n",
       "    }\n",
       "</style>\n",
       "<table border=\"1\" class=\"dataframe\">\n",
       "  <thead>\n",
       "    <tr style=\"text-align: right;\">\n",
       "      <th></th>\n",
       "      <th>X</th>\n",
       "      <th>Y</th>\n",
       "      <th>label</th>\n",
       "    </tr>\n",
       "  </thead>\n",
       "  <tbody>\n",
       "    <tr>\n",
       "      <th>0</th>\n",
       "      <td>-31.757023</td>\n",
       "      <td>0.971261</td>\n",
       "      <td>protein</td>\n",
       "    </tr>\n",
       "    <tr>\n",
       "      <th>1</th>\n",
       "      <td>-27.436012</td>\n",
       "      <td>65.229301</td>\n",
       "      <td>metabolite</td>\n",
       "    </tr>\n",
       "    <tr>\n",
       "      <th>2</th>\n",
       "      <td>28.538548</td>\n",
       "      <td>25.989328</td>\n",
       "      <td>metabolite</td>\n",
       "    </tr>\n",
       "    <tr>\n",
       "      <th>3</th>\n",
       "      <td>26.127611</td>\n",
       "      <td>26.131836</td>\n",
       "      <td>metabolite</td>\n",
       "    </tr>\n",
       "    <tr>\n",
       "      <th>4</th>\n",
       "      <td>-25.680357</td>\n",
       "      <td>66.729797</td>\n",
       "      <td>metabolite</td>\n",
       "    </tr>\n",
       "  </tbody>\n",
       "</table>\n",
       "</div>"
      ],
      "text/plain": [
       "           X          Y       label\n",
       "0 -31.757023   0.971261     protein\n",
       "1 -27.436012  65.229301  metabolite\n",
       "2  28.538548  25.989328  metabolite\n",
       "3  26.127611  26.131836  metabolite\n",
       "4 -25.680357  66.729797  metabolite"
      ]
     },
     "metadata": {},
     "execution_count": 51
    }
   ],
   "metadata": {}
  },
  {
   "cell_type": "code",
   "execution_count": 52,
   "source": [
    "sns.set_style('ticks')"
   ],
   "outputs": [],
   "metadata": {}
  },
  {
   "cell_type": "code",
   "execution_count": 53,
   "source": [
    "plt.figure(figsize=(10,10))\n",
    "sns_plot = sns.scatterplot(x=\"X\", y=\"Y\",\n",
    "              hue=\"label\",\n",
    "              palette=['purple','red'],\n",
    "              legend='full',\n",
    "              data=tsne_df);\n",
    "# plt.savefig(\"./t-sne-protein-metabolite_esm.pdf\")"
   ],
   "outputs": [
    {
     "output_type": "display_data",
     "data": {
      "image/png": "[encoded data removed]",
      "text/plain": [
       "<Figure size 720x720 with 1 Axes>"
      ]
     },
     "metadata": {}
    }
   ],
   "metadata": {}
  },
  {
   "cell_type": "markdown",
   "source": [
    "### PCA dimensionality reduction"
   ],
   "metadata": {}
  },
  {
   "cell_type": "code",
   "execution_count": 54,
   "source": [
    "from sklearn.decomposition import PCA\n",
    "pca = PCA(n_components=2)\n",
    "pca.fit(X)\n",
    "pca_X = pca.transform(X)"
   ],
   "outputs": [],
   "metadata": {}
  },
  {
   "cell_type": "code",
   "execution_count": 55,
   "source": [
    "pca_df = pd.DataFrame({'X':pca_X[:,0],\n",
    "                        'Y':pca_X[:,1],\n",
    "                        'label':Y})\n",
    "pca_df.head()"
   ],
   "outputs": [
    {
     "output_type": "execute_result",
     "data": {
      "text/html": [
       "<div>\n",
       "<style scoped>\n",
       "    .dataframe tbody tr th:only-of-type {\n",
       "        vertical-align: middle;\n",
       "    }\n",
       "\n",
       "    .dataframe tbody tr th {\n",
       "        vertical-align: top;\n",
       "    }\n",
       "\n",
       "    .dataframe thead th {\n",
       "        text-align: right;\n",
       "    }\n",
       "</style>\n",
       "<table border=\"1\" class=\"dataframe\">\n",
       "  <thead>\n",
       "    <tr style=\"text-align: right;\">\n",
       "      <th></th>\n",
       "      <th>X</th>\n",
       "      <th>Y</th>\n",
       "      <th>label</th>\n",
       "    </tr>\n",
       "  </thead>\n",
       "  <tbody>\n",
       "    <tr>\n",
       "      <th>0</th>\n",
       "      <td>-0.301766</td>\n",
       "      <td>2.948129</td>\n",
       "      <td>protein</td>\n",
       "    </tr>\n",
       "    <tr>\n",
       "      <th>1</th>\n",
       "      <td>-1.005644</td>\n",
       "      <td>-3.150818</td>\n",
       "      <td>metabolite</td>\n",
       "    </tr>\n",
       "    <tr>\n",
       "      <th>2</th>\n",
       "      <td>-1.298835</td>\n",
       "      <td>-1.912852</td>\n",
       "      <td>metabolite</td>\n",
       "    </tr>\n",
       "    <tr>\n",
       "      <th>3</th>\n",
       "      <td>-1.328139</td>\n",
       "      <td>-1.967790</td>\n",
       "      <td>metabolite</td>\n",
       "    </tr>\n",
       "    <tr>\n",
       "      <th>4</th>\n",
       "      <td>-0.986442</td>\n",
       "      <td>-2.991387</td>\n",
       "      <td>metabolite</td>\n",
       "    </tr>\n",
       "  </tbody>\n",
       "</table>\n",
       "</div>"
      ],
      "text/plain": [
       "          X         Y       label\n",
       "0 -0.301766  2.948129     protein\n",
       "1 -1.005644 -3.150818  metabolite\n",
       "2 -1.298835 -1.912852  metabolite\n",
       "3 -1.328139 -1.967790  metabolite\n",
       "4 -0.986442 -2.991387  metabolite"
      ]
     },
     "metadata": {},
     "execution_count": 55
    }
   ],
   "metadata": {}
  },
  {
   "cell_type": "code",
   "execution_count": 56,
   "source": [
    "plt.figure(figsize=(10,10))\n",
    "sns.scatterplot(x=\"X\", y=\"Y\",\n",
    "              hue=\"label\",\n",
    "              palette=['purple','red'],\n",
    "              legend='full',\n",
    "              data=pca_df);\n",
    "plt.xlim(-5,5)\n",
    "# plt.savefig(\"./pca-protein-metabolite_esm.pdf\")"
   ],
   "outputs": [
    {
     "output_type": "execute_result",
     "data": {
      "text/plain": [
       "(-5.0, 5.0)"
      ]
     },
     "metadata": {},
     "execution_count": 56
    },
    {
     "output_type": "display_data",
     "data": {
      "image/png": "[encoded data removed]",
      "text/plain": [
       "<Figure size 720x720 with 1 Axes>"
      ]
     },
     "metadata": {}
    }
   ],
   "metadata": {}
  },
  {
   "cell_type": "markdown",
   "source": [
    "# Read real world data"
   ],
   "metadata": {}
  },
  {
   "cell_type": "code",
   "execution_count": 255,
   "source": [
    "real_reactions = pd.read_csv('./Real_data/real_data_ecoli.csv')\n",
    "real_reactions.head()"
   ],
   "outputs": [
    {
     "output_type": "execute_result",
     "data": {
      "text/html": [
       "<div>\n",
       "<style scoped>\n",
       "    .dataframe tbody tr th:only-of-type {\n",
       "        vertical-align: middle;\n",
       "    }\n",
       "\n",
       "    .dataframe tbody tr th {\n",
       "        vertical-align: top;\n",
       "    }\n",
       "\n",
       "    .dataframe thead th {\n",
       "        text-align: right;\n",
       "    }\n",
       "</style>\n",
       "<table border=\"1\" class=\"dataframe\">\n",
       "  <thead>\n",
       "    <tr style=\"text-align: right;\">\n",
       "      <th></th>\n",
       "      <th>Metabolites</th>\n",
       "      <th>Uniprot ID</th>\n",
       "      <th>Protein Name</th>\n",
       "      <th>is_C1_validated</th>\n",
       "      <th>is_C2_validated</th>\n",
       "      <th>is_C1_C2_validated</th>\n",
       "    </tr>\n",
       "  </thead>\n",
       "  <tbody>\n",
       "    <tr>\n",
       "      <th>0</th>\n",
       "      <td>L-Met</td>\n",
       "      <td>NaN</td>\n",
       "      <td>NaN</td>\n",
       "      <td>False</td>\n",
       "      <td>False</td>\n",
       "      <td>False</td>\n",
       "    </tr>\n",
       "    <tr>\n",
       "      <th>1</th>\n",
       "      <td>L-Met</td>\n",
       "      <td>P00350</td>\n",
       "      <td>6-phosphogluconate dehydrogenase, decarboxylating</td>\n",
       "      <td>False</td>\n",
       "      <td>False</td>\n",
       "      <td>False</td>\n",
       "    </tr>\n",
       "    <tr>\n",
       "      <th>2</th>\n",
       "      <td>L-Met</td>\n",
       "      <td>P00363</td>\n",
       "      <td>Fumarate reductase flavoprotein subunit</td>\n",
       "      <td>False</td>\n",
       "      <td>False</td>\n",
       "      <td>False</td>\n",
       "    </tr>\n",
       "    <tr>\n",
       "      <th>3</th>\n",
       "      <td>L-Met</td>\n",
       "      <td>P00370</td>\n",
       "      <td>NADP-specific glutamate dehydrogenase</td>\n",
       "      <td>False</td>\n",
       "      <td>False</td>\n",
       "      <td>False</td>\n",
       "    </tr>\n",
       "    <tr>\n",
       "      <th>4</th>\n",
       "      <td>L-Met</td>\n",
       "      <td>P00448</td>\n",
       "      <td>Superoxide dismutase [Mn]</td>\n",
       "      <td>False</td>\n",
       "      <td>False</td>\n",
       "      <td>False</td>\n",
       "    </tr>\n",
       "  </tbody>\n",
       "</table>\n",
       "</div>"
      ],
      "text/plain": [
       "  Metabolites Uniprot ID                                       Protein Name  \\\n",
       "0       L-Met        NaN                                                NaN   \n",
       "1       L-Met     P00350  6-phosphogluconate dehydrogenase, decarboxylating   \n",
       "2       L-Met     P00363            Fumarate reductase flavoprotein subunit   \n",
       "3       L-Met     P00370              NADP-specific glutamate dehydrogenase   \n",
       "4       L-Met     P00448                          Superoxide dismutase [Mn]   \n",
       "\n",
       "   is_C1_validated  is_C2_validated  is_C1_C2_validated  \n",
       "0            False            False               False  \n",
       "1            False            False               False  \n",
       "2            False            False               False  \n",
       "3            False            False               False  \n",
       "4            False            False               False  "
      ]
     },
     "metadata": {},
     "execution_count": 255
    }
   ],
   "metadata": {}
  },
  {
   "cell_type": "code",
   "execution_count": 256,
   "source": [
    "len(real_reactions)"
   ],
   "outputs": [
    {
     "output_type": "execute_result",
     "data": {
      "text/plain": [
       "12703"
      ]
     },
     "metadata": {},
     "execution_count": 256
    }
   ],
   "metadata": {}
  },
  {
   "cell_type": "code",
   "execution_count": 257,
   "source": [
    "len(real_reactions['Uniprot ID'].unique())"
   ],
   "outputs": [
    {
     "output_type": "execute_result",
     "data": {
      "text/plain": [
       "790"
      ]
     },
     "metadata": {},
     "execution_count": 257
    }
   ],
   "metadata": {}
  },
  {
   "cell_type": "code",
   "execution_count": 260,
   "source": [
    "real_reactions.dropna(inplace=True)"
   ],
   "outputs": [],
   "metadata": {}
  },
  {
   "cell_type": "code",
   "execution_count": 261,
   "source": [
    "real_reactions.head()"
   ],
   "outputs": [
    {
     "output_type": "execute_result",
     "data": {
      "text/html": [
       "<div>\n",
       "<style scoped>\n",
       "    .dataframe tbody tr th:only-of-type {\n",
       "        vertical-align: middle;\n",
       "    }\n",
       "\n",
       "    .dataframe tbody tr th {\n",
       "        vertical-align: top;\n",
       "    }\n",
       "\n",
       "    .dataframe thead th {\n",
       "        text-align: right;\n",
       "    }\n",
       "</style>\n",
       "<table border=\"1\" class=\"dataframe\">\n",
       "  <thead>\n",
       "    <tr style=\"text-align: right;\">\n",
       "      <th></th>\n",
       "      <th>Metabolites</th>\n",
       "      <th>Uniprot ID</th>\n",
       "      <th>Protein Name</th>\n",
       "      <th>is_C1_validated</th>\n",
       "      <th>is_C2_validated</th>\n",
       "      <th>is_C1_C2_validated</th>\n",
       "    </tr>\n",
       "  </thead>\n",
       "  <tbody>\n",
       "    <tr>\n",
       "      <th>1</th>\n",
       "      <td>L-Met</td>\n",
       "      <td>P00350</td>\n",
       "      <td>6-phosphogluconate dehydrogenase, decarboxylating</td>\n",
       "      <td>False</td>\n",
       "      <td>False</td>\n",
       "      <td>False</td>\n",
       "    </tr>\n",
       "    <tr>\n",
       "      <th>2</th>\n",
       "      <td>L-Met</td>\n",
       "      <td>P00363</td>\n",
       "      <td>Fumarate reductase flavoprotein subunit</td>\n",
       "      <td>False</td>\n",
       "      <td>False</td>\n",
       "      <td>False</td>\n",
       "    </tr>\n",
       "    <tr>\n",
       "      <th>3</th>\n",
       "      <td>L-Met</td>\n",
       "      <td>P00370</td>\n",
       "      <td>NADP-specific glutamate dehydrogenase</td>\n",
       "      <td>False</td>\n",
       "      <td>False</td>\n",
       "      <td>False</td>\n",
       "    </tr>\n",
       "    <tr>\n",
       "      <th>4</th>\n",
       "      <td>L-Met</td>\n",
       "      <td>P00448</td>\n",
       "      <td>Superoxide dismutase [Mn]</td>\n",
       "      <td>False</td>\n",
       "      <td>False</td>\n",
       "      <td>False</td>\n",
       "    </tr>\n",
       "    <tr>\n",
       "      <th>5</th>\n",
       "      <td>L-Met</td>\n",
       "      <td>P00452</td>\n",
       "      <td>Ribonucleoside-diphosphate reductase 1 subunit...</td>\n",
       "      <td>False</td>\n",
       "      <td>False</td>\n",
       "      <td>False</td>\n",
       "    </tr>\n",
       "  </tbody>\n",
       "</table>\n",
       "</div>"
      ],
      "text/plain": [
       "  Metabolites Uniprot ID                                       Protein Name  \\\n",
       "1       L-Met     P00350  6-phosphogluconate dehydrogenase, decarboxylating   \n",
       "2       L-Met     P00363            Fumarate reductase flavoprotein subunit   \n",
       "3       L-Met     P00370              NADP-specific glutamate dehydrogenase   \n",
       "4       L-Met     P00448                          Superoxide dismutase [Mn]   \n",
       "5       L-Met     P00452  Ribonucleoside-diphosphate reductase 1 subunit...   \n",
       "\n",
       "   is_C1_validated  is_C2_validated  is_C1_C2_validated  \n",
       "1            False            False               False  \n",
       "2            False            False               False  \n",
       "3            False            False               False  \n",
       "4            False            False               False  \n",
       "5            False            False               False  "
      ]
     },
     "metadata": {},
     "execution_count": 261
    }
   ],
   "metadata": {}
  },
  {
   "cell_type": "code",
   "execution_count": 262,
   "source": [
    "ccc = 0\n",
    "for i in real_reactions['Uniprot ID'].tolist():\n",
    "    if i in all_nodes_df['dbid'].tolist():\n",
    "        ccc += 1"
   ],
   "outputs": [],
   "metadata": {}
  },
  {
   "cell_type": "code",
   "execution_count": 263,
   "source": [
    "ccc "
   ],
   "outputs": [
    {
     "output_type": "execute_result",
     "data": {
      "text/plain": [
       "2505"
      ]
     },
     "metadata": {},
     "execution_count": 263
    }
   ],
   "metadata": {}
  },
  {
   "cell_type": "code",
   "execution_count": 264,
   "source": [
    "real_reactions_merge = pd.merge(real_reactions,all_nodes_df,how='inner',left_on='Uniprot ID',right_on='dbid')"
   ],
   "outputs": [],
   "metadata": {}
  },
  {
   "cell_type": "markdown",
   "source": [
    "## Get metabolite compound id"
   ],
   "metadata": {}
  },
  {
   "cell_type": "code",
   "execution_count": 266,
   "source": [
    "real_reactions_merge['Metabolites'].unique()"
   ],
   "outputs": [
    {
     "output_type": "execute_result",
     "data": {
      "text/plain": [
       "array(['L-Met', 'L-Phe', 'L-Val', 'L-Gln', 'Pyr', 'AKG', 'Cit', 'Mal',\n",
       "       'G6P', 'R5P', 'PGP', 'PEP', 'NAD', 'NADP', 'ATP', 'ADP', 'cAMP',\n",
       "       'GTP', 'GMP', 'FBP'], dtype=object)"
      ]
     },
     "metadata": {},
     "execution_count": 266
    }
   ],
   "metadata": {}
  },
  {
   "cell_type": "code",
   "execution_count": 267,
   "source": [
    "change_name = {'L-Met':'L-Methionine',\n",
    "               'L-Phe':'L-Phenylalanine',\n",
    "              'Cit':'Citrulline',\n",
    "              'ATP':'Adenosine triphosphate',\n",
    "              'GTP':'Guanosine triphosphate',\n",
    "              'L-Gln':'L-Glutamine',\n",
    "              'Mal':'L-Malic acid',\n",
    "              'G6P':'Glucose 6-phosphate',\n",
    "              'Pyr':'Pyruvic acid',\n",
    "              'NAD':'NAD',\n",
    "              'ADP':'Adenosine diphosphate',\n",
    "              'GMP':'Guanosine monophosphate'}"
   ],
   "outputs": [],
   "metadata": {}
  },
  {
   "cell_type": "code",
   "execution_count": 268,
   "source": [
    "len(real_reactions_merge)"
   ],
   "outputs": [
    {
     "output_type": "execute_result",
     "data": {
      "text/plain": [
       "2505"
      ]
     },
     "metadata": {},
     "execution_count": 268
    }
   ],
   "metadata": {}
  },
  {
   "cell_type": "code",
   "execution_count": 269,
   "source": [
    "for index, row in real_reactions_merge.iterrows():\n",
    "    met = row['Metabolites']\n",
    "    if met in change_name:\n",
    "        real_reactions_merge.loc[index,'met_node'] = change_name[met]\n",
    "    else:\n",
    "        real_reactions_merge.loc[index,'met_node'] = np.nan"
   ],
   "outputs": [],
   "metadata": {}
  },
  {
   "cell_type": "code",
   "execution_count": 270,
   "source": [
    "real_reactions_merge_filter = real_reactions_merge.dropna()"
   ],
   "outputs": [],
   "metadata": {}
  },
  {
   "cell_type": "code",
   "execution_count": 271,
   "source": [
    "real_reactions_merge_filter.head()"
   ],
   "outputs": [
    {
     "output_type": "execute_result",
     "data": {
      "text/html": [
       "<div>\n",
       "<style scoped>\n",
       "    .dataframe tbody tr th:only-of-type {\n",
       "        vertical-align: middle;\n",
       "    }\n",
       "\n",
       "    .dataframe tbody tr th {\n",
       "        vertical-align: top;\n",
       "    }\n",
       "\n",
       "    .dataframe thead th {\n",
       "        text-align: right;\n",
       "    }\n",
       "</style>\n",
       "<table border=\"1\" class=\"dataframe\">\n",
       "  <thead>\n",
       "    <tr style=\"text-align: right;\">\n",
       "      <th></th>\n",
       "      <th>Metabolites</th>\n",
       "      <th>Uniprot ID</th>\n",
       "      <th>Protein Name</th>\n",
       "      <th>is_C1_validated</th>\n",
       "      <th>is_C2_validated</th>\n",
       "      <th>is_C1_C2_validated</th>\n",
       "      <th>node</th>\n",
       "      <th>features</th>\n",
       "      <th>dbid</th>\n",
       "      <th>class</th>\n",
       "      <th>met_node</th>\n",
       "    </tr>\n",
       "  </thead>\n",
       "  <tbody>\n",
       "    <tr>\n",
       "      <th>0</th>\n",
       "      <td>L-Met</td>\n",
       "      <td>P00370</td>\n",
       "      <td>NADP-specific glutamate dehydrogenase</td>\n",
       "      <td>False</td>\n",
       "      <td>False</td>\n",
       "      <td>False</td>\n",
       "      <td>NADP-specific glutamate dehydrogenase</td>\n",
       "      <td>[0.038950317, -0.09243099, -0.10509109, 0.0501...</td>\n",
       "      <td>P00370</td>\n",
       "      <td>protein</td>\n",
       "      <td>L-Methionine</td>\n",
       "    </tr>\n",
       "    <tr>\n",
       "      <th>1</th>\n",
       "      <td>L-Phe</td>\n",
       "      <td>P00370</td>\n",
       "      <td>NADP-specific glutamate dehydrogenase</td>\n",
       "      <td>False</td>\n",
       "      <td>False</td>\n",
       "      <td>False</td>\n",
       "      <td>NADP-specific glutamate dehydrogenase</td>\n",
       "      <td>[0.038950317, -0.09243099, -0.10509109, 0.0501...</td>\n",
       "      <td>P00370</td>\n",
       "      <td>protein</td>\n",
       "      <td>L-Phenylalanine</td>\n",
       "    </tr>\n",
       "    <tr>\n",
       "      <th>3</th>\n",
       "      <td>L-Gln</td>\n",
       "      <td>P00370</td>\n",
       "      <td>NADP-specific glutamate dehydrogenase</td>\n",
       "      <td>False</td>\n",
       "      <td>False</td>\n",
       "      <td>False</td>\n",
       "      <td>NADP-specific glutamate dehydrogenase</td>\n",
       "      <td>[0.038950317, -0.09243099, -0.10509109, 0.0501...</td>\n",
       "      <td>P00370</td>\n",
       "      <td>protein</td>\n",
       "      <td>L-Glutamine</td>\n",
       "    </tr>\n",
       "    <tr>\n",
       "      <th>4</th>\n",
       "      <td>Pyr</td>\n",
       "      <td>P00370</td>\n",
       "      <td>NADP-specific glutamate dehydrogenase</td>\n",
       "      <td>False</td>\n",
       "      <td>False</td>\n",
       "      <td>False</td>\n",
       "      <td>NADP-specific glutamate dehydrogenase</td>\n",
       "      <td>[0.038950317, -0.09243099, -0.10509109, 0.0501...</td>\n",
       "      <td>P00370</td>\n",
       "      <td>protein</td>\n",
       "      <td>Pyruvic acid</td>\n",
       "    </tr>\n",
       "    <tr>\n",
       "      <th>6</th>\n",
       "      <td>Cit</td>\n",
       "      <td>P00370</td>\n",
       "      <td>NADP-specific glutamate dehydrogenase</td>\n",
       "      <td>True</td>\n",
       "      <td>True</td>\n",
       "      <td>True</td>\n",
       "      <td>NADP-specific glutamate dehydrogenase</td>\n",
       "      <td>[0.038950317, -0.09243099, -0.10509109, 0.0501...</td>\n",
       "      <td>P00370</td>\n",
       "      <td>protein</td>\n",
       "      <td>Citrulline</td>\n",
       "    </tr>\n",
       "  </tbody>\n",
       "</table>\n",
       "</div>"
      ],
      "text/plain": [
       "  Metabolites Uniprot ID                           Protein Name  \\\n",
       "0       L-Met     P00370  NADP-specific glutamate dehydrogenase   \n",
       "1       L-Phe     P00370  NADP-specific glutamate dehydrogenase   \n",
       "3       L-Gln     P00370  NADP-specific glutamate dehydrogenase   \n",
       "4         Pyr     P00370  NADP-specific glutamate dehydrogenase   \n",
       "6         Cit     P00370  NADP-specific glutamate dehydrogenase   \n",
       "\n",
       "   is_C1_validated  is_C2_validated  is_C1_C2_validated  \\\n",
       "0            False            False               False   \n",
       "1            False            False               False   \n",
       "3            False            False               False   \n",
       "4            False            False               False   \n",
       "6             True             True                True   \n",
       "\n",
       "                                    node  \\\n",
       "0  NADP-specific glutamate dehydrogenase   \n",
       "1  NADP-specific glutamate dehydrogenase   \n",
       "3  NADP-specific glutamate dehydrogenase   \n",
       "4  NADP-specific glutamate dehydrogenase   \n",
       "6  NADP-specific glutamate dehydrogenase   \n",
       "\n",
       "                                            features    dbid    class  \\\n",
       "0  [0.038950317, -0.09243099, -0.10509109, 0.0501...  P00370  protein   \n",
       "1  [0.038950317, -0.09243099, -0.10509109, 0.0501...  P00370  protein   \n",
       "3  [0.038950317, -0.09243099, -0.10509109, 0.0501...  P00370  protein   \n",
       "4  [0.038950317, -0.09243099, -0.10509109, 0.0501...  P00370  protein   \n",
       "6  [0.038950317, -0.09243099, -0.10509109, 0.0501...  P00370  protein   \n",
       "\n",
       "          met_node  \n",
       "0     L-Methionine  \n",
       "1  L-Phenylalanine  \n",
       "3      L-Glutamine  \n",
       "4     Pyruvic acid  \n",
       "6       Citrulline  "
      ]
     },
     "metadata": {},
     "execution_count": 271
    }
   ],
   "metadata": {}
  },
  {
   "cell_type": "code",
   "execution_count": 319,
   "source": [
    "real_reactions_true = real_reactions_merge_filter[real_reactions_merge_filter['is_C2_validated']==True]\n",
    "real_reactions_false = real_reactions_merge_filter[real_reactions_merge_filter['is_C1_C2_validated']!=True]"
   ],
   "outputs": [],
   "metadata": {}
  },
  {
   "cell_type": "code",
   "execution_count": 320,
   "source": [
    "test_real_true = list(zip(real_reactions_true['met_node'].tolist(),real_reactions_true['node'].tolist()))\n",
    "test_real_false = list(zip(real_reactions_false['met_node'].tolist(),real_reactions_false['node'].tolist()))"
   ],
   "outputs": [],
   "metadata": {}
  },
  {
   "cell_type": "code",
   "execution_count": 321,
   "source": [
    "test_index_real = []\n",
    "for i,j in test_real_true:\n",
    "    index_a = node_list.index(i) \n",
    "    index_b = node_list.index(j)\n",
    "    test_index_real.append([index_a,index_b])"
   ],
   "outputs": [],
   "metadata": {}
  },
  {
   "cell_type": "code",
   "execution_count": 322,
   "source": [
    "test_index_false = []\n",
    "for i,j in test_real_false:\n",
    "    index_a = node_list.index(i) \n",
    "    index_b = node_list.index(j)\n",
    "    test_index_false.append([index_a,index_b])"
   ],
   "outputs": [],
   "metadata": {}
  },
  {
   "cell_type": "code",
   "execution_count": 323,
   "source": [
    "test_index_real = np.array(test_index_real)\n",
    "test_index_false = np.array(test_index_false)"
   ],
   "outputs": [],
   "metadata": {}
  },
  {
   "cell_type": "code",
   "execution_count": 324,
   "source": [
    "test_index_real.shape"
   ],
   "outputs": [
    {
     "output_type": "execute_result",
     "data": {
      "text/plain": [
       "(81, 2)"
      ]
     },
     "metadata": {},
     "execution_count": 324
    }
   ],
   "metadata": {}
  },
  {
   "cell_type": "code",
   "execution_count": 325,
   "source": [
    "test_index_false.shape"
   ],
   "outputs": [
    {
     "output_type": "execute_result",
     "data": {
      "text/plain": [
       "(1456, 2)"
      ]
     },
     "metadata": {},
     "execution_count": 325
    }
   ],
   "metadata": {}
  },
  {
   "cell_type": "code",
   "execution_count": 137,
   "source": [
    "len(all_nodes_df['dbid'].unique())"
   ],
   "outputs": [
    {
     "output_type": "execute_result",
     "data": {
      "text/plain": [
       "1262"
      ]
     },
     "metadata": {},
     "execution_count": 137
    }
   ],
   "metadata": {}
  },
  {
   "cell_type": "code",
   "execution_count": 150,
   "source": [
    "node_list =  all_nodes_df['node'].tolist()\n",
    "node_list.index('L-Methionine')"
   ],
   "outputs": [
    {
     "output_type": "execute_result",
     "data": {
      "text/plain": [
       "54"
      ]
     },
     "metadata": {},
     "execution_count": 150
    }
   ],
   "metadata": {}
  },
  {
   "cell_type": "code",
   "execution_count": 169,
   "source": [
    "'Guanosine monophosphate' in node_list"
   ],
   "outputs": [
    {
     "output_type": "execute_result",
     "data": {
      "text/plain": [
       "True"
      ]
     },
     "metadata": {},
     "execution_count": 169
    }
   ],
   "metadata": {}
  },
  {
   "cell_type": "markdown",
   "source": [
    "# Spectral clustering"
   ],
   "metadata": {}
  },
  {
   "cell_type": "markdown",
   "source": [
    "---\n",
    "Spectral clustering for link prediction:\n",
    "1. Compute eigendecomposition of graph Laplacian\n",
    "2. Take top K eigenvectors --> node embedding vectors (Z)\n",
    "3. Edge scores = sigmoid(Z * Z^T)\n",
    "3. Test scores these scores against actual edge values (ROC AUC, AP)\n",
    "\n",
    "Scikit-learn documentation: http://scikit-learn.org/stable/modules/generated/sklearn.manifold.spectral_embedding.html"
   ],
   "metadata": {}
  },
  {
   "cell_type": "code",
   "execution_count": 34,
   "source": [
    "from gae.preprocessing import mask_test_edges\n",
    "np.random.seed(0) # make sure train-test split is consistent between notebooks\n",
    "adj_sparse = nx.to_scipy_sparse_matrix(g)\n",
    "\n",
    "# Perform train-test split\n",
    "adj_train, train_edges, train_edges_false, val_edges, val_edges_false, \\\n",
    "    test_edges, test_edges_false = mask_test_edges(adj_sparse, test_frac=.1, val_frac=.1)\n",
    "g_train = nx.from_scipy_sparse_matrix(adj_train) # new graph object with only non-hidden edges"
   ],
   "outputs": [],
   "metadata": {}
  },
  {
   "cell_type": "code",
   "execution_count": 35,
   "source": [
    "# Inspect train/test split\n",
    "print (\"Total nodes:\", adj_sparse.shape[0])\n",
    "print (\"Total edges:\", int(adj_sparse.nnz/2)) # adj is symmetric, so nnz (num non-zero) = 2*num_edges\n",
    "print (\"Training edges (positive):\", len(train_edges))\n",
    "print (\"Training edges (negative):\", len(train_edges_false))\n",
    "print (\"Validation edges (positive):\", len(val_edges))\n",
    "print (\"Validation edges (negative):\", len(val_edges_false))\n",
    "print (\"Test edges (positive):\", len(test_edges))\n",
    "print (\"Test edges (negative):\", len(test_edges_false))"
   ],
   "outputs": [
    {
     "output_type": "stream",
     "name": "stdout",
     "text": [
      "Total nodes: 1286\n",
      "Total edges: 2885\n",
      "Training edges (positive): 2309\n",
      "Training edges (negative): 2309\n",
      "Validation edges (positive): 288\n",
      "Validation edges (negative): 288\n",
      "Test edges (positive): 288\n",
      "Test edges (negative): 288\n"
     ]
    }
   ],
   "metadata": {}
  },
  {
   "cell_type": "code",
   "execution_count": 36,
   "source": [
    "from sklearn.manifold import spectral_embedding\n",
    "\n",
    "# Get spectral embeddings (16-dim)\n",
    "emb = spectral_embedding(adj_train, n_components=100, random_state=0)"
   ],
   "outputs": [],
   "metadata": {}
  },
  {
   "cell_type": "code",
   "execution_count": 37,
   "source": [
    "def get_roc_score(edges_pos, edges_neg, embeddings):\n",
    "    score_matrix = np.dot(embeddings, embeddings.T)\n",
    "    \n",
    "    def sigmoid(x):\n",
    "        return 1 / (1 + np.exp(-x))\n",
    "    \n",
    "    # Store positive edge predictions, actual values\n",
    "    preds_pos = []\n",
    "    pos = []\n",
    "    for edge in edges_pos:\n",
    "        preds_pos.append(sigmoid(score_matrix[edge[0], edge[1]])) # predicted score\n",
    "        pos.append(adj_sparse[edge[0], edge[1]]) # actual value (1 for positive)\n",
    "        \n",
    "    # Store negative edge predictions, actual values\n",
    "    preds_neg = []\n",
    "    neg = []\n",
    "    for edge in edges_neg:\n",
    "        preds_neg.append(sigmoid(score_matrix[edge[0], edge[1]])) # predicted score\n",
    "        neg.append(adj_sparse[edge[0], edge[1]]) # actual value (0 for negative)\n",
    "        \n",
    "    # Calculate scores\n",
    "    preds_all = np.hstack([preds_pos, preds_neg])\n",
    "    labels_all = np.hstack([np.ones(len(preds_pos)), np.zeros(len(preds_neg))])\n",
    "    roc_score = roc_auc_score(labels_all, preds_all)\n",
    "    fpr, tpr, _ = roc_curve(labels_all, preds_all)\n",
    "    precision, recall, _ = precision_recall_curve(labels_all, preds_all)\n",
    "    pr_score = auc(recall, precision)\n",
    "    ap_score = average_precision_score(labels_all, preds_all)\n",
    "    return roc_score, ap_score, fpr, tpr, pr_score, precision, recall"
   ],
   "outputs": [],
   "metadata": {}
  },
  {
   "cell_type": "code",
   "execution_count": 38,
   "source": [
    "def specluster_pred(test,embeddings):\n",
    "    score_matrix = np.dot(embeddings, embeddings.T)\n",
    "    def sigmoid(x):\n",
    "        return 1 / (1 + np.exp(-x))\n",
    "    \n",
    "    # Store positive edge predictions, actual values\n",
    "    preds_pos = []\n",
    "    pos = []\n",
    "    for edge in test:\n",
    "        preds_pos.append(sigmoid(score_matrix[edge[0], edge[1]])) # predicted score\n",
    "        pos.append(adj_sparse[edge[0], edge[1]]) # actual value (1 for positive)\n",
    "    return preds_pos,pos\n",
    "\n"
   ],
   "outputs": [],
   "metadata": {}
  },
  {
   "cell_type": "code",
   "execution_count": 39,
   "source": [
    "# test_pred, test_pos = specluster_pred(test_index,emb)"
   ],
   "outputs": [],
   "metadata": {}
  },
  {
   "cell_type": "code",
   "execution_count": 40,
   "source": [
    "# real_roc_score, real_ap_score, real_fpr, real_tpr = get_roc_score(test_index_real, test_index_false[:81],emb)"
   ],
   "outputs": [],
   "metadata": {}
  },
  {
   "cell_type": "code",
   "execution_count": 41,
   "source": [
    "# print ('Spectral Clustering Test ROC score on real: ', str(real_roc_score))\n",
    "# print ('Spectral Clustering Test AP score on real: ', str(real_ap_score))"
   ],
   "outputs": [],
   "metadata": {}
  },
  {
   "cell_type": "code",
   "execution_count": 42,
   "source": [
    "# Calculate ROC AUC and Average Precision\n",
    "sc_roc, sc_ap, sc_fpr, sc_tpr, pr_score, sc_prcs, sc_rcal = get_roc_score(test_edges, test_edges_false, emb)\n",
    "\n",
    "print ('Spectral Clustering Test ROC score: ', str(sc_roc))\n",
    "print ('Spectral Clustering Test AP score: ', str(sc_ap))\n",
    "print ('Spectral Clustering Test precision-recall score: ', str(pr_score))"
   ],
   "outputs": [
    {
     "output_type": "stream",
     "name": "stdout",
     "text": [
      "Spectral Clustering Test ROC score:  0.7227406442901234\n",
      "Spectral Clustering Test AP score:  0.7066704785794706\n",
      "Spectral Clustering Test precision-recall score:  0.703842294367103\n"
     ]
    }
   ],
   "metadata": {}
  },
  {
   "cell_type": "code",
   "execution_count": 43,
   "source": [
    "plt.plot(sc_fpr, sc_tpr, color='green', label='Spectral clustering (area = %0.2f)' % sc_roc)"
   ],
   "outputs": [
    {
     "output_type": "execute_result",
     "data": {
      "text/plain": [
       "[<matplotlib.lines.Line2D at 0x7fd556971160>]"
      ]
     },
     "metadata": {},
     "execution_count": 43
    },
    {
     "output_type": "display_data",
     "data": {
      "image/png": "[encoded data removed]",
      "text/plain": [
       "<Figure size 432x288 with 1 Axes>"
      ]
     },
     "metadata": {}
    }
   ],
   "metadata": {}
  },
  {
   "cell_type": "code",
   "execution_count": 559,
   "source": [
    "plt.plot(sc_prcs, sc_rcal, color='green', label='Spectral clustering (area = %0.2f)' % sc_roc)"
   ],
   "outputs": [
    {
     "output_type": "execute_result",
     "data": {
      "text/plain": [
       "[<matplotlib.lines.Line2D at 0x7fad0d84d040>]"
      ]
     },
     "metadata": {},
     "execution_count": 559
    },
    {
     "output_type": "display_data",
     "data": {
      "image/png": "[encoded data removed]",
      "text/plain": [
       "<Figure size 432x288 with 1 Axes>"
      ]
     },
     "metadata": {}
    }
   ],
   "metadata": {}
  },
  {
   "cell_type": "markdown",
   "source": [
    "# Baselines"
   ],
   "metadata": {}
  },
  {
   "cell_type": "markdown",
   "source": [
    "ROC AUC and Average Precision using the following baselind\n",
    "1. Adamic-Adar\n",
    "2. Jaccard Coefficient\n",
    "3. Preferential Attachment"
   ],
   "metadata": {}
  },
  {
   "cell_type": "markdown",
   "source": [
    "## Adamic-Ada"
   ],
   "metadata": {}
  },
  {
   "cell_type": "code",
   "execution_count": 44,
   "source": [
    "# Compute Adamic-Adar indexes from g_train\n",
    "aa_matrix = np.zeros(adj_sparse.shape)\n",
    "for u, v, p in nx.adamic_adar_index(g_train): # (u, v) = node indices, p = Adamic-Adar index\n",
    "    aa_matrix[u][v] = p\n",
    "    aa_matrix[v][u] = p # make sure it's symmetric\n",
    "    \n",
    "# Normalize array\n",
    "aa_matrix = aa_matrix / aa_matrix.max()"
   ],
   "outputs": [],
   "metadata": {}
  },
  {
   "cell_type": "code",
   "execution_count": 45,
   "source": [
    "# Calculate ROC AUC and Average Precision\n",
    "aa_roc, aa_ap, aa_fpr, aa_tpr, aa_pr_score, aa_prcs, aa_rcal = get_roc_score(test_edges, test_edges_false, aa_matrix)\n",
    "\n",
    "print ('Adamic-Adar Test ROC score: ', str(aa_roc))\n",
    "print ('Adamic-Adar Test AP score: ', str(aa_ap))"
   ],
   "outputs": [
    {
     "output_type": "stream",
     "name": "stdout",
     "text": [
      "Adamic-Adar Test ROC score:  0.3576388888888889\n",
      "Adamic-Adar Test AP score:  0.5\n"
     ]
    }
   ],
   "metadata": {}
  },
  {
   "cell_type": "markdown",
   "source": [
    "## Jaccard Coefficient"
   ],
   "metadata": {}
  },
  {
   "cell_type": "code",
   "execution_count": 46,
   "source": [
    "# Compute Jaccard Coefficients from g_train\n",
    "jc_matrix = np.zeros(adj_sparse.shape)\n",
    "for u, v, p in nx.jaccard_coefficient(g_train): # (u, v) = node indices, p = Jaccard coefficient\n",
    "    jc_matrix[u][v] = p\n",
    "    jc_matrix[v][u] = p # make sure it's symmetric\n",
    "    \n",
    "# Normalize array\n",
    "jc_matrix = jc_matrix / jc_matrix.max()"
   ],
   "outputs": [],
   "metadata": {}
  },
  {
   "cell_type": "code",
   "execution_count": 47,
   "source": [
    "# Calculate ROC AUC and Average Precision\n",
    "jc_roc, jc_ap, jc_fpr, jc_tpr, jc_pr_score, jc_prcs, jc_rcal = get_roc_score(test_edges, test_edges_false, jc_matrix)\n",
    "\n",
    "print ('Jaccard Coefficient Test ROC score: ', str(jc_roc))\n",
    "print ('Jaccard Coefficient Test AP score: ', str(jc_ap))"
   ],
   "outputs": [
    {
     "output_type": "stream",
     "name": "stdout",
     "text": [
      "Jaccard Coefficient Test ROC score:  0.3576388888888889\n",
      "Jaccard Coefficient Test AP score:  0.5\n"
     ]
    }
   ],
   "metadata": {}
  },
  {
   "cell_type": "markdown",
   "source": [
    "## Preferential Attachment"
   ],
   "metadata": {}
  },
  {
   "cell_type": "code",
   "execution_count": 48,
   "source": [
    "# Calculate, store Adamic-Index scores in array\n",
    "pa_matrix = np.zeros(adj_sparse.shape)\n",
    "for u, v, p in nx.preferential_attachment(g_train): # (u, v) = node indices, p = Jaccard coefficient\n",
    "    pa_matrix[u][v] = p\n",
    "    pa_matrix[v][u] = p # make sure it's symmetric\n",
    "    \n",
    "# Normalize array\n",
    "pa_matrix = pa_matrix / pa_matrix.max()"
   ],
   "outputs": [],
   "metadata": {}
  },
  {
   "cell_type": "code",
   "execution_count": 49,
   "source": [
    "# Calculate ROC AUC and Average Precision\n",
    "pa_roc, pa_ap, pa_fpr, pa_tpr, pa_pr_score, pa_prcs, pa_rcal = get_roc_score(test_edges, test_edges_false, pa_matrix)\n",
    "\n",
    "print ('Preferential Attachment Test ROC score: ', str(pa_roc))\n",
    "print ('Preferential Attachment Test AP score: ', str(pa_ap))"
   ],
   "outputs": [
    {
     "output_type": "stream",
     "name": "stdout",
     "text": [
      "Preferential Attachment Test ROC score:  0.7735460069444444\n",
      "Preferential Attachment Test AP score:  0.8201560342591349\n"
     ]
    }
   ],
   "metadata": {}
  },
  {
   "cell_type": "markdown",
   "source": [
    "# Graph Vae (with feature)"
   ],
   "metadata": {}
  },
  {
   "cell_type": "markdown",
   "source": [
    "## Read in Graph Data"
   ],
   "metadata": {}
  },
  {
   "cell_type": "code",
   "execution_count": 187,
   "source": [
    "t = []\n",
    "for fp in all_nodes_df['features'].tolist():\n",
    "    temp = [i for i in fp]\n",
    "    t.append(temp)"
   ],
   "outputs": [],
   "metadata": {}
  },
  {
   "cell_type": "code",
   "execution_count": 188,
   "source": [
    "features = np.asarray(t)"
   ],
   "outputs": [],
   "metadata": {}
  },
  {
   "cell_type": "code",
   "execution_count": 189,
   "source": [
    "features.shape"
   ],
   "outputs": [
    {
     "output_type": "execute_result",
     "data": {
      "text/plain": [
       "(479, 1024)"
      ]
     },
     "metadata": {},
     "execution_count": 189
    }
   ],
   "metadata": {}
  },
  {
   "cell_type": "code",
   "execution_count": 190,
   "source": [
    "adj = nx.adjacency_matrix(g,nodelist=all_nodes_df['node'].tolist())"
   ],
   "outputs": [],
   "metadata": {}
  },
  {
   "cell_type": "code",
   "execution_count": 191,
   "source": [
    "print(nx.info(g))"
   ],
   "outputs": [
    {
     "output_type": "stream",
     "name": "stdout",
     "text": [
      "Name: \n",
      "Type: Graph\n",
      "Number of nodes: 479\n",
      "Number of edges: 827\n",
      "Average degree:   3.4530\n"
     ]
    }
   ],
   "metadata": {}
  },
  {
   "cell_type": "markdown",
   "source": [
    "## Data Preprocessing"
   ],
   "metadata": {}
  },
  {
   "cell_type": "code",
   "execution_count": 192,
   "source": [
    "from __future__ import division\n",
    "from __future__ import print_function\n",
    "import numpy as np\n",
    "import scipy.sparse as sp\n",
    "\n",
    "from sklearn.metrics import roc_auc_score\n",
    "from sklearn.metrics import average_precision_score\n",
    "\n",
    "import time\n",
    "import os\n",
    "os.environ['CUDA_VISIBLE_DEVICES'] = \"\""
   ],
   "outputs": [],
   "metadata": {}
  },
  {
   "cell_type": "code",
   "execution_count": 193,
   "source": [
    "import tensorflow.compat.v1 as tf\n",
    "tf.disable_v2_behavior()\n",
    "tf.set_random_seed(0)"
   ],
   "outputs": [],
   "metadata": {}
  },
  {
   "cell_type": "code",
   "execution_count": 194,
   "source": [
    "from gae.optimizer import OptimizerAE, OptimizerVAE\n",
    "from gae.model import GCNModelVAE, GCNModelAE\n",
    "from gae.preprocessing import preprocess_graph, construct_feed_dict, sparse_to_tuple, mask_test_edges"
   ],
   "outputs": [],
   "metadata": {}
  },
  {
   "cell_type": "code",
   "execution_count": 195,
   "source": [
    "# Convert features from normal matrix --> sparse matrix --> tuple\n",
    "    # features_tuple contains: (list of matrix coordinates, list of values, matrix dimensions)\n",
    "import scipy.sparse as sp\n",
    "x = sp.lil_matrix(features)\n",
    "features_tuple = sparse_to_tuple(x)\n",
    "features_shape = features_tuple[2]\n",
    "\n",
    "features_shape"
   ],
   "outputs": [
    {
     "output_type": "execute_result",
     "data": {
      "text/plain": [
       "(479, 1024)"
      ]
     },
     "metadata": {},
     "execution_count": 195
    }
   ],
   "metadata": {}
  },
  {
   "cell_type": "code",
   "execution_count": 196,
   "source": [
    "# Get graph attributes (to feed into model)\n",
    "num_nodes = adj.shape[0] # number of nodes in adjacency matrix\n",
    "num_features = features_shape[1] # number of features (columsn of features matrix)\n",
    "features_nonzero = features_tuple[1].shape[0] # number of non-zero entries in features matrix (or length of values list)\n",
    "# Store original adjacency matrix (without diagonal entries) for later\n",
    "adj_orig = adj\n",
    "adj_orig = adj_orig - sp.dia_matrix((adj_orig.diagonal()[np.newaxis, :], [0]), shape=adj_orig.shape)\n",
    "adj_orig.eliminate_zeros()"
   ],
   "outputs": [],
   "metadata": {}
  },
  {
   "cell_type": "code",
   "execution_count": 197,
   "source": [
    "np.random.seed(0) # IMPORTANT: guarantees consistent train/test splits\n",
    "adj_train, train_edges, train_edges_false, val_edges, val_edges_false, \\\n",
    "    test_edges, test_edges_false = mask_test_edges(adj, test_frac=.1, val_frac=.1)\n",
    "\n",
    "# Normalize adjacency matrix\n",
    "adj_norm = preprocess_graph(adj_train)\n",
    "\n",
    "# Add in diagonals\n",
    "adj_label = adj_train + sp.eye(adj_train.shape[0])\n",
    "adj_label = sparse_to_tuple(adj_label)\n",
    "\n",
    "# Inspect train/test split\n",
    "print(\"Total nodes:\", adj.shape[0])\n",
    "print(\"Total edges:\", int(adj.nnz/2)) # adj is symmetric, so nnz (num non-zero) = 2*num_edges\n",
    "print(\"Training edges (positive):\", len(train_edges))\n",
    "print(\"Training edges (negative):\", len(train_edges_false))\n",
    "print(\"Validation edges (positive):\", len(val_edges))\n",
    "print(\"Validation edges (negative):\", len(val_edges_false))\n",
    "print(\"Test edges (positive):\", len(test_edges))\n",
    "print(\"Test edges (negative):\", len(test_edges_false))"
   ],
   "outputs": [
    {
     "output_type": "stream",
     "name": "stdout",
     "text": [
      "Total nodes: 479\n",
      "Total edges: 827\n",
      "Training edges (positive): 663\n",
      "Training edges (negative): 663\n",
      "Validation edges (positive): 82\n",
      "Validation edges (negative): 82\n",
      "Test edges (positive): 82\n",
      "Test edges (negative): 82\n"
     ]
    }
   ],
   "metadata": {}
  },
  {
   "cell_type": "markdown",
   "source": [
    "## Initialize VAE Model"
   ],
   "metadata": {}
  },
  {
   "cell_type": "code",
   "execution_count": 198,
   "source": [
    "# Define hyperparameters\n",
    "LEARNING_RATE = 0.005\n",
    "EPOCHS = 1000\n",
    "HIDDEN1_DIM = 32\n",
    "HIDDEN2_DIM = 16\n",
    "DROPOUT = 0.1"
   ],
   "outputs": [],
   "metadata": {}
  },
  {
   "cell_type": "code",
   "execution_count": 199,
   "source": [
    "# Define placeholders\n",
    "placeholders = {\n",
    "    'features': tf.sparse_placeholder(tf.float32),\n",
    "    'adj': tf.sparse_placeholder(tf.float32),\n",
    "    'adj_orig': tf.sparse_placeholder(tf.float32),\n",
    "    'dropout': tf.placeholder_with_default(0., shape=())\n",
    "}\n",
    "\n",
    "# How much to weigh positive examples (true edges) in cost print_function\n",
    "  # Want to weigh less-frequent classes higher, so as to prevent model output bias\n",
    "  # pos_weight = (num. negative samples / (num. positive samples)\n",
    "pos_weight = float(adj.shape[0] * adj.shape[0] - adj.sum()) / adj.sum()\n",
    "\n",
    "# normalize (scale) average weighted cost\n",
    "norm = adj.shape[0] * adj.shape[0] / float((adj.shape[0] * adj.shape[0] - adj.sum()) * 2)\n",
    "\n",
    "# Create VAE model\n",
    "model = GCNModelVAE(placeholders, num_features, num_nodes, features_nonzero, HIDDEN1_DIM, HIDDEN2_DIM)\n",
    "\n",
    "opt = OptimizerVAE(preds=model.reconstructions,\n",
    "                           labels=tf.reshape(tf.sparse_tensor_to_dense(placeholders['adj_orig'],\n",
    "                                                                       validate_indices=False), [-1]),\n",
    "                           model=model, num_nodes=num_nodes,\n",
    "                           pos_weight=pos_weight,\n",
    "                           norm=norm,\n",
    "                           learning_rate=LEARNING_RATE)"
   ],
   "outputs": [
    {
     "output_type": "stream",
     "name": "stdout",
     "text": [
      "Creating GAE optimizer...\n",
      "Labels shape:  (?,)\n",
      "Preds shape:  (?,)\n",
      "CE+KL loss shape:  ()\n"
     ]
    }
   ],
   "metadata": {}
  },
  {
   "cell_type": "code",
   "execution_count": 200,
   "source": [
    "# Calculate ROC AUC\n",
    "def get_roc_score(edges_pos, edges_neg, emb=None):\n",
    "    if emb is None:\n",
    "        feed_dict.update({placeholders['dropout']: 0})\n",
    "        emb = sess.run(model.z_mean, feed_dict=feed_dict)\n",
    "\n",
    "    def sigmoid(x):\n",
    "        return 1 / (1 + np.exp(-x))\n",
    "\n",
    "    # Predict on test set of edges\n",
    "    adj_rec = np.dot(emb, emb.T)\n",
    "    preds_pos = []\n",
    "    pos = []\n",
    "    for e in edges_pos:\n",
    "        preds_pos.append(sigmoid(adj_rec[e[0], e[1]])) # predicted score for given edge\n",
    "        pos.append(adj_orig[e[0], e[1]]) # actual value (1)\n",
    "\n",
    "    preds_neg = []\n",
    "    neg = []\n",
    "    for e in edges_neg:\n",
    "        preds_neg.append(sigmoid(adj_rec[e[0], e[1]])) # predicted score for given edge\n",
    "        neg.append(adj_orig[e[0], e[1]]) # actual value (0)\n",
    "\n",
    "    preds_all = np.hstack([preds_pos, preds_neg])\n",
    "    labels_all = np.hstack([np.ones(len(preds_pos)), np.zeros(len(preds_neg))])\n",
    "\n",
    "    roc_score = roc_auc_score(labels_all, preds_all)\n",
    "    fpr, tpr, _ = roc_curve(labels_all, preds_all)\n",
    "    precision, recall, _ = precision_recall_curve(labels_all, preds_all)\n",
    "    pr_score = auc(recall, precision)\n",
    "    ap_score = average_precision_score(labels_all, preds_all)\n",
    "    return roc_score, ap_score, fpr, tpr, pr_score, precision, recall"
   ],
   "outputs": [],
   "metadata": {}
  },
  {
   "cell_type": "markdown",
   "source": [
    "## Train and Evaluate VAE Model"
   ],
   "metadata": {}
  },
  {
   "cell_type": "code",
   "execution_count": 201,
   "source": [
    "cost_val = []\n",
    "acc_val = []\n",
    "val_roc_score = []\n",
    "\n",
    "# Initialize session\n",
    "sess = tf.Session()\n",
    "sess.run(tf.global_variables_initializer())\n",
    "\n",
    "# Train model\n",
    "for epoch in range(EPOCHS):\n",
    "\n",
    "    t = time.time()\n",
    "    # Construct feed dictionary\n",
    "    feed_dict = construct_feed_dict(adj_norm, adj_label, features_tuple, placeholders)\n",
    "    feed_dict.update({placeholders['dropout']: DROPOUT})\n",
    "    # Run single weight update\n",
    "    outs = sess.run([opt.opt_op, opt.cost, opt.accuracy], feed_dict=feed_dict)\n",
    "\n",
    "    # Compute average loss\n",
    "    avg_cost = outs[1]\n",
    "    avg_accuracy = outs[2]\n",
    "    \n",
    "    # Evaluate predictions\n",
    "    roc_curr, ap_curr, fpr, tpr, pr_score, precision, recall = get_roc_score(val_edges, val_edges_false)\n",
    "    val_roc_score.append(roc_curr)\n",
    "    \n",
    "    if (epoch+1)%50 == 0:\n",
    "    # Print results for this epoch\n",
    "        print(\"Epoch:\", '%04d' % (epoch + 1), \"train_loss=\", \"{:.5f}\".format(avg_cost),\n",
    "              \"train_acc=\", \"{:.5f}\".format(avg_accuracy), \"val_roc=\", \"{:.5f}\".format(val_roc_score[-1]),\n",
    "              \"val_ap=\", \"{:.5f}\".format(ap_curr),\n",
    "              \"time=\", \"{:.5f}\".format(time.time() - t))\n",
    "\n",
    "print(\"Optimization Finished!\")"
   ],
   "outputs": [
    {
     "output_type": "stream",
     "name": "stdout",
     "text": [
      "Epoch: 0050 train_loss= 0.70590 train_acc= 0.47735 val_roc= 0.75074 val_ap= 0.75924 time= 0.02965\n",
      "Epoch: 0100 train_loss= 0.56471 train_acc= 0.51112 val_roc= 0.83016 val_ap= 0.82608 time= 0.02909\n",
      "Epoch: 0150 train_loss= 0.54808 train_acc= 0.52040 val_roc= 0.84622 val_ap= 0.84771 time= 0.03069\n",
      "Epoch: 0200 train_loss= 0.54067 train_acc= 0.52437 val_roc= 0.85976 val_ap= 0.86755 time= 0.03141\n",
      "Epoch: 0250 train_loss= 0.53076 train_acc= 0.52575 val_roc= 0.87180 val_ap= 0.88388 time= 0.02994\n",
      "Epoch: 0300 train_loss= 0.52669 train_acc= 0.52218 val_roc= 0.88028 val_ap= 0.88581 time= 0.03142\n",
      "Epoch: 0350 train_loss= 0.52161 train_acc= 0.53055 val_roc= 0.85693 val_ap= 0.87298 time= 0.03000\n",
      "Epoch: 0400 train_loss= 0.52043 train_acc= 0.53225 val_roc= 0.86972 val_ap= 0.87777 time= 0.02946\n",
      "Epoch: 0450 train_loss= 0.52250 train_acc= 0.53348 val_roc= 0.87329 val_ap= 0.88724 time= 0.03105\n",
      "Epoch: 0500 train_loss= 0.51990 train_acc= 0.52251 val_roc= 0.86243 val_ap= 0.87856 time= 0.03070\n",
      "Epoch: 0550 train_loss= 0.50946 train_acc= 0.52752 val_roc= 0.87567 val_ap= 0.88607 time= 0.02911\n",
      "Epoch: 0600 train_loss= 0.51326 train_acc= 0.52587 val_roc= 0.87731 val_ap= 0.89211 time= 0.03302\n",
      "Epoch: 0650 train_loss= 0.50853 train_acc= 0.53082 val_roc= 0.88221 val_ap= 0.89148 time= 0.02805\n",
      "Epoch: 0700 train_loss= 0.50242 train_acc= 0.53619 val_roc= 0.86422 val_ap= 0.87831 time= 0.03064\n",
      "Epoch: 0750 train_loss= 0.50477 train_acc= 0.53255 val_roc= 0.88772 val_ap= 0.90468 time= 0.03554\n",
      "Epoch: 0800 train_loss= 0.49409 train_acc= 0.53967 val_roc= 0.89277 val_ap= 0.90838 time= 0.03454\n",
      "Epoch: 0850 train_loss= 0.49844 train_acc= 0.52763 val_roc= 0.90393 val_ap= 0.92406 time= 0.03152\n",
      "Epoch: 0900 train_loss= 0.49467 train_acc= 0.53521 val_roc= 0.90065 val_ap= 0.91548 time= 0.02973\n",
      "Epoch: 0950 train_loss= 0.49090 train_acc= 0.54045 val_roc= 0.89887 val_ap= 0.91282 time= 0.02852\n",
      "Epoch: 1000 train_loss= 0.49465 train_acc= 0.53930 val_roc= 0.89902 val_ap= 0.91104 time= 0.02825\n",
      "Optimization Finished!\n"
     ]
    }
   ],
   "metadata": {}
  },
  {
   "cell_type": "code",
   "execution_count": 202,
   "source": [
    "# Print final results\n",
    "feature_roc_score, feature_ap_score, feature_fpr, feature_tpr, feature_pr_score, feature_prcs, feature_rcal = get_roc_score(test_edges, test_edges_false)\n",
    "print('Test ROC score: ' + str(feature_roc_score))\n",
    "print('Test AP score: ' + str(feature_ap_score))"
   ],
   "outputs": [
    {
     "output_type": "stream",
     "name": "stdout",
     "text": [
      "Test ROC score: 0.9086853063652588\n",
      "Test AP score: 0.9266299361747425\n"
     ]
    }
   ],
   "metadata": {}
  },
  {
   "cell_type": "code",
   "execution_count": 174,
   "source": [
    "test_pred, test_pos = vae_pred(train_edges_false)\n",
    "len(test_pred[np.where(test_pred<0.5)])/len(test_pos)"
   ],
   "outputs": [],
   "metadata": {}
  },
  {
   "cell_type": "code",
   "execution_count": 175,
   "source": [],
   "outputs": [
    {
     "output_type": "execute_result",
     "data": {
      "text/plain": [
       "0.5466522678185746"
      ]
     },
     "metadata": {},
     "execution_count": 175
    }
   ],
   "metadata": {}
  },
  {
   "cell_type": "code",
   "execution_count": 157,
   "source": [
    "test_pos.shape"
   ],
   "outputs": [
    {
     "output_type": "execute_result",
     "data": {
      "text/plain": [
       "(578,)"
      ]
     },
     "metadata": {},
     "execution_count": 157
    }
   ],
   "metadata": {}
  },
  {
   "cell_type": "code",
   "execution_count": 85,
   "source": [
    "node_path_keys = list(node_path_id_dict.keys())"
   ],
   "outputs": [],
   "metadata": {}
  },
  {
   "cell_type": "code",
   "execution_count": 114,
   "source": [
    "path_id_to_node = {}\n",
    "for i in range(len(nodes)):\n",
    "    k = nodes[i]\n",
    "    ids = node_path_id_dict[k]\n",
    "    for t in ids:\n",
    "        if t in path_id_to_node:\n",
    "            path_id_to_node[t].append(i)\n",
    "        else:\n",
    "            path_id_to_node[t] = []\n",
    "            path_id_to_node[t].append(i)"
   ],
   "outputs": [],
   "metadata": {}
  },
  {
   "cell_type": "code",
   "execution_count": null,
   "source": [
    "# adj_train, train_edges, train_edges_false, val_edges, val_edges_false, \\\n",
    "#     test_edges, test_edges_false"
   ],
   "outputs": [],
   "metadata": {}
  },
  {
   "cell_type": "code",
   "execution_count": 297,
   "source": [
    "all_edge_id_list = []"
   ],
   "outputs": [],
   "metadata": {}
  },
  {
   "cell_type": "code",
   "execution_count": 298,
   "source": [
    "all_pwid_edges = {}"
   ],
   "outputs": [],
   "metadata": {}
  },
  {
   "cell_type": "code",
   "execution_count": 302,
   "source": [
    "test_edge_id_list = []"
   ],
   "outputs": [],
   "metadata": {}
  },
  {
   "cell_type": "code",
   "execution_count": 303,
   "source": [
    "test_pwid_edges = {}"
   ],
   "outputs": [],
   "metadata": {}
  },
  {
   "cell_type": "code",
   "execution_count": 304,
   "source": [
    "for i in test_edges:\n",
    "    l,r = i[0],i[1]\n",
    "    temp = check_nodes(l,r,path_id_to_node)\n",
    "    if len(temp) > 0:\n",
    "        for t in temp:\n",
    "            test_edge_id_list.append(t)\n",
    "            if t in test_pwid_edges:\n",
    "                test_pwid_edges[t].append([l,r])\n",
    "            else:\n",
    "                test_pwid_edges[t] = []\n",
    "                test_pwid_edges[t].append([l,r])"
   ],
   "outputs": [],
   "metadata": {}
  },
  {
   "cell_type": "code",
   "execution_count": 301,
   "source": [
    "for i in test_edges:\n",
    "    l,r = i[0],i[1]\n",
    "    temp = check_nodes(l,r,path_id_to_node)\n",
    "    if len(temp) > 0:\n",
    "        for t in temp:\n",
    "            all_edge_id_list.append(t)\n",
    "            if t in all_pwid_edges:\n",
    "                all_pwid_edges[t].append([l,r])\n",
    "            else:\n",
    "                all_pwid_edges[t] = []\n",
    "                all_pwid_edges[t].append([l,r])"
   ],
   "outputs": [],
   "metadata": {}
  },
  {
   "cell_type": "code",
   "execution_count": 280,
   "source": [
    "def check_nodes(n1,n2,path_id_to_node):\n",
    "    result = []\n",
    "    for pwid,nods in path_id_to_node.items():\n",
    "        if n1 in nods and n2 in nods:\n",
    "            result.append(pwid)\n",
    "    return result    \n"
   ],
   "outputs": [],
   "metadata": {}
  },
  {
   "cell_type": "code",
   "execution_count": 281,
   "source": [
    "from collections import Counter"
   ],
   "outputs": [],
   "metadata": {}
  },
  {
   "cell_type": "code",
   "execution_count": 282,
   "source": [
    "counts_pwid = Counter(test_id_list)\n",
    "df_counts_pwid = pd.DataFrame.from_dict(counts_pwid, orient='index',columns=['counts'])\n",
    "df_counts_pwid_sort = df_counts_pwid.sort_values(by='counts',ascending=False)"
   ],
   "outputs": [],
   "metadata": {}
  },
  {
   "cell_type": "code",
   "execution_count": 283,
   "source": [
    "df_counts_pwid_sort.head()"
   ],
   "outputs": [
    {
     "output_type": "execute_result",
     "data": {
      "text/html": [
       "<div>\n",
       "<style scoped>\n",
       "    .dataframe tbody tr th:only-of-type {\n",
       "        vertical-align: middle;\n",
       "    }\n",
       "\n",
       "    .dataframe tbody tr th {\n",
       "        vertical-align: top;\n",
       "    }\n",
       "\n",
       "    .dataframe thead th {\n",
       "        text-align: right;\n",
       "    }\n",
       "</style>\n",
       "<table border=\"1\" class=\"dataframe\">\n",
       "  <thead>\n",
       "    <tr style=\"text-align: right;\">\n",
       "      <th></th>\n",
       "      <th>counts</th>\n",
       "    </tr>\n",
       "  </thead>\n",
       "  <tbody>\n",
       "    <tr>\n",
       "      <th>PW000429</th>\n",
       "      <td>234</td>\n",
       "    </tr>\n",
       "    <tr>\n",
       "      <th>PW000267</th>\n",
       "      <td>233</td>\n",
       "    </tr>\n",
       "    <tr>\n",
       "      <th>PW000266</th>\n",
       "      <td>233</td>\n",
       "    </tr>\n",
       "    <tr>\n",
       "      <th>PW000078</th>\n",
       "      <td>184</td>\n",
       "    </tr>\n",
       "    <tr>\n",
       "      <th>PW000511</th>\n",
       "      <td>184</td>\n",
       "    </tr>\n",
       "  </tbody>\n",
       "</table>\n",
       "</div>"
      ],
      "text/plain": [
       "          counts\n",
       "PW000429     234\n",
       "PW000267     233\n",
       "PW000266     233\n",
       "PW000078     184\n",
       "PW000511     184"
      ]
     },
     "metadata": {},
     "execution_count": 283
    }
   ],
   "metadata": {}
  },
  {
   "cell_type": "code",
   "execution_count": 284,
   "source": [
    "test_edges_pwid = np.array(pwid_edges['PW000429'])"
   ],
   "outputs": [],
   "metadata": {}
  },
  {
   "cell_type": "code",
   "execution_count": 193,
   "source": [
    "import random"
   ],
   "outputs": [],
   "metadata": {}
  },
  {
   "cell_type": "code",
   "execution_count": 263,
   "source": [
    "all_nodes_df.head()"
   ],
   "outputs": [
    {
     "output_type": "execute_result",
     "data": {
      "text/html": [
       "<div>\n",
       "<style scoped>\n",
       "    .dataframe tbody tr th:only-of-type {\n",
       "        vertical-align: middle;\n",
       "    }\n",
       "\n",
       "    .dataframe tbody tr th {\n",
       "        vertical-align: top;\n",
       "    }\n",
       "\n",
       "    .dataframe thead th {\n",
       "        text-align: right;\n",
       "    }\n",
       "</style>\n",
       "<table border=\"1\" class=\"dataframe\">\n",
       "  <thead>\n",
       "    <tr style=\"text-align: right;\">\n",
       "      <th></th>\n",
       "      <th>node</th>\n",
       "      <th>features</th>\n",
       "      <th>dbid</th>\n",
       "      <th>class</th>\n",
       "    </tr>\n",
       "  </thead>\n",
       "  <tbody>\n",
       "    <tr>\n",
       "      <th>0</th>\n",
       "      <td>Prostacyclin synthase</td>\n",
       "      <td>[-0.12578402, 1.5855106, -2.4726543, -0.640181...</td>\n",
       "      <td>Q62969</td>\n",
       "      <td>protein</td>\n",
       "    </tr>\n",
       "    <tr>\n",
       "      <th>1</th>\n",
       "      <td>Prostaglandin H2</td>\n",
       "      <td>[-1.2573654322861663, 1.8236689264267412, 2.22...</td>\n",
       "      <td>PW_C001068</td>\n",
       "      <td>metabolite</td>\n",
       "    </tr>\n",
       "    <tr>\n",
       "      <th>2</th>\n",
       "      <td>Prostaglandin I2</td>\n",
       "      <td>[-0.7220164827151518, 2.0177172382678665, 2.83...</td>\n",
       "      <td>PW_C001028</td>\n",
       "      <td>metabolite</td>\n",
       "    </tr>\n",
       "    <tr>\n",
       "      <th>3</th>\n",
       "      <td>Prostaglandin E synthase</td>\n",
       "      <td>[-0.45892152, 0.2806043, -0.5386896, -0.391293...</td>\n",
       "      <td>Q3T9C5</td>\n",
       "      <td>protein</td>\n",
       "    </tr>\n",
       "    <tr>\n",
       "      <th>4</th>\n",
       "      <td>Prostaglandin E2</td>\n",
       "      <td>[-1.4356465741466113, 1.8528968022488177, 2.56...</td>\n",
       "      <td>PW_C000949</td>\n",
       "      <td>metabolite</td>\n",
       "    </tr>\n",
       "  </tbody>\n",
       "</table>\n",
       "</div>"
      ],
      "text/plain": [
       "                       node  \\\n",
       "0     Prostacyclin synthase   \n",
       "1          Prostaglandin H2   \n",
       "2          Prostaglandin I2   \n",
       "3  Prostaglandin E synthase   \n",
       "4          Prostaglandin E2   \n",
       "\n",
       "                                            features        dbid       class  \n",
       "0  [-0.12578402, 1.5855106, -2.4726543, -0.640181...      Q62969     protein  \n",
       "1  [-1.2573654322861663, 1.8236689264267412, 2.22...  PW_C001068  metabolite  \n",
       "2  [-0.7220164827151518, 2.0177172382678665, 2.83...  PW_C001028  metabolite  \n",
       "3  [-0.45892152, 0.2806043, -0.5386896, -0.391293...      Q3T9C5     protein  \n",
       "4  [-1.4356465741466113, 1.8528968022488177, 2.56...  PW_C000949  metabolite  "
      ]
     },
     "metadata": {},
     "execution_count": 263
    }
   ],
   "metadata": {}
  },
  {
   "cell_type": "code",
   "execution_count": 265,
   "source": [
    "protein_node_index = list(all_nodes_df[all_nodes_df['class'] == 'protein'].index)\n",
    "mets_node_index = list(all_nodes_df[all_nodes_df['class'] == 'metabolite'].index)\n"
   ],
   "outputs": [],
   "metadata": {}
  },
  {
   "cell_type": "code",
   "execution_count": 435,
   "source": [
    "def creat_false_edges(true_edges):\n",
    "    node_list = []\n",
    "    result = []\n",
    "    N = len(true_edges)\n",
    "    for i,k in true_edges:\n",
    "        node_list.append(i)\n",
    "        node_list.append(k)\n",
    "    node_list = list(set(node_list))\n",
    "    while len(result) < N:\n",
    "        elt1, elt2 = random.sample(node_list, 2)\n",
    "        if [elt1, elt2] not in true_edges and [elt1, elt2] not in result and [elt2, elt1] not in result and adj_orig[elt1, elt2] == 0 and adj_orig[elt2, elt1] == 0:\n",
    "            if (elt1 in protein_node_index and elt2 in mets_node_index) or (elt2 in protein_node_index and elt1 in mets_node_index):\n",
    "                if elt1 < elt2:\n",
    "                    result.append([elt1, elt2])\n",
    "                else:\n",
    "                    result.append([elt2, elt1])\n",
    "    return result"
   ],
   "outputs": [],
   "metadata": {}
  },
  {
   "cell_type": "code",
   "execution_count": 290,
   "source": [
    "df_counts_pwid_sort.head()"
   ],
   "outputs": [
    {
     "output_type": "execute_result",
     "data": {
      "text/html": [
       "<div>\n",
       "<style scoped>\n",
       "    .dataframe tbody tr th:only-of-type {\n",
       "        vertical-align: middle;\n",
       "    }\n",
       "\n",
       "    .dataframe tbody tr th {\n",
       "        vertical-align: top;\n",
       "    }\n",
       "\n",
       "    .dataframe thead th {\n",
       "        text-align: right;\n",
       "    }\n",
       "</style>\n",
       "<table border=\"1\" class=\"dataframe\">\n",
       "  <thead>\n",
       "    <tr style=\"text-align: right;\">\n",
       "      <th></th>\n",
       "      <th>counts</th>\n",
       "    </tr>\n",
       "  </thead>\n",
       "  <tbody>\n",
       "    <tr>\n",
       "      <th>PW000429</th>\n",
       "      <td>234</td>\n",
       "    </tr>\n",
       "    <tr>\n",
       "      <th>PW000267</th>\n",
       "      <td>233</td>\n",
       "    </tr>\n",
       "    <tr>\n",
       "      <th>PW000266</th>\n",
       "      <td>233</td>\n",
       "    </tr>\n",
       "    <tr>\n",
       "      <th>PW000078</th>\n",
       "      <td>184</td>\n",
       "    </tr>\n",
       "    <tr>\n",
       "      <th>PW000511</th>\n",
       "      <td>184</td>\n",
       "    </tr>\n",
       "  </tbody>\n",
       "</table>\n",
       "</div>"
      ],
      "text/plain": [
       "          counts\n",
       "PW000429     234\n",
       "PW000267     233\n",
       "PW000266     233\n",
       "PW000078     184\n",
       "PW000511     184"
      ]
     },
     "metadata": {},
     "execution_count": 290
    }
   ],
   "metadata": {}
  },
  {
   "cell_type": "code",
   "execution_count": 397,
   "source": [
    "df_counts_pwid_sort[df_counts_pwid_sort['counts']>=60]"
   ],
   "outputs": [
    {
     "output_type": "execute_result",
     "data": {
      "text/html": [
       "<div>\n",
       "<style scoped>\n",
       "    .dataframe tbody tr th:only-of-type {\n",
       "        vertical-align: middle;\n",
       "    }\n",
       "\n",
       "    .dataframe tbody tr th {\n",
       "        vertical-align: top;\n",
       "    }\n",
       "\n",
       "    .dataframe thead th {\n",
       "        text-align: right;\n",
       "    }\n",
       "</style>\n",
       "<table border=\"1\" class=\"dataframe\">\n",
       "  <thead>\n",
       "    <tr style=\"text-align: right;\">\n",
       "      <th></th>\n",
       "      <th>counts</th>\n",
       "    </tr>\n",
       "  </thead>\n",
       "  <tbody>\n",
       "    <tr>\n",
       "      <th>PW000429</th>\n",
       "      <td>234</td>\n",
       "    </tr>\n",
       "    <tr>\n",
       "      <th>PW000267</th>\n",
       "      <td>233</td>\n",
       "    </tr>\n",
       "    <tr>\n",
       "      <th>PW000266</th>\n",
       "      <td>233</td>\n",
       "    </tr>\n",
       "    <tr>\n",
       "      <th>PW000078</th>\n",
       "      <td>184</td>\n",
       "    </tr>\n",
       "    <tr>\n",
       "      <th>PW000511</th>\n",
       "      <td>184</td>\n",
       "    </tr>\n",
       "    <tr>\n",
       "      <th>...</th>\n",
       "      <td>...</td>\n",
       "    </tr>\n",
       "    <tr>\n",
       "      <th>PW000566</th>\n",
       "      <td>61</td>\n",
       "    </tr>\n",
       "    <tr>\n",
       "      <th>PW000159</th>\n",
       "      <td>61</td>\n",
       "    </tr>\n",
       "    <tr>\n",
       "      <th>PW000618</th>\n",
       "      <td>61</td>\n",
       "    </tr>\n",
       "    <tr>\n",
       "      <th>PW000200</th>\n",
       "      <td>61</td>\n",
       "    </tr>\n",
       "    <tr>\n",
       "      <th>PW000610</th>\n",
       "      <td>61</td>\n",
       "    </tr>\n",
       "  </tbody>\n",
       "</table>\n",
       "<p>232 rows × 1 columns</p>\n",
       "</div>"
      ],
      "text/plain": [
       "          counts\n",
       "PW000429     234\n",
       "PW000267     233\n",
       "PW000266     233\n",
       "PW000078     184\n",
       "PW000511     184\n",
       "...          ...\n",
       "PW000566      61\n",
       "PW000159      61\n",
       "PW000618      61\n",
       "PW000200      61\n",
       "PW000610      61\n",
       "\n",
       "[232 rows x 1 columns]"
      ]
     },
     "metadata": {},
     "execution_count": 397
    }
   ],
   "metadata": {}
  },
  {
   "cell_type": "code",
   "execution_count": null,
   "source": [
    "df_counts_pwid_sort"
   ],
   "outputs": [],
   "metadata": {}
  },
  {
   "cell_type": "code",
   "execution_count": 379,
   "source": [
    "random_test_edges_false = test_edges_false[[random.randint(0, len(test_edges_false)) for _ in range(10)]]\n",
    "random_test_edges_false"
   ],
   "outputs": [
    {
     "output_type": "execute_result",
     "data": {
      "text/plain": [
       "array([[ 723, 1448],\n",
       "       [ 813,  840],\n",
       "       [  28,  774],\n",
       "       [ 731,  781],\n",
       "       [2067, 2126],\n",
       "       [1318, 1695],\n",
       "       [ 956, 1043],\n",
       "       [ 472, 1008],\n",
       "       [ 339, 1434],\n",
       "       [ 281,  957]])"
      ]
     },
     "metadata": {},
     "execution_count": 379
    }
   ],
   "metadata": {}
  },
  {
   "cell_type": "code",
   "execution_count": 440,
   "source": [
    "pwid_roc_result = []\n",
    "pwid_ap_result = []\n",
    "for i in range(40):\n",
    "    pwid_test = list(df_counts_pwid_sort.index)[i]\n",
    "    test_edges_pwid = np.array(test_pwid_edges[pwid_test])\n",
    "    n = len(test_edges_pwid)\n",
    "    all_edges_pwid = np.array(all_pwid_edges[pwid_test])\n",
    "    test_edges_pwid_false = creat_false_edges(all_edges_pwid)\n",
    "    # test_edges_pwid_false = creat_false_edges(test_edges_pwid)\n",
    "    # test_edges_pwid_false = test_edges_false[[random.randint(0, len(test_edges_false)-1) for _ in range(n)]]\n",
    "    pwid_feature_roc_score, pwid_feature_ap_score, pwid_feature_fpr, pwid_feature_tpr, pwid_feature_pr_score, pwid_feature_prcs, pwid_feature_rcal = get_roc_score(test_edges_pwid, test_edges_pwid_false)\n",
    "    pwid_roc_result.append(pwid_feature_roc_score)\n",
    "    pwid_ap_result.append(pwid_feature_ap_score)\n",
    "    print(pwid_test,i,n,pwid_feature_roc_score,pwid_feature_ap_score, pwid_feature_pr_score)"
   ],
   "outputs": [
    {
     "output_type": "stream",
     "name": "stdout",
     "text": [
      "PW000429 0 28 0.7689243027888446 0.30900626223320676 0.29970962441421073\n",
      "PW000267 1 28 0.7494285714285714 0.2983196041076323 0.2891192245083358\n",
      "PW000266 2 28 0.7628571428571429 0.3125292858149501 0.3030027183131474\n",
      "PW000078 3 22 0.6956128448665763 0.31022108439755414 0.299512753005603\n"
     ]
    },
    {
     "output_type": "error",
     "ename": "KeyboardInterrupt",
     "evalue": "",
     "traceback": [
      "\u001b[0;31m---------------------------------------------------------------------------\u001b[0m",
      "\u001b[0;31mKeyboardInterrupt\u001b[0m                         Traceback (most recent call last)",
      "\u001b[0;32m<ipython-input-440-0185b65820f1>\u001b[0m in \u001b[0;36m<module>\u001b[0;34m\u001b[0m\n\u001b[1;32m      6\u001b[0m     \u001b[0mn\u001b[0m \u001b[0;34m=\u001b[0m \u001b[0mlen\u001b[0m\u001b[0;34m(\u001b[0m\u001b[0mtest_edges_pwid\u001b[0m\u001b[0;34m)\u001b[0m\u001b[0;34m\u001b[0m\u001b[0;34m\u001b[0m\u001b[0m\n\u001b[1;32m      7\u001b[0m     \u001b[0mall_edges_pwid\u001b[0m \u001b[0;34m=\u001b[0m \u001b[0mnp\u001b[0m\u001b[0;34m.\u001b[0m\u001b[0marray\u001b[0m\u001b[0;34m(\u001b[0m\u001b[0mall_pwid_edges\u001b[0m\u001b[0;34m[\u001b[0m\u001b[0mpwid_test\u001b[0m\u001b[0;34m]\u001b[0m\u001b[0;34m)\u001b[0m\u001b[0;34m\u001b[0m\u001b[0;34m\u001b[0m\u001b[0m\n\u001b[0;32m----> 8\u001b[0;31m     \u001b[0mtest_edges_pwid_false\u001b[0m \u001b[0;34m=\u001b[0m \u001b[0mcreat_false_edges\u001b[0m\u001b[0;34m(\u001b[0m\u001b[0mall_edges_pwid\u001b[0m\u001b[0;34m)\u001b[0m\u001b[0;34m\u001b[0m\u001b[0;34m\u001b[0m\u001b[0m\n\u001b[0m\u001b[1;32m      9\u001b[0m     \u001b[0;31m# test_edges_pwid_false = creat_false_edges(test_edges_pwid)\u001b[0m\u001b[0;34m\u001b[0m\u001b[0;34m\u001b[0m\u001b[0;34m\u001b[0m\u001b[0m\n\u001b[1;32m     10\u001b[0m     \u001b[0;31m# test_edges_pwid_false = test_edges_false[[random.randint(0, len(test_edges_false)-1) for _ in range(n)]]\u001b[0m\u001b[0;34m\u001b[0m\u001b[0;34m\u001b[0m\u001b[0;34m\u001b[0m\u001b[0m\n",
      "\u001b[0;32m<ipython-input-435-3d1523ee12e5>\u001b[0m in \u001b[0;36mcreat_false_edges\u001b[0;34m(true_edges)\u001b[0m\n\u001b[1;32m     10\u001b[0m         \u001b[0melt1\u001b[0m\u001b[0;34m,\u001b[0m \u001b[0melt2\u001b[0m \u001b[0;34m=\u001b[0m \u001b[0mrandom\u001b[0m\u001b[0;34m.\u001b[0m\u001b[0msample\u001b[0m\u001b[0;34m(\u001b[0m\u001b[0mnode_list\u001b[0m\u001b[0;34m,\u001b[0m \u001b[0;36m2\u001b[0m\u001b[0;34m)\u001b[0m\u001b[0;34m\u001b[0m\u001b[0;34m\u001b[0m\u001b[0m\n\u001b[1;32m     11\u001b[0m         \u001b[0;32mif\u001b[0m \u001b[0;34m[\u001b[0m\u001b[0melt1\u001b[0m\u001b[0;34m,\u001b[0m \u001b[0melt2\u001b[0m\u001b[0;34m]\u001b[0m \u001b[0;32mnot\u001b[0m \u001b[0;32min\u001b[0m \u001b[0mtrue_edges\u001b[0m \u001b[0;32mand\u001b[0m \u001b[0;34m[\u001b[0m\u001b[0melt1\u001b[0m\u001b[0;34m,\u001b[0m \u001b[0melt2\u001b[0m\u001b[0;34m]\u001b[0m \u001b[0;32mnot\u001b[0m \u001b[0;32min\u001b[0m \u001b[0mresult\u001b[0m \u001b[0;32mand\u001b[0m \u001b[0;34m[\u001b[0m\u001b[0melt2\u001b[0m\u001b[0;34m,\u001b[0m \u001b[0melt1\u001b[0m\u001b[0;34m]\u001b[0m \u001b[0;32mnot\u001b[0m \u001b[0;32min\u001b[0m \u001b[0mresult\u001b[0m \u001b[0;32mand\u001b[0m \u001b[0madj_orig\u001b[0m\u001b[0;34m[\u001b[0m\u001b[0melt1\u001b[0m\u001b[0;34m,\u001b[0m \u001b[0melt2\u001b[0m\u001b[0;34m]\u001b[0m \u001b[0;34m==\u001b[0m \u001b[0;36m0\u001b[0m \u001b[0;32mand\u001b[0m \u001b[0madj_orig\u001b[0m\u001b[0;34m[\u001b[0m\u001b[0melt2\u001b[0m\u001b[0;34m,\u001b[0m \u001b[0melt1\u001b[0m\u001b[0;34m]\u001b[0m \u001b[0;34m==\u001b[0m \u001b[0;36m0\u001b[0m\u001b[0;34m:\u001b[0m\u001b[0;34m\u001b[0m\u001b[0;34m\u001b[0m\u001b[0m\n\u001b[0;32m---> 12\u001b[0;31m             \u001b[0;32mif\u001b[0m \u001b[0;34m(\u001b[0m\u001b[0melt1\u001b[0m \u001b[0;32min\u001b[0m \u001b[0mprotein_node_index\u001b[0m \u001b[0;32mand\u001b[0m \u001b[0melt2\u001b[0m \u001b[0;32min\u001b[0m \u001b[0mmets_node_index\u001b[0m\u001b[0;34m)\u001b[0m \u001b[0;32mor\u001b[0m \u001b[0;34m(\u001b[0m\u001b[0melt2\u001b[0m \u001b[0;32min\u001b[0m \u001b[0mprotein_node_index\u001b[0m \u001b[0;32mand\u001b[0m \u001b[0melt1\u001b[0m \u001b[0;32min\u001b[0m \u001b[0mmets_node_index\u001b[0m\u001b[0;34m)\u001b[0m\u001b[0;34m:\u001b[0m\u001b[0;34m\u001b[0m\u001b[0;34m\u001b[0m\u001b[0m\n\u001b[0m\u001b[1;32m     13\u001b[0m                 \u001b[0;32mif\u001b[0m \u001b[0melt1\u001b[0m \u001b[0;34m<\u001b[0m \u001b[0melt2\u001b[0m\u001b[0;34m:\u001b[0m\u001b[0;34m\u001b[0m\u001b[0;34m\u001b[0m\u001b[0m\n\u001b[1;32m     14\u001b[0m                     \u001b[0mresult\u001b[0m\u001b[0;34m.\u001b[0m\u001b[0mappend\u001b[0m\u001b[0;34m(\u001b[0m\u001b[0;34m[\u001b[0m\u001b[0melt1\u001b[0m\u001b[0;34m,\u001b[0m \u001b[0melt2\u001b[0m\u001b[0;34m]\u001b[0m\u001b[0;34m)\u001b[0m\u001b[0;34m\u001b[0m\u001b[0;34m\u001b[0m\u001b[0m\n",
      "\u001b[0;31mKeyboardInterrupt\u001b[0m: "
     ]
    }
   ],
   "metadata": {}
  },
  {
   "cell_type": "code",
   "execution_count": 412,
   "source": [
    "len(pwid_roc_result)"
   ],
   "outputs": [
    {
     "output_type": "execute_result",
     "data": {
      "text/plain": [
       "200"
      ]
     },
     "metadata": {},
     "execution_count": 412
    }
   ],
   "metadata": {}
  },
  {
   "cell_type": "code",
   "execution_count": 406,
   "source": [
    "import seaborn as sns"
   ],
   "outputs": [],
   "metadata": {}
  },
  {
   "cell_type": "code",
   "execution_count": 426,
   "source": [
    "# Make random arrays by sampling a gaussian\n",
    "n1 = 42\n",
    "n2 = 42\n",
    "y1 = pwid_roc_result\n",
    "y2 = pwid_ap_result\n",
    "\n",
    "# Make an array to group the values\n",
    "x1 = 5 * np.ones(n1)\n",
    "x2 = 10 * np.ones(n2)\n",
    "\n",
    "# Combine the sampled data together\n",
    "x = np.concatenate((x1,x2),axis=0)\n",
    "y = np.concatenate((y1,y2),axis=0)"
   ],
   "outputs": [],
   "metadata": {}
  },
  {
   "cell_type": "code",
   "execution_count": 437,
   "source": [
    "np.mean(pwid_roc_result)"
   ],
   "outputs": [
    {
     "output_type": "execute_result",
     "data": {
      "text/plain": [
       "0.7033426417321565"
      ]
     },
     "metadata": {},
     "execution_count": 437
    }
   ],
   "metadata": {}
  },
  {
   "cell_type": "code",
   "execution_count": 438,
   "source": [
    "np.mean(pwid_ap_result)"
   ],
   "outputs": [
    {
     "output_type": "execute_result",
     "data": {
      "text/plain": [
       "0.305012440593436"
      ]
     },
     "metadata": {},
     "execution_count": 438
    }
   ],
   "metadata": {}
  },
  {
   "cell_type": "code",
   "execution_count": 429,
   "source": [
    "# Set up a figure with axes\n",
    "plt.figure(figsize=(10,10))\n",
    "fig, ax = plt.subplots(1, 1)\n",
    "\n",
    "# Label the axes and title the plot\n",
    "ax.set_xlabel('expected mean')\n",
    "ax.set_ylabel('samples drawn from gaussian')\n",
    "ax.set_title('swarm plot overlayed on a boxplot')\n",
    "\n",
    "# # Make a swarm plot\n",
    "# sns.swarmplot(x, y, ax=ax)\n",
    "\n",
    "# Make a box plot\n",
    "sns.boxplot(x, y, ax=ax)"
   ],
   "outputs": [
    {
     "output_type": "stream",
     "name": "stderr",
     "text": [
      "/Users/chengwang/opt/anaconda3/lib/python3.8/site-packages/seaborn/_decorators.py:36: FutureWarning: Pass the following variables as keyword args: x, y. From version 0.12, the only valid positional argument will be `data`, and passing other arguments without an explicit keyword will result in an error or misinterpretation.\n",
      "  warnings.warn(\n"
     ]
    },
    {
     "output_type": "execute_result",
     "data": {
      "text/plain": [
       "<AxesSubplot:title={'center':'swarm plot overlayed on a boxplot'}, xlabel='expected mean', ylabel='samples drawn from gaussian'>"
      ]
     },
     "metadata": {},
     "execution_count": 429
    },
    {
     "output_type": "display_data",
     "data": {
      "text/plain": [
       "<Figure size 720x720 with 0 Axes>"
      ]
     },
     "metadata": {}
    },
    {
     "output_type": "display_data",
     "data": {
      "image/png": "[encoded data removed]",
      "text/plain": [
       "<Figure size 432x288 with 1 Axes>"
      ]
     },
     "metadata": {}
    }
   ],
   "metadata": {}
  },
  {
   "cell_type": "code",
   "execution_count": 405,
   "source": [
    "np.std(pwid_ap_result)"
   ],
   "outputs": [
    {
     "output_type": "execute_result",
     "data": {
      "text/plain": [
       "0.05285347406730243"
      ]
     },
     "metadata": {},
     "execution_count": 405
    }
   ],
   "metadata": {}
  },
  {
   "cell_type": "code",
   "execution_count": 391,
   "source": [
    "np.array(pwid_roc_result)"
   ],
   "outputs": [
    {
     "output_type": "execute_result",
     "data": {
      "text/plain": [
       "array([0.90306122, 0.85331633, 0.85586735, 0.89049587, 0.85743802,\n",
       "       0.85950413, 0.86983471, 0.83677686, 0.86363636, 0.87603306,\n",
       "       0.85330579, 0.82024793, 0.81404959, 0.86363636, 0.85330579,\n",
       "       0.83264463, 0.80785124, 0.92733564, 0.91015625, 0.90082645,\n",
       "       0.9338843 , 0.96694215, 0.99173554, 0.98347107, 0.96694215,\n",
       "       0.9338843 , 1.        , 0.9338843 , 0.9338843 , 0.89256198,\n",
       "       0.96694215, 0.90909091, 0.94214876, 0.98347107, 0.96694215,\n",
       "       1.        , 0.91836735, 0.85941043, 0.8185941 , 0.7845805 ,\n",
       "       0.88888889, 0.8276644 , 0.92561983, 0.95041322, 0.9338843 ,\n",
       "       0.92561983, 0.94214876, 0.91735537, 0.90909091, 0.8984375 ,\n",
       "       0.953125  , 0.9609375 , 0.9140625 , 0.9609375 , 0.96875   ,\n",
       "       0.97265625, 0.95703125, 0.99609375, 0.98046875, 0.92578125,\n",
       "       0.984375  , 0.984375  , 0.9765625 , 0.98828125, 0.9765625 ,\n",
       "       0.99609375, 0.9765625 , 0.9375    , 0.97265625, 0.98828125,\n",
       "       0.9765625 , 0.9765625 , 0.90816327, 0.88265306, 0.92346939,\n",
       "       0.89285714, 0.91326531, 0.81632653, 0.91326531, 0.93367347,\n",
       "       0.85714286, 0.96938776, 0.89285714, 0.95408163, 0.92346939,\n",
       "       0.92346939, 0.91836735, 0.86734694, 0.96938776, 0.90816327,\n",
       "       0.80612245, 0.93367347, 0.95918367, 0.87244898, 0.93367347,\n",
       "       0.92346939, 0.87755102, 0.92857143, 0.91836735, 0.91836735])"
      ]
     },
     "metadata": {},
     "execution_count": 391
    }
   ],
   "metadata": {}
  },
  {
   "cell_type": "code",
   "execution_count": 392,
   "source": [
    "np.mean(pwid_ap_result)"
   ],
   "outputs": [
    {
     "output_type": "execute_result",
     "data": {
      "text/plain": [
       "0.9288917988505218"
      ]
     },
     "metadata": {},
     "execution_count": 392
    }
   ],
   "metadata": {}
  },
  {
   "cell_type": "code",
   "execution_count": 375,
   "source": [
    "np.std(pwid_roc_result)"
   ],
   "outputs": [
    {
     "output_type": "execute_result",
     "data": {
      "text/plain": [
       "0.05834842031912704"
      ]
     },
     "metadata": {},
     "execution_count": 375
    }
   ],
   "metadata": {}
  },
  {
   "cell_type": "code",
   "execution_count": 374,
   "source": [
    "np.std(pwid_ap_result)"
   ],
   "outputs": [
    {
     "output_type": "execute_result",
     "data": {
      "text/plain": [
       "0.07809054499126038"
      ]
     },
     "metadata": {},
     "execution_count": 374
    }
   ],
   "metadata": {}
  },
  {
   "cell_type": "code",
   "execution_count": 355,
   "source": [
    "test_pred, test_pos = vae_pred(test_edges_pwid)\n",
    "len(test_pred[np.where(test_pred>0.5)])/len(test_pos)"
   ],
   "outputs": [
    {
     "output_type": "execute_result",
     "data": {
      "text/plain": [
       "0.8636363636363636"
      ]
     },
     "metadata": {},
     "execution_count": 355
    }
   ],
   "metadata": {}
  },
  {
   "cell_type": "code",
   "execution_count": 330,
   "source": [
    "# all_edges_pwid = np.array(all_pwid_edges['PW000078'])"
   ],
   "outputs": [],
   "metadata": {}
  },
  {
   "cell_type": "code",
   "execution_count": 356,
   "source": [
    "test_edges_pwid_false = creat_false_edges(test_edges_pwid)"
   ],
   "outputs": [],
   "metadata": {}
  },
  {
   "cell_type": "code",
   "execution_count": 357,
   "source": [
    "test_pred, test_pos = vae_pred(test_edges_pwid_false)\n",
    "len(test_pred[np.where(test_pred<0.5)])/len(test_pos)"
   ],
   "outputs": [
    {
     "output_type": "execute_result",
     "data": {
      "text/plain": [
       "0.09090909090909091"
      ]
     },
     "metadata": {},
     "execution_count": 357
    }
   ],
   "metadata": {}
  },
  {
   "cell_type": "code",
   "execution_count": 358,
   "source": [
    "pwid_feature_roc_score, pwid_feature_ap_score, pwid_feature_fpr, pwid_feature_tpr, pwid_feature_pr_score, pwid_feature_prcs, pwid_feature_rcal = get_roc_score(test_edges_pwid, test_edges_pwid_false)\n",
    "print('Test ROC score: ' + str(pwid_feature_roc_score))\n",
    "print('Test AP score: ' + str(pwid_feature_ap_score))"
   ],
   "outputs": [
    {
     "output_type": "stream",
     "name": "stdout",
     "text": [
      "Test ROC score: 0.6611570247933884\n",
      "Test AP score: 0.6910814859212164\n"
     ]
    }
   ],
   "metadata": {}
  },
  {
   "cell_type": "code",
   "execution_count": 215,
   "source": [
    "len(test_pred[np.where(test_pred>0.5)])/len(test_pos)"
   ],
   "outputs": [
    {
     "output_type": "execute_result",
     "data": {
      "text/plain": [
       "0.9642857142857143"
      ]
     },
     "metadata": {},
     "execution_count": 215
    }
   ],
   "metadata": {}
  },
  {
   "cell_type": "code",
   "execution_count": 142,
   "source": [
    "spec_mets_data_m[spec_mets_data_m['PW ID']=='PW000076'].head()"
   ],
   "outputs": [
    {
     "output_type": "execute_result",
     "data": {
      "text/html": [
       "<div>\n",
       "<style scoped>\n",
       "    .dataframe tbody tr th:only-of-type {\n",
       "        vertical-align: middle;\n",
       "    }\n",
       "\n",
       "    .dataframe tbody tr th {\n",
       "        vertical-align: top;\n",
       "    }\n",
       "\n",
       "    .dataframe thead th {\n",
       "        text-align: right;\n",
       "    }\n",
       "</style>\n",
       "<table border=\"1\" class=\"dataframe\">\n",
       "  <thead>\n",
       "    <tr style=\"text-align: right;\">\n",
       "      <th></th>\n",
       "      <th>PathBank ID</th>\n",
       "      <th>Pathway Name</th>\n",
       "      <th>Pathway Subject</th>\n",
       "      <th>Species</th>\n",
       "      <th>Metabolite ID</th>\n",
       "      <th>Metabolite Name</th>\n",
       "      <th>HMDB ID</th>\n",
       "      <th>KEGG ID</th>\n",
       "      <th>ChEBI ID</th>\n",
       "      <th>DrugBank ID</th>\n",
       "      <th>CAS</th>\n",
       "      <th>Formula</th>\n",
       "      <th>IUPAC</th>\n",
       "      <th>SMILES</th>\n",
       "      <th>InChI</th>\n",
       "      <th>InChI Key</th>\n",
       "      <th>SMPDB ID</th>\n",
       "      <th>PW ID</th>\n",
       "    </tr>\n",
       "  </thead>\n",
       "  <tbody>\n",
       "    <tr>\n",
       "      <th>2426</th>\n",
       "      <td>SMP0000167</td>\n",
       "      <td>Adenylosuccinate Lyase Deficiency</td>\n",
       "      <td>Disease</td>\n",
       "      <td>Homo sapiens</td>\n",
       "      <td>PW_C001033</td>\n",
       "      <td>Diguanosine tetraphosphate</td>\n",
       "      <td>HMDB0001340</td>\n",
       "      <td>C01261</td>\n",
       "      <td>15883.0</td>\n",
       "      <td>NaN</td>\n",
       "      <td>4130-19-2</td>\n",
       "      <td>C20H28N10O21P4</td>\n",
       "      <td>{[(2R,3S,4R,5R)-5-(2-amino-6-oxo-6,9-dihydro-1...</td>\n",
       "      <td>NC1=NC2=C(N=CN2[C@@H]2O[C@H](COP(O)(=O)OP(O)(=...</td>\n",
       "      <td>InChI=1S/C20H28N10O21P4/c21-19-25-13-7(15(35)2...</td>\n",
       "      <td>OLGWXCQXRSSQPO-MHARETSRSA-N</td>\n",
       "      <td>SMP0000167</td>\n",
       "      <td>PW000076</td>\n",
       "    </tr>\n",
       "    <tr>\n",
       "      <th>2427</th>\n",
       "      <td>SMP0000167</td>\n",
       "      <td>Adenylosuccinate Lyase Deficiency</td>\n",
       "      <td>Disease</td>\n",
       "      <td>Homo sapiens</td>\n",
       "      <td>PW_C001420</td>\n",
       "      <td>Water</td>\n",
       "      <td>HMDB0002111</td>\n",
       "      <td>C00001</td>\n",
       "      <td>15377.0</td>\n",
       "      <td>NaN</td>\n",
       "      <td>7732-18-5</td>\n",
       "      <td>H2O</td>\n",
       "      <td>water</td>\n",
       "      <td>O</td>\n",
       "      <td>InChI=1S/H2O/h1H2</td>\n",
       "      <td>XLYOFNOQVPJJNP-UHFFFAOYSA-N</td>\n",
       "      <td>SMP0000167</td>\n",
       "      <td>PW000076</td>\n",
       "    </tr>\n",
       "    <tr>\n",
       "      <th>2428</th>\n",
       "      <td>SMP0000167</td>\n",
       "      <td>Adenylosuccinate Lyase Deficiency</td>\n",
       "      <td>Disease</td>\n",
       "      <td>Homo sapiens</td>\n",
       "      <td>PW_C000986</td>\n",
       "      <td>Guanosine triphosphate</td>\n",
       "      <td>HMDB0001273</td>\n",
       "      <td>C00044</td>\n",
       "      <td>15996.0</td>\n",
       "      <td>NaN</td>\n",
       "      <td>86-01-1</td>\n",
       "      <td>C10H16N5O14P3</td>\n",
       "      <td>({[({[(2R,3S,4R,5R)-5-(2-amino-6-oxo-6,9-dihyd...</td>\n",
       "      <td>NC1=NC2=C(N=CN2[C@@H]2O[C@H](COP(O)(=O)OP(O)(=...</td>\n",
       "      <td>InChI=1S/C10H16N5O14P3/c11-10-13-7-4(8(18)14-1...</td>\n",
       "      <td>XKMLYUALXHKNFT-UUOKFMHZSA-N</td>\n",
       "      <td>SMP0000167</td>\n",
       "      <td>PW000076</td>\n",
       "    </tr>\n",
       "    <tr>\n",
       "      <th>2429</th>\n",
       "      <td>SMP0000167</td>\n",
       "      <td>Adenylosuccinate Lyase Deficiency</td>\n",
       "      <td>Disease</td>\n",
       "      <td>Homo sapiens</td>\n",
       "      <td>PW_C001080</td>\n",
       "      <td>Guanosine monophosphate</td>\n",
       "      <td>HMDB0001397</td>\n",
       "      <td>C00144</td>\n",
       "      <td>17345.0</td>\n",
       "      <td>DB01972</td>\n",
       "      <td>85-32-5</td>\n",
       "      <td>C10H14N5O8P</td>\n",
       "      <td>{[(2R,3S,4R,5R)-5-(2-amino-6-oxo-6,9-dihydro-1...</td>\n",
       "      <td>NC1=NC2=C(N=CN2[C@@H]2O[C@H](COP(O)(O)=O)[C@@H...</td>\n",
       "      <td>InChI=1S/C10H14N5O8P/c11-10-13-7-4(8(18)14-10)...</td>\n",
       "      <td>RQFCJASXJCIDSX-UUOKFMHZSA-N</td>\n",
       "      <td>SMP0000167</td>\n",
       "      <td>PW000076</td>\n",
       "    </tr>\n",
       "    <tr>\n",
       "      <th>2430</th>\n",
       "      <td>SMP0000167</td>\n",
       "      <td>Adenylosuccinate Lyase Deficiency</td>\n",
       "      <td>Disease</td>\n",
       "      <td>Homo sapiens</td>\n",
       "      <td>PW_C000936</td>\n",
       "      <td>Guanosine diphosphate</td>\n",
       "      <td>HMDB0001201</td>\n",
       "      <td>C00035</td>\n",
       "      <td>17552.0</td>\n",
       "      <td>NaN</td>\n",
       "      <td>146-91-8</td>\n",
       "      <td>C10H15N5O11P2</td>\n",
       "      <td>[({[(2R,3S,4R,5R)-5-(2-amino-6-oxo-6,9-dihydro...</td>\n",
       "      <td>NC1=NC2=C(N=CN2[C@@H]2O[C@H](COP(O)(=O)OP(O)(O...</td>\n",
       "      <td>InChI=1S/C10H15N5O11P2/c11-10-13-7-4(8(18)14-1...</td>\n",
       "      <td>QGWNDRXFNXRZMB-UUOKFMHZSA-N</td>\n",
       "      <td>SMP0000167</td>\n",
       "      <td>PW000076</td>\n",
       "    </tr>\n",
       "  </tbody>\n",
       "</table>\n",
       "</div>"
      ],
      "text/plain": [
       "     PathBank ID                       Pathway Name Pathway Subject  \\\n",
       "2426  SMP0000167  Adenylosuccinate Lyase Deficiency         Disease   \n",
       "2427  SMP0000167  Adenylosuccinate Lyase Deficiency         Disease   \n",
       "2428  SMP0000167  Adenylosuccinate Lyase Deficiency         Disease   \n",
       "2429  SMP0000167  Adenylosuccinate Lyase Deficiency         Disease   \n",
       "2430  SMP0000167  Adenylosuccinate Lyase Deficiency         Disease   \n",
       "\n",
       "           Species Metabolite ID             Metabolite Name      HMDB ID  \\\n",
       "2426  Homo sapiens    PW_C001033  Diguanosine tetraphosphate  HMDB0001340   \n",
       "2427  Homo sapiens    PW_C001420                       Water  HMDB0002111   \n",
       "2428  Homo sapiens    PW_C000986      Guanosine triphosphate  HMDB0001273   \n",
       "2429  Homo sapiens    PW_C001080     Guanosine monophosphate  HMDB0001397   \n",
       "2430  Homo sapiens    PW_C000936       Guanosine diphosphate  HMDB0001201   \n",
       "\n",
       "     KEGG ID  ChEBI ID DrugBank ID        CAS         Formula  \\\n",
       "2426  C01261   15883.0         NaN  4130-19-2  C20H28N10O21P4   \n",
       "2427  C00001   15377.0         NaN  7732-18-5             H2O   \n",
       "2428  C00044   15996.0         NaN    86-01-1   C10H16N5O14P3   \n",
       "2429  C00144   17345.0     DB01972    85-32-5     C10H14N5O8P   \n",
       "2430  C00035   17552.0         NaN   146-91-8   C10H15N5O11P2   \n",
       "\n",
       "                                                  IUPAC  \\\n",
       "2426  {[(2R,3S,4R,5R)-5-(2-amino-6-oxo-6,9-dihydro-1...   \n",
       "2427                                              water   \n",
       "2428  ({[({[(2R,3S,4R,5R)-5-(2-amino-6-oxo-6,9-dihyd...   \n",
       "2429  {[(2R,3S,4R,5R)-5-(2-amino-6-oxo-6,9-dihydro-1...   \n",
       "2430  [({[(2R,3S,4R,5R)-5-(2-amino-6-oxo-6,9-dihydro...   \n",
       "\n",
       "                                                 SMILES  \\\n",
       "2426  NC1=NC2=C(N=CN2[C@@H]2O[C@H](COP(O)(=O)OP(O)(=...   \n",
       "2427                                                  O   \n",
       "2428  NC1=NC2=C(N=CN2[C@@H]2O[C@H](COP(O)(=O)OP(O)(=...   \n",
       "2429  NC1=NC2=C(N=CN2[C@@H]2O[C@H](COP(O)(O)=O)[C@@H...   \n",
       "2430  NC1=NC2=C(N=CN2[C@@H]2O[C@H](COP(O)(=O)OP(O)(O...   \n",
       "\n",
       "                                                  InChI  \\\n",
       "2426  InChI=1S/C20H28N10O21P4/c21-19-25-13-7(15(35)2...   \n",
       "2427                                  InChI=1S/H2O/h1H2   \n",
       "2428  InChI=1S/C10H16N5O14P3/c11-10-13-7-4(8(18)14-1...   \n",
       "2429  InChI=1S/C10H14N5O8P/c11-10-13-7-4(8(18)14-10)...   \n",
       "2430  InChI=1S/C10H15N5O11P2/c11-10-13-7-4(8(18)14-1...   \n",
       "\n",
       "                        InChI Key    SMPDB ID     PW ID  \n",
       "2426  OLGWXCQXRSSQPO-MHARETSRSA-N  SMP0000167  PW000076  \n",
       "2427  XLYOFNOQVPJJNP-UHFFFAOYSA-N  SMP0000167  PW000076  \n",
       "2428  XKMLYUALXHKNFT-UUOKFMHZSA-N  SMP0000167  PW000076  \n",
       "2429  RQFCJASXJCIDSX-UUOKFMHZSA-N  SMP0000167  PW000076  \n",
       "2430  QGWNDRXFNXRZMB-UUOKFMHZSA-N  SMP0000167  PW000076  "
      ]
     },
     "metadata": {},
     "execution_count": 142
    }
   ],
   "metadata": {}
  },
  {
   "cell_type": "code",
   "execution_count": 143,
   "source": [
    "spec_mets_data_m['Pathway Subject'].unique()"
   ],
   "outputs": [
    {
     "output_type": "execute_result",
     "data": {
      "text/plain": [
       "array(['Metabolic', 'Disease', 'Drug Action', 'Physiological',\n",
       "       'Signaling', 'Protein', 'Drug Metabolism'], dtype=object)"
      ]
     },
     "metadata": {},
     "execution_count": 143
    }
   ],
   "metadata": {}
  },
  {
   "cell_type": "code",
   "execution_count": 146,
   "source": [
    "spec_protein_data_m['Pathway Subject'].value_counts()"
   ],
   "outputs": [
    {
     "output_type": "execute_result",
     "data": {
      "text/plain": [
       "Metabolic          147650\n",
       "Disease            144555\n",
       "Drug Action          7909\n",
       "Protein              2619\n",
       "Drug Metabolism       418\n",
       "Physiological         209\n",
       "Signaling              93\n",
       "Name: Pathway Subject, dtype: int64"
      ]
     },
     "metadata": {},
     "execution_count": 146
    }
   ],
   "metadata": {}
  },
  {
   "cell_type": "code",
   "execution_count": 144,
   "source": [
    "spec_protein_data_m[spec_protein_data_m['PW ID']=='PW000076'].head()"
   ],
   "outputs": [
    {
     "output_type": "execute_result",
     "data": {
      "text/html": [
       "<div>\n",
       "<style scoped>\n",
       "    .dataframe tbody tr th:only-of-type {\n",
       "        vertical-align: middle;\n",
       "    }\n",
       "\n",
       "    .dataframe tbody tr th {\n",
       "        vertical-align: top;\n",
       "    }\n",
       "\n",
       "    .dataframe thead th {\n",
       "        text-align: right;\n",
       "    }\n",
       "</style>\n",
       "<table border=\"1\" class=\"dataframe\">\n",
       "  <thead>\n",
       "    <tr style=\"text-align: right;\">\n",
       "      <th></th>\n",
       "      <th>PathBank ID</th>\n",
       "      <th>Pathway Name</th>\n",
       "      <th>Pathway Subject</th>\n",
       "      <th>Species</th>\n",
       "      <th>Uniprot ID</th>\n",
       "      <th>Protein Name</th>\n",
       "      <th>HMDBP ID</th>\n",
       "      <th>DrugBank ID</th>\n",
       "      <th>GenBank ID</th>\n",
       "      <th>Gene Name</th>\n",
       "      <th>Locus</th>\n",
       "      <th>SMPDB ID</th>\n",
       "      <th>PW ID</th>\n",
       "    </tr>\n",
       "  </thead>\n",
       "  <tbody>\n",
       "    <tr>\n",
       "      <th>1071</th>\n",
       "      <td>SMP0000167</td>\n",
       "      <td>Adenylosuccinate Lyase Deficiency</td>\n",
       "      <td>Disease</td>\n",
       "      <td>Homo sapiens</td>\n",
       "      <td>P50583</td>\n",
       "      <td>Bis(5'-nucleosyl)-tetraphosphatase [asymmetrical]</td>\n",
       "      <td>HMDBP00621</td>\n",
       "      <td>NaN</td>\n",
       "      <td>AL356494</td>\n",
       "      <td>NUDT2</td>\n",
       "      <td>9p13</td>\n",
       "      <td>SMP0000167</td>\n",
       "      <td>PW000076</td>\n",
       "    </tr>\n",
       "    <tr>\n",
       "      <th>1072</th>\n",
       "      <td>SMP0000167</td>\n",
       "      <td>Adenylosuccinate Lyase Deficiency</td>\n",
       "      <td>Disease</td>\n",
       "      <td>Homo sapiens</td>\n",
       "      <td>O75414</td>\n",
       "      <td>Nucleoside diphosphate kinase 6</td>\n",
       "      <td>HMDBP00114</td>\n",
       "      <td>NaN</td>\n",
       "      <td>U90449</td>\n",
       "      <td>NME6</td>\n",
       "      <td>3p21</td>\n",
       "      <td>SMP0000167</td>\n",
       "      <td>PW000076</td>\n",
       "    </tr>\n",
       "    <tr>\n",
       "      <th>1073</th>\n",
       "      <td>SMP0000167</td>\n",
       "      <td>Adenylosuccinate Lyase Deficiency</td>\n",
       "      <td>Disease</td>\n",
       "      <td>Homo sapiens</td>\n",
       "      <td>O75356</td>\n",
       "      <td>Ectonucleoside triphosphate diphosphohydrolase 5</td>\n",
       "      <td>HMDBP00879</td>\n",
       "      <td>NaN</td>\n",
       "      <td>BC130487</td>\n",
       "      <td>ENTPD5</td>\n",
       "      <td>14q24</td>\n",
       "      <td>SMP0000167</td>\n",
       "      <td>PW000076</td>\n",
       "    </tr>\n",
       "    <tr>\n",
       "      <th>1074</th>\n",
       "      <td>SMP0000167</td>\n",
       "      <td>Adenylosuccinate Lyase Deficiency</td>\n",
       "      <td>Disease</td>\n",
       "      <td>Homo sapiens</td>\n",
       "      <td>Q5MY95</td>\n",
       "      <td>Ectonucleoside triphosphate diphosphohydrolase 8</td>\n",
       "      <td>HMDBP07670</td>\n",
       "      <td>NaN</td>\n",
       "      <td>AY903953</td>\n",
       "      <td>ENTPD8</td>\n",
       "      <td>9q34.3</td>\n",
       "      <td>SMP0000167</td>\n",
       "      <td>PW000076</td>\n",
       "    </tr>\n",
       "    <tr>\n",
       "      <th>1075</th>\n",
       "      <td>SMP0000167</td>\n",
       "      <td>Adenylosuccinate Lyase Deficiency</td>\n",
       "      <td>Disease</td>\n",
       "      <td>Homo sapiens</td>\n",
       "      <td>Q16774</td>\n",
       "      <td>Guanylate kinase</td>\n",
       "      <td>HMDBP00930</td>\n",
       "      <td>NaN</td>\n",
       "      <td>AK303845</td>\n",
       "      <td>GUK1</td>\n",
       "      <td>1q32-q41</td>\n",
       "      <td>SMP0000167</td>\n",
       "      <td>PW000076</td>\n",
       "    </tr>\n",
       "  </tbody>\n",
       "</table>\n",
       "</div>"
      ],
      "text/plain": [
       "     PathBank ID                       Pathway Name Pathway Subject  \\\n",
       "1071  SMP0000167  Adenylosuccinate Lyase Deficiency         Disease   \n",
       "1072  SMP0000167  Adenylosuccinate Lyase Deficiency         Disease   \n",
       "1073  SMP0000167  Adenylosuccinate Lyase Deficiency         Disease   \n",
       "1074  SMP0000167  Adenylosuccinate Lyase Deficiency         Disease   \n",
       "1075  SMP0000167  Adenylosuccinate Lyase Deficiency         Disease   \n",
       "\n",
       "           Species Uniprot ID  \\\n",
       "1071  Homo sapiens     P50583   \n",
       "1072  Homo sapiens     O75414   \n",
       "1073  Homo sapiens     O75356   \n",
       "1074  Homo sapiens     Q5MY95   \n",
       "1075  Homo sapiens     Q16774   \n",
       "\n",
       "                                           Protein Name    HMDBP ID  \\\n",
       "1071  Bis(5'-nucleosyl)-tetraphosphatase [asymmetrical]  HMDBP00621   \n",
       "1072                    Nucleoside diphosphate kinase 6  HMDBP00114   \n",
       "1073   Ectonucleoside triphosphate diphosphohydrolase 5  HMDBP00879   \n",
       "1074   Ectonucleoside triphosphate diphosphohydrolase 8  HMDBP07670   \n",
       "1075                                   Guanylate kinase  HMDBP00930   \n",
       "\n",
       "     DrugBank ID GenBank ID Gene Name     Locus    SMPDB ID     PW ID  \n",
       "1071         NaN   AL356494     NUDT2      9p13  SMP0000167  PW000076  \n",
       "1072         NaN     U90449      NME6      3p21  SMP0000167  PW000076  \n",
       "1073         NaN   BC130487    ENTPD5     14q24  SMP0000167  PW000076  \n",
       "1074         NaN   AY903953    ENTPD8    9q34.3  SMP0000167  PW000076  \n",
       "1075         NaN   AK303845      GUK1  1q32-q41  SMP0000167  PW000076  "
      ]
     },
     "metadata": {},
     "execution_count": 144
    }
   ],
   "metadata": {}
  },
  {
   "cell_type": "code",
   "execution_count": 137,
   "source": [
    "df_counts_pwid_sort.head(10)"
   ],
   "outputs": [
    {
     "output_type": "execute_result",
     "data": {
      "text/html": [
       "<div>\n",
       "<style scoped>\n",
       "    .dataframe tbody tr th:only-of-type {\n",
       "        vertical-align: middle;\n",
       "    }\n",
       "\n",
       "    .dataframe tbody tr th {\n",
       "        vertical-align: top;\n",
       "    }\n",
       "\n",
       "    .dataframe thead th {\n",
       "        text-align: right;\n",
       "    }\n",
       "</style>\n",
       "<table border=\"1\" class=\"dataframe\">\n",
       "  <thead>\n",
       "    <tr style=\"text-align: right;\">\n",
       "      <th></th>\n",
       "      <th>counts</th>\n",
       "    </tr>\n",
       "  </thead>\n",
       "  <tbody>\n",
       "    <tr>\n",
       "      <th>PW000429</th>\n",
       "      <td>251</td>\n",
       "    </tr>\n",
       "    <tr>\n",
       "      <th>PW000267</th>\n",
       "      <td>250</td>\n",
       "    </tr>\n",
       "    <tr>\n",
       "      <th>PW000266</th>\n",
       "      <td>250</td>\n",
       "    </tr>\n",
       "    <tr>\n",
       "      <th>PW000076</th>\n",
       "      <td>201</td>\n",
       "    </tr>\n",
       "    <tr>\n",
       "      <th>PW000511</th>\n",
       "      <td>201</td>\n",
       "    </tr>\n",
       "    <tr>\n",
       "      <th>PW000078</th>\n",
       "      <td>201</td>\n",
       "    </tr>\n",
       "    <tr>\n",
       "      <th>PW000488</th>\n",
       "      <td>201</td>\n",
       "    </tr>\n",
       "    <tr>\n",
       "      <th>PW000077</th>\n",
       "      <td>201</td>\n",
       "    </tr>\n",
       "    <tr>\n",
       "      <th>PW000080</th>\n",
       "      <td>201</td>\n",
       "    </tr>\n",
       "    <tr>\n",
       "      <th>PW000489</th>\n",
       "      <td>201</td>\n",
       "    </tr>\n",
       "  </tbody>\n",
       "</table>\n",
       "</div>"
      ],
      "text/plain": [
       "          counts\n",
       "PW000429     251\n",
       "PW000267     250\n",
       "PW000266     250\n",
       "PW000076     201\n",
       "PW000511     201\n",
       "PW000078     201\n",
       "PW000488     201\n",
       "PW000077     201\n",
       "PW000080     201\n",
       "PW000489     201"
      ]
     },
     "metadata": {},
     "execution_count": 137
    }
   ],
   "metadata": {}
  },
  {
   "cell_type": "code",
   "execution_count": 129,
   "source": [
    "counts_pwid_false = Counter(test_id_list_false)\n",
    "df_counts_pwid_false = pd.DataFrame.from_dict(counts_pwid_false, orient='index',columns=['counts'])\n",
    "df_counts_pwid_sort_false = df_counts_pwid_false.sort_values(by='counts',ascending=False)"
   ],
   "outputs": [],
   "metadata": {}
  },
  {
   "cell_type": "code",
   "execution_count": 130,
   "source": [
    "df_counts_pwid_sort_false.head()"
   ],
   "outputs": [
    {
     "output_type": "execute_result",
     "data": {
      "text/html": [
       "<div>\n",
       "<style scoped>\n",
       "    .dataframe tbody tr th:only-of-type {\n",
       "        vertical-align: middle;\n",
       "    }\n",
       "\n",
       "    .dataframe tbody tr th {\n",
       "        vertical-align: top;\n",
       "    }\n",
       "\n",
       "    .dataframe thead th {\n",
       "        text-align: right;\n",
       "    }\n",
       "</style>\n",
       "<table border=\"1\" class=\"dataframe\">\n",
       "  <thead>\n",
       "    <tr style=\"text-align: right;\">\n",
       "      <th></th>\n",
       "      <th>counts</th>\n",
       "    </tr>\n",
       "  </thead>\n",
       "  <tbody>\n",
       "    <tr>\n",
       "      <th>PW000429</th>\n",
       "      <td>5</td>\n",
       "    </tr>\n",
       "    <tr>\n",
       "      <th>PW000079</th>\n",
       "      <td>5</td>\n",
       "    </tr>\n",
       "    <tr>\n",
       "      <th>PW000081</th>\n",
       "      <td>5</td>\n",
       "    </tr>\n",
       "    <tr>\n",
       "      <th>PW000513</th>\n",
       "      <td>5</td>\n",
       "    </tr>\n",
       "    <tr>\n",
       "      <th>PW000266</th>\n",
       "      <td>5</td>\n",
       "    </tr>\n",
       "  </tbody>\n",
       "</table>\n",
       "</div>"
      ],
      "text/plain": [
       "          counts\n",
       "PW000429       5\n",
       "PW000079       5\n",
       "PW000081       5\n",
       "PW000513       5\n",
       "PW000266       5"
      ]
     },
     "metadata": {},
     "execution_count": 130
    }
   ],
   "metadata": {}
  },
  {
   "cell_type": "code",
   "execution_count": 84,
   "source": [
    "test_edges"
   ],
   "outputs": [
    {
     "output_type": "execute_result",
     "data": {
      "text/plain": [
       "array([[ 287, 1383],\n",
       "       [ 212,  962],\n",
       "       [1016, 1928],\n",
       "       ...,\n",
       "       [2297, 2304],\n",
       "       [ 517, 1162],\n",
       "       [1188, 1190]], dtype=int32)"
      ]
     },
     "metadata": {},
     "execution_count": 84
    }
   ],
   "metadata": {}
  },
  {
   "cell_type": "code",
   "execution_count": 54,
   "source": [
    "def vae_emb(emb=None):\n",
    "    if emb is None:\n",
    "        feed_dict.update({placeholders['dropout']: 0})\n",
    "        emb = sess.run(model.z_mean, feed_dict=feed_dict)        \n",
    "    return emb"
   ],
   "outputs": [],
   "metadata": {}
  },
  {
   "cell_type": "code",
   "execution_count": 55,
   "source": [
    "g_emb = vae_emb()\n",
    "g_emb.shape"
   ],
   "outputs": [
    {
     "output_type": "execute_result",
     "data": {
      "text/plain": [
       "(2306, 16)"
      ]
     },
     "metadata": {},
     "execution_count": 55
    }
   ],
   "metadata": {}
  },
  {
   "cell_type": "code",
   "execution_count": 75,
   "source": [
    "from sklearn.manifold import TSNE\n",
    "tsne = TSNE(n_components=2, random_state=0)"
   ],
   "outputs": [],
   "metadata": {}
  },
  {
   "cell_type": "code",
   "execution_count": 76,
   "source": [
    "g_emb_2d = tsne.fit_transform(g_emb)"
   ],
   "outputs": [],
   "metadata": {}
  },
  {
   "cell_type": "code",
   "execution_count": 77,
   "source": [
    "Y_emb = all_nodes_df[\"class\"].tolist()"
   ],
   "outputs": [],
   "metadata": {}
  },
  {
   "cell_type": "code",
   "execution_count": 78,
   "source": [
    "tsne_df = pd.DataFrame({'X':g_emb_2d[:,0],\n",
    "                        'Y':g_emb_2d[:,1],\n",
    "                        'label':Y_emb})\n",
    "tsne_df.head()"
   ],
   "outputs": [
    {
     "output_type": "execute_result",
     "data": {
      "text/html": [
       "<div>\n",
       "<style scoped>\n",
       "    .dataframe tbody tr th:only-of-type {\n",
       "        vertical-align: middle;\n",
       "    }\n",
       "\n",
       "    .dataframe tbody tr th {\n",
       "        vertical-align: top;\n",
       "    }\n",
       "\n",
       "    .dataframe thead th {\n",
       "        text-align: right;\n",
       "    }\n",
       "</style>\n",
       "<table border=\"1\" class=\"dataframe\">\n",
       "  <thead>\n",
       "    <tr style=\"text-align: right;\">\n",
       "      <th></th>\n",
       "      <th>X</th>\n",
       "      <th>Y</th>\n",
       "      <th>label</th>\n",
       "    </tr>\n",
       "  </thead>\n",
       "  <tbody>\n",
       "    <tr>\n",
       "      <th>0</th>\n",
       "      <td>1.610972</td>\n",
       "      <td>43.401909</td>\n",
       "      <td>protein</td>\n",
       "    </tr>\n",
       "    <tr>\n",
       "      <th>1</th>\n",
       "      <td>0.307611</td>\n",
       "      <td>51.101299</td>\n",
       "      <td>metabolite</td>\n",
       "    </tr>\n",
       "    <tr>\n",
       "      <th>2</th>\n",
       "      <td>-2.236318</td>\n",
       "      <td>-1.519864</td>\n",
       "      <td>metabolite</td>\n",
       "    </tr>\n",
       "    <tr>\n",
       "      <th>3</th>\n",
       "      <td>-2.186466</td>\n",
       "      <td>1.206054</td>\n",
       "      <td>metabolite</td>\n",
       "    </tr>\n",
       "    <tr>\n",
       "      <th>4</th>\n",
       "      <td>0.326301</td>\n",
       "      <td>51.057346</td>\n",
       "      <td>metabolite</td>\n",
       "    </tr>\n",
       "  </tbody>\n",
       "</table>\n",
       "</div>"
      ],
      "text/plain": [
       "          X          Y       label\n",
       "0  1.610972  43.401909     protein\n",
       "1  0.307611  51.101299  metabolite\n",
       "2 -2.236318  -1.519864  metabolite\n",
       "3 -2.186466   1.206054  metabolite\n",
       "4  0.326301  51.057346  metabolite"
      ]
     },
     "metadata": {},
     "execution_count": 78
    }
   ],
   "metadata": {}
  },
  {
   "cell_type": "code",
   "execution_count": 79,
   "source": [
    "tsne_df_f = tsne_df[~tsne_df['label'].str.contains('other')]"
   ],
   "outputs": [],
   "metadata": {}
  },
  {
   "cell_type": "code",
   "execution_count": 80,
   "source": [
    "sns.set_style('ticks')"
   ],
   "outputs": [],
   "metadata": {}
  },
  {
   "cell_type": "code",
   "execution_count": 81,
   "source": [
    "plt.figure(figsize=(10,10))\n",
    "sns_plot = sns.scatterplot(x=\"X\", y=\"Y\",\n",
    "              hue=\"label\",\n",
    "              palette=['purple','red'],\n",
    "              legend='full',\n",
    "              data=tsne_df_f);\n",
    "# plt.savefig(\"./t-sne-protein-metabolite-embeddding.pdf\")"
   ],
   "outputs": [
    {
     "output_type": "display_data",
     "data": {
      "image/png": "[encoded data removed]",
      "text/plain": [
       "<Figure size 720x720 with 1 Axes>"
      ]
     },
     "metadata": {}
    }
   ],
   "metadata": {}
  },
  {
   "cell_type": "code",
   "execution_count": 82,
   "source": [
    "from sklearn.decomposition import PCA\n",
    "pca = PCA(n_components=2)\n",
    "pca.fit(g_emb)\n",
    "g_emb_pca = pca.transform(g_emb)"
   ],
   "outputs": [],
   "metadata": {}
  },
  {
   "cell_type": "code",
   "execution_count": 83,
   "source": [
    "g_emb_pca_df = pd.DataFrame({'X':g_emb_pca[:,0],\n",
    "                        'Y':g_emb_pca[:,1],\n",
    "                        'label':Y_emb})\n",
    "g_emb_pca_df.head()"
   ],
   "outputs": [
    {
     "output_type": "execute_result",
     "data": {
      "text/html": [
       "<div>\n",
       "<style scoped>\n",
       "    .dataframe tbody tr th:only-of-type {\n",
       "        vertical-align: middle;\n",
       "    }\n",
       "\n",
       "    .dataframe tbody tr th {\n",
       "        vertical-align: top;\n",
       "    }\n",
       "\n",
       "    .dataframe thead th {\n",
       "        text-align: right;\n",
       "    }\n",
       "</style>\n",
       "<table border=\"1\" class=\"dataframe\">\n",
       "  <thead>\n",
       "    <tr style=\"text-align: right;\">\n",
       "      <th></th>\n",
       "      <th>X</th>\n",
       "      <th>Y</th>\n",
       "      <th>label</th>\n",
       "    </tr>\n",
       "  </thead>\n",
       "  <tbody>\n",
       "    <tr>\n",
       "      <th>0</th>\n",
       "      <td>0.376061</td>\n",
       "      <td>-0.130766</td>\n",
       "      <td>protein</td>\n",
       "    </tr>\n",
       "    <tr>\n",
       "      <th>1</th>\n",
       "      <td>1.350163</td>\n",
       "      <td>0.462702</td>\n",
       "      <td>metabolite</td>\n",
       "    </tr>\n",
       "    <tr>\n",
       "      <th>2</th>\n",
       "      <td>0.002171</td>\n",
       "      <td>-0.104850</td>\n",
       "      <td>metabolite</td>\n",
       "    </tr>\n",
       "    <tr>\n",
       "      <th>3</th>\n",
       "      <td>0.275645</td>\n",
       "      <td>-0.362175</td>\n",
       "      <td>metabolite</td>\n",
       "    </tr>\n",
       "    <tr>\n",
       "      <th>4</th>\n",
       "      <td>1.274822</td>\n",
       "      <td>0.257511</td>\n",
       "      <td>metabolite</td>\n",
       "    </tr>\n",
       "  </tbody>\n",
       "</table>\n",
       "</div>"
      ],
      "text/plain": [
       "          X         Y       label\n",
       "0  0.376061 -0.130766     protein\n",
       "1  1.350163  0.462702  metabolite\n",
       "2  0.002171 -0.104850  metabolite\n",
       "3  0.275645 -0.362175  metabolite\n",
       "4  1.274822  0.257511  metabolite"
      ]
     },
     "metadata": {},
     "execution_count": 83
    }
   ],
   "metadata": {}
  },
  {
   "cell_type": "code",
   "execution_count": 84,
   "source": [
    "g_emb_pca_df_f = g_emb_pca_df[~g_emb_pca_df['label'].str.contains('other')]"
   ],
   "outputs": [],
   "metadata": {}
  },
  {
   "cell_type": "code",
   "execution_count": 85,
   "source": [
    "plt.figure(figsize=(10,10))\n",
    "sns.scatterplot(x=\"X\", y=\"Y\",\n",
    "              hue=\"label\",\n",
    "              palette=['purple','red'],\n",
    "              legend='full',\n",
    "              data=g_emb_pca_df_f);\n",
    "plt.xlim(-5,5)\n",
    "# plt.savefig(\"./pca-protein-metabolite-embedding.pdf\")"
   ],
   "outputs": [
    {
     "output_type": "execute_result",
     "data": {
      "text/plain": [
       "(-5.0, 5.0)"
      ]
     },
     "metadata": {},
     "execution_count": 85
    },
    {
     "output_type": "display_data",
     "data": {
      "image/png": "[encoded data removed]",
      "text/plain": [
       "<Figure size 720x720 with 1 Axes>"
      ]
     },
     "metadata": {}
    }
   ],
   "metadata": {}
  },
  {
   "cell_type": "code",
   "execution_count": 152,
   "source": [
    "def vae_pred(test,emb=None):\n",
    "    if emb is None:\n",
    "        feed_dict.update({placeholders['dropout']: 0})\n",
    "        emb = sess.run(model.z_mean, feed_dict=feed_dict)\n",
    "    \n",
    "    def sigmoid(x):\n",
    "        return 1 / (1 + np.exp(-x))\n",
    "\n",
    "    # Predict on test set of edges\n",
    "    adj_rec = np.dot(emb, emb.T)\n",
    "    preds_pos = []\n",
    "    pos = []\n",
    "    for e in test:\n",
    "        preds_pos.append(sigmoid(adj_rec[e[0], e[1]])) # predicted score for given edge\n",
    "        pos.append(adj_orig[e[0], e[1]]) # actual value (1)\n",
    "    return np.array(preds_pos),np.array(pos)"
   ],
   "outputs": [],
   "metadata": {}
  },
  {
   "cell_type": "code",
   "execution_count": 121,
   "source": [
    "test_pred, test_pos = vae_pred(test_edges_false)"
   ],
   "outputs": [],
   "metadata": {}
  },
  {
   "cell_type": "code",
   "execution_count": 61,
   "source": [
    "# Print final results\n",
    "feature_roc_score, feature_ap_score, feature_fpr, feature_tpr, feature_pr_score, feature_prcs, feature_rcal = get_roc_score(test_edges, test_edges_false)\n",
    "print('Test ROC score: ' + str(feature_roc_score))\n",
    "print('Test AP score: ' + str(feature_ap_score))"
   ],
   "outputs": [
    {
     "output_type": "stream",
     "name": "stdout",
     "text": [
      "Test ROC score: 0.9194184696064464\n",
      "Test AP score: 0.9350904348452099\n"
     ]
    }
   ],
   "metadata": {}
  },
  {
   "cell_type": "code",
   "execution_count": 89,
   "source": [
    "plt.plot(feature_fpr, feature_tpr, color='green', label='Graph VAE (area = %0.2f)' % feature_roc_score)"
   ],
   "outputs": [
    {
     "output_type": "execute_result",
     "data": {
      "text/plain": [
       "[<matplotlib.lines.Line2D at 0x7f97c0aefa60>]"
      ]
     },
     "metadata": {},
     "execution_count": 89
    },
    {
     "output_type": "display_data",
     "data": {
      "image/png": "[encoded data removed]",
      "text/plain": [
       "<Figure size 432x288 with 1 Axes>"
      ]
     },
     "metadata": {}
    }
   ],
   "metadata": {}
  },
  {
   "cell_type": "markdown",
   "source": [
    "# Graph Vae (without feature)"
   ],
   "metadata": {}
  },
  {
   "cell_type": "markdown",
   "source": [
    "## Read in Graph Data"
   ],
   "metadata": {}
  },
  {
   "cell_type": "code",
   "execution_count": 90,
   "source": [
    "adj = nx.adjacency_matrix(g,nodelist=all_nodes_df['node'].tolist())"
   ],
   "outputs": [],
   "metadata": {}
  },
  {
   "cell_type": "code",
   "execution_count": 91,
   "source": [
    "adj.shape"
   ],
   "outputs": [
    {
     "output_type": "execute_result",
     "data": {
      "text/plain": [
       "(2306, 2306)"
      ]
     },
     "metadata": {},
     "execution_count": 91
    }
   ],
   "metadata": {}
  },
  {
   "cell_type": "code",
   "execution_count": 94,
   "source": [
    "features = np.random.rand(adj.shape[0],1024)\n",
    "features.shape"
   ],
   "outputs": [
    {
     "output_type": "execute_result",
     "data": {
      "text/plain": [
       "(2306, 1024)"
      ]
     },
     "metadata": {},
     "execution_count": 94
    }
   ],
   "metadata": {}
  },
  {
   "cell_type": "markdown",
   "source": [
    "## Data Preprocessing"
   ],
   "metadata": {}
  },
  {
   "cell_type": "code",
   "execution_count": 95,
   "source": [
    "from __future__ import division\n",
    "from __future__ import print_function\n",
    "\n",
    "import time\n",
    "import os\n",
    "\n",
    "# Train on CPU (hide GPU) due to memory constraints\n",
    "os.environ['CUDA_VISIBLE_DEVICES'] = \"\"\n",
    "\n",
    "import tensorflow.compat.v1 as tf\n",
    "tf.disable_v2_behavior()\n",
    "tf.set_random_seed(0)\n",
    "import numpy as np\n",
    "import scipy.sparse as sp\n",
    "\n",
    "from sklearn.metrics import roc_auc_score\n",
    "from sklearn.metrics import average_precision_score\n",
    "\n",
    "from gae.optimizer import OptimizerAE, OptimizerVAE\n",
    "from gae.model import GCNModelVAE, GCNModelAE\n",
    "from gae.preprocessing import preprocess_graph, construct_feed_dict, sparse_to_tuple, mask_test_edges"
   ],
   "outputs": [],
   "metadata": {}
  },
  {
   "cell_type": "code",
   "execution_count": 96,
   "source": [
    "# Convert features from normal matrix --> sparse matrix --> tuple\n",
    "    # features_tuple contains: (list of matrix coordinates, list of values, matrix dimensions)\n",
    "import scipy.sparse as sp\n",
    "x = sp.lil_matrix(features)\n",
    "features_tuple = sparse_to_tuple(x)\n",
    "features_shape = features_tuple[2]\n",
    "\n",
    "features_shape"
   ],
   "outputs": [
    {
     "output_type": "execute_result",
     "data": {
      "text/plain": [
       "(2306, 1024)"
      ]
     },
     "metadata": {},
     "execution_count": 96
    }
   ],
   "metadata": {}
  },
  {
   "cell_type": "code",
   "execution_count": 97,
   "source": [
    "# Get graph attributes (to feed into model)\n",
    "num_nodes = adj.shape[0] # number of nodes in adjacency matrix\n",
    "num_features = features_shape[1] # number of features (columsn of features matrix)\n",
    "features_nonzero = features_tuple[1].shape[0] # number of non-zero entries in features matrix (or length of values list)\n",
    "\n",
    "# Store original adjacency matrix (without diagonal entries) for later\n",
    "adj_orig = adj\n",
    "adj_orig = adj_orig - sp.dia_matrix((adj_orig.diagonal()[np.newaxis, :], [0]), shape=adj_orig.shape)\n",
    "adj_orig.eliminate_zeros()"
   ],
   "outputs": [],
   "metadata": {}
  },
  {
   "cell_type": "code",
   "execution_count": 98,
   "source": [
    "np.random.seed(0) # IMPORTANT: guarantees consistent train/test splits\n",
    "adj_train, train_edges, train_edges_false, val_edges, val_edges_false, \\\n",
    "    test_edges, test_edges_false = mask_test_edges(adj, test_frac=.1, val_frac=.1)\n",
    "\n",
    "# Normalize adjacency matrix\n",
    "adj_norm = preprocess_graph(adj_train)\n",
    "\n",
    "# Add in diagonals\n",
    "adj_label = adj_train + sp.eye(adj_train.shape[0])\n",
    "adj_label = sparse_to_tuple(adj_label)\n",
    "\n",
    "# Inspect train/test split\n",
    "print(\"Total nodes:\", adj.shape[0])\n",
    "print(\"Total edges:\", int(adj.nnz/2)) # adj is symmetric, so nnz (num non-zero) = 2*num_edges\n",
    "print(\"Training edges (positive):\", len(train_edges))\n",
    "print(\"Training edges (negative):\", len(train_edges_false))\n",
    "print(\"Validation edges (positive):\", len(val_edges))\n",
    "print(\"Validation edges (negative):\", len(val_edges_false))\n",
    "print(\"Test edges (positive):\", len(test_edges))\n",
    "print(\"Test edges (negative):\", len(test_edges_false))"
   ],
   "outputs": [
    {
     "output_type": "stream",
     "name": "stdout",
     "text": [
      "Total nodes: 2306\n",
      "Total edges: 5786\n",
      "Training edges (positive): 4630\n",
      "Training edges (negative): 4630\n",
      "Validation edges (positive): 578\n",
      "Validation edges (negative): 578\n",
      "Test edges (positive): 578\n",
      "Test edges (negative): 578\n"
     ]
    }
   ],
   "metadata": {}
  },
  {
   "cell_type": "markdown",
   "source": [
    "## Initialize VAE Model"
   ],
   "metadata": {}
  },
  {
   "cell_type": "code",
   "execution_count": 99,
   "source": [
    "# Define hyperparameters\n",
    "LEARNING_RATE = 0.005\n",
    "EPOCHS = 1000\n",
    "HIDDEN1_DIM = 32\n",
    "HIDDEN2_DIM = 16\n",
    "DROPOUT = 0.1"
   ],
   "outputs": [],
   "metadata": {}
  },
  {
   "cell_type": "code",
   "execution_count": 100,
   "source": [
    "# Define placeholders\n",
    "\n",
    "placeholders = {\n",
    "    'features': tf.sparse_placeholder(tf.float32),\n",
    "    'adj': tf.sparse_placeholder(tf.float32),\n",
    "    'adj_orig': tf.sparse_placeholder(tf.float32),\n",
    "    'dropout': tf.placeholder_with_default(0., shape=())\n",
    "}\n",
    "\n",
    "# How much to weigh positive examples (true edges) in cost print_function\n",
    "  # Want to weigh less-frequent classes higher, so as to prevent model output bias\n",
    "  # pos_weight = (num. negative samples / (num. positive samples)\n",
    "pos_weight = float(adj.shape[0] * adj.shape[0] - adj.sum()) / adj.sum()\n",
    "\n",
    "# normalize (scale) average weighted cost\n",
    "norm = adj.shape[0] * adj.shape[0] / float((adj.shape[0] * adj.shape[0] - adj.sum()) * 2)\n",
    "\n",
    "# Create VAE model\n",
    "model = GCNModelVAE(placeholders, num_features, num_nodes, features_nonzero, HIDDEN1_DIM, HIDDEN2_DIM)\n",
    "\n",
    "opt = OptimizerVAE(preds=model.reconstructions,\n",
    "                           labels=tf.reshape(tf.sparse_tensor_to_dense(placeholders['adj_orig'],\n",
    "                                                                       validate_indices=False), [-1]),\n",
    "                           model=model, num_nodes=num_nodes,\n",
    "                           pos_weight=pos_weight,\n",
    "                           norm=norm,\n",
    "                           learning_rate=LEARNING_RATE)"
   ],
   "outputs": [
    {
     "output_type": "stream",
     "name": "stdout",
     "text": [
      "Creating GAE optimizer...\n",
      "Labels shape:  (?,)\n",
      "Preds shape:  (?,)\n",
      "CE+KL loss shape:  ()\n"
     ]
    }
   ],
   "metadata": {}
  },
  {
   "cell_type": "code",
   "execution_count": 88,
   "source": [
    "# # Calculate ROC AUC\n",
    "# def get_roc_score(edges_pos, edges_neg, emb=None):\n",
    "#     if emb is None:\n",
    "#         feed_dict.update({placeholders['dropout']: 0})\n",
    "#         emb = sess.run(model.z_mean, feed_dict=feed_dict)\n",
    "\n",
    "#     def sigmoid(x):\n",
    "#         return 1 / (1 + np.exp(-x))\n",
    "\n",
    "#     # Predict on test set of edges\n",
    "#     adj_rec = np.dot(emb, emb.T)\n",
    "#     preds_pos = []\n",
    "#     pos = []\n",
    "#     for e in edges_pos:\n",
    "#         preds_pos.append(sigmoid(adj_rec[e[0], e[1]])) # predicted score for given edge\n",
    "#         pos.append(adj_orig[e[0], e[1]]) # actual value (1)\n",
    "\n",
    "#     preds_neg = []\n",
    "#     neg = []\n",
    "#     for e in edges_neg:\n",
    "#         preds_neg.append(sigmoid(adj_rec[e[0], e[1]])) # predicted score for given edge\n",
    "#         neg.append(adj_orig[e[0], e[1]]) # actual value (0)\n",
    "\n",
    "#     preds_all = np.hstack([preds_pos, preds_neg])\n",
    "#     labels_all = np.hstack([np.ones(len(preds_pos)), np.zeros(len(preds_neg))])\n",
    "\n",
    "#     roc_score = roc_auc_score(labels_all, preds_all)\n",
    "#     fpr, tpr, _ = roc_curve(labels_all, preds_all)\n",
    "#     ap_score = average_precision_score(labels_all, preds_all)\n",
    "\n",
    "#     return roc_score, ap_score, fpr, tpr"
   ],
   "outputs": [],
   "metadata": {}
  },
  {
   "cell_type": "markdown",
   "source": [
    "## Train and Evaluate VAE Model"
   ],
   "metadata": {}
  },
  {
   "cell_type": "code",
   "execution_count": 101,
   "source": [
    "cost_val = []\n",
    "acc_val = []\n",
    "val_roc_score = []\n",
    "\n",
    "# Initialize session\n",
    "sess = tf.Session()\n",
    "sess.run(tf.global_variables_initializer())\n",
    "\n",
    "# Train model\n",
    "for epoch in range(EPOCHS):\n",
    "\n",
    "    t = time.time()\n",
    "    # Construct feed dictionary\n",
    "    feed_dict = construct_feed_dict(adj_norm, adj_label, features_tuple, placeholders)\n",
    "    feed_dict.update({placeholders['dropout']: DROPOUT})\n",
    "    # Run single weight update\n",
    "    outs = sess.run([opt.opt_op, opt.cost, opt.accuracy], feed_dict=feed_dict)\n",
    "\n",
    "    # Compute average loss\n",
    "    avg_cost = outs[1]\n",
    "    avg_accuracy = outs[2]\n",
    "    \n",
    "    # Evaluate predictions\n",
    "    roc_curr, ap_curr, fpr, tpr, pr_score, precision, recall = get_roc_score(val_edges, val_edges_false)\n",
    "    val_roc_score.append(roc_curr)\n",
    "    \n",
    "    if (epoch+1)%50 == 0:\n",
    "    # Print results for this epoch\n",
    "        print(\"Epoch:\", '%04d' % (epoch + 1), \"train_loss=\", \"{:.5f}\".format(avg_cost),\n",
    "              \"train_acc=\", \"{:.5f}\".format(avg_accuracy), \"val_roc=\", \"{:.5f}\".format(val_roc_score[-1]),\n",
    "              \"val_ap=\", \"{:.5f}\".format(ap_curr),\n",
    "              \"time=\", \"{:.5f}\".format(time.time() - t))\n",
    "\n",
    "print(\"Optimization Finished!\")"
   ],
   "outputs": [
    {
     "output_type": "stream",
     "name": "stdout",
     "text": [
      "Epoch: 0050 train_loss= 14.87093 train_acc= 0.02634 val_roc= 0.81036 val_ap= 0.77682 time= 0.36690\n",
      "Epoch: 0100 train_loss= 2.02635 train_acc= 0.29023 val_roc= 0.83269 val_ap= 0.85488 time= 0.32018\n",
      "Epoch: 0150 train_loss= 1.38770 train_acc= 0.43106 val_roc= 0.83230 val_ap= 0.85421 time= 0.29402\n",
      "Epoch: 0200 train_loss= 1.32037 train_acc= 0.43669 val_roc= 0.83089 val_ap= 0.85344 time= 0.31391\n",
      "Epoch: 0250 train_loss= 1.30469 train_acc= 0.43267 val_roc= 0.82928 val_ap= 0.85240 time= 0.38512\n",
      "Epoch: 0300 train_loss= 1.26569 train_acc= 0.44201 val_roc= 0.82928 val_ap= 0.85208 time= 0.33074\n",
      "Epoch: 0350 train_loss= 1.19815 train_acc= 0.43487 val_roc= 0.83036 val_ap= 0.85263 time= 0.31556\n",
      "Epoch: 0400 train_loss= 1.23212 train_acc= 0.43987 val_roc= 0.82881 val_ap= 0.85184 time= 0.36425\n",
      "Epoch: 0450 train_loss= 1.10031 train_acc= 0.42649 val_roc= 0.82676 val_ap= 0.85086 time= 0.38244\n",
      "Epoch: 0500 train_loss= 1.04295 train_acc= 0.41824 val_roc= 0.82940 val_ap= 0.85230 time= 0.30779\n",
      "Epoch: 0550 train_loss= 1.12048 train_acc= 0.42499 val_roc= 0.82861 val_ap= 0.85182 time= 0.30439\n",
      "Epoch: 0600 train_loss= 1.11526 train_acc= 0.42767 val_roc= 0.82889 val_ap= 0.85186 time= 0.33110\n",
      "Epoch: 0650 train_loss= 0.96985 train_acc= 0.40952 val_roc= 0.83106 val_ap= 0.85338 time= 0.27681\n",
      "Epoch: 0700 train_loss= 1.07177 train_acc= 0.41368 val_roc= 0.82978 val_ap= 0.85247 time= 0.32816\n",
      "Epoch: 0750 train_loss= 1.08018 train_acc= 0.42726 val_roc= 0.82904 val_ap= 0.85225 time= 0.37209\n",
      "Epoch: 0800 train_loss= 1.02812 train_acc= 0.41443 val_roc= 0.82895 val_ap= 0.85228 time= 0.35561\n",
      "Epoch: 0850 train_loss= 0.98504 train_acc= 0.41300 val_roc= 0.83040 val_ap= 0.85284 time= 0.30996\n",
      "Epoch: 0900 train_loss= 0.96844 train_acc= 0.41748 val_roc= 0.82882 val_ap= 0.85196 time= 0.32408\n",
      "Epoch: 0950 train_loss= 0.98187 train_acc= 0.41011 val_roc= 0.83028 val_ap= 0.85287 time= 0.31808\n",
      "Epoch: 1000 train_loss= 0.96475 train_acc= 0.41079 val_roc= 0.82867 val_ap= 0.85214 time= 0.31280\n",
      "Optimization Finished!\n"
     ]
    }
   ],
   "metadata": {}
  },
  {
   "cell_type": "code",
   "execution_count": 102,
   "source": [
    "# Print final results\n",
    "no_feature_roc_score, no_feature_ap_score, no_feature_fpr, no_feature_tpr, no_feature_pr_score, no_feature_prcs, no_feature_rcal = get_roc_score(test_edges, test_edges_false)\n",
    "print('Test ROC score: ' + str(no_feature_roc_score))\n",
    "print('Test AP score: ' + str(no_feature_ap_score))"
   ],
   "outputs": [
    {
     "output_type": "stream",
     "name": "stdout",
     "text": [
      "Test ROC score: 0.7950395708863639\n",
      "Test AP score: 0.8252153545841943\n"
     ]
    }
   ],
   "metadata": {}
  },
  {
   "cell_type": "code",
   "execution_count": 248,
   "source": [
    "plt.plot(no_feature_fpr, no_feature_tpr, color='green', label='Graph VAE (area = %0.2f)' % no_feature_roc_score)"
   ],
   "outputs": [
    {
     "output_type": "execute_result",
     "data": {
      "text/plain": [
       "[<matplotlib.lines.Line2D at 0x7fc67899da30>]"
      ]
     },
     "metadata": {},
     "execution_count": 248
    },
    {
     "output_type": "display_data",
     "data": {
      "image/png": "[encoded data removed]",
      "text/plain": [
       "<Figure size 432x288 with 1 Axes>"
      ]
     },
     "metadata": {}
    }
   ],
   "metadata": {}
  },
  {
   "cell_type": "markdown",
   "source": [
    "# Node2vec"
   ],
   "metadata": {}
  },
  {
   "cell_type": "markdown",
   "source": [
    "---\n",
    "[node2vec](http://snap.stanford.edu/node2vec/) for link prediction:\n",
    "1. Perform train-test split\n",
    "1. Train skip-gram model on random walks within training graph\n",
    "2. Get node embeddings from skip-gram model\n",
    "3. Create bootstrapped edge embeddings by taking the Hadamard product of node embeddings\n",
    "4. Train a logistic regression classifier on these edge embeddings (possible edge --> edge score between 0-1)\n",
    "5. Evaluate these edge embeddings on the validation and test edge sets\n",
    "\n",
    "node2vec source code: https://github.com/aditya-grover/node2vec"
   ],
   "metadata": {}
  },
  {
   "cell_type": "markdown",
   "source": [
    "## Train node2vec (Learn Node Embeddings)"
   ],
   "metadata": {}
  },
  {
   "cell_type": "code",
   "execution_count": 50,
   "source": [
    "import node2vec_lp\n",
    "import smart_open\n",
    "smart_open.open = smart_open.smart_open\n",
    "from gensim.models import word2vec"
   ],
   "outputs": [
    {
     "output_type": "stream",
     "name": "stderr",
     "text": [
      "/Users/chengwang/opt/anaconda3/lib/python3.8/site-packages/gensim/similarities/__init__.py:15: UserWarning: The gensim.similarities.levenshtein submodule is disabled, because the optional Levenshtein package <https://pypi.org/project/python-Levenshtein/> is unavailable. Install Levenhstein (e.g. `pip install python-Levenshtein`) to suppress this warning.\n",
      "  warnings.warn(msg)\n"
     ]
    }
   ],
   "metadata": {}
  },
  {
   "cell_type": "code",
   "execution_count": 51,
   "source": [
    "# node2vec settings\n",
    "# NOTE: When p = q = 1, this is equivalent to DeepWalk\n",
    "\n",
    "P = 1 # Return hyperparameter\n",
    "Q = 1 # In-out hyperparameter\n",
    "WINDOW_SIZE = 10 # Context size for optimization\n",
    "NUM_WALKS = 10 # Number of walks per source\n",
    "WALK_LENGTH = 80 # Length of walk per source\n",
    "DIMENSIONS = 128 # Embedding dimension\n",
    "DIRECTED = False # Graph directed/undirected\n",
    "WORKERS = 8 # Num. parallel workers\n",
    "ITER = 1 # SGD epochs"
   ],
   "outputs": [],
   "metadata": {}
  },
  {
   "cell_type": "code",
   "execution_count": 52,
   "source": [
    "# Preprocessing, generate walks\n",
    "g_n2v = node2vec_lp.Graph(g_train, DIRECTED, P, Q) # create node2vec graph instance\n",
    "g_n2v.preprocess_transition_probs()\n",
    "walks = g_n2v.simulate_walks(NUM_WALKS, WALK_LENGTH)\n",
    "walks_str = []\n",
    "for walk in walks:\n",
    "    t = [str(i) for i in walk]\n",
    "    walks_str.append(t)\n",
    "walks = walks_str\n",
    "# walks = [list(map(str, walk) for walk in walks)]\n"
   ],
   "outputs": [
    {
     "output_type": "stream",
     "name": "stdout",
     "text": [
      "Walk iteration:\n",
      "1 / 10\n",
      "2 / 10\n",
      "3 / 10\n",
      "4 / 10\n",
      "5 / 10\n",
      "6 / 10\n",
      "7 / 10\n",
      "8 / 10\n",
      "9 / 10\n",
      "10 / 10\n"
     ]
    }
   ],
   "metadata": {}
  },
  {
   "cell_type": "code",
   "execution_count": 53,
   "source": [
    "# # # Train skip-gram model\n",
    "model = word2vec.Word2Vec(walks, vector_size=DIMENSIONS, window=WINDOW_SIZE, min_count=0, sg=1, workers=WORKERS, epochs=ITER)\n",
    "\n",
    "# # Store embeddings mapping\n",
    "emb_mappings = model.wv"
   ],
   "outputs": [],
   "metadata": {}
  },
  {
   "cell_type": "markdown",
   "source": [
    "## Create Edge Embeddings"
   ],
   "metadata": {}
  },
  {
   "cell_type": "code",
   "execution_count": 54,
   "source": [
    "# Create node embeddings matrix (rows = nodes, columns = embedding features)\n",
    "emb_list = []\n",
    "for node_index in range(0, adj_sparse.shape[0]):\n",
    "    node_str = str(node_index)\n",
    "    node_emb = emb_mappings[node_str]\n",
    "    emb_list.append(node_emb)\n",
    "emb_matrix = np.vstack(emb_list)"
   ],
   "outputs": [],
   "metadata": {}
  },
  {
   "cell_type": "code",
   "execution_count": 55,
   "source": [
    "# Generate bootstrapped edge embeddings (as is done in node2vec paper)\n",
    "    # Edge embedding for (v1, v2) = hadamard product of node embeddings for v1, v2\n",
    "def get_edge_embeddings(edge_list):\n",
    "    embs = []\n",
    "    for edge in edge_list:\n",
    "        node1 = edge[0]\n",
    "        node2 = edge[1]\n",
    "        emb1 = emb_matrix[node1]\n",
    "        emb2 = emb_matrix[node2]\n",
    "        edge_emb = np.multiply(emb1, emb2)\n",
    "        embs.append(edge_emb)\n",
    "    embs = np.array(embs)\n",
    "    return embs"
   ],
   "outputs": [],
   "metadata": {}
  },
  {
   "cell_type": "code",
   "execution_count": 56,
   "source": [
    "# Train-set edge embeddings\n",
    "pos_train_edge_embs = get_edge_embeddings(train_edges)\n",
    "neg_train_edge_embs = get_edge_embeddings(train_edges_false)\n",
    "train_edge_embs = np.concatenate([pos_train_edge_embs, neg_train_edge_embs])\n",
    "\n",
    "# Create train-set edge labels: 1 = real edge, 0 = false edge\n",
    "train_edge_labels = np.concatenate([np.ones(len(train_edges)), np.zeros(len(train_edges_false))])\n",
    "\n",
    "# Val-set edge embeddings, labels\n",
    "pos_val_edge_embs = get_edge_embeddings(val_edges)\n",
    "neg_val_edge_embs = get_edge_embeddings(val_edges_false)\n",
    "val_edge_embs = np.concatenate([pos_val_edge_embs, neg_val_edge_embs])\n",
    "val_edge_labels = np.concatenate([np.ones(len(val_edges)), np.zeros(len(val_edges_false))])\n",
    "\n",
    "# Test-set edge embeddings, labels\n",
    "pos_test_edge_embs = get_edge_embeddings(test_edges)\n",
    "neg_test_edge_embs = get_edge_embeddings(test_edges_false)\n",
    "test_edge_embs = np.concatenate([pos_test_edge_embs, neg_test_edge_embs])\n",
    "\n",
    "# Create val-set edge labels: 1 = real edge, 0 = false edge\n",
    "test_edge_labels = np.concatenate([np.ones(len(test_edges)), np.zeros(len(test_edges_false))])"
   ],
   "outputs": [],
   "metadata": {}
  },
  {
   "cell_type": "markdown",
   "source": [
    "## Evaluate Edge Embeddings"
   ],
   "metadata": {}
  },
  {
   "cell_type": "code",
   "execution_count": 57,
   "source": [
    "# Train logistic regression classifier on train-set edge embeddings\n",
    "from sklearn.linear_model import LogisticRegression\n",
    "edge_classifier = LogisticRegression(random_state=0)\n",
    "edge_classifier.fit(train_edge_embs, train_edge_labels)"
   ],
   "outputs": [
    {
     "output_type": "execute_result",
     "data": {
      "text/plain": [
       "LogisticRegression(random_state=0)"
      ]
     },
     "metadata": {},
     "execution_count": 57
    }
   ],
   "metadata": {}
  },
  {
   "cell_type": "code",
   "execution_count": 58,
   "source": [
    "# Predicted edge scores: probability of being of class \"1\" (real edge)\n",
    "val_preds = edge_classifier.predict_proba(val_edge_embs)[:, 1]\n",
    "val_roc = roc_auc_score(val_edge_labels, val_preds)\n",
    "val_fpr, val_tpr, _ = roc_curve(val_edge_labels, val_preds)\n",
    "val_ap = average_precision_score(val_edge_labels, val_preds)"
   ],
   "outputs": [],
   "metadata": {}
  },
  {
   "cell_type": "code",
   "execution_count": 59,
   "source": [
    "# Predicted edge scores: probability of being of class \"1\" (real edge)\n",
    "nv_test_preds = edge_classifier.predict_proba(test_edge_embs)[:, 1]\n",
    "nv_test_roc = roc_auc_score(test_edge_labels, nv_test_preds)\n",
    "nv_test_fpr, nv_test_tpr, _ = roc_curve(test_edge_labels, nv_test_preds)\n",
    "nv_test_ap = average_precision_score(test_edge_labels, nv_test_preds)\n",
    "nv_precision, nv_recall, _ = precision_recall_curve(test_edge_labels, nv_test_preds)\n",
    "# nv_pr_score = auc(nv_precision, nv_recall)\n",
    "    \n",
    "# print ('node2vec Validation ROC score: ', str(val_roc))\n",
    "# print ('node2vec Validation AP score: ', str(val_ap))\n",
    "print ('node2vec Test ROC score: ', str(nv_test_roc))\n",
    "print ('node2vec Test AP score: ', str(nv_test_ap))"
   ],
   "outputs": [
    {
     "output_type": "stream",
     "name": "stdout",
     "text": [
      "node2vec Test ROC score:  0.7758005401234568\n",
      "node2vec Test AP score:  0.7486437975617671\n"
     ]
    }
   ],
   "metadata": {}
  },
  {
   "cell_type": "code",
   "execution_count": 60,
   "source": [
    "plt.plot(nv_recall,nv_precision)\n",
    "plt.show()"
   ],
   "outputs": [
    {
     "output_type": "display_data",
     "data": {
      "image/png": "[encoded data removed]",
      "text/plain": [
       "<Figure size 432x288 with 1 Axes>"
      ]
     },
     "metadata": {}
    }
   ],
   "metadata": {}
  },
  {
   "cell_type": "markdown",
   "source": [
    "# Visualization of all ROC curve"
   ],
   "metadata": {}
  },
  {
   "cell_type": "code",
   "execution_count": 609,
   "source": [
    "'%.3f' % feature_roc_score"
   ],
   "outputs": [
    {
     "output_type": "execute_result",
     "data": {
      "text/plain": [
       "'0.740'"
      ]
     },
     "metadata": {},
     "execution_count": 609
    }
   ],
   "metadata": {}
  },
  {
   "cell_type": "code",
   "execution_count": 610,
   "source": [
    "'%.3f' % feature_ap_score"
   ],
   "outputs": [
    {
     "output_type": "execute_result",
     "data": {
      "text/plain": [
       "'0.778'"
      ]
     },
     "metadata": {},
     "execution_count": 610
    }
   ],
   "metadata": {}
  },
  {
   "cell_type": "code",
   "execution_count": 611,
   "source": [
    "sns.set_style('ticks')"
   ],
   "outputs": [],
   "metadata": {}
  },
  {
   "cell_type": "code",
   "execution_count": 91,
   "source": [
    "# Compute ROC curve and ROC area\n",
    "plt.figure(figsize = (10,10))\n",
    "lw = 2\n",
    "plt.plot(sc_fpr, sc_tpr, color='darkorange', label='spectral clustering (area = %0.3f)' % sc_roc)\n",
    "plt.plot(aa_fpr, aa_tpr, color='red', label='Adamic-Ada (area = %0.3f)' % aa_roc)\n",
    "# plt.plot(jc_fpr, jc_tpr, color='green', label='Jaccard Coefficient (area = %0.2f)' % jc_roc)\n",
    "plt.plot(pa_fpr, pa_tpr, color='blue', label='Preferential Attachment (area = %0.3f)' % pa_roc)\n",
    "plt.plot(nv_test_fpr, nv_test_tpr, color='magenta', label='Node2vec (area = %0.3f)' % nv_test_roc)\n",
    "plt.plot(no_feature_fpr, no_feature_tpr, color='black', label='Graph VAE (area = %0.3f)' % no_feature_roc_score)\n",
    "plt.plot(feature_fpr, feature_tpr, color='green', label='Graph VAE (area = %0.3f) + Structure' % feature_roc_score)\n",
    "\n",
    "plt.plot([0, 1], [0, 1], color='navy', lw=lw, linestyle='--')\n",
    "plt.xlim([0.0, 1.0])\n",
    "plt.ylim([0.0, 1.05])\n",
    "plt.xlabel('False Positive Rate',fontsize = 20)\n",
    "plt.ylabel('True Positive Rate',fontsize = 20)\n",
    "plt.title('ROC curve for metabolite-metabolite interaction prediction',fontsize = 20)\n",
    "plt.legend(loc=\"lower right\")\n",
    "\n",
    "# plt.savefig(\"./roc-protein-metabolite.pdf\")\n",
    "plt.show()"
   ],
   "outputs": [
    {
     "output_type": "display_data",
     "data": {
      "image/png": "[encoded data removed]",
      "text/plain": [
       "<Figure size 720x720 with 1 Axes>"
      ]
     },
     "metadata": {}
    }
   ],
   "metadata": {}
  },
  {
   "cell_type": "code",
   "execution_count": 92,
   "source": [
    "# Compute ROC curve and ROC area\n",
    "plt.figure(figsize = (10,10))\n",
    "lw = 2\n",
    "plt.plot(sc_rcal, sc_prcs, color='darkorange', label='spectral clustering (area = %0.3f)' % sc_ap)\n",
    "plt.plot(aa_rcal, aa_prcs, color='red', label='Adamic-Ada (area = %0.3f)' % aa_ap)\n",
    "# plt.plot(jc_rcal, jc_prcs, color='green', label='Jaccard Coefficient (area = %0.2f)' % jc_ap)\n",
    "plt.plot(pa_rcal, pa_prcs, color='blue', label='Preferential Attachment (area = %0.3f)' % pa_ap)\n",
    "plt.plot(nv_recall, nv_precision, color='magenta', label='Node2vec (area = %0.3f)' % nv_test_ap)\n",
    "plt.plot(no_feature_rcal, no_feature_prcs, color='black', label='Graph VAE (area = %0.3f)' % no_feature_ap_score)\n",
    "plt.plot(feature_rcal, feature_prcs, color='green', label='Graph VAE (area = %0.3f) + Structure' % feature_ap_score)\n",
    "\n",
    "# plt.plot([0, 1], [0, 1], color='navy', lw=lw, linestyle='--')\n",
    "plt.xlim([0.0, 1.0])\n",
    "plt.ylim([0.0, 1.05])\n",
    "plt.xlabel('Recall',fontsize = 20)\n",
    "plt.ylabel('Precision',fontsize = 20)\n",
    "plt.title('Precision-recall curve for metabolite-metabolite interaction prediction',fontsize = 20)\n",
    "plt.legend(loc=\"lower right\")\n",
    "\n",
    "# plt.savefig(\"./precision-recall-protein-metabolite.pdf\")\n",
    "plt.show()"
   ],
   "outputs": [
    {
     "output_type": "display_data",
     "data": {
      "image/png": "[encoded data removed]",
      "text/plain": [
       "<Figure size 720x720 with 1 Axes>"
      ]
     },
     "metadata": {}
    }
   ],
   "metadata": {}
  },
  {
   "cell_type": "code",
   "execution_count": null,
   "source": [],
   "outputs": [],
   "metadata": {}
  }
 ],
 "metadata": {
  "kernelspec": {
   "name": "python3",
   "display_name": "Python 3.8.8 64-bit ('base': conda)"
  },
  "language_info": {
   "codemirror_mode": {
    "name": "ipython",
    "version": 3
   },
   "file_extension": ".py",
   "mimetype": "text/x-python",
   "name": "python",
   "nbconvert_exporter": "python",
   "pygments_lexer": "ipython3",
   "version": "3.8.8"
  },
  "toc": {
   "base_numbering": 1,
   "nav_menu": {},
   "number_sections": true,
   "sideBar": true,
   "skip_h1_title": false,
   "title_cell": "Table of Contents",
   "title_sidebar": "Contents",
   "toc_cell": true,
   "toc_position": {
    "height": "calc(100% - 180px)",
    "left": "10px",
    "top": "150px",
    "width": "317.2146911621094px"
   },
   "toc_section_display": true,
   "toc_window_display": true
  },
  "interpreter": {
   "hash": "3fe952b0ba1daa6ee3393e62a893871d88149d9d44cf2ee1c1e3a6730bdcafed"
  }
 },
 "nbformat": 4,
 "nbformat_minor": 4
}